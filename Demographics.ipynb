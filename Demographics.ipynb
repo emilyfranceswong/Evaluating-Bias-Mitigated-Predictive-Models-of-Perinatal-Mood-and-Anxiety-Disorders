{
 "cells": [
  {
   "cell_type": "markdown",
   "id": "b2027b5e-e41c-478f-9f62-0401792651f6",
   "metadata": {},
   "source": [
    "Author: Emily Wong \\\n",
    "Last Updated: August 29, 2024"
   ]
  },
  {
   "cell_type": "markdown",
   "id": "c9c7e1be-5ddd-4911-9a86-03519a5e0df4",
   "metadata": {},
   "source": [
    "# 1. Import libraries"
   ]
  },
  {
   "cell_type": "code",
   "execution_count": 1,
   "id": "d7304b8d-d3fb-4a48-b6fd-6e9b239a0e80",
   "metadata": {
    "tags": []
   },
   "outputs": [],
   "source": [
    "import warnings\n",
    "warnings.filterwarnings('ignore')\n",
    "\n",
    "# Data wrangling\n",
    "import pandas as pd\n",
    "import numpy as np\n",
    "\n",
    "# Stats\n",
    "import statsmodels\n",
    "from statsmodels.stats.proportion import proportions_ztest\n",
    "from scipy.stats.contingency import odds_ratio\n",
    "import scipy\n",
    "from scipy.stats import ttest_ind, ttest_1samp\n",
    "\n",
    "# Visualisation\n",
    "import graphviz\n",
    "import matplotlib.pyplot as plt\n",
    "import seaborn as sns"
   ]
  },
  {
   "cell_type": "markdown",
   "id": "7740d2e8-af9c-4f91-b08f-49e073dc00de",
   "metadata": {},
   "source": [
    "# 2. Import Data"
   ]
  },
  {
   "cell_type": "code",
   "execution_count": 3,
   "id": "e1d5158d-a1e7-44ee-bc96-83872a364881",
   "metadata": {
    "tags": []
   },
   "outputs": [
    {
     "name": "stdout",
     "output_type": "stream",
     "text": [
      "The full dataset consists of 19790 electronic health records.\n"
     ]
    }
   ],
   "source": [
    "all_data = pd.read_excel(\"De-identified PMAD data.xlsx\")\n",
    "print('The full dataset consists of',len(all_data),'electronic health records.')"
   ]
  },
  {
   "cell_type": "code",
   "execution_count": 4,
   "id": "a655c8fa-4a47-48b2-af1a-96bd74d6f3b4",
   "metadata": {
    "tags": []
   },
   "outputs": [],
   "source": [
    "# Predictor variables\n",
    "var = ['MOM_PAT_ID','MOM_AGE','MOM_RACE','ETHNIC_GROUP','MARITAL_STATUS','FINANCIAL_CLASS',\n",
    "       'LBW','PTB',\n",
    "       'DELIVERY_METHOD','NICU_ADMIT','MFCU_ADMIT',\n",
    "       'PREE','GDM','GHTN',\n",
    "       'MOM_BMI','MOM_LOS','CHILD_LOS',\n",
    "       'HIST_ANXIETY','HIST_DEPRESS','HIST_BIPOLAR','HIST_PMAD','MENTAL_HEALTH_DX_CUTOFF',\n",
    "       'MED_PSYCH','MED_CARDIO']"
   ]
  },
  {
   "cell_type": "markdown",
   "id": "4ae2bfad-ba2c-4286-9ffb-e0ee7d2129d5",
   "metadata": {},
   "source": [
    "# 3. Demographics"
   ]
  },
  {
   "cell_type": "code",
   "execution_count": 6,
   "id": "bd1443fd-ae14-448b-a3c7-128e8120f12e",
   "metadata": {
    "tags": []
   },
   "outputs": [],
   "source": [
    "cols = var.copy()\n",
    "cols.append('PMAD_risk') # PMAD_risk is the higher of the two risk ratings (PHQ-9, EPDS) if a patient was administered both.\n",
    "demo = all_data[cols]\n",
    "\n",
    "# keep only complete data\n",
    "demo = demo.dropna()"
   ]
  },
  {
   "cell_type": "markdown",
   "id": "c386bcf7-732d-4ea9-be23-c22f28004afc",
   "metadata": {},
   "source": [
    "## 3.1. Age"
   ]
  },
  {
   "cell_type": "code",
   "execution_count": 8,
   "id": "0e341822-3863-4530-92ed-0c0a7fc5832e",
   "metadata": {
    "tags": []
   },
   "outputs": [
    {
     "name": "stdout",
     "output_type": "stream",
     "text": [
      "Min Age: 14.0\n",
      "Max Age: 59.0\n",
      "Mean Age: 34.13\n",
      "SD Age: 4.86\n"
     ]
    }
   ],
   "source": [
    "print(\"Min Age:\",min(demo['MOM_AGE']))\n",
    "print(\"Max Age:\",max(demo['MOM_AGE']))\n",
    "print(\"Mean Age:\",np.round(np.mean(demo['MOM_AGE']),2))\n",
    "print(\"SD Age:\",np.round(np.std(demo['MOM_AGE']),2))"
   ]
  },
  {
   "cell_type": "markdown",
   "id": "a5217bd8-27c8-481c-bf7a-17ec173505e2",
   "metadata": {},
   "source": [
    "## 3.2. Race and Ethnicity"
   ]
  },
  {
   "cell_type": "code",
   "execution_count": 10,
   "id": "538cc41e-a470-4e91-bee8-0eef4464ccb1",
   "metadata": {
    "tags": []
   },
   "outputs": [
    {
     "name": "stdout",
     "output_type": "stream",
     "text": [
      "------------RACE/ETHNIC COUNTS------------\n",
      "ETHNIC_GROUP                                        Hispanic  Non-Hispanic  \\\n",
      "MOM_RACE                                                                     \n",
      "Asian or Native Hawaiian or Other Pacific Islander        21          2331   \n",
      "Black or African American                                 53          1346   \n",
      "Hispanic White                                          1842             0   \n",
      "Multiracial                                              140           420   \n",
      "Other                                                   1000          1113   \n",
      "Unknown                                                   33            40   \n",
      "White                                                      0         10856   \n",
      "\n",
      "ETHNIC_GROUP                                        Unknown  \n",
      "MOM_RACE                                                     \n",
      "Asian or Native Hawaiian or Other Pacific Islander       19  \n",
      "Black or African American                                 3  \n",
      "Hispanic White                                            0  \n",
      "Multiracial                                              46  \n",
      "Other                                                    33  \n",
      "Unknown                                                  48  \n",
      "White                                                    86  \n"
     ]
    }
   ],
   "source": [
    "print(\"------------RACE/ETHNIC COUNTS------------\")\n",
    "race = demo['MOM_RACE']\n",
    "ethnic = demo['ETHNIC_GROUP']\n",
    "print(pd.DataFrame(pd.crosstab(index=race, columns=ethnic)))"
   ]
  },
  {
   "cell_type": "code",
   "execution_count": 11,
   "id": "6dfbc97b-1f89-4ce1-b333-9f2b96f77221",
   "metadata": {
    "tags": []
   },
   "outputs": [
    {
     "name": "stdout",
     "output_type": "stream",
     "text": [
      "56.0 % identified as non-Hispanic White.\n"
     ]
    }
   ],
   "source": [
    "perc_white = np.round(100*10855/len(demo),0)\n",
    "print(perc_white,'% identified as non-Hispanic White.')"
   ]
  },
  {
   "cell_type": "code",
   "execution_count": 12,
   "id": "121d212b-9ca6-4c2f-850f-eb857248f6b9",
   "metadata": {
    "tags": []
   },
   "outputs": [
    {
     "data": {
      "text/plain": [
       "MOM_RACE\n",
       "Asian or Native Hawaiian or Other Pacific Islander     2371\n",
       "Black or African American                              1402\n",
       "Hispanic White                                         1842\n",
       "Multiracial                                             606\n",
       "Other                                                  2146\n",
       "Unknown                                                 121\n",
       "White                                                 10942\n",
       "Name: MOM_RACE, dtype: int64"
      ]
     },
     "execution_count": 12,
     "metadata": {},
     "output_type": "execute_result"
    }
   ],
   "source": [
    "demo.groupby('MOM_RACE')['MOM_RACE'].count()"
   ]
  },
  {
   "cell_type": "code",
   "execution_count": 13,
   "id": "538a383b-856e-4ea2-a917-7d84807220f3",
   "metadata": {
    "tags": []
   },
   "outputs": [
    {
     "data": {
      "text/plain": [
       "MOM_RACE\n",
       "Asian or Native Hawaiian or Other Pacific Islander    12.202779\n",
       "Black or African American                              7.215646\n",
       "Hispanic White                                         9.480185\n",
       "Multiracial                                            3.118888\n",
       "Other                                                 11.044776\n",
       "Unknown                                                0.622748\n",
       "White                                                 56.314977\n",
       "Name: MOM_RACE, dtype: float64"
      ]
     },
     "execution_count": 13,
     "metadata": {},
     "output_type": "execute_result"
    }
   ],
   "source": [
    "100*demo.groupby('MOM_RACE')['MOM_RACE'].count()/len(demo['MOM_RACE'])"
   ]
  },
  {
   "cell_type": "code",
   "execution_count": 14,
   "id": "5c280642-2dc3-4604-8a08-5593f4ea733a",
   "metadata": {
    "tags": []
   },
   "outputs": [],
   "source": [
    "cols = var.copy()\n",
    "cols.append('PHQ9_risk2')\n",
    "phq9 = all_data[cols]\n",
    "phq9 = phq9.dropna()            # keep only complete data"
   ]
  },
  {
   "cell_type": "code",
   "execution_count": 15,
   "id": "dab152ea-c978-4648-9dce-04aac00577c0",
   "metadata": {
    "tags": []
   },
   "outputs": [],
   "source": [
    "cols = var.copy()\n",
    "cols.append('EPDS_risk2')\n",
    "epds = all_data[cols]\n",
    "epds = epds.dropna()            # keep only complete data"
   ]
  },
  {
   "cell_type": "code",
   "execution_count": 16,
   "id": "f62a8de4-7567-4c6c-8f1c-31448648dc72",
   "metadata": {
    "tags": []
   },
   "outputs": [
    {
     "name": "stdout",
     "output_type": "stream",
     "text": [
      "The final dataset used for model training and evaluation consists of 11377 PHQ-9 records and 8658 EPDS records, with a total of 19430 unique patients.\n"
     ]
    }
   ],
   "source": [
    "print('The final dataset used for model training and evaluation consists of',len(phq9),'PHQ-9 records and',\n",
    "      len(epds),'EPDS records, with a total of',len(demo),'unique patients.')"
   ]
  },
  {
   "cell_type": "code",
   "execution_count": 17,
   "id": "4336924e-1e5d-4255-8076-3c5b2d386f44",
   "metadata": {
    "tags": []
   },
   "outputs": [
    {
     "name": "stdout",
     "output_type": "stream",
     "text": [
      "During the transition from the PHQ-9 to the EPDS, 605 patients with complete data received both measures and thus were included in both sets of present study analyses.\n"
     ]
    }
   ],
   "source": [
    "phq9_ids = phq9['MOM_PAT_ID']\n",
    "epds_ids = epds['MOM_PAT_ID']\n",
    "\n",
    "both_ids = pd.Series(np.intersect1d(phq9_ids,epds_ids))\n",
    "print('During the transition from the PHQ-9 to the EPDS,',len(both_ids),\n",
    "      'patients with complete data received both measures and thus were included in both sets of present study analyses.')"
   ]
  },
  {
   "cell_type": "code",
   "execution_count": 18,
   "id": "bc53e3bc-2ff4-4eb2-8331-cf1a281cd162",
   "metadata": {
    "tags": []
   },
   "outputs": [
    {
     "name": "stdout",
     "output_type": "stream",
     "text": [
      "------------PHQ9 PREV------------\n"
     ]
    },
    {
     "data": {
      "text/html": [
       "<div>\n",
       "<style scoped>\n",
       "    .dataframe tbody tr th:only-of-type {\n",
       "        vertical-align: middle;\n",
       "    }\n",
       "\n",
       "    .dataframe tbody tr th {\n",
       "        vertical-align: top;\n",
       "    }\n",
       "\n",
       "    .dataframe thead th {\n",
       "        text-align: right;\n",
       "    }\n",
       "</style>\n",
       "<table border=\"1\" class=\"dataframe\">\n",
       "  <thead>\n",
       "    <tr style=\"text-align: right;\">\n",
       "      <th></th>\n",
       "      <th>mean</th>\n",
       "      <th>count</th>\n",
       "    </tr>\n",
       "    <tr>\n",
       "      <th>MOM_RACE</th>\n",
       "      <th></th>\n",
       "      <th></th>\n",
       "    </tr>\n",
       "  </thead>\n",
       "  <tbody>\n",
       "    <tr>\n",
       "      <th>Asian or Native Hawaiian or Other Pacific Islander</th>\n",
       "      <td>0.043696</td>\n",
       "      <td>1396</td>\n",
       "    </tr>\n",
       "    <tr>\n",
       "      <th>Black or African American</th>\n",
       "      <td>0.063855</td>\n",
       "      <td>830</td>\n",
       "    </tr>\n",
       "    <tr>\n",
       "      <th>Hispanic White</th>\n",
       "      <td>0.064366</td>\n",
       "      <td>1072</td>\n",
       "    </tr>\n",
       "    <tr>\n",
       "      <th>Multiracial</th>\n",
       "      <td>0.073333</td>\n",
       "      <td>300</td>\n",
       "    </tr>\n",
       "    <tr>\n",
       "      <th>Other</th>\n",
       "      <td>0.040429</td>\n",
       "      <td>1212</td>\n",
       "    </tr>\n",
       "    <tr>\n",
       "      <th>Unknown</th>\n",
       "      <td>0.101695</td>\n",
       "      <td>59</td>\n",
       "    </tr>\n",
       "    <tr>\n",
       "      <th>White</th>\n",
       "      <td>0.036878</td>\n",
       "      <td>6508</td>\n",
       "    </tr>\n",
       "  </tbody>\n",
       "</table>\n",
       "</div>"
      ],
      "text/plain": [
       "                                                        mean  count\n",
       "MOM_RACE                                                           \n",
       "Asian or Native Hawaiian or Other Pacific Islander  0.043696   1396\n",
       "Black or African American                           0.063855    830\n",
       "Hispanic White                                      0.064366   1072\n",
       "Multiracial                                         0.073333    300\n",
       "Other                                               0.040429   1212\n",
       "Unknown                                             0.101695     59\n",
       "White                                               0.036878   6508"
      ]
     },
     "execution_count": 18,
     "metadata": {},
     "output_type": "execute_result"
    }
   ],
   "source": [
    "print(\"------------PHQ9 PREV------------\")\n",
    "phq9_prev = pd.DataFrame()\n",
    "phq9_prev = pd.DataFrame(phq9.groupby(['MOM_RACE'])['PHQ9_risk2'].agg(['mean','count']))\n",
    "phq9_prev"
   ]
  },
  {
   "cell_type": "code",
   "execution_count": 19,
   "id": "449baa7f-b8f0-414d-bea9-1cc72e90cb1e",
   "metadata": {
    "tags": []
   },
   "outputs": [
    {
     "name": "stdout",
     "output_type": "stream",
     "text": [
      "NHW vs Rest : Two sided z-test: z = -4.2537, p value = 0.0000\n"
     ]
    }
   ],
   "source": [
    "x_white = int(np.sum(phq9['PHQ9_risk2'][phq9['MOM_RACE']=='White']))\n",
    "n_white = int(len(phq9['PHQ9_risk2'][phq9['MOM_RACE']=='White']))\n",
    "\n",
    "x_non_white = int(np.sum(phq9['PHQ9_risk2'][phq9['MOM_RACE']!='White']))\n",
    "n_non_white = int(len(phq9['PHQ9_risk2'][phq9['MOM_RACE']!='White']))\n",
    "\n",
    "X = np.array([x_white,x_non_white])\n",
    "N = np.array([n_white,n_non_white])\n",
    "\n",
    "test_stat, pval = proportions_ztest(count=X, nobs=N, alternative='two-sided')\n",
    "print('NHW vs Rest',':','Two sided z-test: z = {:.4f}, p value = {:.4f}'.format(test_stat, pval))"
   ]
  },
  {
   "cell_type": "code",
   "execution_count": 20,
   "id": "de3f55c0-7ff3-4aed-9948-618f9ef6c26b",
   "metadata": {
    "tags": []
   },
   "outputs": [
    {
     "name": "stdout",
     "output_type": "stream",
     "text": [
      "PHQ9 OR: 1.4732259228681122\n"
     ]
    },
    {
     "data": {
      "text/plain": [
       "ConfidenceInterval(low=1.2261589701695317, high=1.7706428911684142)"
      ]
     },
     "execution_count": 20,
     "metadata": {},
     "output_type": "execute_result"
    }
   ],
   "source": [
    "res = odds_ratio([[x_non_white, x_white], [n_non_white-x_non_white, n_white-x_white]])\n",
    "print('PHQ9 OR:', res.statistic)\n",
    "res.confidence_interval(confidence_level=0.95)"
   ]
  },
  {
   "cell_type": "code",
   "execution_count": 21,
   "id": "7ee4b49b-07fa-4173-95bf-1dcd3ca32994",
   "metadata": {
    "tags": []
   },
   "outputs": [
    {
     "name": "stdout",
     "output_type": "stream",
     "text": [
      "------------EPDS PREV------------\n"
     ]
    },
    {
     "data": {
      "text/html": [
       "<div>\n",
       "<style scoped>\n",
       "    .dataframe tbody tr th:only-of-type {\n",
       "        vertical-align: middle;\n",
       "    }\n",
       "\n",
       "    .dataframe tbody tr th {\n",
       "        vertical-align: top;\n",
       "    }\n",
       "\n",
       "    .dataframe thead th {\n",
       "        text-align: right;\n",
       "    }\n",
       "</style>\n",
       "<table border=\"1\" class=\"dataframe\">\n",
       "  <thead>\n",
       "    <tr style=\"text-align: right;\">\n",
       "      <th></th>\n",
       "      <th>mean</th>\n",
       "      <th>count</th>\n",
       "    </tr>\n",
       "    <tr>\n",
       "      <th>MOM_RACE</th>\n",
       "      <th></th>\n",
       "      <th></th>\n",
       "    </tr>\n",
       "  </thead>\n",
       "  <tbody>\n",
       "    <tr>\n",
       "      <th>Asian or Native Hawaiian or Other Pacific Islander</th>\n",
       "      <td>0.166200</td>\n",
       "      <td>1071</td>\n",
       "    </tr>\n",
       "    <tr>\n",
       "      <th>Black or African American</th>\n",
       "      <td>0.131045</td>\n",
       "      <td>641</td>\n",
       "    </tr>\n",
       "    <tr>\n",
       "      <th>Hispanic White</th>\n",
       "      <td>0.123798</td>\n",
       "      <td>832</td>\n",
       "    </tr>\n",
       "    <tr>\n",
       "      <th>Multiracial</th>\n",
       "      <td>0.108504</td>\n",
       "      <td>341</td>\n",
       "    </tr>\n",
       "    <tr>\n",
       "      <th>Other</th>\n",
       "      <td>0.109671</td>\n",
       "      <td>1003</td>\n",
       "    </tr>\n",
       "    <tr>\n",
       "      <th>Unknown</th>\n",
       "      <td>0.194030</td>\n",
       "      <td>67</td>\n",
       "    </tr>\n",
       "    <tr>\n",
       "      <th>White</th>\n",
       "      <td>0.100149</td>\n",
       "      <td>4703</td>\n",
       "    </tr>\n",
       "  </tbody>\n",
       "</table>\n",
       "</div>"
      ],
      "text/plain": [
       "                                                        mean  count\n",
       "MOM_RACE                                                           \n",
       "Asian or Native Hawaiian or Other Pacific Islander  0.166200   1071\n",
       "Black or African American                           0.131045    641\n",
       "Hispanic White                                      0.123798    832\n",
       "Multiracial                                         0.108504    341\n",
       "Other                                               0.109671   1003\n",
       "Unknown                                             0.194030     67\n",
       "White                                               0.100149   4703"
      ]
     },
     "execution_count": 21,
     "metadata": {},
     "output_type": "execute_result"
    }
   ],
   "source": [
    "print(\"------------EPDS PREV------------\")\n",
    "epds_prev = pd.DataFrame()\n",
    "epds_prev = pd.DataFrame(epds.groupby(['MOM_RACE'])['EPDS_risk2'].agg(['mean','count']))\n",
    "epds_prev"
   ]
  },
  {
   "cell_type": "code",
   "execution_count": 22,
   "id": "1df686c5-dc05-47b8-bfdd-f4297f0dbf25",
   "metadata": {
    "tags": []
   },
   "outputs": [
    {
     "name": "stdout",
     "output_type": "stream",
     "text": [
      "NHW vs Rest : Two sided z-test: z = -4.7349, p value = 0.0000\n"
     ]
    }
   ],
   "source": [
    "x_white = int(np.sum(epds['EPDS_risk2'][epds['MOM_RACE']=='White']))\n",
    "n_white = int(len(epds['EPDS_risk2'][epds['MOM_RACE']=='White']))\n",
    "\n",
    "x_non_white = int(np.sum(epds['EPDS_risk2'][epds['MOM_RACE']!='White']))\n",
    "n_non_white = int(len(epds['EPDS_risk2'][epds['MOM_RACE']!='White']))\n",
    "\n",
    "X = np.array([x_white,x_non_white])\n",
    "N = np.array([n_white,n_non_white])\n",
    "\n",
    "test_stat, pval = proportions_ztest(count=X, nobs=N, alternative='two-sided')\n",
    "print('NHW vs Rest',':','Two sided z-test: z = {:.4f}, p value = {:.4f}'.format(test_stat, pval))"
   ]
  },
  {
   "cell_type": "code",
   "execution_count": 23,
   "id": "09f48596-d5cb-49d4-a878-dc01a4480478",
   "metadata": {
    "tags": []
   },
   "outputs": [
    {
     "name": "stdout",
     "output_type": "stream",
     "text": [
      "PHQ9 OR: 1.3752252370882407\n"
     ]
    },
    {
     "data": {
      "text/plain": [
       "ConfidenceInterval(low=1.2022047592244918, high=1.5734647870884093)"
      ]
     },
     "execution_count": 23,
     "metadata": {},
     "output_type": "execute_result"
    }
   ],
   "source": [
    "res = odds_ratio([[x_non_white, x_white], [n_non_white-x_non_white, n_white-x_white]])\n",
    "print('PHQ9 OR:', res.statistic)\n",
    "res.confidence_interval(confidence_level=0.95)"
   ]
  },
  {
   "cell_type": "code",
   "execution_count": 50,
   "id": "b9f11594-5cca-4820-adf7-88f36b1ff098",
   "metadata": {
    "tags": []
   },
   "outputs": [
    {
     "name": "stderr",
     "output_type": "stream",
     "text": [
      "[NbConvertApp] Converting notebook Demographics.ipynb to html\n",
      "[NbConvertApp] Writing 622802 bytes to Demographics.html\n"
     ]
    },
    {
     "data": {
      "text/plain": [
       "0"
      ]
     },
     "execution_count": 50,
     "metadata": {},
     "output_type": "execute_result"
    }
   ],
   "source": [
    "# save this file and output as html\n",
    "import os\n",
    "os.system('jupyter nbconvert --to html Demographics.ipynb')"
   ]
  },
  {
   "cell_type": "code",
   "execution_count": null,
   "id": "dce46445-95d0-4404-9aba-751540197d8d",
   "metadata": {},
   "outputs": [],
   "source": []
  }
 ],
 "metadata": {
  "kernelspec": {
   "display_name": "Python 3 (ipykernel)",
   "language": "python",
   "name": "python3"
  },
  "language_info": {
   "codemirror_mode": {
    "name": "ipython",
    "version": 3
   },
   "file_extension": ".py",
   "mimetype": "text/x-python",
   "name": "python",
   "nbconvert_exporter": "python",
   "pygments_lexer": "ipython3",
   "version": "3.11.9"
  }
 },
 "nbformat": 4,
 "nbformat_minor": 5
}
