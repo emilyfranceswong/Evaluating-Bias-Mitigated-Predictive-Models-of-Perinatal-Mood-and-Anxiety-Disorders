{
 "cells": [
  {
   "cell_type": "markdown",
   "id": "b2027b5e-e41c-478f-9f62-0401792651f6",
   "metadata": {},
   "source": [
    "Author: Emily Wong \\\n",
    "August 30, 2024"
   ]
  },
  {
   "cell_type": "markdown",
   "id": "c9c7e1be-5ddd-4911-9a86-03519a5e0df4",
   "metadata": {},
   "source": [
    "# 1. Import libraries, methods, and data"
   ]
  },
  {
   "cell_type": "markdown",
   "id": "e7c9eaeb-a2e6-47d0-a7c0-886d00fbe0c6",
   "metadata": {},
   "source": [
    "## 1.1. Libraries"
   ]
  },
  {
   "cell_type": "code",
   "execution_count": 10,
   "id": "d7304b8d-d3fb-4a48-b6fd-6e9b239a0e80",
   "metadata": {
    "tags": []
   },
   "outputs": [],
   "source": [
    "import warnings\n",
    "warnings.filterwarnings('ignore')\n",
    "\n",
    "# Data wrangling\n",
    "import pandas as pd\n",
    "import numpy as np\n",
    "from numpy.random import uniform, normal, seed\n",
    "\n",
    "# Machine learning\n",
    "import sklearn\n",
    "from sklearn.ensemble import RandomForestClassifier\n",
    "from sklearn.linear_model import LogisticRegression\n",
    "from sklearn.metrics import f1_score, precision_score, recall_score, roc_auc_score, balanced_accuracy_score, confusion_matrix, ConfusionMatrixDisplay\n",
    "from sklearn.model_selection import train_test_split, KFold, RepeatedKFold, StratifiedKFold, cross_val_score\n",
    "from sklearn.model_selection import cross_val_score\n",
    "import scipy\n",
    "from scipy.stats import randint\n",
    "import xgboost as xgb\n",
    "from imblearn.under_sampling import RandomUnderSampler\n",
    "import optuna\n",
    "import joblib\n",
    "\n",
    "# Visualisation\n",
    "from sklearn.tree import export_graphviz\n",
    "from IPython.display import Image\n",
    "import graphviz\n",
    "import matplotlib.pyplot as plt\n",
    "import seaborn as sns # for kernel density plots\n",
    "\n",
    "# for nested dictionary (calc_weights method)\n",
    "import collections\n",
    "def makehash():\n",
    "    return collections.defaultdict(makehash)\n",
    "\n",
    "# Fairness\n",
    "import aif360\n",
    "import fairlearn\n",
    "from fairlearn.metrics import demographic_parity_difference, demographic_parity_ratio, equalized_odds_difference, equalized_odds_ratio, false_negative_rate"
   ]
  },
  {
   "cell_type": "markdown",
   "id": "282ff032-c721-4d7f-8987-17837b27eb67",
   "metadata": {},
   "source": [
    "## 1.2 Reweighing Method"
   ]
  },
  {
   "cell_type": "code",
   "execution_count": 12,
   "id": "af0268d1-547f-41cb-b0b6-5ee1b2ab1c95",
   "metadata": {
    "tags": []
   },
   "outputs": [],
   "source": [
    "def calc_weights(df, sens_features_name, outcome_name):\n",
    "    ''' Calculate sample weights according to calculationg given in \n",
    "           F. Kamiran and T. Calders,  \"Data Preprocessing Techniques for\n",
    "           Classification without Discrimination,\" Knowledge and Information\n",
    "           Systems, 2012.\n",
    "    ''' \n",
    "    \n",
    "    # combination of label and groups (outputs a table)\n",
    "    sens_features = df[sens_features_name]\n",
    "    outcome = df[outcome_name]\n",
    "    tab = pd.DataFrame(pd.crosstab(index=sens_features, columns=outcome))\n",
    "\n",
    "    # reweighing weights\n",
    "    w = makehash()\n",
    "    n = len(df)\n",
    "    for r in tab.index:\n",
    "        key1 = str(r)\n",
    "        row_sum = tab.loc[r].sum(axis=0)\n",
    "        for c in tab.columns:\n",
    "            key2 = str(c)\n",
    "            col_sum = tab[c].sum()\n",
    "            if tab.loc[r,c] == 0:\n",
    "                n_combo = 1\n",
    "            else:\n",
    "                n_combo = tab.loc[r,c]\n",
    "            val = (row_sum*col_sum)/(n*n_combo)\n",
    "            w[key1][key2] = val\n",
    "    \n",
    "    # Instance weights\n",
    "    instance_weights = []\n",
    "    for index, row in df.iterrows():\n",
    "        race = row[sens_features_name]\n",
    "        out = row[outcome_name]\n",
    "        instance_weights.append(w[race][str(out)])\n",
    "\n",
    "    return instance_weights"
   ]
  },
  {
   "cell_type": "code",
   "execution_count": 13,
   "id": "f6855166-414b-46c8-8dbf-9b8dc158e238",
   "metadata": {
    "tags": []
   },
   "outputs": [],
   "source": [
    "def model_eval(model, model_label, X_train, Y_train, X_test, Y_test, outcome_label, W=None, verbose=False):\n",
    "    results = []\n",
    "    o = outcome_label\n",
    "    \n",
    "    # Fit model\n",
    "    if W is None:\n",
    "        model.fit(X_train,Y_train)\n",
    "    else:\n",
    "        model.fit(X_train,Y_train, sample_weight=W)\n",
    "    \n",
    "    # Model predictions on test\n",
    "    y_pred = model.predict(X_test)\n",
    "    y_pred_prob = model.predict_proba(X_test)[:,1]\n",
    "    \n",
    "    # Test performance metrics\n",
    "    test_f1 = np.round(f1_score(Y_test,y_pred),3)\n",
    "    test_precision = np.round(precision_score(Y_test,y_pred),3)\n",
    "    test_recall = np.round(recall_score(Y_test,y_pred),3)\n",
    "    test_balanced_acc = np.round(balanced_accuracy_score(Y_test,y_pred),3)\n",
    "    test_auc = np.round(roc_auc_score(Y_test,y_pred_prob),3)\n",
    "    \n",
    "    # Print model performance\n",
    "    if verbose == True:\n",
    "        print('Test AUC:', test_auc)\n",
    "        print('Test Balanced Accuracy:', test_balanced_acc)\n",
    "        print('Test F1:', test_f1)\n",
    "        print('Test Precision:', test_precision)\n",
    "        print('Test Recall:', test_recall)\n",
    "        \n",
    "    # Prepare for fairness evaluation\n",
    "    y_pred = pd.DataFrame(y_pred,columns=['y_pred'])\n",
    "    y_pred_prob = pd.DataFrame(y_pred_prob,columns=['y_pred_prob'])\n",
    "    test_set = pd.concat([y_pred,y_pred_prob,Y_test.reset_index(drop=True),X_test.reset_index(drop=True)],axis=1)\n",
    "    \n",
    "    # for logistic regression\n",
    "    if 'MOM_RACE_White' in test_set.columns:\n",
    "        pass\n",
    "    else:\n",
    "        nw_races = ['MOM_RACE_Asian or Native Hawaiian or Other Pacific Islander',\n",
    "                    'MOM_RACE_Black or African American',\n",
    "                    'MOM_RACE_Hispanic White',\n",
    "                    'MOM_RACE_Multiracial',\n",
    "                    'MOM_RACE_Other',\n",
    "                    'MOM_RACE_Unknown']\n",
    "        test_set['MOM_RACE_White'] = test_set[nw_races].apply(lambda row: 1 if (row == 0).all() else 0, axis=1)\n",
    "    \n",
    "    if len(test_set[o][test_set['MOM_RACE_White']==1].unique()) < 2:\n",
    "        auc_white = None\n",
    "    else:\n",
    "        auc_white = np.round(roc_auc_score(test_set[o][test_set['MOM_RACE_White']==1],test_set['y_pred_prob'][test_set['MOM_RACE_White']==1]),3)\n",
    "    \n",
    "    # Demographic parity\n",
    "    p_white = np.mean(test_set['y_pred'][test_set['MOM_RACE_White']==1])\n",
    "    \n",
    "    # TP and FN\n",
    "    pos_lab_set_white = test_set[(test_set[o]==1) & (test_set['MOM_RACE_White']==1)]\n",
    "    pos_lab_set_white['fn'] = np.where(pos_lab_set_white['y_pred']==0,1,0)\n",
    "    fn_white = np.mean(pos_lab_set_white['fn'])\n",
    "    pos_lab_set_white['tp'] = np.where(pos_lab_set_white['y_pred']==1,1,0)\n",
    "    tp_white = np.mean(pos_lab_set_white['tp'])\n",
    "    \n",
    "    # FP, TN\n",
    "    neg_lab_set_white = test_set[(test_set[o]==0) & (test_set['MOM_RACE_White']==1)]\n",
    "    neg_lab_set_white['fp'] = np.where(neg_lab_set_white['y_pred']==1,1,0)\n",
    "    fp_white = np.mean(neg_lab_set_white['fp'])\n",
    "    neg_lab_set_white['tn'] = np.where(neg_lab_set_white['y_pred']==0,1,0)\n",
    "    tn_white = np.mean(neg_lab_set_white['tn'])\n",
    "        \n",
    "    if W is None:\n",
    "        reweigh_yn = 'No'\n",
    "    else:\n",
    "        reweigh_yn = 'Yes'\n",
    "    \n",
    "    races = ['MOM_RACE_Asian or Native Hawaiian or Other Pacific Islander',\n",
    "             'MOM_RACE_Black or African American',\n",
    "             'MOM_RACE_Hispanic White',\n",
    "             'MOM_RACE_Multiracial',\n",
    "             'MOM_RACE_Other',\n",
    "             'MOM_RACE_Unknown',\n",
    "             'MOM_RACE_White']\n",
    "    \n",
    "    for r in races:\n",
    "        pos_lab = test_set[(test_set[o]==1) & (test_set[r]==1)]\n",
    "        pos_lab['fn'] = np.where(pos_lab['y_pred']==0,1,0)\n",
    "        pos_lab['tp'] = np.where(pos_lab['y_pred']==1,1,0)\n",
    "        \n",
    "        neg_lab = test_set[(test_set[o]==0) & (test_set[r]==1)]\n",
    "        neg_lab['fp'] = np.where(neg_lab['y_pred']==1,1,0)\n",
    "        neg_lab['tn'] = np.where(neg_lab['y_pred']==0,1,0)\n",
    "        \n",
    "        if len(test_set[o][test_set[r]==1].unique()) < 2:\n",
    "            auc = None\n",
    "        else:\n",
    "            auc = np.round(roc_auc_score(test_set[o][test_set[r]==1],test_set['y_pred_prob'][test_set[r]==1]),3)\n",
    "            \n",
    "        if auc_white == None or auc == None:\n",
    "            auc_diff = None\n",
    "        else:\n",
    "            auc_diff = auc - auc_white\n",
    "        \n",
    "        results.append({'Model': model_label,\n",
    "                        'Reweigh': reweigh_yn,\n",
    "                        'Iteration': i+1,\n",
    "                        'Overall Test BA': test_balanced_acc,\n",
    "                        'Overall Test AUC': test_auc,\n",
    "                        'Overall Test F1': test_f1,\n",
    "                        'Overall Test Precision': test_precision,\n",
    "                        'Overall Test Recall': test_recall,\n",
    "                        'Race': r,\n",
    "                        'DP': np.mean(test_set['y_pred'][test_set[r]==1])-p_white,\n",
    "                        'FN':np.mean(pos_lab['fn']),\n",
    "                        'FN diff':np.mean(pos_lab['fn'])-fn_white,\n",
    "                        'TP':np.mean(pos_lab['tp']),\n",
    "                        'TP diff':np.mean(pos_lab['tp'])-tp_white,\n",
    "                        'FP': np.mean(neg_lab['fp']),\n",
    "                        'FP diff': np.mean(neg_lab['fp'])-fp_white,\n",
    "                        'TN': np.mean(neg_lab['tn']),\n",
    "                        'TN diff': np.mean(neg_lab['tn'])-tn_white,\n",
    "                        'Test AUC':auc,\n",
    "                        'Test AUC diff':auc_diff\n",
    "                       })\n",
    "    return results"
   ]
  },
  {
   "cell_type": "markdown",
   "id": "7740d2e8-af9c-4f91-b08f-49e073dc00de",
   "metadata": {},
   "source": [
    "## 1.3. Data"
   ]
  },
  {
   "cell_type": "code",
   "execution_count": 15,
   "id": "e1d5158d-a1e7-44ee-bc96-83872a364881",
   "metadata": {
    "tags": []
   },
   "outputs": [],
   "source": [
    "all_data = pd.read_excel(\"De-identified PMAD data.xlsx\")"
   ]
  },
  {
   "cell_type": "code",
   "execution_count": 16,
   "id": "5c280642-2dc3-4604-8a08-5593f4ea733a",
   "metadata": {
    "tags": []
   },
   "outputs": [],
   "source": [
    "# Extract relevant variables for model fitting\n",
    "outcome = 'EPDS_risk2'\n",
    "data = all_data[['MOM_AGE','MOM_RACE','ETHNIC_GROUP','MARITAL_STATUS','FINANCIAL_CLASS',\n",
    "                 'LBW','PTB',\n",
    "                 'DELIVERY_METHOD','NICU_ADMIT','MFCU_ADMIT',\n",
    "                 'PREE','GDM','GHTN',\n",
    "                 'MOM_BMI','MOM_LOS','CHILD_LOS',\n",
    "                 'HIST_ANXIETY','HIST_DEPRESS','HIST_BIPOLAR','HIST_PMAD','MENTAL_HEALTH_DX_CUTOFF',\n",
    "                 'MED_PSYCH','MED_CARDIO',\n",
    "                 outcome]]"
   ]
  },
  {
   "cell_type": "markdown",
   "id": "d5ddfc81-a213-4077-a476-a9133b941b89",
   "metadata": {},
   "source": [
    "## 1.3.3. Curate Data"
   ]
  },
  {
   "cell_type": "code",
   "execution_count": 18,
   "id": "beb2829b-4b79-4540-9de3-963432722234",
   "metadata": {
    "tags": []
   },
   "outputs": [
    {
     "name": "stdout",
     "output_type": "stream",
     "text": [
      "N: (8658, 24)\n"
     ]
    }
   ],
   "source": [
    "data = data.dropna() # keep only complete data\n",
    "print(\"N:\",data.shape)"
   ]
  },
  {
   "cell_type": "code",
   "execution_count": 19,
   "id": "ff0ed39c-8fcc-4e4a-9815-3fadb112d65b",
   "metadata": {
    "tags": []
   },
   "outputs": [
    {
     "name": "stdout",
     "output_type": "stream",
     "text": [
      "7662 996\n"
     ]
    },
    {
     "data": {
      "text/plain": [
       "<BarContainer object of 2 artists>"
      ]
     },
     "execution_count": 19,
     "metadata": {},
     "output_type": "execute_result"
    },
    {
     "data": {
      "image/png": "[encoded data removed]",
      "text/plain": [
       "<Figure size 640x480 with 1 Axes>"
      ]
     },
     "metadata": {},
     "output_type": "display_data"
    }
   ],
   "source": [
    "# binary-class\n",
    "count0, count1 = data[outcome].value_counts()\n",
    "print(count0, count1)\n",
    "\n",
    "x = ['0','1']\n",
    "y = [count0, count1]\n",
    "plt.bar(x, y)"
   ]
  },
  {
   "cell_type": "markdown",
   "id": "bb70876a-2439-4feb-9eb7-80b3b5c42705",
   "metadata": {},
   "source": [
    "## 1.3.4. Weight Data"
   ]
  },
  {
   "cell_type": "code",
   "execution_count": 21,
   "id": "6c9edb6a-ac6a-4fce-a630-3aa184c70f1e",
   "metadata": {
    "tags": []
   },
   "outputs": [],
   "source": [
    "data['w'] = calc_weights(df=data, sens_features_name=\"MOM_RACE\", outcome_name=outcome)"
   ]
  },
  {
   "cell_type": "markdown",
   "id": "3ef39be7-18ca-4472-8d60-94e27e1bf103",
   "metadata": {},
   "source": [
    "## 1.3.5. Get Dummies and Split"
   ]
  },
  {
   "cell_type": "code",
   "execution_count": 23,
   "id": "a59f1b66-2d4d-4946-beb2-84c5cf66cd51",
   "metadata": {
    "tags": []
   },
   "outputs": [],
   "source": [
    "# get dummy variables\n",
    "data = pd.get_dummies(data)"
   ]
  },
  {
   "cell_type": "code",
   "execution_count": 24,
   "id": "ac1776d1-d791-442e-8088-df078e882ced",
   "metadata": {
    "tags": []
   },
   "outputs": [],
   "source": [
    "# split into X and y\n",
    "X = data.drop([outcome], axis=1)\n",
    "Y = data[[outcome]]\n",
    "\n",
    "race = data[['MOM_RACE_Asian or Native Hawaiian or Other Pacific Islander',\n",
    "             'MOM_RACE_Black or African American',\n",
    "             'MOM_RACE_Multiracial',\n",
    "             'MOM_RACE_Other',\n",
    "             'MOM_RACE_Unknown',\n",
    "             'MOM_RACE_White',\n",
    "             'MOM_RACE_Hispanic White']]\n",
    "strat_df = pd.concat([Y,race],axis=1)\n",
    "\n",
    "# Split the data into training and test sets\n",
    "X_train, X_test, y_train, y_test = train_test_split(X, Y, train_size=0.90, test_size=0.10, shuffle=True, stratify=strat_df, random_state=1234) #random_state = 1234\n",
    "X_test = X_test.drop(['w'], axis=1)"
   ]
  },
  {
   "cell_type": "code",
   "execution_count": 25,
   "id": "3b7c5621-89dd-42d3-b397-3b42517d1014",
   "metadata": {},
   "outputs": [],
   "source": [
    "# Split the data into training and validation sets\n",
    "race = X_train[['MOM_RACE_Asian or Native Hawaiian or Other Pacific Islander',\n",
    "                'MOM_RACE_Black or African American',\n",
    "                'MOM_RACE_Multiracial',\n",
    "                'MOM_RACE_Other',\n",
    "                'MOM_RACE_Unknown',\n",
    "                'MOM_RACE_White',\n",
    "                'MOM_RACE_Hispanic White']]\n",
    "strat_df = pd.concat([y_train,race],axis=1)\n",
    "X_train, X_val, y_train, y_val = train_test_split(X_train, y_train, train_size=0.85, test_size=0.15, shuffle=True, stratify=strat_df, random_state=0) #random state_1234\n",
    "X_val = X_val.drop(['w'], axis=1)"
   ]
  },
  {
   "cell_type": "code",
   "execution_count": 26,
   "id": "74342e39-7fdf-40c0-b13e-47b4f54cc4bc",
   "metadata": {
    "tags": []
   },
   "outputs": [
    {
     "name": "stdout",
     "output_type": "stream",
     "text": [
      "5862 761\n",
      "1034 135\n",
      "766 100\n"
     ]
    }
   ],
   "source": [
    "# binary-class\n",
    "count0_train, count1_train = y_train.value_counts()\n",
    "print(count0_train, count1_train)\n",
    "\n",
    "count0_val, count1_val = y_val.value_counts()\n",
    "print(count0_val, count1_val)\n",
    "\n",
    "count0_test, count1_test = y_test.value_counts()\n",
    "print(count0_test, count1_test)"
   ]
  },
  {
   "cell_type": "markdown",
   "id": "5c8279fc-a583-4003-8370-3156c6b3e51b",
   "metadata": {},
   "source": [
    "# 2. Handle imbalanced data"
   ]
  },
  {
   "cell_type": "markdown",
   "id": "fdf9eeca-143a-43ef-8267-f856033ef710",
   "metadata": {},
   "source": [
    "## 2.2. Simple Under Sampling Majority (PMAD)"
   ]
  },
  {
   "cell_type": "code",
   "execution_count": 29,
   "id": "18ec6feb-0165-4b67-bc17-ce847624fc26",
   "metadata": {
    "tags": []
   },
   "outputs": [
    {
     "data": {
      "text/plain": [
       "EPDS_risk2\n",
       "0.0           761\n",
       "1.0           761\n",
       "Name: count, dtype: int64"
      ]
     },
     "execution_count": 29,
     "metadata": {},
     "output_type": "execute_result"
    }
   ],
   "source": [
    "rus = RandomUnderSampler(sampling_strategy = \"auto\", random_state=0)\n",
    "X_train_rus, y_train_rus = rus.fit_resample(X_train, y_train)\n",
    "weights_rus = X_train_rus['w']\n",
    "X_train_rus = X_train_rus.drop(['w'], axis=1)\n",
    "y_train_rus.value_counts()"
   ]
  },
  {
   "cell_type": "markdown",
   "id": "8b7b0d9a-4526-450f-b818-801ee4c46dd3",
   "metadata": {},
   "source": [
    "# 3. Modeling"
   ]
  },
  {
   "cell_type": "code",
   "execution_count": 31,
   "id": "0436c426-f293-4bc8-9fae-889ec3613e65",
   "metadata": {
    "tags": []
   },
   "outputs": [],
   "source": [
    "# Extract weights and drop from training\n",
    "weights_train = X_train['w']\n",
    "X_train = X_train.drop(['w'], axis=1)"
   ]
  },
  {
   "cell_type": "code",
   "execution_count": 32,
   "id": "fac9c47f-2b83-48f2-ba50-df573f21a4fb",
   "metadata": {
    "tags": []
   },
   "outputs": [],
   "source": [
    "orig_results = []\n",
    "n_trials = 100 # for finetuning"
   ]
  },
  {
   "cell_type": "markdown",
   "id": "bd54706e-b6e2-4c46-adc5-84a94eb2a1a6",
   "metadata": {},
   "source": [
    "## XG Boost Classifier"
   ]
  },
  {
   "cell_type": "markdown",
   "id": "865b3363-29ce-458e-87f2-5fb17f99123b",
   "metadata": {},
   "source": [
    "### Finetune XG Boost Classifier without Reweighing"
   ]
  },
  {
   "cell_type": "code",
   "execution_count": 35,
   "id": "b308cbc3-7dce-4a92-a329-b9441edd64a2",
   "metadata": {
    "tags": []
   },
   "outputs": [
    {
     "name": "stderr",
     "output_type": "stream",
     "text": [
      "[I 2024-08-30 09:25:58,928] A new study created in memory with name: no-name-76fea52e-6958-4462-aae3-a3694bd08a63\n",
      "[I 2024-08-30 09:25:58,998] Trial 0 finished with value: 0.5893366286983308 and parameters: {'n_estimators': 55, 'learning_rate': 0.7257005721594281, 'max_depth': 4, 'subsample': 0.5453382998138999, 'lambda': 44, 'min_child_weight': 65}. Best is trial 0 with value: 0.5893366286983308.\n",
      "[I 2024-08-30 09:25:59,045] Trial 1 finished with value: 0.5920660505766888 and parameters: {'n_estimators': 44, 'learning_rate': 3.6905577292137615, 'max_depth': 5, 'subsample': 0.3840580773069519, 'lambda': 80, 'min_child_weight': 53}. Best is trial 1 with value: 0.5920660505766888.\n",
      "[I 2024-08-30 09:25:59,114] Trial 2 finished with value: 0.5 and parameters: {'n_estimators': 57, 'learning_rate': 5.039489598671213, 'max_depth': 1, 'subsample': 0.08804217040183916, 'lambda': 4, 'min_child_weight': 84}. Best is trial 1 with value: 0.5920660505766888.\n",
      "[I 2024-08-30 09:25:59,167] Trial 3 finished with value: 0.46607923203667884 and parameters: {'n_estimators': 78, 'learning_rate': 3.020289640158666, 'max_depth': 5, 'subsample': 0.7993594056525068, 'lambda': 48, 'min_child_weight': 79}. Best is trial 1 with value: 0.5920660505766888.\n",
      "[I 2024-08-30 09:25:59,191] Trial 4 finished with value: 0.6214342001576043 and parameters: {'n_estimators': 12, 'learning_rate': 0.3628140404024382, 'max_depth': 1, 'subsample': 0.9447242481325343, 'lambda': 54, 'min_child_weight': 42}. Best is trial 4 with value: 0.6214342001576043.\n",
      "[I 2024-08-30 09:25:59,233] Trial 5 finished with value: 0.5776165914463787 and parameters: {'n_estimators': 27, 'learning_rate': 1.250071223083626, 'max_depth': 3, 'subsample': 0.5688655149197799, 'lambda': 4, 'min_child_weight': 62}. Best is trial 4 with value: 0.6214342001576043.\n",
      "[I 2024-08-30 09:25:59,433] Trial 6 finished with value: 0.6144781144781144 and parameters: {'n_estimators': 62, 'learning_rate': 0.293586436439536, 'max_depth': 5, 'subsample': 0.6821384788043799, 'lambda': 38, 'min_child_weight': 44}. Best is trial 4 with value: 0.6214342001576043.\n",
      "[I 2024-08-30 09:25:59,823] Trial 7 finished with value: 0.6341356830718533 and parameters: {'n_estimators': 70, 'learning_rate': 0.0017414134181586202, 'max_depth': 4, 'subsample': 0.6709672317485412, 'lambda': 23, 'min_child_weight': 13}. Best is trial 7 with value: 0.6341356830718533.\n",
      "[I 2024-08-30 09:25:59,989] Trial 8 finished with value: 0.6189662583279605 and parameters: {'n_estimators': 32, 'learning_rate': 0.028499883436971588, 'max_depth': 3, 'subsample': 0.43916291194885804, 'lambda': 99, 'min_child_weight': 11}. Best is trial 7 with value: 0.6341356830718533.\n",
      "[I 2024-08-30 09:26:00,052] Trial 9 finished with value: 0.6105200945626477 and parameters: {'n_estimators': 21, 'learning_rate': 0.004418125737902547, 'max_depth': 4, 'subsample': 0.25403831093724233, 'lambda': 48, 'min_child_weight': 25}. Best is trial 7 with value: 0.6341356830718533.\n",
      "[I 2024-08-30 09:26:00,329] Trial 10 finished with value: 0.6195035460992908 and parameters: {'n_estimators': 95, 'learning_rate': 0.00124042486080364, 'max_depth': 2, 'subsample': 0.9297107146728025, 'lambda': 23, 'min_child_weight': 1}. Best is trial 7 with value: 0.6341356830718533.\n",
      "[I 2024-08-30 09:26:00,379] Trial 11 finished with value: 0.5796869403252382 and parameters: {'n_estimators': 6, 'learning_rate': 0.043079310124327766, 'max_depth': 1, 'subsample': 0.9939252984221902, 'lambda': 67, 'min_child_weight': 31}. Best is trial 7 with value: 0.6341356830718533.\n",
      "[I 2024-08-30 09:26:00,624] Trial 12 finished with value: 0.625123576187406 and parameters: {'n_estimators': 77, 'learning_rate': 0.125459973790302, 'max_depth': 2, 'subsample': 0.8028809404252881, 'lambda': 26, 'min_child_weight': 25}. Best is trial 7 with value: 0.6341356830718533.\n",
      "[I 2024-08-30 09:26:00,866] Trial 13 finished with value: 0.6316534135683072 and parameters: {'n_estimators': 75, 'learning_rate': 0.014291431104181924, 'max_depth': 2, 'subsample': 0.7480319501109155, 'lambda': 24, 'min_child_weight': 19}. Best is trial 7 with value: 0.6341356830718533.\n",
      "[I 2024-08-30 09:26:01,169] Trial 14 finished with value: 0.6369080879719178 and parameters: {'n_estimators': 76, 'learning_rate': 0.0077605146143518745, 'max_depth': 4, 'subsample': 0.6754988615219212, 'lambda': 22, 'min_child_weight': 12}. Best is trial 14 with value: 0.6369080879719178.\n",
      "[I 2024-08-30 09:26:01,653] Trial 15 finished with value: 0.632448599469876 and parameters: {'n_estimators': 97, 'learning_rate': 0.0016130432903265202, 'max_depth': 4, 'subsample': 0.645719841926576, 'lambda': 15, 'min_child_weight': 1}. Best is trial 14 with value: 0.6369080879719178.\n",
      "[I 2024-08-30 09:26:02,000] Trial 16 finished with value: 0.6281359696253312 and parameters: {'n_estimators': 68, 'learning_rate': 0.006301450680426445, 'max_depth': 4, 'subsample': 0.36190699387507946, 'lambda': 33, 'min_child_weight': 14}. Best is trial 14 with value: 0.6369080879719178.\n",
      "[I 2024-08-30 09:26:02,178] Trial 17 finished with value: 0.6191131169854575 and parameters: {'n_estimators': 85, 'learning_rate': 0.004190636076904707, 'max_depth': 3, 'subsample': 0.6232498250684938, 'lambda': 15, 'min_child_weight': 32}. Best is trial 14 with value: 0.6369080879719178.\n",
      "[I 2024-08-30 09:26:02,359] Trial 18 finished with value: 0.6366716813525324 and parameters: {'n_estimators': 39, 'learning_rate': 0.013238098627076747, 'max_depth': 4, 'subsample': 0.8193426864857418, 'lambda': 63, 'min_child_weight': 9}. Best is trial 14 with value: 0.6369080879719178.\n",
      "[I 2024-08-30 09:26:02,510] Trial 19 finished with value: 0.6261014399312272 and parameters: {'n_estimators': 43, 'learning_rate': 0.014798048699699544, 'max_depth': 3, 'subsample': 0.8730716880652047, 'lambda': 61, 'min_child_weight': 36}. Best is trial 14 with value: 0.6369080879719178.\n",
      "[I 2024-08-30 09:26:02,719] Trial 20 finished with value: 0.6286768393151372 and parameters: {'n_estimators': 42, 'learning_rate': 0.07455172239288425, 'max_depth': 5, 'subsample': 0.8501342278001282, 'lambda': 74, 'min_child_weight': 6}. Best is trial 14 with value: 0.6369080879719178.\n",
      "[I 2024-08-30 09:26:02,845] Trial 21 finished with value: 0.6310015044057597 and parameters: {'n_estimators': 65, 'learning_rate': 0.002481626901035576, 'max_depth': 4, 'subsample': 0.6843294046423706, 'lambda': 82, 'min_child_weight': 16}. Best is trial 14 with value: 0.6369080879719178.\n",
      "[I 2024-08-30 09:26:02,971] Trial 22 finished with value: 0.6325918762088976 and parameters: {'n_estimators': 86, 'learning_rate': 0.009389976992102055, 'max_depth': 4, 'subsample': 0.737169133972103, 'lambda': 58, 'min_child_weight': 21}. Best is trial 14 with value: 0.6369080879719178.\n",
      "[I 2024-08-30 09:26:03,073] Trial 23 finished with value: 0.6364997492657067 and parameters: {'n_estimators': 52, 'learning_rate': 0.0028017436972920464, 'max_depth': 4, 'subsample': 0.5433435836928673, 'lambda': 36, 'min_child_weight': 10}. Best is trial 14 with value: 0.6369080879719178.\n",
      "[I 2024-08-30 09:26:03,128] Trial 24 finished with value: 0.5 and parameters: {'n_estimators': 39, 'learning_rate': 0.02217225926729806, 'max_depth': 3, 'subsample': 0.4767152280110146, 'lambda': 37, 'min_child_weight': 97}. Best is trial 14 with value: 0.6369080879719178.\n",
      "[I 2024-08-30 09:26:03,230] Trial 25 finished with value: 0.6336198868113762 and parameters: {'n_estimators': 52, 'learning_rate': 0.0031914171214165116, 'max_depth': 5, 'subsample': 0.5911537410724296, 'lambda': 33, 'min_child_weight': 10}. Best is trial 14 with value: 0.6369080879719178.\n",
      "[I 2024-08-30 09:26:03,300] Trial 26 finished with value: 0.621298087255534 and parameters: {'n_estimators': 35, 'learning_rate': 0.008283905525313615, 'max_depth': 4, 'subsample': 0.25820397203839984, 'lambda': 43, 'min_child_weight': 6}. Best is trial 14 with value: 0.6369080879719178.\n",
      "[I 2024-08-30 09:26:03,354] Trial 27 finished with value: 0.6285156529837381 and parameters: {'n_estimators': 21, 'learning_rate': 0.0010577485356423498, 'max_depth': 3, 'subsample': 0.5150361140049622, 'lambda': 67, 'min_child_weight': 22}. Best is trial 14 with value: 0.6369080879719178.\n",
      "[I 2024-08-30 09:26:03,431] Trial 28 finished with value: 0.635511139766459 and parameters: {'n_estimators': 48, 'learning_rate': 0.04898308695253624, 'max_depth': 4, 'subsample': 0.7503859276940272, 'lambda': 16, 'min_child_weight': 29}. Best is trial 14 with value: 0.6369080879719178.\n",
      "[I 2024-08-30 09:26:03,511] Trial 29 finished with value: 0.6126764094849201 and parameters: {'n_estimators': 58, 'learning_rate': 0.013454256539755828, 'max_depth': 5, 'subsample': 0.53539105909218, 'lambda': 44, 'min_child_weight': 39}. Best is trial 14 with value: 0.6369080879719178.\n",
      "[I 2024-08-30 09:26:03,600] Trial 30 finished with value: 0.6053692957948278 and parameters: {'n_estimators': 51, 'learning_rate': 0.005792423968686239, 'max_depth': 4, 'subsample': 0.8675522691383292, 'lambda': 30, 'min_child_weight': 53}. Best is trial 14 with value: 0.6369080879719178.\n",
      "[I 2024-08-30 09:26:03,701] Trial 31 finished with value: 0.6315387921770901 and parameters: {'n_estimators': 47, 'learning_rate': 0.07136997983880931, 'max_depth': 4, 'subsample': 0.7544297208277627, 'lambda': 15, 'min_child_weight': 29}. Best is trial 14 with value: 0.6369080879719178.\n",
      "[I 2024-08-30 09:26:03,769] Trial 32 finished with value: 0.6326635145784082 and parameters: {'n_estimators': 31, 'learning_rate': 0.037210640325081805, 'max_depth': 4, 'subsample': 0.720875219651112, 'lambda': 10, 'min_child_weight': 7}. Best is trial 14 with value: 0.6369080879719178.\n",
      "[I 2024-08-30 09:26:03,868] Trial 33 finished with value: 0.6239845261121857 and parameters: {'n_estimators': 58, 'learning_rate': 0.1354632842487133, 'max_depth': 4, 'subsample': 0.601436819125269, 'lambda': 18, 'min_child_weight': 17}. Best is trial 14 with value: 0.6369080879719178.\n",
      "[I 2024-08-30 09:26:03,977] Trial 34 finished with value: 0.6259509993552548 and parameters: {'n_estimators': 47, 'learning_rate': 0.023124466458497653, 'max_depth': 5, 'subsample': 0.830308884149286, 'lambda': 6, 'min_child_weight': 1}. Best is trial 14 with value: 0.6369080879719178.\n",
      "[I 2024-08-30 09:26:04,142] Trial 35 finished with value: 0.6183036034099865 and parameters: {'n_estimators': 55, 'learning_rate': 0.002709744466823711, 'max_depth': 5, 'subsample': 0.4557275308973605, 'lambda': 29, 'min_child_weight': 26}. Best is trial 14 with value: 0.6369080879719178.\n",
      "[I 2024-08-30 09:26:04,219] Trial 36 finished with value: 0.6134787592234401 and parameters: {'n_estimators': 23, 'learning_rate': 0.05757549352051597, 'max_depth': 3, 'subsample': 0.7823883976715643, 'lambda': 38, 'min_child_weight': 46}. Best is trial 14 with value: 0.6369080879719178.\n",
      "[I 2024-08-30 09:26:04,338] Trial 37 finished with value: 0.6355720323805429 and parameters: {'n_estimators': 40, 'learning_rate': 0.28562562643348977, 'max_depth': 4, 'subsample': 0.5520953865553997, 'lambda': 50, 'min_child_weight': 9}. Best is trial 14 with value: 0.6369080879719178.\n",
      "[I 2024-08-30 09:26:04,405] Trial 38 finished with value: 0.590020775127158 and parameters: {'n_estimators': 38, 'learning_rate': 0.8207972989702528, 'max_depth': 3, 'subsample': 0.406444010770888, 'lambda': 53, 'min_child_weight': 71}. Best is trial 14 with value: 0.6369080879719178.\n",
      "[I 2024-08-30 09:26:04,463] Trial 39 finished with value: 0.621591804570528 and parameters: {'n_estimators': 15, 'learning_rate': 0.21873689592314877, 'max_depth': 5, 'subsample': 0.3321161235265542, 'lambda': 61, 'min_child_weight': 9}. Best is trial 14 with value: 0.6369080879719178.\n",
      "[I 2024-08-30 09:26:04,549] Trial 40 finished with value: 0.5637080020058743 and parameters: {'n_estimators': 29, 'learning_rate': 2.189650202431467, 'max_depth': 4, 'subsample': 0.5295967434661034, 'lambda': 47, 'min_child_weight': 14}. Best is trial 14 with value: 0.6369080879719178.\n",
      "[I 2024-08-30 09:26:04,669] Trial 41 finished with value: 0.6151909162547461 and parameters: {'n_estimators': 48, 'learning_rate': 0.5673223877305279, 'max_depth': 4, 'subsample': 0.6912515829377557, 'lambda': 40, 'min_child_weight': 5}. Best is trial 14 with value: 0.6369080879719178.\n",
      "[I 2024-08-30 09:26:04,780] Trial 42 finished with value: 0.6244251020846765 and parameters: {'n_estimators': 37, 'learning_rate': 0.008783348208379267, 'max_depth': 4, 'subsample': 0.5674658873112741, 'lambda': 20, 'min_child_weight': 19}. Best is trial 14 with value: 0.6369080879719178.\n",
      "[I 2024-08-30 09:26:04,933] Trial 43 finished with value: 0.6272261623325454 and parameters: {'n_estimators': 60, 'learning_rate': 0.18369868706621242, 'max_depth': 4, 'subsample': 0.9284063286670682, 'lambda': 52, 'min_child_weight': 11}. Best is trial 14 with value: 0.6369080879719178.\n",
      "[I 2024-08-30 09:26:05,050] Trial 44 finished with value: 0.5985672326097858 and parameters: {'n_estimators': 42, 'learning_rate': 0.5380266390388575, 'max_depth': 4, 'subsample': 0.6410446263366848, 'lambda': 9, 'min_child_weight': 24}. Best is trial 14 with value: 0.6369080879719178.\n",
      "[I 2024-08-30 09:26:05,115] Trial 45 finished with value: 0.5 and parameters: {'n_estimators': 26, 'learning_rate': 0.03709612250033704, 'max_depth': 3, 'subsample': 0.04187216246383618, 'lambda': 78, 'min_child_weight': 34}. Best is trial 14 with value: 0.6369080879719178.\n",
      "[I 2024-08-30 09:26:05,196] Trial 46 finished with value: 0.4559925496095708 and parameters: {'n_estimators': 54, 'learning_rate': 7.926798116385194, 'max_depth': 5, 'subsample': 0.7053835635729455, 'lambda': 67, 'min_child_weight': 15}. Best is trial 14 with value: 0.6369080879719178.\n",
      "[I 2024-08-30 09:26:05,455] Trial 47 finished with value: 0.6266924564796905 and parameters: {'n_estimators': 71, 'learning_rate': 0.017039365355278346, 'max_depth': 4, 'subsample': 0.7925417573880269, 'lambda': 57, 'min_child_weight': 28}. Best is trial 14 with value: 0.6369080879719178.\n",
      "[I 2024-08-30 09:26:05,610] Trial 48 finished with value: 0.6199369582348305 and parameters: {'n_estimators': 83, 'learning_rate': 0.33568342162729065, 'max_depth': 4, 'subsample': 0.6560770489778155, 'lambda': 49, 'min_child_weight': 1}. Best is trial 14 with value: 0.6369080879719178.\n",
      "[I 2024-08-30 09:26:05,717] Trial 49 finished with value: 0.6279103087613725 and parameters: {'n_estimators': 64, 'learning_rate': 0.0018524843715265278, 'max_depth': 3, 'subsample': 0.4968318172149326, 'lambda': 28, 'min_child_weight': 20}. Best is trial 14 with value: 0.6369080879719178.\n",
      "[I 2024-08-30 09:26:05,848] Trial 50 finished with value: 0.63214055448098 and parameters: {'n_estimators': 90, 'learning_rate': 0.004440501849736911, 'max_depth': 4, 'subsample': 0.9132652248703579, 'lambda': 33, 'min_child_weight': 6}. Best is trial 14 with value: 0.6369080879719178.\n",
      "[I 2024-08-30 09:26:05,948] Trial 51 finished with value: 0.6343864173651408 and parameters: {'n_estimators': 70, 'learning_rate': 0.0016030364784390707, 'max_depth': 4, 'subsample': 0.5791006129898999, 'lambda': 25, 'min_child_weight': 12}. Best is trial 14 with value: 0.6369080879719178.\n",
      "[I 2024-08-30 09:26:06,120] Trial 52 finished with value: 0.6311017981230747 and parameters: {'n_estimators': 75, 'learning_rate': 0.0017899176696217693, 'max_depth': 4, 'subsample': 0.5762517473499869, 'lambda': 21, 'min_child_weight': 13}. Best is trial 14 with value: 0.6369080879719178.\n",
      "[I 2024-08-30 09:26:06,231] Trial 53 finished with value: 0.6322408481982951 and parameters: {'n_estimators': 69, 'learning_rate': 0.0033343739768490277, 'max_depth': 4, 'subsample': 0.42129617740385034, 'lambda': 24, 'min_child_weight': 11}. Best is trial 14 with value: 0.6369080879719178.\n",
      "[I 2024-08-30 09:26:06,436] Trial 54 finished with value: 0.6321226448886024 and parameters: {'n_estimators': 80, 'learning_rate': 0.0013027961011849926, 'max_depth': 5, 'subsample': 0.630095548240255, 'lambda': 17, 'min_child_weight': 4}. Best is trial 14 with value: 0.6369080879719178.\n",
      "[I 2024-08-30 09:26:06,668] Trial 55 finished with value: 0.6432874847768465 and parameters: {'n_estimators': 33, 'learning_rate': 0.004956510009239232, 'max_depth': 4, 'subsample': 0.7699942323154338, 'lambda': 11, 'min_child_weight': 9}. Best is trial 55 with value: 0.6432874847768465.\n",
      "[I 2024-08-30 09:26:06,749] Trial 56 finished with value: 0.6356436707500537 and parameters: {'n_estimators': 34, 'learning_rate': 0.006113999135503741, 'max_depth': 4, 'subsample': 0.9836693095838382, 'lambda': 3, 'min_child_weight': 17}. Best is trial 55 with value: 0.6432874847768465.\n",
      "[I 2024-08-30 09:26:06,829] Trial 57 finished with value: 0.6376029801561718 and parameters: {'n_estimators': 34, 'learning_rate': 0.0060562871300173125, 'max_depth': 4, 'subsample': 0.9932065985851484, 'lambda': 3, 'min_child_weight': 17}. Best is trial 55 with value: 0.6432874847768465.\n",
      "[I 2024-08-30 09:26:06,914] Trial 58 finished with value: 0.5986997635933806 and parameters: {'n_estimators': 34, 'learning_rate': 0.0064760682786141124, 'max_depth': 3, 'subsample': 0.992208555540078, 'lambda': 3, 'min_child_weight': 61}. Best is trial 55 with value: 0.6432874847768465.\n",
      "[I 2024-08-30 09:26:06,970] Trial 59 finished with value: 0.6316355039759294 and parameters: {'n_estimators': 12, 'learning_rate': 0.010205066297389447, 'max_depth': 5, 'subsample': 0.9719289775761729, 'lambda': 11, 'min_child_weight': 18}. Best is trial 55 with value: 0.6432874847768465.\n",
      "[I 2024-08-30 09:26:07,033] Trial 60 finished with value: 0.6314134250304463 and parameters: {'n_estimators': 25, 'learning_rate': 0.004922321475461119, 'max_depth': 4, 'subsample': 0.8968414527975662, 'lambda': 6, 'min_child_weight': 17}. Best is trial 55 with value: 0.6432874847768465.\n",
      "[I 2024-08-30 09:26:07,097] Trial 61 finished with value: 0.6387814313346227 and parameters: {'n_estimators': 30, 'learning_rate': 0.007524800878554032, 'max_depth': 4, 'subsample': 0.9505706098220844, 'lambda': 10, 'min_child_weight': 9}. Best is trial 55 with value: 0.6432874847768465.\n",
      "[I 2024-08-30 09:26:07,166] Trial 62 finished with value: 0.6361845404398595 and parameters: {'n_estimators': 33, 'learning_rate': 0.012212211294963048, 'max_depth': 4, 'subsample': 0.9588869729278635, 'lambda': 10, 'min_child_weight': 4}. Best is trial 55 with value: 0.6432874847768465.\n",
      "[I 2024-08-30 09:26:07,229] Trial 63 finished with value: 0.6336700336700336 and parameters: {'n_estimators': 30, 'learning_rate': 0.013998354695477137, 'max_depth': 4, 'subsample': 0.9455567680798481, 'lambda': 11, 'min_child_weight': 4}. Best is trial 55 with value: 0.6432874847768465.\n",
      "[I 2024-08-30 09:26:07,296] Trial 64 finished with value: 0.6465828497743391 and parameters: {'n_estimators': 28, 'learning_rate': 0.010894433275556253, 'max_depth': 4, 'subsample': 0.8283639388280429, 'lambda': 13, 'min_child_weight': 8}. Best is trial 64 with value: 0.6465828497743391.\n",
      "[I 2024-08-30 09:26:07,361] Trial 65 finished with value: 0.6435776201733648 and parameters: {'n_estimators': 19, 'learning_rate': 0.007504548772245155, 'max_depth': 4, 'subsample': 0.8320819539648607, 'lambda': 7, 'min_child_weight': 8}. Best is trial 64 with value: 0.6465828497743391.\n",
      "[I 2024-08-30 09:26:07,420] Trial 66 finished with value: 0.6383766745468873 and parameters: {'n_estimators': 19, 'learning_rate': 0.020612340255468695, 'max_depth': 4, 'subsample': 0.8359867075357628, 'lambda': 7, 'min_child_weight': 7}. Best is trial 64 with value: 0.6465828497743391.\n",
      "[I 2024-08-30 09:26:07,475] Trial 67 finished with value: 0.6340389712730139 and parameters: {'n_estimators': 19, 'learning_rate': 0.022331713129391553, 'max_depth': 3, 'subsample': 0.8453307648034214, 'lambda': 13, 'min_child_weight': 8}. Best is trial 64 with value: 0.6465828497743391.\n",
      "[I 2024-08-30 09:26:07,513] Trial 68 finished with value: 0.6159896840747905 and parameters: {'n_estimators': 8, 'learning_rate': 0.007457321878188283, 'max_depth': 2, 'subsample': 0.8793270721802834, 'lambda': 6, 'min_child_weight': 1}. Best is trial 64 with value: 0.6465828497743391.\n",
      "[I 2024-08-30 09:26:07,577] Trial 69 finished with value: 0.6272154165771187 and parameters: {'n_estimators': 20, 'learning_rate': 0.018909153596858103, 'max_depth': 4, 'subsample': 0.8106762400627873, 'lambda': 7, 'min_child_weight': 14}. Best is trial 64 with value: 0.6465828497743391.\n",
      "[I 2024-08-30 09:26:07,615] Trial 70 finished with value: 0.6193137044200874 and parameters: {'n_estimators': 1, 'learning_rate': 0.028831190105120762, 'max_depth': 4, 'subsample': 0.7708339956451186, 'lambda': 13, 'min_child_weight': 22}. Best is trial 64 with value: 0.6465828497743391.\n",
      "[I 2024-08-30 09:26:07,675] Trial 71 finished with value: 0.6376065620746472 and parameters: {'n_estimators': 17, 'learning_rate': 0.009710397379601705, 'max_depth': 4, 'subsample': 0.8260336687619738, 'lambda': 8, 'min_child_weight': 8}. Best is trial 64 with value: 0.6465828497743391.\n",
      "[I 2024-08-30 09:26:07,739] Trial 72 finished with value: 0.630474962389856 and parameters: {'n_estimators': 17, 'learning_rate': 0.010379677873399565, 'max_depth': 4, 'subsample': 0.8850756687353522, 'lambda': 20, 'min_child_weight': 4}. Best is trial 64 with value: 0.6465828497743391.\n",
      "[I 2024-08-30 09:26:07,821] Trial 73 finished with value: 0.6377677484060463 and parameters: {'n_estimators': 24, 'learning_rate': 0.004512021510994972, 'max_depth': 4, 'subsample': 0.8502464914388872, 'lambda': 8, 'min_child_weight': 8}. Best is trial 64 with value: 0.6465828497743391.\n",
      "[I 2024-08-30 09:26:07,870] Trial 74 finished with value: 0.6306898774983881 and parameters: {'n_estimators': 14, 'learning_rate': 0.003681262522372192, 'max_depth': 4, 'subsample': 0.9231755214286443, 'lambda': 13, 'min_child_weight': 8}. Best is trial 64 with value: 0.6465828497743391.\n",
      "[I 2024-08-30 09:26:07,930] Trial 75 finished with value: 0.6359194784726699 and parameters: {'n_estimators': 23, 'learning_rate': 0.004433155847250331, 'max_depth': 4, 'subsample': 0.8432295130392663, 'lambda': 8, 'min_child_weight': 12}. Best is trial 64 with value: 0.6465828497743391.\n",
      "[I 2024-08-30 09:26:08,004] Trial 76 finished with value: 0.6307400243570456 and parameters: {'n_estimators': 27, 'learning_rate': 0.007506836747692901, 'max_depth': 4, 'subsample': 0.8644564377800137, 'lambda': 3, 'min_child_weight': 6}. Best is trial 64 with value: 0.6465828497743391.\n",
      "[I 2024-08-30 09:26:08,080] Trial 77 finished with value: 0.6291675621462854 and parameters: {'n_estimators': 23, 'learning_rate': 0.002326571792472775, 'max_depth': 5, 'subsample': 0.8219765930980486, 'lambda': 6, 'min_child_weight': 3}. Best is trial 64 with value: 0.6465828497743391.\n",
      "[I 2024-08-30 09:26:08,129] Trial 78 finished with value: 0.6269575184468802 and parameters: {'n_estimators': 9, 'learning_rate': 0.005535260018822174, 'max_depth': 4, 'subsample': 0.9451217932279128, 'lambda': 15, 'min_child_weight': 15}. Best is trial 64 with value: 0.6465828497743391.\n",
      "[I 2024-08-30 09:26:08,185] Trial 79 finished with value: 0.6293251665592092 and parameters: {'n_estimators': 17, 'learning_rate': 0.010679313370061689, 'max_depth': 3, 'subsample': 0.913969125061784, 'lambda': 12, 'min_child_weight': 8}. Best is trial 64 with value: 0.6465828497743391.\n",
      "[I 2024-08-30 09:26:08,285] Trial 80 finished with value: 0.645866466079232 and parameters: {'n_estimators': 29, 'learning_rate': 0.018200338055912143, 'max_depth': 4, 'subsample': 0.7729414687585574, 'lambda': 9, 'min_child_weight': 10}. Best is trial 64 with value: 0.6465828497743391.\n",
      "[I 2024-08-30 09:26:08,399] Trial 81 finished with value: 0.6400673400673401 and parameters: {'n_estimators': 28, 'learning_rate': 0.015730747411585207, 'max_depth': 4, 'subsample': 0.7292487359295412, 'lambda': 8, 'min_child_weight': 11}. Best is trial 64 with value: 0.6465828497743391.\n",
      "[I 2024-08-30 09:26:08,474] Trial 82 finished with value: 0.6393437925352818 and parameters: {'n_estimators': 29, 'learning_rate': 0.030555122462761385, 'max_depth': 4, 'subsample': 0.724571550013813, 'lambda': 8, 'min_child_weight': 10}. Best is trial 64 with value: 0.6465828497743391.\n",
      "[I 2024-08-30 09:26:08,550] Trial 83 finished with value: 0.6441077441077442 and parameters: {'n_estimators': 28, 'learning_rate': 0.03231298780480516, 'max_depth': 4, 'subsample': 0.7200471041736382, 'lambda': 17, 'min_child_weight': 11}. Best is trial 64 with value: 0.6465828497743391.\n",
      "[I 2024-08-30 09:26:08,619] Trial 84 finished with value: 0.6425997564295437 and parameters: {'n_estimators': 29, 'learning_rate': 0.026796055260357405, 'max_depth': 4, 'subsample': 0.7282422558336279, 'lambda': 18, 'min_child_weight': 11}. Best is trial 64 with value: 0.6465828497743391.\n",
      "[I 2024-08-30 09:26:08,719] Trial 85 finished with value: 0.632695751844688 and parameters: {'n_estimators': 29, 'learning_rate': 0.030532201620795833, 'max_depth': 4, 'subsample': 0.721507932731897, 'lambda': 18, 'min_child_weight': 23}. Best is trial 64 with value: 0.6465828497743391.\n",
      "[I 2024-08-30 09:26:08,790] Trial 86 finished with value: 0.6379146070635433 and parameters: {'n_estimators': 27, 'learning_rate': 0.04336088628026644, 'max_depth': 4, 'subsample': 0.7662247055646656, 'lambda': 19, 'min_child_weight': 13}. Best is trial 64 with value: 0.6465828497743391.\n",
      "[I 2024-08-30 09:26:08,863] Trial 87 finished with value: 0.6363457267712587 and parameters: {'n_estimators': 30, 'learning_rate': 0.05330711341977588, 'max_depth': 4, 'subsample': 0.731827753118888, 'lambda': 15, 'min_child_weight': 20}. Best is trial 64 with value: 0.6465828497743391.\n",
      "[I 2024-08-30 09:26:09,027] Trial 88 finished with value: 0.6318826563507414 and parameters: {'n_estimators': 37, 'learning_rate': 0.06566319251867558, 'max_depth': 4, 'subsample': 0.7908982631934732, 'lambda': 22, 'min_child_weight': 11}. Best is trial 64 with value: 0.6465828497743391.\n",
      "[I 2024-08-30 09:26:09,117] Trial 89 finished with value: 0.6233970914821979 and parameters: {'n_estimators': 28, 'learning_rate': 0.026411154118760858, 'max_depth': 5, 'subsample': 0.6844513253412778, 'lambda': 16, 'min_child_weight': 15}. Best is trial 64 with value: 0.6465828497743391.\n",
      "[I 2024-08-30 09:26:09,211] Trial 90 finished with value: 0.6327530625402965 and parameters: {'n_estimators': 31, 'learning_rate': 0.014939527205432514, 'max_depth': 4, 'subsample': 0.6657076710937592, 'lambda': 13, 'min_child_weight': 3}. Best is trial 64 with value: 0.6465828497743391.\n",
      "[I 2024-08-30 09:26:09,307] Trial 91 finished with value: 0.6312343291066695 and parameters: {'n_estimators': 21, 'learning_rate': 0.09036584209794485, 'max_depth': 4, 'subsample': 0.7087795286944947, 'lambda': 10, 'min_child_weight': 10}. Best is trial 64 with value: 0.6465828497743391.\n",
      "[I 2024-08-30 09:26:09,382] Trial 92 finished with value: 0.6016405186617952 and parameters: {'n_estimators': 25, 'learning_rate': 0.017937979792122086, 'max_depth': 4, 'subsample': 0.7543822521135716, 'lambda': 5, 'min_child_weight': 86}. Best is trial 64 with value: 0.6465828497743391.\n",
      "[I 2024-08-30 09:26:09,559] Trial 93 finished with value: 0.6318110179812308 and parameters: {'n_estimators': 36, 'learning_rate': 0.03477194437272665, 'max_depth': 4, 'subsample': 0.7953466198708096, 'lambda': 10, 'min_child_weight': 6}. Best is trial 64 with value: 0.6465828497743391.\n",
      "[I 2024-08-30 09:26:09,632] Trial 94 finished with value: 0.6391396231821764 and parameters: {'n_estimators': 22, 'learning_rate': 0.019574379720327682, 'max_depth': 4, 'subsample': 0.6057085258923872, 'lambda': 17, 'min_child_weight': 10}. Best is trial 64 with value: 0.6465828497743391.\n",
      "[I 2024-08-30 09:26:09,706] Trial 95 finished with value: 0.6319113116985458 and parameters: {'n_estimators': 32, 'learning_rate': 0.012294091400836224, 'max_depth': 4, 'subsample': 0.6201155129008519, 'lambda': 27, 'min_child_weight': 10}. Best is trial 64 with value: 0.6465828497743391.\n",
      "[I 2024-08-30 09:26:09,774] Trial 96 finished with value: 0.6303710867540655 and parameters: {'n_estimators': 22, 'learning_rate': 0.024959986125751645, 'max_depth': 4, 'subsample': 0.7292142766396924, 'lambda': 18, 'min_child_weight': 13}. Best is trial 64 with value: 0.6465828497743391.\n",
      "[I 2024-08-30 09:26:09,856] Trial 97 finished with value: 0.6288774267497672 and parameters: {'n_estimators': 40, 'learning_rate': 0.016365904122277307, 'max_depth': 4, 'subsample': 0.774249880532094, 'lambda': 14, 'min_child_weight': 19}. Best is trial 64 with value: 0.6465828497743391.\n",
      "[I 2024-08-30 09:26:09,931] Trial 98 finished with value: 0.632233684361344 and parameters: {'n_estimators': 26, 'learning_rate': 0.04230747925332407, 'max_depth': 3, 'subsample': 0.70658850225436, 'lambda': 22, 'min_child_weight': 16}. Best is trial 64 with value: 0.6465828497743391.\n",
      "[I 2024-08-30 09:26:10,026] Trial 99 finished with value: 0.6344831291639802 and parameters: {'n_estimators': 44, 'learning_rate': 0.03062158375811572, 'max_depth': 4, 'subsample': 0.7425343545206938, 'lambda': 17, 'min_child_weight': 1}. Best is trial 64 with value: 0.6465828497743391.\n"
     ]
    }
   ],
   "source": [
    "x = X_train_rus\n",
    "y = y_train_rus.values.ravel()\n",
    "\n",
    "def objective(trial):\n",
    "    params = {\n",
    "        \"seed\":0,\n",
    "        \"verbosity\": 0,\n",
    "        \"objective\": \"binary:logistic\",\n",
    "        \"n_estimators\": trial.suggest_int(\"n_estimators\", 1, 100),\n",
    "        \"learning_rate\": trial.suggest_float(\"learning_rate\", 1e-3, 10, log=True),\n",
    "        \"max_depth\": trial.suggest_int(\"max_depth\", 1, 5),\n",
    "        \"subsample\": trial.suggest_float(\"subsample\", 1e-3, 1),\n",
    "        \"lambda\": trial.suggest_int(\"lambda\", 3, 100),\n",
    "        \"min_child_weight\": trial.suggest_int(\"min_child_weight\", 1, 100)\n",
    "    }\n",
    "\n",
    "    model = xgb.XGBClassifier(**params)\n",
    "    model.fit(x, y, verbose=False)\n",
    "    predictions = model.predict(X_val)\n",
    "    predictions_prob = model.predict_proba(X_val)[:,1]\n",
    "    BA = balanced_accuracy_score(y_val, predictions)\n",
    "    AUC = roc_auc_score(y_val, predictions_prob)\n",
    "    return AUC\n",
    "\n",
    "#optuna.logging.set_verbosity(optuna.logging.WARNING)\n",
    "sampler = optuna.samplers.TPESampler(seed=0, consider_prior=True, prior_weight=0.5) \n",
    "study = optuna.create_study(direction='maximize',sampler=sampler)\n",
    "study.optimize(objective, n_trials=n_trials)"
   ]
  },
  {
   "cell_type": "code",
   "execution_count": 36,
   "id": "93841b0e-59d7-4c82-b9b0-cb77043d1420",
   "metadata": {
    "tags": []
   },
   "outputs": [
    {
     "name": "stdout",
     "output_type": "stream",
     "text": [
      "Test AUC: 0.634\n",
      "Test Balanced Accuracy: 0.591\n",
      "Test F1: 0.249\n",
      "Test Precision: 0.155\n",
      "Test Recall: 0.63\n"
     ]
    }
   ],
   "source": [
    "best_xgb = xgb.XGBClassifier(objective='binary:logistic',verbosity=0, seed=0, **study.best_params)\n",
    "i = -1\n",
    "orig_XGB = pd.DataFrame(model_eval(model=best_xgb, model_label='XGB', X_train=x, Y_train=y, X_test=X_test, Y_test=y_test, outcome_label=outcome, verbose=True))"
   ]
  },
  {
   "cell_type": "code",
   "execution_count": 37,
   "id": "3235d0ce-54d1-4e1b-a9b4-2be58f88beaf",
   "metadata": {
    "tags": []
   },
   "outputs": [
    {
     "data": {
      "image/png": "[encoded data removed]",
      "text/plain": [
       "<Figure size 640x480 with 1 Axes>"
      ]
     },
     "metadata": {},
     "output_type": "display_data"
    }
   ],
   "source": [
    "gain = best_xgb.get_booster().get_score(importance_type='gain')\n",
    "gain_sorted = dict(sorted(gain.items(), key=lambda x: x[1], reverse=False))\n",
    "\n",
    "features = list(gain_sorted.keys())\n",
    "values = list(gain_sorted.values())\n",
    "\n",
    "fig, ax = plt.subplots()\n",
    "ax.barh(features,values)\n",
    "plt.yticks(fontsize=5.5)\n",
    "ax.set_xlabel(\"Gain\")\n",
    "plt.savefig('EPDS XGB Feature Importance (val).png',dpi=600, bbox_inches='tight')"
   ]
  },
  {
   "cell_type": "code",
   "execution_count": 38,
   "id": "4763ce61-145b-4f10-bfee-bc795233e5e2",
   "metadata": {},
   "outputs": [
    {
     "data": {
      "text/plain": [
       "['best_xgb_epds_no_reweigh_val.pkl']"
      ]
     },
     "execution_count": 38,
     "metadata": {},
     "output_type": "execute_result"
    }
   ],
   "source": [
    "joblib.dump(best_xgb, 'best_xgb_epds_no_reweigh_val.pkl')"
   ]
  },
  {
   "cell_type": "markdown",
   "id": "456163af-7dcd-4173-94a4-09acea9f4b8d",
   "metadata": {},
   "source": [
    "### Finetune XG Boost Classifier with Reweighing"
   ]
  },
  {
   "cell_type": "code",
   "execution_count": 40,
   "id": "47e98efb",
   "metadata": {
    "tags": []
   },
   "outputs": [
    {
     "name": "stderr",
     "output_type": "stream",
     "text": [
      "[I 2024-08-30 09:26:10,708] A new study created in memory with name: no-name-c7a8c6e6-69dd-4736-829f-dc1b043c81b8\n",
      "[I 2024-08-30 09:26:10,825] Trial 0 finished with value: 0.5883372734436564 and parameters: {'n_estimators': 55, 'learning_rate': 0.7257005721594281, 'max_depth': 4, 'subsample': 0.5453382998138999, 'lambda': 48, 'min_child_weight': 65}. Best is trial 0 with value: 0.5883372734436564.\n",
      "[I 2024-08-30 09:26:10,887] Trial 1 finished with value: 0.5799842395587076 and parameters: {'n_estimators': 44, 'learning_rate': 3.6905577292137615, 'max_depth': 5, 'subsample': 0.3840580773069519, 'lambda': 82, 'min_child_weight': 53}. Best is trial 0 with value: 0.5883372734436564.\n",
      "[I 2024-08-30 09:26:10,933] Trial 2 finished with value: 0.5 and parameters: {'n_estimators': 57, 'learning_rate': 5.039489598671213, 'max_depth': 1, 'subsample': 0.08804217040183916, 'lambda': 11, 'min_child_weight': 84}. Best is trial 0 with value: 0.5883372734436564.\n",
      "[I 2024-08-30 09:26:10,992] Trial 3 finished with value: 0.5639694820545884 and parameters: {'n_estimators': 78, 'learning_rate': 3.020289640158666, 'max_depth': 5, 'subsample': 0.7993594056525068, 'lambda': 51, 'min_child_weight': 79}. Best is trial 0 with value: 0.5883372734436564.\n",
      "[I 2024-08-30 09:26:11,023] Trial 4 finished with value: 0.6149831649831651 and parameters: {'n_estimators': 12, 'learning_rate': 0.3628140404024382, 'max_depth': 1, 'subsample': 0.9447242481325343, 'lambda': 57, 'min_child_weight': 42}. Best is trial 4 with value: 0.6149831649831651.\n",
      "[I 2024-08-30 09:26:11,071] Trial 5 finished with value: 0.5759904004584856 and parameters: {'n_estimators': 27, 'learning_rate': 1.250071223083626, 'max_depth': 3, 'subsample': 0.5688655149197799, 'lambda': 11, 'min_child_weight': 62}. Best is trial 4 with value: 0.6149831649831651.\n",
      "[I 2024-08-30 09:26:11,163] Trial 6 finished with value: 0.6149186904506053 and parameters: {'n_estimators': 62, 'learning_rate': 0.293586436439536, 'max_depth': 5, 'subsample': 0.6821384788043799, 'lambda': 42, 'min_child_weight': 44}. Best is trial 4 with value: 0.6149831649831651.\n",
      "[I 2024-08-30 09:26:11,310] Trial 7 finished with value: 0.6293287484776846 and parameters: {'n_estimators': 70, 'learning_rate': 0.0017414134181586202, 'max_depth': 4, 'subsample': 0.6709672317485412, 'lambda': 29, 'min_child_weight': 13}. Best is trial 7 with value: 0.6293287484776846.\n",
      "[I 2024-08-30 09:26:11,364] Trial 8 finished with value: 0.6153950856078516 and parameters: {'n_estimators': 32, 'learning_rate': 0.028499883436971588, 'max_depth': 3, 'subsample': 0.43916291194885804, 'lambda': 99, 'min_child_weight': 11}. Best is trial 7 with value: 0.6293287484776846.\n",
      "[I 2024-08-30 09:26:11,402] Trial 9 finished with value: 0.6195465291209973 and parameters: {'n_estimators': 21, 'learning_rate': 0.004418125737902547, 'max_depth': 4, 'subsample': 0.25403831093724233, 'lambda': 52, 'min_child_weight': 25}. Best is trial 7 with value: 0.6293287484776846.\n",
      "[I 2024-08-30 09:26:11,501] Trial 10 finished with value: 0.6211942116197435 and parameters: {'n_estimators': 95, 'learning_rate': 0.00124042486080364, 'max_depth': 2, 'subsample': 0.9297107146728025, 'lambda': 29, 'min_child_weight': 1}. Best is trial 7 with value: 0.6293287484776846.\n",
      "[I 2024-08-30 09:26:11,602] Trial 11 finished with value: 0.6097428182534566 and parameters: {'n_estimators': 95, 'learning_rate': 0.002115511791115893, 'max_depth': 2, 'subsample': 0.9939252984221902, 'lambda': 29, 'min_child_weight': 4}. Best is trial 7 with value: 0.6293287484776846.\n",
      "[I 2024-08-30 09:26:11,738] Trial 12 finished with value: 0.6226520524392865 and parameters: {'n_estimators': 100, 'learning_rate': 0.010766619090526954, 'max_depth': 2, 'subsample': 0.7776937323653906, 'lambda': 28, 'min_child_weight': 23}. Best is trial 7 with value: 0.6293287484776846.\n",
      "[I 2024-08-30 09:26:11,837] Trial 13 finished with value: 0.6239021419872484 and parameters: {'n_estimators': 76, 'learning_rate': 0.01495029676996625, 'max_depth': 2, 'subsample': 0.7324249113163739, 'lambda': 29, 'min_child_weight': 23}. Best is trial 7 with value: 0.6293287484776846.\n",
      "[I 2024-08-30 09:26:11,957] Trial 14 finished with value: 0.6218926857224729 and parameters: {'n_estimators': 76, 'learning_rate': 0.051431996716705335, 'max_depth': 4, 'subsample': 0.6754988615219212, 'lambda': 37, 'min_child_weight': 28}. Best is trial 7 with value: 0.6293287484776846.\n",
      "[I 2024-08-30 09:26:12,107] Trial 15 finished with value: 0.6259975642954366 and parameters: {'n_estimators': 76, 'learning_rate': 0.009030390547654418, 'max_depth': 3, 'subsample': 0.7878649073430012, 'lambda': 64, 'min_child_weight': 17}. Best is trial 7 with value: 0.6293287484776846.\n",
      "[I 2024-08-30 09:26:12,249] Trial 16 finished with value: 0.6289419012823269 and parameters: {'n_estimators': 68, 'learning_rate': 0.0043472418252162364, 'max_depth': 4, 'subsample': 0.8385044572221882, 'lambda': 67, 'min_child_weight': 13}. Best is trial 7 with value: 0.6293287484776846.\n",
      "[I 2024-08-30 09:26:12,361] Trial 17 finished with value: 0.630729278601619 and parameters: {'n_estimators': 67, 'learning_rate': 0.003566911995063783, 'max_depth': 4, 'subsample': 0.8554150956955766, 'lambda': 67, 'min_child_weight': 35}. Best is trial 17 with value: 0.630729278601619.\n",
      "[I 2024-08-30 09:26:12,444] Trial 18 finished with value: 0.62183895694534 and parameters: {'n_estimators': 44, 'learning_rate': 0.11594964309788239, 'max_depth': 4, 'subsample': 0.6490376373457, 'lambda': 80, 'min_child_weight': 39}. Best is trial 17 with value: 0.630729278601619.\n",
      "[I 2024-08-30 09:26:12,609] Trial 19 finished with value: 0.6293788953363422 and parameters: {'n_estimators': 86, 'learning_rate': 0.002021625801128274, 'max_depth': 5, 'subsample': 0.8752357322098825, 'lambda': 76, 'min_child_weight': 34}. Best is trial 17 with value: 0.630729278601619.\n",
      "[I 2024-08-30 09:26:12,756] Trial 20 finished with value: 0.629719177591518 and parameters: {'n_estimators': 86, 'learning_rate': 0.003696664769448616, 'max_depth': 5, 'subsample': 0.8971931420817256, 'lambda': 82, 'min_child_weight': 32}. Best is trial 17 with value: 0.630729278601619.\n",
      "[I 2024-08-30 09:26:12,860] Trial 21 finished with value: 0.6303710867540656 and parameters: {'n_estimators': 86, 'learning_rate': 0.004706032356844671, 'max_depth': 5, 'subsample': 0.8936739954248372, 'lambda': 80, 'min_child_weight': 32}. Best is trial 17 with value: 0.630729278601619.\n",
      "[I 2024-08-30 09:26:12,968] Trial 22 finished with value: 0.6356436707500538 and parameters: {'n_estimators': 86, 'learning_rate': 0.003664969867128364, 'max_depth': 5, 'subsample': 0.8912581668909273, 'lambda': 93, 'min_child_weight': 51}. Best is trial 22 with value: 0.6356436707500538.\n",
      "[I 2024-08-30 09:26:13,073] Trial 23 finished with value: 0.6204240991475034 and parameters: {'n_estimators': 84, 'learning_rate': 0.02352078950256941, 'max_depth': 5, 'subsample': 0.8644588213547026, 'lambda': 99, 'min_child_weight': 56}. Best is trial 22 with value: 0.6356436707500538.\n",
      "[I 2024-08-30 09:26:13,162] Trial 24 finished with value: 0.5838885306970413 and parameters: {'n_estimators': 65, 'learning_rate': 0.00623430416356895, 'max_depth': 5, 'subsample': 0.9915406759439127, 'lambda': 90, 'min_child_weight': 69}. Best is trial 22 with value: 0.6356436707500538.\n",
      "[I 2024-08-30 09:26:13,257] Trial 25 finished with value: 0.6313310409055091 and parameters: {'n_estimators': 91, 'learning_rate': 0.0010199200537677863, 'max_depth': 4, 'subsample': 0.8529934962703173, 'lambda': 72, 'min_child_weight': 48}. Best is trial 22 with value: 0.6356436707500538.\n",
      "[I 2024-08-30 09:26:13,499] Trial 26 finished with value: 0.5961351099648973 and parameters: {'n_estimators': 92, 'learning_rate': 0.001387596988256348, 'max_depth': 3, 'subsample': 0.7334597798466542, 'lambda': 71, 'min_child_weight': 96}. Best is trial 22 with value: 0.6356436707500538.\n",
      "[I 2024-08-30 09:26:13,742] Trial 27 finished with value: 0.6115588509205531 and parameters: {'n_estimators': 99, 'learning_rate': 0.001034355461016641, 'max_depth': 4, 'subsample': 0.6037593096441545, 'lambda': 90, 'min_child_weight': 48}. Best is trial 22 with value: 0.6356436707500538.\n",
      "[I 2024-08-30 09:26:13,836] Trial 28 finished with value: 0.6013682928576545 and parameters: {'n_estimators': 48, 'learning_rate': 0.06504218187416856, 'max_depth': 4, 'subsample': 0.4583030212285672, 'lambda': 60, 'min_child_weight': 57}. Best is trial 22 with value: 0.6356436707500538.\n",
      "[I 2024-08-30 09:26:13,903] Trial 29 finished with value: 0.5956909520739307 and parameters: {'n_estimators': 58, 'learning_rate': 0.002637560269218348, 'max_depth': 3, 'subsample': 0.5163323418924795, 'lambda': 89, 'min_child_weight': 67}. Best is trial 22 with value: 0.6356436707500538.\n",
      "[I 2024-08-30 09:26:14,020] Trial 30 finished with value: 0.6299806576402321 and parameters: {'n_estimators': 70, 'learning_rate': 0.017724665736129214, 'max_depth': 4, 'subsample': 0.8244054538728722, 'lambda': 71, 'min_child_weight': 47}. Best is trial 22 with value: 0.6356436707500538.\n",
      "[I 2024-08-30 09:26:14,249] Trial 31 finished with value: 0.6278995630059461 and parameters: {'n_estimators': 89, 'learning_rate': 0.007853901205982821, 'max_depth': 5, 'subsample': 0.9258968749652493, 'lambda': 75, 'min_child_weight': 36}. Best is trial 22 with value: 0.6356436707500538.\n",
      "[I 2024-08-30 09:26:14,358] Trial 32 finished with value: 0.6156494018196146 and parameters: {'n_estimators': 82, 'learning_rate': 0.0029783711298999233, 'max_depth': 5, 'subsample': 0.7419513388505403, 'lambda': 86, 'min_child_weight': 51}. Best is trial 22 with value: 0.6356436707500538.\n",
      "[I 2024-08-30 09:26:14,465] Trial 33 finished with value: 0.5929185471738663 and parameters: {'n_estimators': 91, 'learning_rate': 0.005564973762372642, 'max_depth': 5, 'subsample': 0.9965367122650673, 'lambda': 63, 'min_child_weight': 61}. Best is trial 22 with value: 0.6356436707500538.\n",
      "[I 2024-08-30 09:26:14,530] Trial 34 finished with value: 0.5 and parameters: {'n_estimators': 80, 'learning_rate': 0.001003918352801783, 'max_depth': 4, 'subsample': 0.3276479476514378, 'lambda': 95, 'min_child_weight': 74}. Best is trial 22 with value: 0.6356436707500538.\n",
      "[I 2024-08-30 09:26:14,634] Trial 35 finished with value: 0.6309549394655777 and parameters: {'n_estimators': 74, 'learning_rate': 0.0027688579969165398, 'max_depth': 5, 'subsample': 0.8614622808401026, 'lambda': 77, 'min_child_weight': 43}. Best is trial 22 with value: 0.6356436707500538.\n",
      "[I 2024-08-30 09:26:14,689] Trial 36 finished with value: 0.5 and parameters: {'n_estimators': 54, 'learning_rate': 0.00231127502515177, 'max_depth': 4, 'subsample': 0.06526869022200371, 'lambda': 70, 'min_child_weight': 42}. Best is trial 22 with value: 0.6356436707500538.\n",
      "[I 2024-08-30 09:26:14,807] Trial 37 finished with value: 0.6126584998925424 and parameters: {'n_estimators': 73, 'learning_rate': 0.010650199029979138, 'max_depth': 5, 'subsample': 0.8214966248426216, 'lambda': 76, 'min_child_weight': 52}. Best is trial 22 with value: 0.6356436707500538.\n",
      "[I 2024-08-30 09:26:14,969] Trial 38 finished with value: 0.6232573966616519 and parameters: {'n_estimators': 61, 'learning_rate': 0.03487503319523308, 'max_depth': 5, 'subsample': 0.942748878927299, 'lambda': 84, 'min_child_weight': 40}. Best is trial 22 with value: 0.6356436707500538.\n",
      "[I 2024-08-30 09:26:15,058] Trial 39 finished with value: 0.6137330754352031 and parameters: {'n_estimators': 66, 'learning_rate': 0.0018276004437232684, 'max_depth': 4, 'subsample': 0.7615737703026262, 'lambda': 59, 'min_child_weight': 57}. Best is trial 22 with value: 0.6356436707500538.\n",
      "[I 2024-08-30 09:26:15,137] Trial 40 finished with value: 0.5956837882369796 and parameters: {'n_estimators': 52, 'learning_rate': 1.4527300228110211, 'max_depth': 5, 'subsample': 0.6114893136251898, 'lambda': 48, 'min_child_weight': 47}. Best is trial 22 with value: 0.6356436707500538.\n",
      "[I 2024-08-30 09:26:15,259] Trial 41 finished with value: 0.627552116913819 and parameters: {'n_estimators': 79, 'learning_rate': 0.004017272987470588, 'max_depth': 5, 'subsample': 0.9032405740775971, 'lambda': 77, 'min_child_weight': 34}. Best is trial 22 with value: 0.6356436707500538.\n",
      "[I 2024-08-30 09:26:15,390] Trial 42 finished with value: 0.6300379683358406 and parameters: {'n_estimators': 83, 'learning_rate': 0.006575991591113081, 'max_depth': 5, 'subsample': 0.8498498045761778, 'lambda': 80, 'min_child_weight': 29}. Best is trial 22 with value: 0.6356436707500538.\n",
      "[I 2024-08-30 09:26:15,512] Trial 43 finished with value: 0.6279353821907013 and parameters: {'n_estimators': 88, 'learning_rate': 0.002844635789908836, 'max_depth': 5, 'subsample': 0.9576488957278727, 'lambda': 96, 'min_child_weight': 44}. Best is trial 22 with value: 0.6356436707500538.\n",
      "[I 2024-08-30 09:26:15,664] Trial 44 finished with value: 0.6283508847338635 and parameters: {'n_estimators': 96, 'learning_rate': 0.015359662617660003, 'max_depth': 4, 'subsample': 0.8796083207081576, 'lambda': 54, 'min_child_weight': 18}. Best is trial 22 with value: 0.6356436707500538.\n",
      "[I 2024-08-30 09:26:15,727] Trial 45 finished with value: 0.5 and parameters: {'n_estimators': 72, 'learning_rate': 0.0013677747329777616, 'max_depth': 5, 'subsample': 0.1650534204608068, 'lambda': 86, 'min_child_weight': 38}. Best is trial 22 with value: 0.6356436707500538.\n",
      "[I 2024-08-30 09:26:15,800] Trial 46 finished with value: 0.41124006017623044 and parameters: {'n_estimators': 91, 'learning_rate': 7.926798116385194, 'max_depth': 4, 'subsample': 0.703734753406512, 'lambda': 65, 'min_child_weight': 30}. Best is trial 22 with value: 0.6356436707500538.\n",
      "[I 2024-08-30 09:26:15,892] Trial 47 finished with value: 0.6218711942116197 and parameters: {'n_estimators': 61, 'learning_rate': 0.16591353949506987, 'max_depth': 3, 'subsample': 0.7940989990627925, 'lambda': 93, 'min_child_weight': 44}. Best is trial 22 with value: 0.6356436707500538.\n",
      "[I 2024-08-30 09:26:15,980] Trial 48 finished with value: 0.6118597320724981 and parameters: {'n_estimators': 74, 'learning_rate': 0.0016724561374468266, 'max_depth': 3, 'subsample': 0.9568319091409032, 'lambda': 72, 'min_child_weight': 62}. Best is trial 22 with value: 0.6356436707500538.\n",
      "[I 2024-08-30 09:26:16,126] Trial 49 finished with value: 0.6294254602765241 and parameters: {'n_estimators': 95, 'learning_rate': 0.004372466455921255, 'max_depth': 5, 'subsample': 0.8120250489543853, 'lambda': 67, 'min_child_weight': 25}. Best is trial 22 with value: 0.6356436707500538.\n",
      "[I 2024-08-30 09:26:16,229] Trial 50 finished with value: 0.6140017193208682 and parameters: {'n_estimators': 79, 'learning_rate': 0.011061452017745844, 'max_depth': 4, 'subsample': 0.9085331785926856, 'lambda': 79, 'min_child_weight': 55}. Best is trial 22 with value: 0.6356436707500538.\n",
      "[I 2024-08-30 09:26:16,626] Trial 51 finished with value: 0.6298982735152948 and parameters: {'n_estimators': 82, 'learning_rate': 0.0053824822460596, 'max_depth': 5, 'subsample': 0.848878226980085, 'lambda': 80, 'min_child_weight': 27}. Best is trial 22 with value: 0.6356436707500538.\n",
      "[I 2024-08-30 09:26:16,960] Trial 52 finished with value: 0.6247618024213769 and parameters: {'n_estimators': 83, 'learning_rate': 0.0031167929310088444, 'max_depth': 5, 'subsample': 0.7727605276291064, 'lambda': 84, 'min_child_weight': 21}. Best is trial 22 with value: 0.6356436707500538.\n",
      "[I 2024-08-30 09:26:17,324] Trial 53 finished with value: 0.6283007378752059 and parameters: {'n_estimators': 86, 'learning_rate': 0.007183917599337441, 'max_depth': 5, 'subsample': 0.8618691710422692, 'lambda': 75, 'min_child_weight': 31}. Best is trial 22 with value: 0.6356436707500538.\n",
      "[I 2024-08-30 09:26:17,401] Trial 54 finished with value: 0.6347840103159252 and parameters: {'n_estimators': 7, 'learning_rate': 0.0020257406116423833, 'max_depth': 5, 'subsample': 0.7059088182220827, 'lambda': 87, 'min_child_weight': 36}. Best is trial 22 with value: 0.6356436707500538.\n",
      "[I 2024-08-30 09:26:17,479] Trial 55 finished with value: 0.6320116054158607 and parameters: {'n_estimators': 9, 'learning_rate': 0.0016292479907308365, 'max_depth': 5, 'subsample': 0.6978652512584942, 'lambda': 92, 'min_child_weight': 36}. Best is trial 22 with value: 0.6356436707500538.\n",
      "[I 2024-08-30 09:26:17,573] Trial 56 finished with value: 0.6177842252310337 and parameters: {'n_estimators': 9, 'learning_rate': 0.0015557429738190319, 'max_depth': 5, 'subsample': 0.6339644726009875, 'lambda': 94, 'min_child_weight': 37}. Best is trial 22 with value: 0.6356436707500538.\n",
      "[I 2024-08-30 09:26:17,623] Trial 57 finished with value: 0.5895981087470449 and parameters: {'n_estimators': 3, 'learning_rate': 0.0024385749547193806, 'max_depth': 4, 'subsample': 0.6991947305363634, 'lambda': 99, 'min_child_weight': 49}. Best is trial 22 with value: 0.6356436707500538.\n",
      "[I 2024-08-30 09:26:17,695] Trial 58 finished with value: 0.6070527974783294 and parameters: {'n_estimators': 21, 'learning_rate': 0.001001424435450056, 'max_depth': 5, 'subsample': 0.5548259487985758, 'lambda': 88, 'min_child_weight': 42}. Best is trial 22 with value: 0.6356436707500538.\n",
      "[I 2024-08-30 09:26:17,735] Trial 59 finished with value: 0.5772763091912028 and parameters: {'n_estimators': 1, 'learning_rate': 0.0021165308092512785, 'max_depth': 1, 'subsample': 0.7107617260449203, 'lambda': 83, 'min_child_weight': 46}. Best is trial 22 with value: 0.6356436707500538.\n",
      "[I 2024-08-30 09:26:17,806] Trial 60 finished with value: 0.6338419657568592 and parameters: {'n_estimators': 35, 'learning_rate': 0.0033955390701610327, 'max_depth': 4, 'subsample': 0.7628098907064578, 'lambda': 91, 'min_child_weight': 40}. Best is trial 22 with value: 0.6356436707500538.\n",
      "[I 2024-08-30 09:26:17,868] Trial 61 finished with value: 0.6353284619242066 and parameters: {'n_estimators': 30, 'learning_rate': 0.0037012471263298324, 'max_depth': 4, 'subsample': 0.7483034081680464, 'lambda': 90, 'min_child_weight': 39}. Best is trial 22 with value: 0.6356436707500538.\n",
      "[I 2024-08-30 09:26:17,934] Trial 62 finished with value: 0.628447596532703 and parameters: {'n_estimators': 33, 'learning_rate': 0.0015215661617594691, 'max_depth': 4, 'subsample': 0.774826911881376, 'lambda': 92, 'min_child_weight': 41}. Best is trial 22 with value: 0.6356436707500538.\n",
      "[I 2024-08-30 09:26:18,006] Trial 63 finished with value: 0.6103947274160041 and parameters: {'n_estimators': 38, 'learning_rate': 0.003032198752884656, 'max_depth': 3, 'subsample': 0.6656537711139433, 'lambda': 97, 'min_child_weight': 52}. Best is trial 22 with value: 0.6356436707500538.\n",
      "[I 2024-08-30 09:26:18,056] Trial 64 finished with value: 0.6077297800702055 and parameters: {'n_estimators': 14, 'learning_rate': 0.0012859150913536678, 'max_depth': 4, 'subsample': 0.5807166132576168, 'lambda': 91, 'min_child_weight': 39}. Best is trial 22 with value: 0.6356436707500538.\n",
      "[I 2024-08-30 09:26:18,121] Trial 65 finished with value: 0.6293717314993912 and parameters: {'n_estimators': 22, 'learning_rate': 0.0020669140321054676, 'max_depth': 5, 'subsample': 0.7389869151875343, 'lambda': 86, 'min_child_weight': 35}. Best is trial 22 with value: 0.6356436707500538.\n",
      "[I 2024-08-30 09:26:18,217] Trial 66 finished with value: 0.6260298015617164 and parameters: {'n_estimators': 13, 'learning_rate': 0.0037381021598808977, 'max_depth': 4, 'subsample': 0.8019318269109843, 'lambda': 100, 'min_child_weight': 44}. Best is trial 22 with value: 0.6356436707500538.\n",
      "[I 2024-08-30 09:26:18,295] Trial 67 finished with value: 0.6282326814241708 and parameters: {'n_estimators': 26, 'learning_rate': 0.5334567106952443, 'max_depth': 5, 'subsample': 0.756071982680975, 'lambda': 88, 'min_child_weight': 60}. Best is trial 22 with value: 0.6356436707500538.\n",
      "[I 2024-08-30 09:26:18,349] Trial 68 finished with value: 0.6090586718246294 and parameters: {'n_estimators': 10, 'learning_rate': 0.010176270507312159, 'max_depth': 4, 'subsample': 0.651693902591482, 'lambda': 96, 'min_child_weight': 54}. Best is trial 22 with value: 0.6356436707500538.\n",
      "[I 2024-08-30 09:26:18,429] Trial 69 finished with value: 0.6151730066623684 and parameters: {'n_estimators': 41, 'learning_rate': 0.004781063860497792, 'max_depth': 3, 'subsample': 0.709373384985573, 'lambda': 93, 'min_child_weight': 50}. Best is trial 22 with value: 0.6356436707500538.\n",
      "[I 2024-08-30 09:26:18,480] Trial 70 finished with value: 0.6210222795329179 and parameters: {'n_estimators': 5, 'learning_rate': 0.0017449275908381027, 'max_depth': 4, 'subsample': 0.5022621917307797, 'lambda': 88, 'min_child_weight': 33}. Best is trial 22 with value: 0.6356436707500538.\n",
      "[I 2024-08-30 09:26:18,536] Trial 71 finished with value: 0.6278243427179597 and parameters: {'n_estimators': 19, 'learning_rate': 0.0034033572028479746, 'max_depth': 4, 'subsample': 0.8289926080815806, 'lambda': 82, 'min_child_weight': 38}. Best is trial 22 with value: 0.6356436707500538.\n",
      "[I 2024-08-30 09:26:18,621] Trial 72 finished with value: 0.6329536499749266 and parameters: {'n_estimators': 47, 'learning_rate': 0.002391026045407409, 'max_depth': 4, 'subsample': 0.8724592288312151, 'lambda': 68, 'min_child_weight': 46}. Best is trial 22 with value: 0.6356436707500538.\n",
      "[I 2024-08-30 09:26:18,687] Trial 73 finished with value: 0.6256966831434916 and parameters: {'n_estimators': 32, 'learning_rate': 0.002391146777156909, 'max_depth': 5, 'subsample': 0.9186123607784625, 'lambda': 74, 'min_child_weight': 48}. Best is trial 22 with value: 0.6356436707500538.\n",
      "[I 2024-08-30 09:26:18,758] Trial 74 finished with value: 0.6238054301884088 and parameters: {'n_estimators': 35, 'learning_rate': 0.0011404534713210235, 'max_depth': 4, 'subsample': 0.885213846341806, 'lambda': 91, 'min_child_weight': 44}. Best is trial 22 with value: 0.6356436707500538.\n",
      "[I 2024-08-30 09:26:18,834] Trial 75 finished with value: 0.6124758220502902 and parameters: {'n_estimators': 49, 'learning_rate': 0.006013273403806378, 'max_depth': 5, 'subsample': 0.8051703541745694, 'lambda': 78, 'min_child_weight': 58}. Best is trial 22 with value: 0.6356436707500538.\n",
      "[I 2024-08-30 09:26:18,902] Trial 76 finished with value: 0.6269181173436493 and parameters: {'n_estimators': 29, 'learning_rate': 0.00817061495328062, 'max_depth': 4, 'subsample': 0.9774829479785706, 'lambda': 86, 'min_child_weight': 41}. Best is trial 22 with value: 0.6356436707500538.\n",
      "[I 2024-08-30 09:26:18,988] Trial 77 finished with value: 0.6227774195859302 and parameters: {'n_estimators': 44, 'learning_rate': 0.0018481604600470004, 'max_depth': 5, 'subsample': 0.842208708511522, 'lambda': 97, 'min_child_weight': 46}. Best is trial 22 with value: 0.6356436707500538.\n",
      "[I 2024-08-30 09:26:19,049] Trial 78 finished with value: 0.6372053872053872 and parameters: {'n_estimators': 16, 'learning_rate': 0.002544171119966244, 'max_depth': 4, 'subsample': 0.6816681866113378, 'lambda': 90, 'min_child_weight': 36}. Best is trial 78 with value: 0.6372053872053872.\n",
      "[I 2024-08-30 09:26:19,128] Trial 79 finished with value: 0.6327064976001147 and parameters: {'n_estimators': 7, 'learning_rate': 0.001208606215183483, 'max_depth': 4, 'subsample': 0.6809138513542126, 'lambda': 90, 'min_child_weight': 35}. Best is trial 78 with value: 0.6372053872053872.\n",
      "[I 2024-08-30 09:26:19,184] Trial 80 finished with value: 0.6273515294791889 and parameters: {'n_estimators': 17, 'learning_rate': 0.0014586494327285561, 'max_depth': 4, 'subsample': 0.6321291985529334, 'lambda': 94, 'min_child_weight': 27}. Best is trial 78 with value: 0.6372053872053872.\n",
      "[I 2024-08-30 09:26:19,228] Trial 81 finished with value: 0.6221434200157605 and parameters: {'n_estimators': 7, 'learning_rate': 0.0011898484356467043, 'max_depth': 4, 'subsample': 0.6797711327498944, 'lambda': 16, 'min_child_weight': 36}. Best is trial 78 with value: 0.6372053872053872.\n",
      "[I 2024-08-30 09:26:19,281] Trial 82 finished with value: 0.6361917042768106 and parameters: {'n_estimators': 16, 'learning_rate': 0.002239101798687404, 'max_depth': 4, 'subsample': 0.729774295570889, 'lambda': 90, 'min_child_weight': 33}. Best is trial 78 with value: 0.6372053872053872.\n",
      "[I 2024-08-30 09:26:19,348] Trial 83 finished with value: 0.6297442510208469 and parameters: {'n_estimators': 17, 'learning_rate': 0.0038134948674233855, 'max_depth': 4, 'subsample': 0.7236977671087987, 'lambda': 89, 'min_child_weight': 32}. Best is trial 78 with value: 0.6372053872053872.\n",
      "[I 2024-08-30 09:26:19,401] Trial 84 finished with value: 0.6321799555842109 and parameters: {'n_estimators': 11, 'learning_rate': 0.002528890433268023, 'max_depth': 4, 'subsample': 0.5852398643186403, 'lambda': 92, 'min_child_weight': 24}. Best is trial 78 with value: 0.6372053872053872.\n",
      "[I 2024-08-30 09:26:19,461] Trial 85 finished with value: 0.6320402607636649 and parameters: {'n_estimators': 15, 'learning_rate': 0.002575092114683083, 'max_depth': 4, 'subsample': 0.5289501539952869, 'lambda': 41, 'min_child_weight': 23}. Best is trial 78 with value: 0.6372053872053872.\n",
      "[I 2024-08-30 09:26:19,589] Trial 86 finished with value: 0.6354860663371302 and parameters: {'n_estimators': 23, 'learning_rate': 0.002166423663385215, 'max_depth': 3, 'subsample': 0.6059089344143025, 'lambda': 97, 'min_child_weight': 29}. Best is trial 78 with value: 0.6372053872053872.\n",
      "[I 2024-08-30 09:26:19,645] Trial 87 finished with value: 0.6230783007378752 and parameters: {'n_estimators': 25, 'learning_rate': 0.0052328134442232, 'max_depth': 3, 'subsample': 0.6698777952568464, 'lambda': 98, 'min_child_weight': 29}. Best is trial 78 with value: 0.6372053872053872.\n",
      "[I 2024-08-30 09:26:19,696] Trial 88 finished with value: 0.634862812522387 and parameters: {'n_estimators': 24, 'learning_rate': 0.0021126031921190613, 'max_depth': 3, 'subsample': 0.6011387316145024, 'lambda': 95, 'min_child_weight': 33}. Best is trial 78 with value: 0.6372053872053872.\n",
      "[I 2024-08-30 09:26:19,752] Trial 89 finished with value: 0.6210509348807222 and parameters: {'n_estimators': 28, 'learning_rate': 0.004295210300180038, 'max_depth': 3, 'subsample': 0.47400989300884055, 'lambda': 100, 'min_child_weight': 17}. Best is trial 78 with value: 0.6372053872053872.\n",
      "[I 2024-08-30 09:26:19,802] Trial 90 finished with value: 0.6222293860591733 and parameters: {'n_estimators': 22, 'learning_rate': 0.0032881803316150474, 'max_depth': 3, 'subsample': 0.6093205739675774, 'lambda': 95, 'min_child_weight': 20}. Best is trial 78 with value: 0.6372053872053872.\n",
      "[I 2024-08-30 09:26:19,865] Trial 91 finished with value: 0.6310015044057597 and parameters: {'n_estimators': 24, 'learning_rate': 0.0021103018417703632, 'max_depth': 3, 'subsample': 0.6357815309795787, 'lambda': 85, 'min_child_weight': 33}. Best is trial 78 with value: 0.6372053872053872.\n",
      "[I 2024-08-30 09:26:19,931] Trial 92 finished with value: 0.6345440217780642 and parameters: {'n_estimators': 30, 'learning_rate': 0.0019789738501870394, 'max_depth': 3, 'subsample': 0.7281305329696749, 'lambda': 90, 'min_child_weight': 39}. Best is trial 78 with value: 0.6372053872053872.\n",
      "[I 2024-08-30 09:26:19,993] Trial 93 finished with value: 0.63471595386489 and parameters: {'n_estimators': 30, 'learning_rate': 0.002969428244777521, 'max_depth': 2, 'subsample': 0.7323411064298166, 'lambda': 95, 'min_child_weight': 38}. Best is trial 78 with value: 0.6372053872053872.\n",
      "[I 2024-08-30 09:26:20,054] Trial 94 finished with value: 0.6259975642954366 and parameters: {'n_estimators': 30, 'learning_rate': 0.003164837262082928, 'max_depth': 2, 'subsample': 0.7654550288353872, 'lambda': 94, 'min_child_weight': 27}. Best is trial 78 with value: 0.6372053872053872.\n",
      "[I 2024-08-30 09:26:20,119] Trial 95 finished with value: 0.634261050218497 and parameters: {'n_estimators': 35, 'learning_rate': 0.006791609858202756, 'max_depth': 2, 'subsample': 0.7525342825951522, 'lambda': 97, 'min_child_weight': 39}. Best is trial 78 with value: 0.6372053872053872.\n",
      "[I 2024-08-30 09:26:20,194] Trial 96 finished with value: 0.6325094920839601 and parameters: {'n_estimators': 38, 'learning_rate': 0.005939693565319984, 'max_depth': 2, 'subsample': 0.7418981162390796, 'lambda': 97, 'min_child_weight': 30}. Best is trial 78 with value: 0.6372053872053872.\n",
      "[I 2024-08-30 09:26:20,250] Trial 97 finished with value: 0.6149401819614585 and parameters: {'n_estimators': 19, 'learning_rate': 0.004592809087956479, 'max_depth': 2, 'subsample': 0.5557085815286801, 'lambda': 87, 'min_child_weight': 38}. Best is trial 78 with value: 0.6372053872053872.\n",
      "[I 2024-08-30 09:26:20,319] Trial 98 finished with value: 0.6106633713016691 and parameters: {'n_estimators': 24, 'learning_rate': 0.0020038874399221926, 'max_depth': 2, 'subsample': 0.4007905954423912, 'lambda': 95, 'min_child_weight': 33}. Best is trial 78 with value: 0.6372053872053872.\n",
      "[I 2024-08-30 09:26:20,429] Trial 99 finished with value: 0.6325345655132889 and parameters: {'n_estimators': 31, 'learning_rate': 0.0070503960631329255, 'max_depth': 2, 'subsample': 0.6476488665746528, 'lambda': 89, 'min_child_weight': 31}. Best is trial 78 with value: 0.6372053872053872.\n"
     ]
    }
   ],
   "source": [
    "x = X_train_rus\n",
    "y = y_train_rus.values.ravel()\n",
    "w = weights_rus\n",
    "\n",
    "def objective(trial):\n",
    "    params = {\n",
    "        \"seed\":0,\n",
    "        \"verbosity\": 0,\n",
    "        \"objective\": \"binary:logistic\",\n",
    "        \"n_estimators\": trial.suggest_int(\"n_estimators\", 1, 100),\n",
    "        \"learning_rate\": trial.suggest_float(\"learning_rate\", 1e-3, 10, log=True),\n",
    "        \"max_depth\": trial.suggest_int(\"max_depth\", 1, 5),\n",
    "        \"subsample\": trial.suggest_float(\"subsample\", 1e-3, 1),\n",
    "        \"lambda\": trial.suggest_int(\"lambda\", 10, 100),\n",
    "        \"min_child_weight\": trial.suggest_int(\"min_child_weight\", 1, 100)\n",
    "    }\n",
    "\n",
    "    model = xgb.XGBClassifier(**params)\n",
    "    model.fit(x, y, sample_weight=w, verbose=False)\n",
    "    predictions = model.predict(X_val)\n",
    "    predictions_prob = model.predict_proba(X_val)[:,1]\n",
    "    BA = balanced_accuracy_score(y_val, predictions)\n",
    "    AUC = roc_auc_score(y_val, predictions_prob)\n",
    "    return AUC\n",
    "\n",
    "#optuna.logging.set_verbosity(optuna.logging.WARNING)\n",
    "sampler = optuna.samplers.TPESampler(seed=0, consider_prior=True, prior_weight=0.5) \n",
    "study = optuna.create_study(direction='maximize',sampler=sampler)\n",
    "study.optimize(objective, n_trials=n_trials)"
   ]
  },
  {
   "cell_type": "code",
   "execution_count": 41,
   "id": "865a31ce-6116-431f-89f6-b6de805cc5c8",
   "metadata": {
    "tags": []
   },
   "outputs": [
    {
     "name": "stdout",
     "output_type": "stream",
     "text": [
      "Test AUC: 0.626\n",
      "Test Balanced Accuracy: 0.574\n",
      "Test F1: 0.237\n",
      "Test Precision: 0.151\n",
      "Test Recall: 0.56\n"
     ]
    }
   ],
   "source": [
    "best_xgb2 = xgb.XGBClassifier(objective='binary:logistic',verbosity=0, seed=0, **study.best_params)\n",
    "\n",
    "# original evaluation \n",
    "i = -1 # (will output as 0 since iteration = i+1)\n",
    "orig_XGB2 = pd.DataFrame(model_eval(model=best_xgb2, model_label='XGB', X_train=x, Y_train=y, X_test=X_test, Y_test=y_test, outcome_label=outcome, W=w, verbose=True))"
   ]
  },
  {
   "cell_type": "code",
   "execution_count": 42,
   "id": "d3e1c1aa-2aa0-4034-83a5-edc7bc58ae26",
   "metadata": {
    "tags": []
   },
   "outputs": [
    {
     "data": {
      "image/png": "[encoded data removed]",
      "text/plain": [
       "<Figure size 640x480 with 1 Axes>"
      ]
     },
     "metadata": {},
     "output_type": "display_data"
    }
   ],
   "source": [
    "gain = best_xgb2.get_booster().get_score(importance_type='gain')\n",
    "gain_sorted = dict(sorted(gain.items(), key=lambda x: x[1], reverse=False))\n",
    "\n",
    "features = list(gain_sorted.keys())\n",
    "values = list(gain_sorted.values())\n",
    "\n",
    "fig, ax = plt.subplots()\n",
    "ax.barh(features,values)\n",
    "plt.yticks(fontsize=5.5)\n",
    "ax.set_xlabel(\"Gain\")\n",
    "plt.savefig('EPDS XGB Feature Importance Reweigh.png',dpi=600, bbox_inches='tight')"
   ]
  },
  {
   "cell_type": "code",
   "execution_count": 43,
   "id": "a465a11c-6b1d-4793-b3c0-c93948c2c6e6",
   "metadata": {
    "tags": []
   },
   "outputs": [
    {
     "data": {
      "text/plain": [
       "['best_xgb_epds_reweigh_val.pkl']"
      ]
     },
     "execution_count": 43,
     "metadata": {},
     "output_type": "execute_result"
    }
   ],
   "source": [
    "joblib.dump(best_xgb2, 'best_xgb_epds_reweigh_val.pkl')"
   ]
  },
  {
   "cell_type": "markdown",
   "id": "05801c3f-dc88-4e80-b6c3-00dcce6cffa9",
   "metadata": {},
   "source": [
    "## Random Forest"
   ]
  },
  {
   "cell_type": "markdown",
   "id": "8ece2000-9b22-4aa5-be54-30f5146c7d94",
   "metadata": {},
   "source": [
    "### Finetune Random Forest without Reweighing"
   ]
  },
  {
   "cell_type": "code",
   "execution_count": 46,
   "id": "d0c1b873-e142-4eb2-b121-22b833fa4e01",
   "metadata": {
    "tags": []
   },
   "outputs": [
    {
     "name": "stderr",
     "output_type": "stream",
     "text": [
      "[I 2024-08-30 09:26:20,972] A new study created in memory with name: no-name-90b3c2af-b82d-4280-a7fd-ebde74a21bcf\n",
      "[I 2024-08-30 09:26:21,086] Trial 0 finished with value: 0.5 and parameters: {'ccp_alpha': 0.5488135039273248, 'min_samples_leaf': 36, 'min_samples_split': 31, 'n_estimators': 69, 'max_depth': 3}. Best is trial 0 with value: 0.5.\n",
      "[I 2024-08-30 09:26:21,192] Trial 1 finished with value: 0.5 and parameters: {'ccp_alpha': 0.6458941130666561, 'min_samples_leaf': 22, 'min_samples_split': 45, 'n_estimators': 121, 'max_depth': 2}. Best is trial 0 with value: 0.5.\n",
      "[I 2024-08-30 09:26:21,274] Trial 2 finished with value: 0.5 and parameters: {'ccp_alpha': 0.7917250380826646, 'min_samples_leaf': 27, 'min_samples_split': 29, 'n_estimators': 116, 'max_depth': 1}. Best is trial 0 with value: 0.5.\n",
      "[I 2024-08-30 09:26:21,374] Trial 3 finished with value: 0.5 and parameters: {'ccp_alpha': 0.08712929970154071, 'min_samples_leaf': 2, 'min_samples_split': 42, 'n_estimators': 98, 'max_depth': 5}. Best is trial 0 with value: 0.5.\n",
      "[I 2024-08-30 09:26:21,455] Trial 4 finished with value: 0.5 and parameters: {'ccp_alpha': 0.978618342232764, 'min_samples_leaf': 40, 'min_samples_split': 24, 'n_estimators': 98, 'max_depth': 1}. Best is trial 0 with value: 0.5.\n",
      "[I 2024-08-30 09:26:21,513] Trial 5 finished with value: 0.5 and parameters: {'ccp_alpha': 0.6399210213275238, 'min_samples_leaf': 8, 'min_samples_split': 48, 'n_estimators': 66, 'max_depth': 3}. Best is trial 0 with value: 0.5.\n",
      "[I 2024-08-30 09:26:21,566] Trial 6 finished with value: 0.5 and parameters: {'ccp_alpha': 0.26455561210462697, 'min_samples_leaf': 39, 'min_samples_split': 24, 'n_estimators': 72, 'max_depth': 1}. Best is trial 0 with value: 0.5.\n",
      "[I 2024-08-30 09:26:21,666] Trial 7 finished with value: 0.5 and parameters: {'ccp_alpha': 0.6176354970758771, 'min_samples_leaf': 31, 'min_samples_split': 32, 'n_estimators': 118, 'max_depth': 4}. Best is trial 0 with value: 0.5.\n",
      "[I 2024-08-30 09:26:21,679] Trial 8 finished with value: 0.5 and parameters: {'ccp_alpha': 0.359507900573786, 'min_samples_leaf': 22, 'min_samples_split': 36, 'n_estimators': 8, 'max_depth': 4}. Best is trial 0 with value: 0.5.\n",
      "[I 2024-08-30 09:26:21,712] Trial 9 finished with value: 0.5 and parameters: {'ccp_alpha': 0.6706378696181594, 'min_samples_leaf': 11, 'min_samples_split': 8, 'n_estimators': 40, 'max_depth': 2}. Best is trial 0 with value: 0.5.\n",
      "[I 2024-08-30 09:26:21,756] Trial 10 finished with value: 0.5 and parameters: {'ccp_alpha': 0.4291608227672343, 'min_samples_leaf': 49, 'min_samples_split': 14, 'n_estimators': 38, 'max_depth': 3}. Best is trial 0 with value: 0.5.\n",
      "[I 2024-08-30 09:26:21,826] Trial 11 finished with value: 0.5 and parameters: {'ccp_alpha': 0.8416453774068516, 'min_samples_leaf': 21, 'min_samples_split': 50, 'n_estimators': 82, 'max_depth': 2}. Best is trial 0 with value: 0.5.\n",
      "[I 2024-08-30 09:26:21,876] Trial 12 finished with value: 0.5 and parameters: {'ccp_alpha': 0.5276765291655268, 'min_samples_leaf': 34, 'min_samples_split': 39, 'n_estimators': 45, 'max_depth': 2}. Best is trial 0 with value: 0.5.\n",
      "[I 2024-08-30 09:26:21,960] Trial 13 finished with value: 0.5 and parameters: {'ccp_alpha': 0.7875812601427774, 'min_samples_leaf': 16, 'min_samples_split': 43, 'n_estimators': 95, 'max_depth': 3}. Best is trial 0 with value: 0.5.\n",
      "[I 2024-08-30 09:26:21,979] Trial 14 finished with value: 0.5 and parameters: {'ccp_alpha': 0.5154079355108665, 'min_samples_leaf': 48, 'min_samples_split': 14, 'n_estimators': 4, 'max_depth': 4}. Best is trial 0 with value: 0.5.\n",
      "[I 2024-08-30 09:26:22,075] Trial 15 finished with value: 0.5 and parameters: {'ccp_alpha': 0.2620817996415774, 'min_samples_leaf': 39, 'min_samples_split': 33, 'n_estimators': 122, 'max_depth': 2}. Best is trial 0 with value: 0.5.\n",
      "[I 2024-08-30 09:26:22,128] Trial 16 finished with value: 0.5 and parameters: {'ccp_alpha': 0.7054858014180838, 'min_samples_leaf': 31, 'min_samples_split': 20, 'n_estimators': 55, 'max_depth': 2}. Best is trial 0 with value: 0.5.\n",
      "[I 2024-08-30 09:26:22,162] Trial 17 finished with value: 0.5 and parameters: {'ccp_alpha': 0.910169935390345, 'min_samples_leaf': 24, 'min_samples_split': 46, 'n_estimators': 24, 'max_depth': 3}. Best is trial 0 with value: 0.5.\n",
      "[I 2024-08-30 09:26:22,242] Trial 18 finished with value: 0.5 and parameters: {'ccp_alpha': 0.41185958852573107, 'min_samples_leaf': 16, 'min_samples_split': 38, 'n_estimators': 83, 'max_depth': 5}. Best is trial 0 with value: 0.5.\n",
      "[I 2024-08-30 09:26:22,339] Trial 19 finished with value: 0.5 and parameters: {'ccp_alpha': 0.5386174730739506, 'min_samples_leaf': 42, 'min_samples_split': 2, 'n_estimators': 107, 'max_depth': 4}. Best is trial 0 with value: 0.5.\n",
      "[I 2024-08-30 09:26:22,413] Trial 20 finished with value: 0.5 and parameters: {'ccp_alpha': 0.29665229945407523, 'min_samples_leaf': 34, 'min_samples_split': 29, 'n_estimators': 81, 'max_depth': 2}. Best is trial 0 with value: 0.5.\n",
      "[I 2024-08-30 09:26:22,505] Trial 21 finished with value: 0.5 and parameters: {'ccp_alpha': 0.7843093050079512, 'min_samples_leaf': 28, 'min_samples_split': 29, 'n_estimators': 125, 'max_depth': 1}. Best is trial 0 with value: 0.5.\n",
      "[I 2024-08-30 09:26:22,589] Trial 22 finished with value: 0.5 and parameters: {'ccp_alpha': 0.7225529383075341, 'min_samples_leaf': 27, 'min_samples_split': 19, 'n_estimators': 111, 'max_depth': 1}. Best is trial 0 with value: 0.5.\n",
      "[I 2024-08-30 09:26:22,678] Trial 23 finished with value: 0.5 and parameters: {'ccp_alpha': 0.5991208627147394, 'min_samples_leaf': 19, 'min_samples_split': 35, 'n_estimators': 109, 'max_depth': 1}. Best is trial 0 with value: 0.5.\n",
      "[I 2024-08-30 09:26:22,760] Trial 24 finished with value: 0.5 and parameters: {'ccp_alpha': 0.8596659898336007, 'min_samples_leaf': 34, 'min_samples_split': 28, 'n_estimators': 89, 'max_depth': 3}. Best is trial 0 with value: 0.5.\n",
      "[I 2024-08-30 09:26:22,848] Trial 25 finished with value: 0.5 and parameters: {'ccp_alpha': 0.7512393361217212, 'min_samples_leaf': 25, 'min_samples_split': 43, 'n_estimators': 108, 'max_depth': 2}. Best is trial 0 with value: 0.5.\n",
      "[I 2024-08-30 09:26:22,936] Trial 26 finished with value: 0.5 and parameters: {'ccp_alpha': 0.6006920121753654, 'min_samples_leaf': 44, 'min_samples_split': 22, 'n_estimators': 116, 'max_depth': 1}. Best is trial 0 with value: 0.5.\n",
      "[I 2024-08-30 09:26:23,029] Trial 27 finished with value: 0.5 and parameters: {'ccp_alpha': 0.9043180231323308, 'min_samples_leaf': 30, 'min_samples_split': 32, 'n_estimators': 102, 'max_depth': 3}. Best is trial 0 with value: 0.5.\n",
      "[I 2024-08-30 09:26:23,082] Trial 28 finished with value: 0.5 and parameters: {'ccp_alpha': 0.4158952804243602, 'min_samples_leaf': 36, 'min_samples_split': 40, 'n_estimators': 55, 'max_depth': 2}. Best is trial 0 with value: 0.5.\n",
      "[I 2024-08-30 09:26:23,148] Trial 29 finished with value: 0.5 and parameters: {'ccp_alpha': 0.03317420278791372, 'min_samples_leaf': 1, 'min_samples_split': 45, 'n_estimators': 73, 'max_depth': 1}. Best is trial 0 with value: 0.5.\n",
      "[I 2024-08-30 09:26:23,225] Trial 30 finished with value: 0.5 and parameters: {'ccp_alpha': 0.46479712259018935, 'min_samples_leaf': 10, 'min_samples_split': 17, 'n_estimators': 92, 'max_depth': 2}. Best is trial 0 with value: 0.5.\n",
      "[I 2024-08-30 09:26:23,328] Trial 31 finished with value: 0.5 and parameters: {'ccp_alpha': 0.9999646148011744, 'min_samples_leaf': 2, 'min_samples_split': 41, 'n_estimators': 102, 'max_depth': 5}. Best is trial 0 with value: 0.5.\n",
      "[I 2024-08-30 09:26:23,439] Trial 32 finished with value: 0.5 and parameters: {'ccp_alpha': 0.14205536164080199, 'min_samples_leaf': 15, 'min_samples_split': 26, 'n_estimators': 116, 'max_depth': 5}. Best is trial 0 with value: 0.5.\n",
      "[I 2024-08-30 09:26:23,536] Trial 33 finished with value: 0.5 and parameters: {'ccp_alpha': 0.03665147244315172, 'min_samples_leaf': 6, 'min_samples_split': 49, 'n_estimators': 100, 'max_depth': 4}. Best is trial 0 with value: 0.5.\n",
      "[I 2024-08-30 09:26:23,601] Trial 34 finished with value: 0.5 and parameters: {'ccp_alpha': 0.6627305858960094, 'min_samples_leaf': 5, 'min_samples_split': 46, 'n_estimators': 67, 'max_depth': 3}. Best is trial 0 with value: 0.5.\n",
      "[I 2024-08-30 09:26:23,692] Trial 35 finished with value: 0.5 and parameters: {'ccp_alpha': 0.5723955571207735, 'min_samples_leaf': 45, 'min_samples_split': 35, 'n_estimators': 117, 'max_depth': 1}. Best is trial 0 with value: 0.5.\n",
      "[I 2024-08-30 09:26:23,802] Trial 36 finished with value: 0.5 and parameters: {'ccp_alpha': 0.6587908487393596, 'min_samples_leaf': 38, 'min_samples_split': 26, 'n_estimators': 124, 'max_depth': 4}. Best is trial 0 with value: 0.5.\n",
      "[I 2024-08-30 09:26:23,879] Trial 37 finished with value: 0.5 and parameters: {'ccp_alpha': 0.16902661038500882, 'min_samples_leaf': 13, 'min_samples_split': 37, 'n_estimators': 89, 'max_depth': 3}. Best is trial 0 with value: 0.5.\n",
      "[I 2024-08-30 09:26:23,947] Trial 38 finished with value: 0.5 and parameters: {'ccp_alpha': 0.3705569257671363, 'min_samples_leaf': 22, 'min_samples_split': 42, 'n_estimators': 77, 'max_depth': 2}. Best is trial 0 with value: 0.5.\n",
      "[I 2024-08-30 09:26:24,004] Trial 39 finished with value: 0.5 and parameters: {'ccp_alpha': 0.4815580442082045, 'min_samples_leaf': 20, 'min_samples_split': 32, 'n_estimators': 58, 'max_depth': 3}. Best is trial 0 with value: 0.5.\n",
      "[I 2024-08-30 09:26:24,103] Trial 40 finished with value: 0.5 and parameters: {'ccp_alpha': 0.8183096617023885, 'min_samples_leaf': 31, 'min_samples_split': 47, 'n_estimators': 112, 'max_depth': 4}. Best is trial 0 with value: 0.5.\n",
      "[I 2024-08-30 09:26:24,178] Trial 41 finished with value: 0.5 and parameters: {'ccp_alpha': 0.936255590643251, 'min_samples_leaf': 40, 'min_samples_split': 22, 'n_estimators': 96, 'max_depth': 1}. Best is trial 0 with value: 0.5.\n",
      "[I 2024-08-30 09:26:24,260] Trial 42 finished with value: 0.5 and parameters: {'ccp_alpha': 0.7114546558528956, 'min_samples_leaf': 46, 'min_samples_split': 25, 'n_estimators': 104, 'max_depth': 1}. Best is trial 0 with value: 0.5.\n",
      "[I 2024-08-30 09:26:24,339] Trial 43 finished with value: 0.5 and parameters: {'ccp_alpha': 0.9974702161606811, 'min_samples_leaf': 42, 'min_samples_split': 29, 'n_estimators': 97, 'max_depth': 1}. Best is trial 0 with value: 0.5.\n",
      "[I 2024-08-30 09:26:24,438] Trial 44 finished with value: 0.5 and parameters: {'ccp_alpha': 0.8667717286203733, 'min_samples_leaf': 37, 'min_samples_split': 34, 'n_estimators': 118, 'max_depth': 2}. Best is trial 0 with value: 0.5.\n",
      "[I 2024-08-30 09:26:24,484] Trial 45 finished with value: 0.5 and parameters: {'ccp_alpha': 0.6350939052394718, 'min_samples_leaf': 28, 'min_samples_split': 22, 'n_estimators': 47, 'max_depth': 1}. Best is trial 0 with value: 0.5.\n",
      "[I 2024-08-30 09:26:24,558] Trial 46 finished with value: 0.5 and parameters: {'ccp_alpha': 0.5573973494819656, 'min_samples_leaf': 41, 'min_samples_split': 31, 'n_estimators': 85, 'max_depth': 2}. Best is trial 0 with value: 0.5.\n",
      "[I 2024-08-30 09:26:24,626] Trial 47 finished with value: 0.5 and parameters: {'ccp_alpha': 0.7689629529596158, 'min_samples_leaf': 18, 'min_samples_split': 50, 'n_estimators': 63, 'max_depth': 5}. Best is trial 0 with value: 0.5.\n",
      "[I 2024-08-30 09:26:24,660] Trial 48 finished with value: 0.5 and parameters: {'ccp_alpha': 0.957584596801221, 'min_samples_leaf': 35, 'min_samples_split': 14, 'n_estimators': 26, 'max_depth': 2}. Best is trial 0 with value: 0.5.\n",
      "[I 2024-08-30 09:26:24,769] Trial 49 finished with value: 0.5 and parameters: {'ccp_alpha': 0.8249328089388379, 'min_samples_leaf': 24, 'min_samples_split': 43, 'n_estimators': 121, 'max_depth': 4}. Best is trial 0 with value: 0.5.\n",
      "[I 2024-08-30 09:26:24,855] Trial 50 finished with value: 0.5 and parameters: {'ccp_alpha': 0.7009375680763825, 'min_samples_leaf': 32, 'min_samples_split': 39, 'n_estimators': 113, 'max_depth': 1}. Best is trial 0 with value: 0.5.\n",
      "[I 2024-08-30 09:26:24,920] Trial 51 finished with value: 0.5 and parameters: {'ccp_alpha': 0.5119489520691227, 'min_samples_leaf': 8, 'min_samples_split': 48, 'n_estimators': 65, 'max_depth': 3}. Best is trial 0 with value: 0.5.\n",
      "[I 2024-08-30 09:26:24,986] Trial 52 finished with value: 0.5 and parameters: {'ccp_alpha': 0.6056181812911974, 'min_samples_leaf': 4, 'min_samples_split': 45, 'n_estimators': 69, 'max_depth': 3}. Best is trial 0 with value: 0.5.\n",
      "[I 2024-08-30 09:26:25,057] Trial 53 finished with value: 0.5 and parameters: {'ccp_alpha': 0.45340361189582606, 'min_samples_leaf': 50, 'min_samples_split': 44, 'n_estimators': 75, 'max_depth': 3}. Best is trial 0 with value: 0.5.\n",
      "[I 2024-08-30 09:26:25,124] Trial 54 finished with value: 0.5 and parameters: {'ccp_alpha': 0.7520014805052321, 'min_samples_leaf': 11, 'min_samples_split': 28, 'n_estimators': 78, 'max_depth': 2}. Best is trial 0 with value: 0.5.\n",
      "[I 2024-08-30 09:26:25,176] Trial 55 finished with value: 0.5 and parameters: {'ccp_alpha': 0.31297824058977647, 'min_samples_leaf': 8, 'min_samples_split': 37, 'n_estimators': 50, 'max_depth': 3}. Best is trial 0 with value: 0.5.\n",
      "[I 2024-08-30 09:26:25,224] Trial 56 finished with value: 0.5 and parameters: {'ccp_alpha': 0.6313493678944605, 'min_samples_leaf': 3, 'min_samples_split': 18, 'n_estimators': 37, 'max_depth': 4}. Best is trial 0 with value: 0.5.\n",
      "[I 2024-08-30 09:26:25,314] Trial 57 finished with value: 0.5 and parameters: {'ccp_alpha': 0.568859118713139, 'min_samples_leaf': 22, 'min_samples_split': 24, 'n_estimators': 106, 'max_depth': 2}. Best is trial 0 with value: 0.5.\n",
      "[I 2024-08-30 09:26:25,385] Trial 58 finished with value: 0.5 and parameters: {'ccp_alpha': 0.6811025469913257, 'min_samples_leaf': 47, 'min_samples_split': 47, 'n_estimators': 85, 'max_depth': 1}. Best is trial 0 with value: 0.5.\n",
      "[I 2024-08-30 09:26:25,459] Trial 59 finished with value: 0.5 and parameters: {'ccp_alpha': 0.87843723129706, 'min_samples_leaf': 43, 'min_samples_split': 41, 'n_estimators': 91, 'max_depth': 2}. Best is trial 0 with value: 0.5.\n",
      "[I 2024-08-30 09:26:25,517] Trial 60 finished with value: 0.5 and parameters: {'ccp_alpha': 0.8145729492997401, 'min_samples_leaf': 33, 'min_samples_split': 31, 'n_estimators': 58, 'max_depth': 3}. Best is trial 0 with value: 0.5.\n",
      "[I 2024-08-30 09:26:25,577] Trial 61 finished with value: 0.5 and parameters: {'ccp_alpha': 0.1944826570087842, 'min_samples_leaf': 38, 'min_samples_split': 10, 'n_estimators': 69, 'max_depth': 1}. Best is trial 0 with value: 0.5.\n",
      "[I 2024-08-30 09:26:25,639] Trial 62 finished with value: 0.5 and parameters: {'ccp_alpha': 0.07499855862503607, 'min_samples_leaf': 29, 'min_samples_split': 24, 'n_estimators': 72, 'max_depth': 1}. Best is trial 0 with value: 0.5.\n",
      "[I 2024-08-30 09:26:25,705] Trial 63 finished with value: 0.5 and parameters: {'ccp_alpha': 0.23045426827400364, 'min_samples_leaf': 26, 'min_samples_split': 20, 'n_estimators': 80, 'max_depth': 1}. Best is trial 0 with value: 0.5.\n",
      "[I 2024-08-30 09:26:25,763] Trial 64 finished with value: 0.5 and parameters: {'ccp_alpha': 0.11109446862383279, 'min_samples_leaf': 35, 'min_samples_split': 16, 'n_estimators': 62, 'max_depth': 1}. Best is trial 0 with value: 0.5.\n",
      "[I 2024-08-30 09:26:25,841] Trial 65 finished with value: 0.5 and parameters: {'ccp_alpha': 0.5125016607678057, 'min_samples_leaf': 40, 'min_samples_split': 28, 'n_estimators': 98, 'max_depth': 1}. Best is trial 0 with value: 0.5.\n",
      "[I 2024-08-30 09:26:25,961] Trial 66 finished with value: 0.5 and parameters: {'ccp_alpha': 0.7363061717396604, 'min_samples_leaf': 7, 'min_samples_split': 21, 'n_estimators': 125, 'max_depth': 4}. Best is trial 0 with value: 0.5.\n",
      "[I 2024-08-30 09:26:26,057] Trial 67 finished with value: 0.5 and parameters: {'ccp_alpha': 0.3301491286052561, 'min_samples_leaf': 10, 'min_samples_split': 49, 'n_estimators': 121, 'max_depth': 2}. Best is trial 0 with value: 0.5.\n",
      "[I 2024-08-30 09:26:26,152] Trial 68 finished with value: 0.5 and parameters: {'ccp_alpha': 0.27671119462733196, 'min_samples_leaf': 14, 'min_samples_split': 26, 'n_estimators': 110, 'max_depth': 3}. Best is trial 0 with value: 0.5.\n",
      "[I 2024-08-30 09:26:26,239] Trial 69 finished with value: 0.5 and parameters: {'ccp_alpha': 0.3873475775572396, 'min_samples_leaf': 1, 'min_samples_split': 30, 'n_estimators': 114, 'max_depth': 1}. Best is trial 0 with value: 0.5.\n",
      "[I 2024-08-30 09:26:26,333] Trial 70 finished with value: 0.5 and parameters: {'ccp_alpha': 0.2365592250187795, 'min_samples_leaf': 17, 'min_samples_split': 33, 'n_estimators': 94, 'max_depth': 5}. Best is trial 0 with value: 0.5.\n",
      "[I 2024-08-30 09:26:26,445] Trial 71 finished with value: 0.5 and parameters: {'ccp_alpha': 0.5408395134735134, 'min_samples_leaf': 31, 'min_samples_split': 24, 'n_estimators': 121, 'max_depth': 5}. Best is trial 0 with value: 0.5.\n",
      "[I 2024-08-30 09:26:26,544] Trial 72 finished with value: 0.5 and parameters: {'ccp_alpha': 0.6237909649656345, 'min_samples_leaf': 36, 'min_samples_split': 27, 'n_estimators': 105, 'max_depth': 4}. Best is trial 0 with value: 0.5.\n",
      "[I 2024-08-30 09:26:26,646] Trial 73 finished with value: 0.5986102156314923 and parameters: {'ccp_alpha': 0.012589408778341471, 'min_samples_leaf': 25, 'min_samples_split': 38, 'n_estimators': 108, 'max_depth': 4}. Best is trial 73 with value: 0.5986102156314923.\n",
      "[I 2024-08-30 09:26:26,741] Trial 74 finished with value: 0.5 and parameters: {'ccp_alpha': 0.06317005620309166, 'min_samples_leaf': 24, 'min_samples_split': 40, 'n_estimators': 100, 'max_depth': 5}. Best is trial 73 with value: 0.5986102156314923.\n",
      "[I 2024-08-30 09:26:26,840] Trial 75 finished with value: 0.5 and parameters: {'ccp_alpha': 0.10567022698617834, 'min_samples_leaf': 26, 'min_samples_split': 36, 'n_estimators': 110, 'max_depth': 4}. Best is trial 73 with value: 0.5986102156314923.\n",
      "[I 2024-08-30 09:26:26,921] Trial 76 finished with value: 0.5 and parameters: {'ccp_alpha': 0.02945665383548171, 'min_samples_leaf': 29, 'min_samples_split': 44, 'n_estimators': 87, 'max_depth': 3}. Best is trial 73 with value: 0.5986102156314923.\n",
      "[I 2024-08-30 09:26:27,009] Trial 77 finished with value: 0.5 and parameters: {'ccp_alpha': 0.05899521463210727, 'min_samples_leaf': 38, 'min_samples_split': 46, 'n_estimators': 117, 'max_depth': 1}. Best is trial 73 with value: 0.5986102156314923.\n",
      "[I 2024-08-30 09:26:27,113] Trial 78 finished with value: 0.5915215989684074 and parameters: {'ccp_alpha': 0.013445280588624431, 'min_samples_leaf': 21, 'min_samples_split': 39, 'n_estimators': 108, 'max_depth': 5}. Best is trial 73 with value: 0.5986102156314923.\n",
      "[I 2024-08-30 09:26:27,213] Trial 79 finished with value: 0.6116806361487213 and parameters: {'ccp_alpha': 0.008444130435736507, 'min_samples_leaf': 20, 'min_samples_split': 41, 'n_estimators': 103, 'max_depth': 5}. Best is trial 79 with value: 0.6116806361487213.\n",
      "[I 2024-08-30 09:26:27,316] Trial 80 finished with value: 0.6124185113546816 and parameters: {'ccp_alpha': 0.00845776248191155, 'min_samples_leaf': 20, 'min_samples_split': 39, 'n_estimators': 101, 'max_depth': 5}. Best is trial 80 with value: 0.6124185113546816.\n",
      "[I 2024-08-30 09:26:27,419] Trial 81 finished with value: 0.6325309835948134 and parameters: {'ccp_alpha': 0.00013673245779271398, 'min_samples_leaf': 20, 'min_samples_split': 38, 'n_estimators': 102, 'max_depth': 5}. Best is trial 81 with value: 0.6325309835948134.\n",
      "[I 2024-08-30 09:26:27,523] Trial 82 finished with value: 0.6335769037896698 and parameters: {'ccp_alpha': 0.00038408186515412974, 'min_samples_leaf': 21, 'min_samples_split': 38, 'n_estimators': 102, 'max_depth': 5}. Best is trial 82 with value: 0.6335769037896698.\n",
      "[I 2024-08-30 09:26:27,621] Trial 83 finished with value: 0.5788272798911097 and parameters: {'ccp_alpha': 0.01602452517245291, 'min_samples_leaf': 20, 'min_samples_split': 39, 'n_estimators': 101, 'max_depth': 5}. Best is trial 82 with value: 0.6335769037896698.\n",
      "[I 2024-08-30 09:26:27,724] Trial 84 finished with value: 0.6269324450175514 and parameters: {'ccp_alpha': 0.0037888146628604663, 'min_samples_leaf': 20, 'min_samples_split': 38, 'n_estimators': 103, 'max_depth': 5}. Best is trial 82 with value: 0.6335769037896698.\n",
      "[I 2024-08-30 09:26:27,825] Trial 85 finished with value: 0.632595458127373 and parameters: {'ccp_alpha': 0.0024049563227915138, 'min_samples_leaf': 20, 'min_samples_split': 38, 'n_estimators': 102, 'max_depth': 5}. Best is trial 82 with value: 0.6335769037896698.\n",
      "[I 2024-08-30 09:26:27,933] Trial 86 finished with value: 0.6338204742460062 and parameters: {'ccp_alpha': 0.001501114217144204, 'min_samples_leaf': 21, 'min_samples_split': 38, 'n_estimators': 102, 'max_depth': 5}. Best is trial 86 with value: 0.6338204742460062.\n",
      "[I 2024-08-30 09:26:28,037] Trial 87 finished with value: 0.6345010387563579 and parameters: {'ccp_alpha': 0.0021110154411815314, 'min_samples_leaf': 19, 'min_samples_split': 38, 'n_estimators': 103, 'max_depth': 5}. Best is trial 87 with value: 0.6345010387563579.\n",
      "[I 2024-08-30 09:26:28,132] Trial 88 finished with value: 0.6353821907013396 and parameters: {'ccp_alpha': 0.0021480443323094018, 'min_samples_leaf': 18, 'min_samples_split': 37, 'n_estimators': 94, 'max_depth': 5}. Best is trial 88 with value: 0.6353821907013396.\n",
      "[I 2024-08-30 09:26:28,221] Trial 89 finished with value: 0.5 and parameters: {'ccp_alpha': 0.1033888438499126, 'min_samples_leaf': 18, 'min_samples_split': 35, 'n_estimators': 92, 'max_depth': 5}. Best is trial 88 with value: 0.6353821907013396.\n",
      "[I 2024-08-30 09:26:28,325] Trial 90 finished with value: 0.6342288129522171 and parameters: {'ccp_alpha': 0.0017379825182596044, 'min_samples_leaf': 16, 'min_samples_split': 41, 'n_estimators': 103, 'max_depth': 5}. Best is trial 88 with value: 0.6353821907013396.\n",
      "[I 2024-08-30 09:26:28,430] Trial 91 finished with value: 0.635511139766459 and parameters: {'ccp_alpha': 0.00013781982320408039, 'min_samples_leaf': 16, 'min_samples_split': 41, 'n_estimators': 104, 'max_depth': 5}. Best is trial 91 with value: 0.635511139766459.\n",
      "[I 2024-08-30 09:26:28,528] Trial 92 finished with value: 0.5 and parameters: {'ccp_alpha': 0.04264753105015372, 'min_samples_leaf': 16, 'min_samples_split': 37, 'n_estimators': 98, 'max_depth': 5}. Best is trial 91 with value: 0.635511139766459.\n",
      "[I 2024-08-30 09:26:28,620] Trial 93 finished with value: 0.5 and parameters: {'ccp_alpha': 0.04931584224070231, 'min_samples_leaf': 19, 'min_samples_split': 42, 'n_estimators': 94, 'max_depth': 5}. Best is trial 91 with value: 0.635511139766459.\n",
      "[I 2024-08-30 09:26:28,719] Trial 94 finished with value: 0.5 and parameters: {'ccp_alpha': 0.08415027800087396, 'min_samples_leaf': 23, 'min_samples_split': 36, 'n_estimators': 103, 'max_depth': 5}. Best is trial 91 with value: 0.635511139766459.\n",
      "[I 2024-08-30 09:26:28,826] Trial 95 finished with value: 0.6336342144852783 and parameters: {'ccp_alpha': 0.0014986561994308153, 'min_samples_leaf': 17, 'min_samples_split': 38, 'n_estimators': 105, 'max_depth': 5}. Best is trial 91 with value: 0.635511139766459.\n",
      "[I 2024-08-30 09:26:28,929] Trial 96 finished with value: 0.5 and parameters: {'ccp_alpha': 0.1389799562860731, 'min_samples_leaf': 13, 'min_samples_split': 38, 'n_estimators': 105, 'max_depth': 5}. Best is trial 91 with value: 0.635511139766459.\n",
      "[I 2024-08-30 09:26:29,037] Trial 97 finished with value: 0.5 and parameters: {'ccp_alpha': 0.1304275450053408, 'min_samples_leaf': 17, 'min_samples_split': 40, 'n_estimators': 114, 'max_depth': 5}. Best is trial 91 with value: 0.635511139766459.\n",
      "[I 2024-08-30 09:26:29,135] Trial 98 finished with value: 0.6357475463858442 and parameters: {'ccp_alpha': 0.0017279083847440673, 'min_samples_leaf': 14, 'min_samples_split': 34, 'n_estimators': 96, 'max_depth': 5}. Best is trial 98 with value: 0.6357475463858442.\n",
      "[I 2024-08-30 09:26:29,233] Trial 99 finished with value: 0.5 and parameters: {'ccp_alpha': 0.033324222640944846, 'min_samples_leaf': 15, 'min_samples_split': 34, 'n_estimators': 98, 'max_depth': 5}. Best is trial 98 with value: 0.6357475463858442.\n"
     ]
    }
   ],
   "source": [
    "x = X_train_rus\n",
    "y = y_train_rus.values.ravel()\n",
    "\n",
    "def objective(trial):\n",
    "    params = {'random_state':0,\n",
    "             'max_features':'sqrt',\n",
    "             'ccp_alpha': trial.suggest_float(\"ccp_alpha\", 0, 1),\n",
    "             'min_samples_leaf': trial.suggest_int('min_samples_leaf', 1, 50),\n",
    "             'min_samples_split': trial.suggest_int('min_samples_split', 2, 50),\n",
    "             'n_estimators': trial.suggest_int('n_estimators', 1, 125),\n",
    "             'max_depth': trial.suggest_int('max_depth', 1, 5)\n",
    "             }\n",
    "    model = RandomForestClassifier(**params)\n",
    "    model.fit(x, y)\n",
    "    predictions = model.predict(X_val)\n",
    "    predictions_prob = model.predict_proba(X_val)[:,1]\n",
    "    BA = balanced_accuracy_score(y_val, predictions)\n",
    "    AUC = roc_auc_score(y_val, predictions_prob)\n",
    "    return AUC\n",
    "\n",
    "sampler = optuna.samplers.TPESampler(seed=0, consider_prior=True, prior_weight=0.5) \n",
    "study = optuna.create_study(direction='maximize',sampler=sampler)\n",
    "study.optimize(objective, n_trials=n_trials)"
   ]
  },
  {
   "cell_type": "code",
   "execution_count": 47,
   "id": "ce8bcbd9-7a7b-422b-91aa-1942f06f67cc",
   "metadata": {
    "tags": []
   },
   "outputs": [
    {
     "name": "stdout",
     "output_type": "stream",
     "text": [
      "Test AUC: 0.633\n",
      "Test Balanced Accuracy: 0.601\n",
      "Test F1: 0.257\n",
      "Test Precision: 0.161\n",
      "Test Recall: 0.63\n"
     ]
    }
   ],
   "source": [
    "best_rf = RandomForestClassifier(random_state=0,max_features='sqrt',**study.best_params)\n",
    "\n",
    "# original evaluation \n",
    "i = -1 # (will output as 0 since iteration = i+1)\n",
    "orig_RF = pd.DataFrame(model_eval(model=best_rf, model_label='RF', X_train=x, Y_train=y, X_test=X_test, Y_test=y_test, outcome_label=outcome, verbose=True))"
   ]
  },
  {
   "cell_type": "code",
   "execution_count": 48,
   "id": "5857b780-ebdf-405b-b6b0-193e6d60ee13",
   "metadata": {
    "tags": []
   },
   "outputs": [
    {
     "data": {
      "image/png": "[encoded data removed]",
      "text/plain": [
       "<Figure size 640x480 with 1 Axes>"
      ]
     },
     "metadata": {},
     "output_type": "display_data"
    }
   ],
   "source": [
    "from sklearn.inspection import permutation_importance\n",
    "imp_result = permutation_importance(\n",
    "    best_rf, X_test, y_test, n_repeats=10, random_state=2024, n_jobs=2\n",
    ")\n",
    "\n",
    "importance_mean = imp_result.importances_mean\n",
    "importance_sd = imp_result.importances_std\n",
    "\n",
    "ind = np.argpartition(importance_mean, -10)[-10:]\n",
    "top_feat = X_test.columns[ind]\n",
    "top_vals = importance_mean[ind]\n",
    "top_std = importance_sd[ind]\n",
    "\n",
    "fig, ax = plt.subplots()\n",
    "ax.barh(top_feat,top_vals,xerr=top_std)\n",
    "ax.set_xlabel(\"Mean accuracy decrease\")\n",
    "plt.savefig('EPDS RF Feature Importance (val).png',dpi=600, bbox_inches='tight')"
   ]
  },
  {
   "cell_type": "code",
   "execution_count": 49,
   "id": "c1827b0c-58af-4582-8b92-112cf6b5151b",
   "metadata": {
    "tags": []
   },
   "outputs": [
    {
     "data": {
      "text/plain": [
       "['best_rf_epds_no_reweigh_val.pkl']"
      ]
     },
     "execution_count": 49,
     "metadata": {},
     "output_type": "execute_result"
    }
   ],
   "source": [
    "joblib.dump(best_rf, 'best_rf_epds_no_reweigh_val.pkl')"
   ]
  },
  {
   "cell_type": "markdown",
   "id": "632da262-e2de-44fa-8c05-9dd292f87f2f",
   "metadata": {},
   "source": [
    "### Finetune Random Forest with Reweighing"
   ]
  },
  {
   "cell_type": "code",
   "execution_count": 51,
   "id": "e9e54b26-8ee9-4208-bf7e-1c534619841e",
   "metadata": {
    "tags": []
   },
   "outputs": [
    {
     "name": "stderr",
     "output_type": "stream",
     "text": [
      "[I 2024-08-30 09:26:32,675] A new study created in memory with name: no-name-907e6948-f38d-4356-a66a-0f9741cabb13\n",
      "[I 2024-08-30 09:26:32,758] Trial 0 finished with value: 0.5 and parameters: {'ccp_alpha': 0.5488135039273248, 'min_samples_leaf': 36, 'min_samples_split': 31, 'n_estimators': 69, 'max_depth': 3}. Best is trial 0 with value: 0.5.\n",
      "[I 2024-08-30 09:26:32,943] Trial 1 finished with value: 0.5 and parameters: {'ccp_alpha': 0.6458941130666561, 'min_samples_leaf': 22, 'min_samples_split': 45, 'n_estimators': 121, 'max_depth': 2}. Best is trial 0 with value: 0.5.\n",
      "[I 2024-08-30 09:26:33,026] Trial 2 finished with value: 0.5 and parameters: {'ccp_alpha': 0.7917250380826646, 'min_samples_leaf': 27, 'min_samples_split': 29, 'n_estimators': 116, 'max_depth': 1}. Best is trial 0 with value: 0.5.\n",
      "[I 2024-08-30 09:26:33,115] Trial 3 finished with value: 0.5 and parameters: {'ccp_alpha': 0.08712929970154071, 'min_samples_leaf': 2, 'min_samples_split': 42, 'n_estimators': 98, 'max_depth': 5}. Best is trial 0 with value: 0.5.\n",
      "[I 2024-08-30 09:26:33,190] Trial 4 finished with value: 0.5 and parameters: {'ccp_alpha': 0.978618342232764, 'min_samples_leaf': 40, 'min_samples_split': 24, 'n_estimators': 98, 'max_depth': 1}. Best is trial 0 with value: 0.5.\n",
      "[I 2024-08-30 09:26:33,247] Trial 5 finished with value: 0.5 and parameters: {'ccp_alpha': 0.6399210213275238, 'min_samples_leaf': 8, 'min_samples_split': 48, 'n_estimators': 66, 'max_depth': 3}. Best is trial 0 with value: 0.5.\n",
      "[I 2024-08-30 09:26:33,295] Trial 6 finished with value: 0.5 and parameters: {'ccp_alpha': 0.26455561210462697, 'min_samples_leaf': 39, 'min_samples_split': 24, 'n_estimators': 72, 'max_depth': 1}. Best is trial 0 with value: 0.5.\n",
      "[I 2024-08-30 09:26:33,410] Trial 7 finished with value: 0.5 and parameters: {'ccp_alpha': 0.6176354970758771, 'min_samples_leaf': 31, 'min_samples_split': 32, 'n_estimators': 118, 'max_depth': 4}. Best is trial 0 with value: 0.5.\n",
      "[I 2024-08-30 09:26:33,426] Trial 8 finished with value: 0.5 and parameters: {'ccp_alpha': 0.359507900573786, 'min_samples_leaf': 22, 'min_samples_split': 36, 'n_estimators': 8, 'max_depth': 4}. Best is trial 0 with value: 0.5.\n",
      "[I 2024-08-30 09:26:33,467] Trial 9 finished with value: 0.5 and parameters: {'ccp_alpha': 0.6706378696181594, 'min_samples_leaf': 11, 'min_samples_split': 8, 'n_estimators': 40, 'max_depth': 2}. Best is trial 0 with value: 0.5.\n",
      "[I 2024-08-30 09:26:33,519] Trial 10 finished with value: 0.5 and parameters: {'ccp_alpha': 0.4291608227672343, 'min_samples_leaf': 49, 'min_samples_split': 14, 'n_estimators': 38, 'max_depth': 3}. Best is trial 0 with value: 0.5.\n",
      "[I 2024-08-30 09:26:33,598] Trial 11 finished with value: 0.5 and parameters: {'ccp_alpha': 0.8416453774068516, 'min_samples_leaf': 21, 'min_samples_split': 50, 'n_estimators': 82, 'max_depth': 2}. Best is trial 0 with value: 0.5.\n",
      "[I 2024-08-30 09:26:33,648] Trial 12 finished with value: 0.5 and parameters: {'ccp_alpha': 0.5276765291655268, 'min_samples_leaf': 34, 'min_samples_split': 39, 'n_estimators': 45, 'max_depth': 2}. Best is trial 0 with value: 0.5.\n",
      "[I 2024-08-30 09:26:33,744] Trial 13 finished with value: 0.5 and parameters: {'ccp_alpha': 0.7875812601427774, 'min_samples_leaf': 16, 'min_samples_split': 43, 'n_estimators': 95, 'max_depth': 3}. Best is trial 0 with value: 0.5.\n",
      "[I 2024-08-30 09:26:33,767] Trial 14 finished with value: 0.5 and parameters: {'ccp_alpha': 0.5154079355108665, 'min_samples_leaf': 48, 'min_samples_split': 14, 'n_estimators': 4, 'max_depth': 4}. Best is trial 0 with value: 0.5.\n",
      "[I 2024-08-30 09:26:33,872] Trial 15 finished with value: 0.5 and parameters: {'ccp_alpha': 0.2620817996415774, 'min_samples_leaf': 39, 'min_samples_split': 33, 'n_estimators': 122, 'max_depth': 2}. Best is trial 0 with value: 0.5.\n",
      "[I 2024-08-30 09:26:33,926] Trial 16 finished with value: 0.5 and parameters: {'ccp_alpha': 0.7054858014180838, 'min_samples_leaf': 31, 'min_samples_split': 20, 'n_estimators': 55, 'max_depth': 2}. Best is trial 0 with value: 0.5.\n",
      "[I 2024-08-30 09:26:33,960] Trial 17 finished with value: 0.5 and parameters: {'ccp_alpha': 0.910169935390345, 'min_samples_leaf': 24, 'min_samples_split': 46, 'n_estimators': 24, 'max_depth': 3}. Best is trial 0 with value: 0.5.\n",
      "[I 2024-08-30 09:26:34,056] Trial 18 finished with value: 0.5 and parameters: {'ccp_alpha': 0.41185958852573107, 'min_samples_leaf': 16, 'min_samples_split': 38, 'n_estimators': 83, 'max_depth': 5}. Best is trial 0 with value: 0.5.\n",
      "[I 2024-08-30 09:26:34,163] Trial 19 finished with value: 0.5 and parameters: {'ccp_alpha': 0.5386174730739506, 'min_samples_leaf': 42, 'min_samples_split': 2, 'n_estimators': 107, 'max_depth': 4}. Best is trial 0 with value: 0.5.\n",
      "[I 2024-08-30 09:26:34,233] Trial 20 finished with value: 0.5 and parameters: {'ccp_alpha': 0.29665229945407523, 'min_samples_leaf': 34, 'min_samples_split': 29, 'n_estimators': 81, 'max_depth': 2}. Best is trial 0 with value: 0.5.\n",
      "[I 2024-08-30 09:26:34,327] Trial 21 finished with value: 0.5 and parameters: {'ccp_alpha': 0.7843093050079512, 'min_samples_leaf': 28, 'min_samples_split': 29, 'n_estimators': 125, 'max_depth': 1}. Best is trial 0 with value: 0.5.\n",
      "[I 2024-08-30 09:26:34,421] Trial 22 finished with value: 0.5 and parameters: {'ccp_alpha': 0.7225529383075341, 'min_samples_leaf': 27, 'min_samples_split': 19, 'n_estimators': 111, 'max_depth': 1}. Best is trial 0 with value: 0.5.\n",
      "[I 2024-08-30 09:26:34,502] Trial 23 finished with value: 0.5 and parameters: {'ccp_alpha': 0.5991208627147394, 'min_samples_leaf': 19, 'min_samples_split': 35, 'n_estimators': 109, 'max_depth': 1}. Best is trial 0 with value: 0.5.\n",
      "[I 2024-08-30 09:26:34,581] Trial 24 finished with value: 0.5 and parameters: {'ccp_alpha': 0.8596659898336007, 'min_samples_leaf': 34, 'min_samples_split': 28, 'n_estimators': 89, 'max_depth': 3}. Best is trial 0 with value: 0.5.\n",
      "[I 2024-08-30 09:26:34,683] Trial 25 finished with value: 0.5 and parameters: {'ccp_alpha': 0.7512393361217212, 'min_samples_leaf': 25, 'min_samples_split': 43, 'n_estimators': 108, 'max_depth': 2}. Best is trial 0 with value: 0.5.\n",
      "[I 2024-08-30 09:26:34,775] Trial 26 finished with value: 0.5 and parameters: {'ccp_alpha': 0.6006920121753654, 'min_samples_leaf': 44, 'min_samples_split': 22, 'n_estimators': 116, 'max_depth': 1}. Best is trial 0 with value: 0.5.\n",
      "[I 2024-08-30 09:26:34,861] Trial 27 finished with value: 0.5 and parameters: {'ccp_alpha': 0.9043180231323308, 'min_samples_leaf': 30, 'min_samples_split': 32, 'n_estimators': 102, 'max_depth': 3}. Best is trial 0 with value: 0.5.\n",
      "[I 2024-08-30 09:26:34,913] Trial 28 finished with value: 0.5 and parameters: {'ccp_alpha': 0.4158952804243602, 'min_samples_leaf': 36, 'min_samples_split': 40, 'n_estimators': 55, 'max_depth': 2}. Best is trial 0 with value: 0.5.\n",
      "[I 2024-08-30 09:26:34,984] Trial 29 finished with value: 0.5 and parameters: {'ccp_alpha': 0.03317420278791372, 'min_samples_leaf': 1, 'min_samples_split': 45, 'n_estimators': 73, 'max_depth': 1}. Best is trial 0 with value: 0.5.\n",
      "[I 2024-08-30 09:26:35,064] Trial 30 finished with value: 0.5 and parameters: {'ccp_alpha': 0.46479712259018935, 'min_samples_leaf': 10, 'min_samples_split': 17, 'n_estimators': 92, 'max_depth': 2}. Best is trial 0 with value: 0.5.\n",
      "[I 2024-08-30 09:26:35,168] Trial 31 finished with value: 0.5 and parameters: {'ccp_alpha': 0.9999646148011744, 'min_samples_leaf': 2, 'min_samples_split': 41, 'n_estimators': 102, 'max_depth': 5}. Best is trial 0 with value: 0.5.\n",
      "[I 2024-08-30 09:26:35,279] Trial 32 finished with value: 0.5 and parameters: {'ccp_alpha': 0.14205536164080199, 'min_samples_leaf': 15, 'min_samples_split': 26, 'n_estimators': 116, 'max_depth': 5}. Best is trial 0 with value: 0.5.\n",
      "[I 2024-08-30 09:26:35,374] Trial 33 finished with value: 0.5 and parameters: {'ccp_alpha': 0.03665147244315172, 'min_samples_leaf': 6, 'min_samples_split': 49, 'n_estimators': 100, 'max_depth': 4}. Best is trial 0 with value: 0.5.\n",
      "[I 2024-08-30 09:26:35,438] Trial 34 finished with value: 0.5 and parameters: {'ccp_alpha': 0.6627305858960094, 'min_samples_leaf': 5, 'min_samples_split': 46, 'n_estimators': 67, 'max_depth': 3}. Best is trial 0 with value: 0.5.\n",
      "[I 2024-08-30 09:26:35,526] Trial 35 finished with value: 0.5 and parameters: {'ccp_alpha': 0.5723955571207735, 'min_samples_leaf': 45, 'min_samples_split': 35, 'n_estimators': 117, 'max_depth': 1}. Best is trial 0 with value: 0.5.\n",
      "[I 2024-08-30 09:26:35,633] Trial 36 finished with value: 0.5 and parameters: {'ccp_alpha': 0.6587908487393596, 'min_samples_leaf': 38, 'min_samples_split': 26, 'n_estimators': 124, 'max_depth': 4}. Best is trial 0 with value: 0.5.\n",
      "[I 2024-08-30 09:26:35,734] Trial 37 finished with value: 0.5 and parameters: {'ccp_alpha': 0.16902661038500882, 'min_samples_leaf': 13, 'min_samples_split': 37, 'n_estimators': 89, 'max_depth': 3}. Best is trial 0 with value: 0.5.\n",
      "[I 2024-08-30 09:26:35,802] Trial 38 finished with value: 0.5 and parameters: {'ccp_alpha': 0.3705569257671363, 'min_samples_leaf': 22, 'min_samples_split': 42, 'n_estimators': 77, 'max_depth': 2}. Best is trial 0 with value: 0.5.\n",
      "[I 2024-08-30 09:26:35,869] Trial 39 finished with value: 0.5 and parameters: {'ccp_alpha': 0.4815580442082045, 'min_samples_leaf': 20, 'min_samples_split': 32, 'n_estimators': 58, 'max_depth': 3}. Best is trial 0 with value: 0.5.\n",
      "[I 2024-08-30 09:26:35,973] Trial 40 finished with value: 0.5 and parameters: {'ccp_alpha': 0.8183096617023885, 'min_samples_leaf': 31, 'min_samples_split': 47, 'n_estimators': 112, 'max_depth': 4}. Best is trial 0 with value: 0.5.\n",
      "[I 2024-08-30 09:26:36,052] Trial 41 finished with value: 0.5 and parameters: {'ccp_alpha': 0.936255590643251, 'min_samples_leaf': 40, 'min_samples_split': 22, 'n_estimators': 96, 'max_depth': 1}. Best is trial 0 with value: 0.5.\n",
      "[I 2024-08-30 09:26:36,138] Trial 42 finished with value: 0.5 and parameters: {'ccp_alpha': 0.7114546558528956, 'min_samples_leaf': 46, 'min_samples_split': 25, 'n_estimators': 104, 'max_depth': 1}. Best is trial 0 with value: 0.5.\n",
      "[I 2024-08-30 09:26:36,224] Trial 43 finished with value: 0.5 and parameters: {'ccp_alpha': 0.9974702161606811, 'min_samples_leaf': 42, 'min_samples_split': 29, 'n_estimators': 97, 'max_depth': 1}. Best is trial 0 with value: 0.5.\n",
      "[I 2024-08-30 09:26:36,329] Trial 44 finished with value: 0.5 and parameters: {'ccp_alpha': 0.8667717286203733, 'min_samples_leaf': 37, 'min_samples_split': 34, 'n_estimators': 118, 'max_depth': 2}. Best is trial 0 with value: 0.5.\n",
      "[I 2024-08-30 09:26:36,376] Trial 45 finished with value: 0.5 and parameters: {'ccp_alpha': 0.6350939052394718, 'min_samples_leaf': 28, 'min_samples_split': 22, 'n_estimators': 47, 'max_depth': 1}. Best is trial 0 with value: 0.5.\n",
      "[I 2024-08-30 09:26:36,460] Trial 46 finished with value: 0.5 and parameters: {'ccp_alpha': 0.5573973494819656, 'min_samples_leaf': 41, 'min_samples_split': 31, 'n_estimators': 85, 'max_depth': 2}. Best is trial 0 with value: 0.5.\n",
      "[I 2024-08-30 09:26:36,531] Trial 47 finished with value: 0.5 and parameters: {'ccp_alpha': 0.7689629529596158, 'min_samples_leaf': 18, 'min_samples_split': 50, 'n_estimators': 63, 'max_depth': 5}. Best is trial 0 with value: 0.5.\n",
      "[I 2024-08-30 09:26:36,576] Trial 48 finished with value: 0.5 and parameters: {'ccp_alpha': 0.957584596801221, 'min_samples_leaf': 35, 'min_samples_split': 14, 'n_estimators': 26, 'max_depth': 2}. Best is trial 0 with value: 0.5.\n",
      "[I 2024-08-30 09:26:36,705] Trial 49 finished with value: 0.5 and parameters: {'ccp_alpha': 0.8249328089388379, 'min_samples_leaf': 24, 'min_samples_split': 43, 'n_estimators': 121, 'max_depth': 4}. Best is trial 0 with value: 0.5.\n",
      "[I 2024-08-30 09:26:36,824] Trial 50 finished with value: 0.5 and parameters: {'ccp_alpha': 0.7009375680763825, 'min_samples_leaf': 32, 'min_samples_split': 39, 'n_estimators': 113, 'max_depth': 1}. Best is trial 0 with value: 0.5.\n",
      "[I 2024-08-30 09:26:36,888] Trial 51 finished with value: 0.5 and parameters: {'ccp_alpha': 0.5119489520691227, 'min_samples_leaf': 8, 'min_samples_split': 48, 'n_estimators': 65, 'max_depth': 3}. Best is trial 0 with value: 0.5.\n",
      "[I 2024-08-30 09:26:36,958] Trial 52 finished with value: 0.5 and parameters: {'ccp_alpha': 0.6056181812911974, 'min_samples_leaf': 4, 'min_samples_split': 45, 'n_estimators': 69, 'max_depth': 3}. Best is trial 0 with value: 0.5.\n",
      "[I 2024-08-30 09:26:37,030] Trial 53 finished with value: 0.5 and parameters: {'ccp_alpha': 0.45340361189582606, 'min_samples_leaf': 50, 'min_samples_split': 44, 'n_estimators': 75, 'max_depth': 3}. Best is trial 0 with value: 0.5.\n",
      "[I 2024-08-30 09:26:37,108] Trial 54 finished with value: 0.5 and parameters: {'ccp_alpha': 0.7520014805052321, 'min_samples_leaf': 11, 'min_samples_split': 28, 'n_estimators': 78, 'max_depth': 2}. Best is trial 0 with value: 0.5.\n",
      "[I 2024-08-30 09:26:37,175] Trial 55 finished with value: 0.5 and parameters: {'ccp_alpha': 0.31297824058977647, 'min_samples_leaf': 8, 'min_samples_split': 37, 'n_estimators': 50, 'max_depth': 3}. Best is trial 0 with value: 0.5.\n",
      "[I 2024-08-30 09:26:37,226] Trial 56 finished with value: 0.5 and parameters: {'ccp_alpha': 0.6313493678944605, 'min_samples_leaf': 3, 'min_samples_split': 18, 'n_estimators': 37, 'max_depth': 4}. Best is trial 0 with value: 0.5.\n",
      "[I 2024-08-30 09:26:37,312] Trial 57 finished with value: 0.5 and parameters: {'ccp_alpha': 0.568859118713139, 'min_samples_leaf': 22, 'min_samples_split': 24, 'n_estimators': 106, 'max_depth': 2}. Best is trial 0 with value: 0.5.\n",
      "[I 2024-08-30 09:26:37,395] Trial 58 finished with value: 0.5 and parameters: {'ccp_alpha': 0.6811025469913257, 'min_samples_leaf': 47, 'min_samples_split': 47, 'n_estimators': 85, 'max_depth': 1}. Best is trial 0 with value: 0.5.\n",
      "[I 2024-08-30 09:26:37,470] Trial 59 finished with value: 0.5 and parameters: {'ccp_alpha': 0.87843723129706, 'min_samples_leaf': 43, 'min_samples_split': 41, 'n_estimators': 91, 'max_depth': 2}. Best is trial 0 with value: 0.5.\n",
      "[I 2024-08-30 09:26:37,529] Trial 60 finished with value: 0.5 and parameters: {'ccp_alpha': 0.8145729492997401, 'min_samples_leaf': 33, 'min_samples_split': 31, 'n_estimators': 58, 'max_depth': 3}. Best is trial 0 with value: 0.5.\n",
      "[I 2024-08-30 09:26:37,596] Trial 61 finished with value: 0.5 and parameters: {'ccp_alpha': 0.1944826570087842, 'min_samples_leaf': 38, 'min_samples_split': 10, 'n_estimators': 69, 'max_depth': 1}. Best is trial 0 with value: 0.5.\n",
      "[I 2024-08-30 09:26:37,669] Trial 62 finished with value: 0.5 and parameters: {'ccp_alpha': 0.07499855862503607, 'min_samples_leaf': 29, 'min_samples_split': 24, 'n_estimators': 72, 'max_depth': 1}. Best is trial 0 with value: 0.5.\n",
      "[I 2024-08-30 09:26:37,776] Trial 63 finished with value: 0.5 and parameters: {'ccp_alpha': 0.23045426827400364, 'min_samples_leaf': 26, 'min_samples_split': 20, 'n_estimators': 80, 'max_depth': 1}. Best is trial 0 with value: 0.5.\n",
      "[I 2024-08-30 09:26:37,879] Trial 64 finished with value: 0.5 and parameters: {'ccp_alpha': 0.11109446862383279, 'min_samples_leaf': 35, 'min_samples_split': 16, 'n_estimators': 62, 'max_depth': 1}. Best is trial 0 with value: 0.5.\n",
      "[I 2024-08-30 09:26:37,973] Trial 65 finished with value: 0.5 and parameters: {'ccp_alpha': 0.5125016607678057, 'min_samples_leaf': 40, 'min_samples_split': 28, 'n_estimators': 98, 'max_depth': 1}. Best is trial 0 with value: 0.5.\n",
      "[I 2024-08-30 09:26:38,085] Trial 66 finished with value: 0.5 and parameters: {'ccp_alpha': 0.7363061717396604, 'min_samples_leaf': 7, 'min_samples_split': 21, 'n_estimators': 125, 'max_depth': 4}. Best is trial 0 with value: 0.5.\n",
      "[I 2024-08-30 09:26:38,195] Trial 67 finished with value: 0.5 and parameters: {'ccp_alpha': 0.3301491286052561, 'min_samples_leaf': 10, 'min_samples_split': 49, 'n_estimators': 121, 'max_depth': 2}. Best is trial 0 with value: 0.5.\n",
      "[I 2024-08-30 09:26:38,287] Trial 68 finished with value: 0.5 and parameters: {'ccp_alpha': 0.27671119462733196, 'min_samples_leaf': 14, 'min_samples_split': 26, 'n_estimators': 110, 'max_depth': 3}. Best is trial 0 with value: 0.5.\n",
      "[I 2024-08-30 09:26:38,384] Trial 69 finished with value: 0.5 and parameters: {'ccp_alpha': 0.3873475775572396, 'min_samples_leaf': 1, 'min_samples_split': 30, 'n_estimators': 114, 'max_depth': 1}. Best is trial 0 with value: 0.5.\n",
      "[I 2024-08-30 09:26:38,502] Trial 70 finished with value: 0.5 and parameters: {'ccp_alpha': 0.2365592250187795, 'min_samples_leaf': 17, 'min_samples_split': 33, 'n_estimators': 94, 'max_depth': 5}. Best is trial 0 with value: 0.5.\n",
      "[I 2024-08-30 09:26:38,628] Trial 71 finished with value: 0.5 and parameters: {'ccp_alpha': 0.5408395134735134, 'min_samples_leaf': 31, 'min_samples_split': 24, 'n_estimators': 121, 'max_depth': 5}. Best is trial 0 with value: 0.5.\n",
      "[I 2024-08-30 09:26:38,724] Trial 72 finished with value: 0.5 and parameters: {'ccp_alpha': 0.6237909649656345, 'min_samples_leaf': 36, 'min_samples_split': 27, 'n_estimators': 105, 'max_depth': 4}. Best is trial 0 with value: 0.5.\n",
      "[I 2024-08-30 09:26:38,822] Trial 73 finished with value: 0.5970879002793897 and parameters: {'ccp_alpha': 0.012589408778341471, 'min_samples_leaf': 25, 'min_samples_split': 38, 'n_estimators': 108, 'max_depth': 4}. Best is trial 73 with value: 0.5970879002793897.\n",
      "[I 2024-08-30 09:26:38,919] Trial 74 finished with value: 0.5 and parameters: {'ccp_alpha': 0.06317005620309166, 'min_samples_leaf': 24, 'min_samples_split': 40, 'n_estimators': 100, 'max_depth': 5}. Best is trial 73 with value: 0.5970879002793897.\n",
      "[I 2024-08-30 09:26:39,032] Trial 75 finished with value: 0.5 and parameters: {'ccp_alpha': 0.10567022698617834, 'min_samples_leaf': 26, 'min_samples_split': 36, 'n_estimators': 110, 'max_depth': 4}. Best is trial 73 with value: 0.5970879002793897.\n",
      "[I 2024-08-30 09:26:39,154] Trial 76 finished with value: 0.5 and parameters: {'ccp_alpha': 0.02945665383548171, 'min_samples_leaf': 29, 'min_samples_split': 44, 'n_estimators': 87, 'max_depth': 3}. Best is trial 73 with value: 0.5970879002793897.\n",
      "[I 2024-08-30 09:26:39,272] Trial 77 finished with value: 0.5 and parameters: {'ccp_alpha': 0.05899521463210727, 'min_samples_leaf': 38, 'min_samples_split': 46, 'n_estimators': 117, 'max_depth': 1}. Best is trial 73 with value: 0.5970879002793897.\n",
      "[I 2024-08-30 09:26:39,378] Trial 78 finished with value: 0.6 and parameters: {'ccp_alpha': 0.013445280588624431, 'min_samples_leaf': 21, 'min_samples_split': 39, 'n_estimators': 108, 'max_depth': 5}. Best is trial 78 with value: 0.6.\n",
      "[I 2024-08-30 09:26:39,483] Trial 79 finished with value: 0.6143849845977505 and parameters: {'ccp_alpha': 0.008444130435736507, 'min_samples_leaf': 20, 'min_samples_split': 41, 'n_estimators': 103, 'max_depth': 5}. Best is trial 79 with value: 0.6143849845977505.\n",
      "[I 2024-08-30 09:26:39,586] Trial 80 finished with value: 0.6130632566802778 and parameters: {'ccp_alpha': 0.00845776248191155, 'min_samples_leaf': 20, 'min_samples_split': 39, 'n_estimators': 101, 'max_depth': 5}. Best is trial 79 with value: 0.6143849845977505.\n",
      "[I 2024-08-30 09:26:39,686] Trial 81 finished with value: 0.6217422451465006 and parameters: {'ccp_alpha': 0.00013673245779271398, 'min_samples_leaf': 20, 'min_samples_split': 38, 'n_estimators': 102, 'max_depth': 5}. Best is trial 81 with value: 0.6217422451465006.\n",
      "[I 2024-08-30 09:26:39,787] Trial 82 finished with value: 0.6252955082742317 and parameters: {'ccp_alpha': 0.00038408186515412974, 'min_samples_leaf': 21, 'min_samples_split': 38, 'n_estimators': 102, 'max_depth': 5}. Best is trial 82 with value: 0.6252955082742317.\n",
      "[I 2024-08-30 09:26:39,894] Trial 83 finished with value: 0.5883086180958521 and parameters: {'ccp_alpha': 0.01602452517245291, 'min_samples_leaf': 20, 'min_samples_split': 39, 'n_estimators': 101, 'max_depth': 5}. Best is trial 82 with value: 0.6252955082742317.\n",
      "[I 2024-08-30 09:26:40,039] Trial 84 finished with value: 0.624281825345655 and parameters: {'ccp_alpha': 0.0037888146628604663, 'min_samples_leaf': 20, 'min_samples_split': 38, 'n_estimators': 103, 'max_depth': 5}. Best is trial 82 with value: 0.6252955082742317.\n",
      "[I 2024-08-30 09:26:40,167] Trial 85 finished with value: 0.6236227523461566 and parameters: {'ccp_alpha': 0.0024049563227915138, 'min_samples_leaf': 20, 'min_samples_split': 38, 'n_estimators': 102, 'max_depth': 5}. Best is trial 82 with value: 0.6252955082742317.\n",
      "[I 2024-08-30 09:26:40,282] Trial 86 finished with value: 0.6290851780213482 and parameters: {'ccp_alpha': 0.001501114217144204, 'min_samples_leaf': 21, 'min_samples_split': 38, 'n_estimators': 102, 'max_depth': 5}. Best is trial 86 with value: 0.6290851780213482.\n",
      "[I 2024-08-30 09:26:40,401] Trial 87 finished with value: 0.6267282756644459 and parameters: {'ccp_alpha': 0.0021110154411815314, 'min_samples_leaf': 19, 'min_samples_split': 38, 'n_estimators': 103, 'max_depth': 5}. Best is trial 86 with value: 0.6290851780213482.\n",
      "[I 2024-08-30 09:26:40,541] Trial 88 finished with value: 0.6262053155670176 and parameters: {'ccp_alpha': 0.0021480443323094018, 'min_samples_leaf': 19, 'min_samples_split': 36, 'n_estimators': 94, 'max_depth': 5}. Best is trial 86 with value: 0.6290851780213482.\n",
      "[I 2024-08-30 09:26:40,661] Trial 89 finished with value: 0.5 and parameters: {'ccp_alpha': 0.1033888438499126, 'min_samples_leaf': 18, 'min_samples_split': 35, 'n_estimators': 92, 'max_depth': 5}. Best is trial 86 with value: 0.6290851780213482.\n",
      "[I 2024-08-30 09:26:40,808] Trial 90 finished with value: 0.6271366143706569 and parameters: {'ccp_alpha': 0.0017379825182596044, 'min_samples_leaf': 19, 'min_samples_split': 41, 'n_estimators': 103, 'max_depth': 5}. Best is trial 86 with value: 0.6290851780213482.\n",
      "[I 2024-08-30 09:26:40,957] Trial 91 finished with value: 0.6252811806003296 and parameters: {'ccp_alpha': 0.00013781982320408039, 'min_samples_leaf': 19, 'min_samples_split': 41, 'n_estimators': 104, 'max_depth': 5}. Best is trial 86 with value: 0.6290851780213482.\n",
      "[I 2024-08-30 09:26:41,091] Trial 92 finished with value: 0.5 and parameters: {'ccp_alpha': 0.04264753105015372, 'min_samples_leaf': 16, 'min_samples_split': 41, 'n_estimators': 95, 'max_depth': 5}. Best is trial 86 with value: 0.6290851780213482.\n",
      "[I 2024-08-30 09:26:41,225] Trial 93 finished with value: 0.5 and parameters: {'ccp_alpha': 0.04931584224070231, 'min_samples_leaf': 23, 'min_samples_split': 37, 'n_estimators': 103, 'max_depth': 5}. Best is trial 86 with value: 0.6290851780213482.\n",
      "[I 2024-08-30 09:26:41,354] Trial 94 finished with value: 0.5 and parameters: {'ccp_alpha': 0.08415027800087396, 'min_samples_leaf': 19, 'min_samples_split': 36, 'n_estimators': 98, 'max_depth': 5}. Best is trial 86 with value: 0.6290851780213482.\n",
      "[I 2024-08-30 09:26:41,478] Trial 95 finished with value: 0.6282111899133176 and parameters: {'ccp_alpha': 0.0014986561994308153, 'min_samples_leaf': 18, 'min_samples_split': 41, 'n_estimators': 105, 'max_depth': 5}. Best is trial 86 with value: 0.6290851780213482.\n",
      "[I 2024-08-30 09:26:41,589] Trial 96 finished with value: 0.5 and parameters: {'ccp_alpha': 0.1389799562860731, 'min_samples_leaf': 18, 'min_samples_split': 42, 'n_estimators': 105, 'max_depth': 5}. Best is trial 86 with value: 0.6290851780213482.\n",
      "[I 2024-08-30 09:26:41,726] Trial 97 finished with value: 0.5 and parameters: {'ccp_alpha': 0.1304275450053408, 'min_samples_leaf': 15, 'min_samples_split': 38, 'n_estimators': 114, 'max_depth': 5}. Best is trial 86 with value: 0.6290851780213482.\n",
      "[I 2024-08-30 09:26:41,851] Trial 98 finished with value: 0.6261909878931157 and parameters: {'ccp_alpha': 0.0017279083847440673, 'min_samples_leaf': 17, 'min_samples_split': 34, 'n_estimators': 98, 'max_depth': 5}. Best is trial 86 with value: 0.6290851780213482.\n",
      "[I 2024-08-30 09:26:41,959] Trial 99 finished with value: 0.5 and parameters: {'ccp_alpha': 0.07147363097693582, 'min_samples_leaf': 17, 'min_samples_split': 34, 'n_estimators': 93, 'max_depth': 5}. Best is trial 86 with value: 0.6290851780213482.\n"
     ]
    }
   ],
   "source": [
    "x = X_train_rus\n",
    "y = y_train_rus.values.ravel()\n",
    "w = weights_rus\n",
    "\n",
    "def objective(trial):\n",
    "    params = {'random_state':0,\n",
    "             'max_features':'sqrt',\n",
    "             'ccp_alpha': trial.suggest_float(\"ccp_alpha\", 0, 1),\n",
    "             'min_samples_leaf': trial.suggest_int('min_samples_leaf', 1, 50),\n",
    "             'min_samples_split': trial.suggest_int('min_samples_split', 2, 50),\n",
    "             'n_estimators': trial.suggest_int('n_estimators', 1, 125),\n",
    "             'max_depth': trial.suggest_int('max_depth', 1, 5)\n",
    "             }\n",
    "    model = RandomForestClassifier(**params)\n",
    "    model.fit(x, y, sample_weight=w)\n",
    "    predictions = model.predict(X_val)\n",
    "    predictions_prob = model.predict_proba(X_val)[:,1]\n",
    "    BA = balanced_accuracy_score(y_val, predictions)\n",
    "    AUC = roc_auc_score(y_val, predictions_prob)\n",
    "    return AUC\n",
    "\n",
    "sampler = optuna.samplers.TPESampler(seed=0, consider_prior=True, prior_weight=0.5) \n",
    "study = optuna.create_study(direction='maximize',sampler=sampler)\n",
    "study.optimize(objective, n_trials=n_trials)"
   ]
  },
  {
   "cell_type": "code",
   "execution_count": 52,
   "id": "1104c3f5-41ed-45ce-a26c-7e98036870b8",
   "metadata": {
    "tags": []
   },
   "outputs": [
    {
     "name": "stdout",
     "output_type": "stream",
     "text": [
      "Test AUC: 0.63\n",
      "Test Balanced Accuracy: 0.624\n",
      "Test F1: 0.275\n",
      "Test Precision: 0.174\n",
      "Test Recall: 0.65\n"
     ]
    }
   ],
   "source": [
    "best_rf2 = RandomForestClassifier(random_state=0,max_features='sqrt',**study.best_params)\n",
    "\n",
    "# original evaluation \n",
    "i = -1 # (will output as 0 since iteration = i+1)\n",
    "orig_RF2 = pd.DataFrame(model_eval(model=best_rf2, model_label='RF', X_train=x, Y_train=y, X_test=X_test, Y_test=y_test, outcome_label=outcome, W=w, verbose=True))"
   ]
  },
  {
   "cell_type": "code",
   "execution_count": 53,
   "id": "8897fc69-4fd0-4998-87d9-56d561559f1a",
   "metadata": {
    "tags": []
   },
   "outputs": [
    {
     "data": {
      "image/png": "[encoded data removed]",
      "text/plain": [
       "<Figure size 640x480 with 1 Axes>"
      ]
     },
     "metadata": {},
     "output_type": "display_data"
    }
   ],
   "source": [
    "from sklearn.inspection import permutation_importance\n",
    "imp_result = permutation_importance(\n",
    "    best_rf2, X_test, y_test, n_repeats=10, random_state=2024, n_jobs=2\n",
    ")\n",
    "\n",
    "importance_mean = imp_result.importances_mean\n",
    "importance_sd = imp_result.importances_std\n",
    "\n",
    "ind = np.argpartition(importance_mean, -10)[-10:]\n",
    "top_feat = X_test.columns[ind]\n",
    "top_vals = importance_mean[ind]\n",
    "top_std = importance_sd[ind]\n",
    "\n",
    "fig, ax = plt.subplots()\n",
    "ax.barh(top_feat,top_vals,xerr=top_std)\n",
    "ax.set_xlabel(\"Mean accuracy decrease\")\n",
    "plt.savefig('EPDS RF Feature Importance Reweigh (val).png',dpi=600, bbox_inches='tight')"
   ]
  },
  {
   "cell_type": "code",
   "execution_count": 54,
   "id": "2a3b2450-2715-4713-81cf-d3ddf5b030e9",
   "metadata": {
    "tags": []
   },
   "outputs": [
    {
     "data": {
      "text/plain": [
       "['best_rf_epds_reweigh_val.pkl']"
      ]
     },
     "execution_count": 54,
     "metadata": {},
     "output_type": "execute_result"
    }
   ],
   "source": [
    "joblib.dump(best_rf2, 'best_rf_epds_reweigh_val.pkl') "
   ]
  },
  {
   "cell_type": "markdown",
   "id": "260997ed-80f7-43a6-bdb1-47f7fd488d41",
   "metadata": {},
   "source": [
    "## Logistic Regression"
   ]
  },
  {
   "cell_type": "markdown",
   "id": "e2efa24d-dd83-42b5-ab94-e404867038d2",
   "metadata": {},
   "source": [
    "### Finetune Logistic Regression without Reweighing"
   ]
  },
  {
   "cell_type": "code",
   "execution_count": 57,
   "id": "1e985914-ec69-47f9-ab18-4ac90c27f433",
   "metadata": {
    "tags": []
   },
   "outputs": [
    {
     "name": "stderr",
     "output_type": "stream",
     "text": [
      "[I 2024-08-30 09:26:44,051] A new study created in memory with name: no-name-9f3192d8-8876-4255-8168-c44759a974f0\n",
      "[I 2024-08-30 09:26:44,158] Trial 0 finished with value: 0.6312486567805716 and parameters: {'C': 0.12520653814999466, 'tol': 0.0007154741770060471}. Best is trial 0 with value: 0.6312486567805716.\n",
      "[I 2024-08-30 09:26:44,323] Trial 1 finished with value: 0.6285120710652625 and parameters: {'C': 0.16051911333587626, 'tol': 0.0005453382998139}. Best is trial 0 with value: 0.6312486567805716.\n",
      "[I 2024-08-30 09:26:44,896] Trial 2 finished with value: 0.6340425531914894 and parameters: {'C': 0.07035737028722149, 'tol': 0.0006462482189535895}. Best is trial 2 with value: 0.6340425531914894.\n",
      "[I 2024-08-30 09:26:45,552] Trial 3 finished with value: 0.6349595243212265 and parameters: {'C': 0.07501954443620121, 'tol': 0.0008918812277812978}. Best is trial 3 with value: 0.6349595243212265.\n",
      "[I 2024-08-30 09:26:45,624] Trial 4 finished with value: 0.6230818826563508 and parameters: {'C': 0.845912652804937, 'tol': 0.00038405807730695197}. Best is trial 3 with value: 0.6349595243212265.\n",
      "[I 2024-08-30 09:26:45,783] Trial 5 finished with value: 0.6260405473171431 and parameters: {'C': 0.3832216850492786, 'tol': 0.0005293660248331517}. Best is trial 3 with value: 0.6349595243212265.\n",
      "[I 2024-08-30 09:26:45,902] Trial 6 finished with value: 0.6295723189340211 and parameters: {'C': 0.1368009527972692, 'tol': 0.0009256710416543685}. Best is trial 3 with value: 0.6349595243212265.\n",
      "[I 2024-08-30 09:26:46,176] Trial 7 finished with value: 0.6475750411920624 and parameters: {'C': 0.013869861245357327, 'tol': 8.804217040183917e-05}. Best is trial 7 with value: 0.6475750411920624.\n",
      "[I 2024-08-30 09:26:46,223] Trial 8 finished with value: 0.6485564868543593 and parameters: {'C': 0.01097581541938016, 'tol': 0.0008327872257023901}. Best is trial 8 with value: 0.6485564868543593.\n",
      "[I 2024-08-30 09:26:46,271] Trial 9 finished with value: 0.625438785013253 and parameters: {'C': 0.3600091192911608, 'tol': 0.0008701421360985725}. Best is trial 8 with value: 0.6485564868543593.\n",
      "[I 2024-08-30 09:26:46,311] Trial 10 finished with value: 0.6484920123217996 and parameters: {'C': 0.010981684015202449, 'tol': 0.0002971682752486472}. Best is trial 8 with value: 0.6485564868543593.\n",
      "[I 2024-08-30 09:26:46,364] Trial 11 finished with value: 0.6490078085822768 and parameters: {'C': 0.010541916286630135, 'tol': 0.00023259726028489604}. Best is trial 11 with value: 0.6490078085822768.\n",
      "[I 2024-08-30 09:26:46,425] Trial 12 finished with value: 0.642990185543377 and parameters: {'C': 0.026319438216633215, 'tol': 0.00011378379593651462}. Best is trial 11 with value: 0.6490078085822768.\n",
      "[I 2024-08-30 09:26:46,504] Trial 13 finished with value: 0.6419944122071781 and parameters: {'C': 0.02931859238973027, 'tol': 0.0002744826292981848}. Best is trial 11 with value: 0.6490078085822768.\n",
      "[I 2024-08-30 09:26:46,660] Trial 14 finished with value: 0.642589010674117 and parameters: {'C': 0.029306391609985258, 'tol': 0.0007433261581992025}. Best is trial 11 with value: 0.6490078085822768.\n",
      "[I 2024-08-30 09:26:46,721] Trial 15 finished with value: 0.6458915395085607 and parameters: {'C': 0.0168856196928263, 'tol': 0.0003664649168838499}. Best is trial 11 with value: 0.6490078085822768.\n",
      "[I 2024-08-30 09:26:46,793] Trial 16 finished with value: 0.6391360412637008 and parameters: {'C': 0.04658795775004732, 'tol': 0.00017288811711478006}. Best is trial 11 with value: 0.6490078085822768.\n",
      "[I 2024-08-30 09:26:46,846] Trial 17 finished with value: 0.648929006375815 and parameters: {'C': 0.010539883042825389, 'tol': 1.801638564465362e-05}. Best is trial 11 with value: 0.6490078085822768.\n",
      "[I 2024-08-30 09:26:46,918] Trial 18 finished with value: 0.6455333476610072 and parameters: {'C': 0.019622400581121552, 'tol': 6.591231268150916e-06}. Best is trial 11 with value: 0.6490078085822768.\n",
      "[I 2024-08-30 09:26:47,446] Trial 19 finished with value: 0.6392076796332116 and parameters: {'C': 0.04668597637144388, 'tol': 0.00021346542193937136}. Best is trial 11 with value: 0.6490078085822768.\n",
      "[I 2024-08-30 09:26:49,175] Trial 20 finished with value: 0.6489003510280106 and parameters: {'C': 0.010183806000317238, 'tol': 1.1426460663630948e-05}. Best is trial 11 with value: 0.6490078085822768.\n",
      "[I 2024-08-30 09:26:49,443] Trial 21 finished with value: 0.6489576617236192 and parameters: {'C': 0.010480602693356152, 'tol': 1.592145731475096e-06}. Best is trial 11 with value: 0.6490078085822768.\n",
      "[I 2024-08-30 09:26:49,638] Trial 22 finished with value: 0.6453972347589368 and parameters: {'C': 0.019295098866019655, 'tol': 9.395579785348549e-05}. Best is trial 11 with value: 0.6490078085822768.\n",
      "[I 2024-08-30 09:26:49,950] Trial 23 finished with value: 0.6464718103015975 and parameters: {'C': 0.016075574984753378, 'tol': 0.00017474604186897225}. Best is trial 11 with value: 0.6490078085822768.\n",
      "[I 2024-08-30 09:26:50,066] Trial 24 finished with value: 0.6394011032308905 and parameters: {'C': 0.041990922560497426, 'tol': 1.343156779206238e-05}. Best is trial 11 with value: 0.6490078085822768.\n",
      "[I 2024-08-30 09:26:50,231] Trial 25 finished with value: 0.6438498459775055 and parameters: {'C': 0.023861164422505136, 'tol': 0.0004312063924426464}. Best is trial 11 with value: 0.6490078085822768.\n",
      "[I 2024-08-30 09:26:51,182] Trial 26 finished with value: 0.6476610072354754 and parameters: {'C': 0.013680732474976276, 'tol': 0.00025229199690104265}. Best is trial 11 with value: 0.6490078085822768.\n",
      "[I 2024-08-30 09:26:52,378] Trial 27 finished with value: 0.6411490794469519 and parameters: {'C': 0.03739406932629534, 'tol': 0.00011308647503243652}. Best is trial 11 with value: 0.6490078085822768.\n",
      "[I 2024-08-30 09:26:52,617] Trial 28 finished with value: 0.6476466795615732 and parameters: {'C': 0.013969096923149425, 'tol': 5.853788723995495e-05}. Best is trial 11 with value: 0.6490078085822768.\n",
      "[I 2024-08-30 09:26:53,796] Trial 29 finished with value: 0.6442725123576187 and parameters: {'C': 0.022184865325921992, 'tol': 0.0001715016673485317}. Best is trial 11 with value: 0.6490078085822768.\n",
      "[I 2024-08-30 09:26:53,970] Trial 30 finished with value: 0.6489290063758149 and parameters: {'C': 0.010172165000234802, 'tol': 0.00014336388715855376}. Best is trial 11 with value: 0.6490078085822768.\n",
      "[I 2024-08-30 09:26:54,524] Trial 31 finished with value: 0.6489146787019127 and parameters: {'C': 0.010003692084796397, 'tol': 0.00015013674056309852}. Best is trial 11 with value: 0.6490078085822768.\n",
      "[I 2024-08-30 09:26:55,765] Trial 32 finished with value: 0.6476395157246221 and parameters: {'C': 0.01389420353307931, 'tol': 5.0428248402769e-05}. Best is trial 11 with value: 0.6490078085822768.\n",
      "[I 2024-08-30 09:26:55,875] Trial 33 finished with value: 0.648929006375815 and parameters: {'C': 0.010053950075954339, 'tol': 0.00030901217573898126}. Best is trial 11 with value: 0.6490078085822768.\n",
      "[I 2024-08-30 09:26:56,083] Trial 34 finished with value: 0.6459273586933162 and parameters: {'C': 0.018402971977734602, 'tol': 0.0003295411356128965}. Best is trial 11 with value: 0.6490078085822768.\n",
      "[I 2024-08-30 09:26:56,148] Trial 35 finished with value: 0.633806146572104 and parameters: {'C': 0.07669356121848207, 'tol': 0.0004735395175276138}. Best is trial 11 with value: 0.6490078085822768.\n",
      "[I 2024-08-30 09:26:56,518] Trial 36 finished with value: 0.6477254817680349 and parameters: {'C': 0.013648929179143095, 'tol': 0.0005895906277891064}. Best is trial 11 with value: 0.6490078085822768.\n",
      "[I 2024-08-30 09:26:56,649] Trial 37 finished with value: 0.6288416075650117 and parameters: {'C': 0.20413666970964725, 'tol': 0.00022791003657365839}. Best is trial 11 with value: 0.6490078085822768.\n",
      "[I 2024-08-30 09:26:56,753] Trial 38 finished with value: 0.6368364496024072 and parameters: {'C': 0.06358432582637696, 'tol': 0.00039110090213258106}. Best is trial 11 with value: 0.6490078085822768.\n",
      "[I 2024-08-30 09:26:56,954] Trial 39 finished with value: 0.6408911813167133 and parameters: {'C': 0.034161381210611665, 'tol': 0.00033757155159068887}. Best is trial 11 with value: 0.6490078085822768.\n",
      "[I 2024-08-30 09:26:57,048] Trial 40 finished with value: 0.6482412780285121 and parameters: {'C': 0.013008264516651925, 'tol': 0.00020780964351273956}. Best is trial 11 with value: 0.6490078085822768.\n",
      "[I 2024-08-30 09:26:57,148] Trial 41 finished with value: 0.6490006447453256 and parameters: {'C': 0.010505954499282396, 'tol': 0.00013143300351188856}. Best is trial 11 with value: 0.6490078085822768.\n",
      "[I 2024-08-30 09:26:57,284] Trial 42 finished with value: 0.6459631778780714 and parameters: {'C': 0.017170160080321094, 'tol': 5.5028342613536746e-05}. Best is trial 11 with value: 0.6490078085822768.\n",
      "[I 2024-08-30 09:26:57,398] Trial 43 finished with value: 0.64802636291998 and parameters: {'C': 0.012032878946310947, 'tol': 6.946967963500459e-05}. Best is trial 11 with value: 0.6490078085822768.\n",
      "[I 2024-08-30 09:26:57,452] Trial 44 finished with value: 0.6465792678558635 and parameters: {'C': 0.015903044998613915, 'tol': 0.00028986345989832733}. Best is trial 11 with value: 0.6490078085822768.\n",
      "[I 2024-08-30 09:26:59,302] Trial 45 finished with value: 0.6444659359552976 and parameters: {'C': 0.02165147838330365, 'tol': 0.00011992876091969351}. Best is trial 11 with value: 0.6490078085822768.\n",
      "[I 2024-08-30 09:26:59,789] Trial 46 finished with value: 0.6481409843111972 and parameters: {'C': 0.011952244892469713, 'tol': 0.00020802474916592337}. Best is trial 11 with value: 0.6490078085822768.\n",
      "[I 2024-08-30 09:26:59,882] Trial 47 finished with value: 0.6291854717386633 and parameters: {'C': 0.6339783987487453, 'tol': 4.1251021276830275e-05}. Best is trial 11 with value: 0.6490078085822768.\n",
      "[I 2024-08-30 09:27:00,129] Trial 48 finished with value: 0.6430260047281324 and parameters: {'C': 0.025367912624088124, 'tol': 0.00025310869645836157}. Best is trial 11 with value: 0.6490078085822768.\n",
      "[I 2024-08-30 09:27:00,312] Trial 49 finished with value: 0.6464001719320868 and parameters: {'C': 0.016082188820338832, 'tol': 0.00010669604239842282}. Best is trial 11 with value: 0.6490078085822768.\n",
      "[I 2024-08-30 09:27:00,460] Trial 50 finished with value: 0.6481553119850991 and parameters: {'C': 0.012217781234840932, 'tol': 0.00013132046557067043}. Best is trial 11 with value: 0.6490078085822768.\n",
      "[I 2024-08-30 09:27:00,680] Trial 51 finished with value: 0.6488931871910595 and parameters: {'C': 0.010290542379448204, 'tol': 0.0001788202905198977}. Best is trial 11 with value: 0.6490078085822768.\n",
      "[I 2024-08-30 09:27:00,771] Trial 52 finished with value: 0.6489290063758149 and parameters: {'C': 0.010287807529117001, 'tol': 0.00014660450785902696}. Best is trial 11 with value: 0.6490078085822768.\n",
      "[I 2024-08-30 09:27:00,871] Trial 53 finished with value: 0.6469732788881724 and parameters: {'C': 0.015159730549812239, 'tol': 7.421217962629614e-05}. Best is trial 11 with value: 0.6490078085822768.\n",
      "[I 2024-08-30 09:27:02,862] Trial 54 finished with value: 0.6481839673329034 and parameters: {'C': 0.011849804467486019, 'tol': 7.246453167104134e-06}. Best is trial 11 with value: 0.6490078085822768.\n",
      "[I 2024-08-30 09:27:04,129] Trial 55 finished with value: 0.6453255963894262 and parameters: {'C': 0.01936358667954842, 'tol': 0.0003179046852810278}. Best is trial 11 with value: 0.6490078085822768.\n",
      "[I 2024-08-30 09:27:05,409] Trial 56 finished with value: 0.6488716956802062 and parameters: {'C': 0.010299825513933714, 'tol': 0.0002462990363036038}. Best is trial 11 with value: 0.6490078085822768.\n",
      "[I 2024-08-30 09:27:06,174] Trial 57 finished with value: 0.6421018697614442 and parameters: {'C': 0.03043199152469921, 'tol': 9.15444589188808e-05}. Best is trial 11 with value: 0.6490078085822768.\n",
      "[I 2024-08-30 09:27:06,281] Trial 58 finished with value: 0.6480048714091267 and parameters: {'C': 0.012116948358068766, 'tol': 3.24773444194727e-05}. Best is trial 11 with value: 0.6490078085822768.\n",
      "[I 2024-08-30 09:27:06,400] Trial 59 finished with value: 0.6277168851636936 and parameters: {'C': 0.19479421698399238, 'tol': 0.00019285134346392312}. Best is trial 11 with value: 0.6490078085822768.\n",
      "[I 2024-08-30 09:27:06,653] Trial 60 finished with value: 0.6448527831506555 and parameters: {'C': 0.02025666065640895, 'tol': 0.00015143246021957183}. Best is trial 11 with value: 0.6490078085822768.\n",
      "[I 2024-08-30 09:27:06,749] Trial 61 finished with value: 0.6488860233541084 and parameters: {'C': 0.01031628666517983, 'tol': 0.000137343060645055}. Best is trial 11 with value: 0.6490078085822768.\n",
      "[I 2024-08-30 09:27:06,929] Trial 62 finished with value: 0.6471595386489004 and parameters: {'C': 0.014854636403715024, 'tol': 0.000988168957430808}. Best is trial 11 with value: 0.6490078085822768.\n",
      "[I 2024-08-30 09:27:06,999] Trial 63 finished with value: 0.6483558994197292 and parameters: {'C': 0.01165125686597334, 'tol': 9.903157781675238e-05}. Best is trial 11 with value: 0.6490078085822768.\n",
      "[I 2024-08-30 09:27:07,551] Trial 64 finished with value: 0.6461064546170929 and parameters: {'C': 0.01679354445302456, 'tol': 0.00027639613223948725}. Best is trial 11 with value: 0.6490078085822768.\n",
      "[I 2024-08-30 09:27:10,187] Trial 65 finished with value: 0.6477684647897414 and parameters: {'C': 0.013695271689043062, 'tol': 0.0001604191828255219}. Best is trial 11 with value: 0.6490078085822768.\n",
      "[I 2024-08-30 09:27:10,266] Trial 66 finished with value: 0.6490149724192278 and parameters: {'C': 0.010089489598231033, 'tol': 3.6528085204060116e-05}. Best is trial 66 with value: 0.6490149724192278.\n",
      "[I 2024-08-30 09:27:10,510] Trial 67 finished with value: 0.6456264775413711 and parameters: {'C': 0.018216642244783327, 'tol': 2.7211914564502832e-05}. Best is trial 66 with value: 0.6490149724192278.\n",
      "[I 2024-08-30 09:27:10,746] Trial 68 finished with value: 0.6308044988896052 and parameters: {'C': 0.12188548501415852, 'tol': 8.502536525833907e-05}. Best is trial 66 with value: 0.6490149724192278.\n",
      "[I 2024-08-30 09:27:10,929] Trial 69 finished with value: 0.64802636291998 and parameters: {'C': 0.013375922920051391, 'tol': 9.23808325424726e-06}. Best is trial 66 with value: 0.6490149724192278.\n",
      "[I 2024-08-30 09:27:11,004] Trial 70 finished with value: 0.6438999928361631 and parameters: {'C': 0.023716631125200432, 'tol': 5.653813895719888e-05}. Best is trial 66 with value: 0.6490149724192278.\n",
      "[I 2024-08-30 09:27:12,581] Trial 71 finished with value: 0.6490149724192278 and parameters: {'C': 0.010142762010601096, 'tol': 0.00013351501995665773}. Best is trial 66 with value: 0.6490149724192278.\n",
      "[I 2024-08-30 09:27:13,537] Trial 72 finished with value: 0.6483630632566802 and parameters: {'C': 0.011626658468827721, 'tol': 0.0002285377107117225}. Best is trial 66 with value: 0.6490149724192278.\n",
      "[I 2024-08-30 09:27:14,112] Trial 73 finished with value: 0.6489075148649616 and parameters: {'C': 0.010061943970000091, 'tol': 0.00011432303510166705}. Best is trial 66 with value: 0.6490149724192278.\n",
      "[I 2024-08-30 09:27:15,413] Trial 74 finished with value: 0.6470019342359768 and parameters: {'C': 0.014946187267922665, 'tol': 7.499539015938768e-05}. Best is trial 66 with value: 0.6490149724192278.\n",
      "[I 2024-08-30 09:27:16,599] Trial 75 finished with value: 0.648133820474246 and parameters: {'C': 0.012862269640720162, 'tol': 3.267168367919803e-05}. Best is trial 66 with value: 0.6490149724192278.\n",
      "[I 2024-08-30 09:27:16,857] Trial 76 finished with value: 0.6485063399957018 and parameters: {'C': 0.011341351074782654, 'tol': 0.00018602802275396085}. Best is trial 66 with value: 0.6490149724192278.\n",
      "[I 2024-08-30 09:27:16,937] Trial 77 finished with value: 0.6472383408553621 and parameters: {'C': 0.01470589947201725, 'tol': 0.0003555099920107411}. Best is trial 66 with value: 0.6490149724192278.\n",
      "[I 2024-08-30 09:27:17,017] Trial 78 finished with value: 0.6460061608997779 and parameters: {'C': 0.017401726780759772, 'tol': 1.6572275417674039e-06}. Best is trial 66 with value: 0.6490149724192278.\n",
      "[I 2024-08-30 09:27:17,189] Trial 79 finished with value: 0.6484275377892399 and parameters: {'C': 0.011118175797623376, 'tol': 0.00040347036674535}. Best is trial 66 with value: 0.6490149724192278.\n",
      "[I 2024-08-30 09:27:17,311] Trial 80 finished with value: 0.6480980012894907 and parameters: {'C': 0.013098428098359136, 'tol': 0.0004778724892611788}. Best is trial 66 with value: 0.6490149724192278.\n",
      "[I 2024-08-30 09:27:17,689] Trial 81 finished with value: 0.6489218425388638 and parameters: {'C': 0.010036415086323539, 'tol': 0.00014073976674223093}. Best is trial 66 with value: 0.6490149724192278.\n",
      "[I 2024-08-30 09:27:17,802] Trial 82 finished with value: 0.6485349953435059 and parameters: {'C': 0.011196758545171152, 'tol': 0.00015431242795982148}. Best is trial 66 with value: 0.6490149724192278.\n",
      "[I 2024-08-30 09:27:17,874] Trial 83 finished with value: 0.6481409843111972 and parameters: {'C': 0.01271378770525259, 'tol': 0.00011605949948705158}. Best is trial 66 with value: 0.6490149724192278.\n",
      "[I 2024-08-30 09:27:18,056] Trial 84 finished with value: 0.6470162619098788 and parameters: {'C': 0.015267647156781005, 'tol': 0.00020341374174397275}. Best is trial 66 with value: 0.6490149724192278.\n",
      "[I 2024-08-30 09:27:18,129] Trial 85 finished with value: 0.6485135038326528 and parameters: {'C': 0.011059368626239262, 'tol': 4.9849958324220974e-05}. Best is trial 66 with value: 0.6490149724192278.\n",
      "[I 2024-08-30 09:27:19,988] Trial 86 finished with value: 0.6445519019987106 and parameters: {'C': 0.021271665043672314, 'tol': 0.0002416542361109576}. Best is trial 66 with value: 0.6490149724192278.\n",
      "[I 2024-08-30 09:27:20,256] Trial 87 finished with value: 0.6489719893975212 and parameters: {'C': 0.010081915520004259, 'tol': 8.321530304556348e-05}. Best is trial 66 with value: 0.6490149724192278.\n",
      "[I 2024-08-30 09:27:20,461] Trial 88 finished with value: 0.647732645604986 and parameters: {'C': 0.013970639611251046, 'tol': 0.0006478518301085603}. Best is trial 66 with value: 0.6490149724192278.\n",
      "[I 2024-08-30 09:27:20,898] Trial 89 finished with value: 0.6463715165842825 and parameters: {'C': 0.01630446070428164, 'tol': 8.07047941755118e-05}. Best is trial 66 with value: 0.6490149724192278.\n",
      "[I 2024-08-30 09:27:21,040] Trial 90 finished with value: 0.6481553119850992 and parameters: {'C': 0.012745239028201582, 'tol': 3.176780118331203e-05}. Best is trial 66 with value: 0.6490149724192278.\n",
      "[I 2024-08-30 09:27:21,125] Trial 91 finished with value: 0.6487212551042338 and parameters: {'C': 0.010957255516393226, 'tol': 0.00013033696895517482}. Best is trial 66 with value: 0.6490149724192278.\n",
      "[I 2024-08-30 09:27:21,429] Trial 92 finished with value: 0.6489648255605703 and parameters: {'C': 0.010001491120100967, 'tol': 9.789040052972481e-05}. Best is trial 66 with value: 0.6490149724192278.\n",
      "[I 2024-08-30 09:27:21,514] Trial 93 finished with value: 0.6481982950068057 and parameters: {'C': 0.01218748224859735, 'tol': 6.183886608135763e-05}. Best is trial 66 with value: 0.6490149724192278.\n",
      "[I 2024-08-30 09:27:21,939] Trial 94 finished with value: 0.6489146787019128 and parameters: {'C': 0.010158145237259933, 'tol': 8.630121342397709e-05}. Best is trial 66 with value: 0.6490149724192278.\n",
      "[I 2024-08-30 09:27:22,944] Trial 95 finished with value: 0.6474675836377963 and parameters: {'C': 0.014009088375996232, 'tol': 0.00010311004502433221}. Best is trial 66 with value: 0.6490149724192278.\n",
      "[I 2024-08-30 09:27:23,450] Trial 96 finished with value: 0.6483773909305824 and parameters: {'C': 0.011530527741220249, 'tol': 4.1512842642315284e-05}. Best is trial 66 with value: 0.6490149724192278.\n",
      "[I 2024-08-30 09:27:24,135] Trial 97 finished with value: 0.6249588079375313 and parameters: {'C': 0.36558388866580105, 'tol': 0.00017669630941619227}. Best is trial 66 with value: 0.6490149724192278.\n",
      "[I 2024-08-30 09:27:24,368] Trial 98 finished with value: 0.6480191990830289 and parameters: {'C': 0.012459636607193682, 'tol': 0.0002220557986349579}. Best is trial 66 with value: 0.6490149724192278.\n",
      "[I 2024-08-30 09:27:27,189] Trial 99 finished with value: 0.6379969911884805 and parameters: {'C': 0.05624194025141551, 'tol': 0.0002624294442596509}. Best is trial 66 with value: 0.6490149724192278.\n"
     ]
    }
   ],
   "source": [
    "x = X_train_rus\n",
    "y = y_train_rus.values.ravel()\n",
    "\n",
    "def objective(trial):\n",
    "    params = {'penalty':'l2',\n",
    "             'C':trial.suggest_loguniform(\"C\", 1e-2, 1),\n",
    "             'tol':trial.suggest_uniform('tol' , 1e-6 , 1e-3)\n",
    "             }\n",
    "    model = LogisticRegression(**params)\n",
    "    model.fit(x.drop(columns=['MOM_RACE_White','ETHNIC_GROUP_Non-Hispanic','MARITAL_STATUS_Married']),y)\n",
    "    predictions = model.predict(X_val.drop(columns=['MOM_RACE_White','ETHNIC_GROUP_Non-Hispanic','MARITAL_STATUS_Married']))\n",
    "    predictions_prob = model.predict_proba(X_val.drop(columns=['MOM_RACE_White','ETHNIC_GROUP_Non-Hispanic','MARITAL_STATUS_Married']))[:,1]\n",
    "    BA = balanced_accuracy_score(y_val, predictions)\n",
    "    AUC = roc_auc_score(y_val, predictions_prob)\n",
    "    return AUC\n",
    "\n",
    "sampler = optuna.samplers.TPESampler(seed=0, consider_prior=True, prior_weight=0.5) \n",
    "study = optuna.create_study(direction='maximize',sampler=sampler)\n",
    "study.optimize(objective, n_trials=n_trials)"
   ]
  },
  {
   "cell_type": "code",
   "execution_count": 58,
   "id": "7fa1259f-74bd-488a-a6aa-354d3bace4c9",
   "metadata": {
    "tags": []
   },
   "outputs": [
    {
     "name": "stdout",
     "output_type": "stream",
     "text": [
      "Test AUC: 0.647\n",
      "Test Balanced Accuracy: 0.607\n",
      "Test F1: 0.267\n",
      "Test Precision: 0.176\n",
      "Test Recall: 0.55\n"
     ]
    }
   ],
   "source": [
    "best_glm = LogisticRegression(penalty='l2',**study.best_params)\n",
    "\n",
    "# original evaluation \n",
    "i = -1 # (will output as 0 since iteration = i+1)\n",
    "orig_GLM = pd.DataFrame(model_eval(model=best_glm, model_label='GLM', \n",
    "                                   X_train=x.drop(columns=['MOM_RACE_White','ETHNIC_GROUP_Non-Hispanic','MARITAL_STATUS_Married']), \n",
    "                                   Y_train=y, \n",
    "                                   X_test=X_test.drop(columns=['MOM_RACE_White','ETHNIC_GROUP_Non-Hispanic','MARITAL_STATUS_Married']), \n",
    "                                   Y_test=y_test, outcome_label=outcome, verbose=True))"
   ]
  },
  {
   "cell_type": "code",
   "execution_count": 59,
   "id": "7f621369-70ef-4996-b7ff-e11d26eb8b7a",
   "metadata": {
    "tags": []
   },
   "outputs": [
    {
     "data": {
      "text/plain": [
       "['best_glm_epds_no_reweigh_val.pkl']"
      ]
     },
     "execution_count": 59,
     "metadata": {},
     "output_type": "execute_result"
    }
   ],
   "source": [
    "joblib.dump(best_glm, 'best_glm_epds_no_reweigh_val.pkl') "
   ]
  },
  {
   "cell_type": "markdown",
   "id": "d5ba107a-0f54-4d86-a80a-1a3c1f6ec58e",
   "metadata": {},
   "source": [
    "### Finetune Logistic Regression with Reweighing"
   ]
  },
  {
   "cell_type": "code",
   "execution_count": 61,
   "id": "c084011d-209a-40e9-af4a-33d797274f28",
   "metadata": {
    "tags": []
   },
   "outputs": [
    {
     "name": "stderr",
     "output_type": "stream",
     "text": [
      "[I 2024-08-30 09:27:29,197] A new study created in memory with name: no-name-3001ebfd-011f-4198-994c-7be1d2bcd757\n",
      "[I 2024-08-30 09:27:30,371] Trial 0 finished with value: 0.6100293717314994 and parameters: {'C': 0.12520653814999466, 'tol': 0.0007154741770060471}. Best is trial 0 with value: 0.6100293717314994.\n",
      "[I 2024-08-30 09:27:30,604] Trial 1 finished with value: 0.6077369439071566 and parameters: {'C': 0.16051911333587626, 'tol': 0.0005453382998139}. Best is trial 0 with value: 0.6100293717314994.\n",
      "[I 2024-08-30 09:27:30,706] Trial 2 finished with value: 0.6177591518017049 and parameters: {'C': 0.07035737028722149, 'tol': 0.0006462482189535895}. Best is trial 2 with value: 0.6177591518017049.\n",
      "[I 2024-08-30 09:27:30,818] Trial 3 finished with value: 0.615860735009671 and parameters: {'C': 0.07501954443620121, 'tol': 0.0008918812277812978}. Best is trial 2 with value: 0.6177591518017049.\n",
      "[I 2024-08-30 09:27:30,904] Trial 4 finished with value: 0.6048929006375814 and parameters: {'C': 0.845912652804937, 'tol': 0.00038405807730695197}. Best is trial 2 with value: 0.6177591518017049.\n",
      "[I 2024-08-30 09:27:31,069] Trial 5 finished with value: 0.6040547317143061 and parameters: {'C': 0.3832216850492786, 'tol': 0.0005293660248331517}. Best is trial 2 with value: 0.6177591518017049.\n",
      "[I 2024-08-30 09:27:31,177] Trial 6 finished with value: 0.6090407622322516 and parameters: {'C': 0.1368009527972692, 'tol': 0.0009256710416543685}. Best is trial 2 with value: 0.6177591518017049.\n",
      "[I 2024-08-30 09:27:31,408] Trial 7 finished with value: 0.6338133104090551 and parameters: {'C': 0.013869861245357327, 'tol': 8.804217040183917e-05}. Best is trial 7 with value: 0.6338133104090551.\n",
      "[I 2024-08-30 09:27:31,487] Trial 8 finished with value: 0.6357762017336486 and parameters: {'C': 0.01097581541938016, 'tol': 0.0008327872257023901}. Best is trial 8 with value: 0.6357762017336486.\n",
      "[I 2024-08-30 09:27:31,658] Trial 9 finished with value: 0.6042123361272298 and parameters: {'C': 0.3600091192911608, 'tol': 0.0008701421360985725}. Best is trial 8 with value: 0.6357762017336486.\n",
      "[I 2024-08-30 09:27:31,751] Trial 10 finished with value: 0.6355971058098717 and parameters: {'C': 0.010981684015202449, 'tol': 0.0002971682752486472}. Best is trial 8 with value: 0.6357762017336486.\n",
      "[I 2024-08-30 09:27:33,689] Trial 11 finished with value: 0.6360842467225446 and parameters: {'C': 0.010541916286630135, 'tol': 0.00023259726028489604}. Best is trial 11 with value: 0.6360842467225446.\n",
      "[I 2024-08-30 09:27:33,955] Trial 12 finished with value: 0.6272225804140698 and parameters: {'C': 0.026319438216633215, 'tol': 0.00011378379593651462}. Best is trial 11 with value: 0.6360842467225446.\n",
      "[I 2024-08-30 09:27:34,101] Trial 13 finished with value: 0.6260548749910452 and parameters: {'C': 0.02931859238973027, 'tol': 0.0002744826292981848}. Best is trial 11 with value: 0.6360842467225446.\n",
      "[I 2024-08-30 09:27:34,196] Trial 14 finished with value: 0.6261981517300665 and parameters: {'C': 0.029306391609985258, 'tol': 0.0007433261581992025}. Best is trial 11 with value: 0.6360842467225446.\n",
      "[I 2024-08-30 09:27:34,298] Trial 15 finished with value: 0.6320151873343363 and parameters: {'C': 0.0168856196928263, 'tol': 0.0003664649168838499}. Best is trial 11 with value: 0.6360842467225446.\n",
      "[I 2024-08-30 09:27:34,433] Trial 16 finished with value: 0.6205602120495738 and parameters: {'C': 0.04658795775004732, 'tol': 0.00017288811711478006}. Best is trial 11 with value: 0.6360842467225446.\n",
      "[I 2024-08-30 09:27:35,073] Trial 17 finished with value: 0.6360197721899848 and parameters: {'C': 0.010539883042825389, 'tol': 1.801638564465362e-05}. Best is trial 11 with value: 0.6360842467225446.\n",
      "[I 2024-08-30 09:27:35,290] Trial 18 finished with value: 0.6302887026291283 and parameters: {'C': 0.019622400581121552, 'tol': 6.591231268150916e-06}. Best is trial 11 with value: 0.6360842467225446.\n",
      "[I 2024-08-30 09:27:36,730] Trial 19 finished with value: 0.6221362561788093 and parameters: {'C': 0.04668597637144388, 'tol': 0.00021346542193937136}. Best is trial 11 with value: 0.6360842467225446.\n",
      "[I 2024-08-30 09:27:37,337] Trial 20 finished with value: 0.6363994555483917 and parameters: {'C': 0.010183806000317238, 'tol': 1.1426460663630948e-05}. Best is trial 20 with value: 0.6363994555483917.\n",
      "[I 2024-08-30 09:27:37,884] Trial 21 finished with value: 0.636134393581202 and parameters: {'C': 0.010480602693356152, 'tol': 1.592145731475096e-06}. Best is trial 20 with value: 0.6363994555483917.\n",
      "[I 2024-08-30 09:27:38,037] Trial 22 finished with value: 0.6304033240203454 and parameters: {'C': 0.019295098866019655, 'tol': 0.00011317946275586855}. Best is trial 20 with value: 0.6363994555483917.\n",
      "[I 2024-08-30 09:27:38,470] Trial 23 finished with value: 0.6325668027795688 and parameters: {'C': 0.016075574984753378, 'tol': 1.2192506221187504e-05}. Best is trial 20 with value: 0.6363994555483917.\n",
      "[I 2024-08-30 09:27:38,581] Trial 24 finished with value: 0.6230388996346443 and parameters: {'C': 0.041990922560497426, 'tol': 0.00019075220680218446}. Best is trial 20 with value: 0.6363994555483917.\n",
      "[I 2024-08-30 09:27:38,688] Trial 25 finished with value: 0.6283329751414858 and parameters: {'C': 0.023861164422505136, 'tol': 0.0004312063924426464}. Best is trial 20 with value: 0.6363994555483917.\n",
      "[I 2024-08-30 09:27:38,798] Trial 26 finished with value: 0.6363779640375384 and parameters: {'C': 0.010239551409150052, 'tol': 9.088547991869976e-05}. Best is trial 20 with value: 0.6363994555483917.\n",
      "[I 2024-08-30 09:27:38,921] Trial 27 finished with value: 0.6337846550612508 and parameters: {'C': 0.014014802321010428, 'tol': 8.279791516590184e-05}. Best is trial 20 with value: 0.6363994555483917.\n",
      "[I 2024-08-30 09:27:40,175] Trial 28 finished with value: 0.623110538004155 and parameters: {'C': 0.03718727552329203, 'tol': 0.00015115472324163086}. Best is trial 20 with value: 0.6363994555483917.\n",
      "[I 2024-08-30 09:27:40,777] Trial 29 finished with value: 0.6289777204670821 and parameters: {'C': 0.02223448415103387, 'tol': 7.201977511873682e-05}. Best is trial 20 with value: 0.6363994555483917.\n",
      "[I 2024-08-30 09:27:40,964] Trial 30 finished with value: 0.6335267569310122 and parameters: {'C': 0.014284020256802976, 'tol': 0.00028964357190399266}. Best is trial 20 with value: 0.6363994555483917.\n",
      "[I 2024-08-30 09:27:41,549] Trial 31 finished with value: 0.6366430260047282 and parameters: {'C': 0.010003692084796397, 'tol': 0.0002377225205478467}. Best is trial 31 with value: 0.6366430260047282.\n",
      "[I 2024-08-30 09:27:44,041] Trial 32 finished with value: 0.6364496024070492 and parameters: {'C': 0.010071634640996242, 'tol': 3.77986489775486e-05}. Best is trial 31 with value: 0.6366430260047282.\n",
      "[I 2024-08-30 09:27:44,377] Trial 33 finished with value: 0.6324306898774983 and parameters: {'C': 0.014673045735362608, 'tol': 0.00015019780679820084}. Best is trial 31 with value: 0.6366430260047282.\n",
      "[I 2024-08-30 09:27:44,748] Trial 34 finished with value: 0.6158965541944266 and parameters: {'C': 0.06748732438271464, 'tol': 6.047455405514263e-05}. Best is trial 31 with value: 0.6366430260047282.\n",
      "[I 2024-08-30 09:27:45,037] Trial 35 finished with value: 0.6339565871480763 and parameters: {'C': 0.013412682408827644, 'tol': 0.00024557839719065996}. Best is trial 31 with value: 0.6366430260047282.\n",
      "[I 2024-08-30 09:27:45,411] Trial 36 finished with value: 0.6309119564438714 and parameters: {'C': 0.01865034006613553, 'tol': 0.0003264039557114407}. Best is trial 31 with value: 0.6366430260047282.\n",
      "[I 2024-08-30 09:27:45,566] Trial 37 finished with value: 0.6072712945053371 and parameters: {'C': 0.20413666970964725, 'tol': 0.000628228521865438}. Best is trial 31 with value: 0.6366430260047282.\n",
      "[I 2024-08-30 09:27:45,856] Trial 38 finished with value: 0.613116985457411 and parameters: {'C': 0.08689310403468935, 'tol': 0.00047014493541419774}. Best is trial 31 with value: 0.6366430260047282.\n",
      "[I 2024-08-30 09:27:46,780] Trial 39 finished with value: 0.623117701841106 and parameters: {'C': 0.035563412785072614, 'tol': 6.118223422661732e-05}. Best is trial 31 with value: 0.6366430260047282.\n",
      "[I 2024-08-30 09:27:47,427] Trial 40 finished with value: 0.6340210616806362 and parameters: {'C': 0.013404537846517394, 'tol': 0.00013055548688787816}. Best is trial 31 with value: 0.6366430260047282.\n",
      "[I 2024-08-30 09:27:47,961] Trial 41 finished with value: 0.636034099863887 and parameters: {'C': 0.010495965326658634, 'tol': 2.8309071626886418e-05}. Best is trial 31 with value: 0.6366430260047282.\n",
      "[I 2024-08-30 09:27:48,094] Trial 42 finished with value: 0.6346084963106239 and parameters: {'C': 0.01237838022006293, 'tol': 5.3629017338801386e-05}. Best is trial 31 with value: 0.6366430260047282.\n",
      "[I 2024-08-30 09:27:48,274] Trial 43 finished with value: 0.6362561788093704 and parameters: {'C': 0.010383862648238793, 'tol': 3.0123624686830973e-06}. Best is trial 31 with value: 0.6366430260047282.\n",
      "[I 2024-08-30 09:27:48,663] Trial 44 finished with value: 0.6312200014327674 and parameters: {'C': 0.017931965528530505, 'tol': 0.000991701635260921}. Best is trial 31 with value: 0.6366430260047282.\n",
      "[I 2024-08-30 09:27:48,774] Trial 45 finished with value: 0.6293788953363422 and parameters: {'C': 0.023025261870479277, 'tol': 0.00012680107244279981}. Best is trial 31 with value: 0.6366430260047282.\n",
      "[I 2024-08-30 09:27:48,948] Trial 46 finished with value: 0.6350239988537861 and parameters: {'C': 0.01186023848877134, 'tol': 0.00020291745230524366}. Best is trial 31 with value: 0.6366430260047282.\n",
      "[I 2024-08-30 09:27:49,048] Trial 47 finished with value: 0.6364209470592448 and parameters: {'C': 0.010144834536926038, 'tol': 8.75908607235422e-05}. Best is trial 31 with value: 0.6366430260047282.\n",
      "[I 2024-08-30 09:27:49,126] Trial 48 finished with value: 0.600809513575471 and parameters: {'C': 0.6758576935769542, 'tol': 9.527143294811975e-05}. Best is trial 31 with value: 0.6366430260047282.\n",
      "[I 2024-08-30 09:27:49,320] Trial 49 finished with value: 0.6325453112687155 and parameters: {'C': 0.01617492762133233, 'tol': 0.00017836724649366762}. Best is trial 31 with value: 0.6366430260047282.\n",
      "[I 2024-08-30 09:27:50,501] Trial 50 finished with value: 0.6345870047997707 and parameters: {'C': 0.012312257747219299, 'tol': 0.0002612880921375588}. Best is trial 31 with value: 0.6366430260047282.\n",
      "[I 2024-08-30 09:27:51,217] Trial 51 finished with value: 0.6363349810158321 and parameters: {'C': 0.010272338187859133, 'tol': 5.3391642028449736e-05}. Best is trial 31 with value: 0.6366430260047282.\n",
      "[I 2024-08-30 09:27:51,368] Trial 52 finished with value: 0.6329823053227308 and parameters: {'C': 0.015878185474296373, 'tol': 9.999491055676302e-05}. Best is trial 31 with value: 0.6366430260047282.\n",
      "[I 2024-08-30 09:27:51,564] Trial 53 finished with value: 0.6346013324736729 and parameters: {'C': 0.012445284283859371, 'tol': 5.105323334128227e-05}. Best is trial 31 with value: 0.6366430260047282.\n",
      "[I 2024-08-30 09:27:51,709] Trial 54 finished with value: 0.6364496024070492 and parameters: {'C': 0.010208443599252172, 'tol': 0.00015814358281353007}. Best is trial 31 with value: 0.6366430260047282.\n",
      "[I 2024-08-30 09:27:51,980] Trial 55 finished with value: 0.630267211118275 and parameters: {'C': 0.020127623684577902, 'tol': 0.0003413427352531308}. Best is trial 31 with value: 0.6366430260047282.\n",
      "[I 2024-08-30 09:27:52,035] Trial 56 finished with value: 0.6326456049860305 and parameters: {'C': 0.016011018672846346, 'tol': 0.00015529279886137269}. Best is trial 31 with value: 0.6366430260047282.\n",
      "[I 2024-08-30 09:27:52,247] Trial 57 finished with value: 0.6258471237194642 and parameters: {'C': 0.030233903054006462, 'tol': 0.0002164853194691899}. Best is trial 31 with value: 0.6366430260047282.\n",
      "[I 2024-08-30 09:27:52,538] Trial 58 finished with value: 0.6366430260047281 and parameters: {'C': 0.010015485467769855, 'tol': 0.00012577915860881956}. Best is trial 31 with value: 0.6366430260047282.\n",
      "[I 2024-08-30 09:27:52,677] Trial 59 finished with value: 0.6081022995916612 and parameters: {'C': 0.19479421698399238, 'tol': 0.00012623211019511198}. Best is trial 31 with value: 0.6366430260047282.\n",
      "[I 2024-08-30 09:27:52,796] Trial 60 finished with value: 0.6344652195716025 and parameters: {'C': 0.01266513612013807, 'tol': 0.00039008774893391847}. Best is trial 31 with value: 0.6366430260047282.\n",
      "[I 2024-08-30 09:27:54,178] Trial 61 finished with value: 0.6362776703202235 and parameters: {'C': 0.010311480889988485, 'tol': 9.71144644758686e-05}. Best is trial 31 with value: 0.6366430260047282.\n",
      "[I 2024-08-30 09:27:54,756] Trial 62 finished with value: 0.6353463715165844 and parameters: {'C': 0.011491992323579258, 'tol': 0.0001666301587271431}. Best is trial 31 with value: 0.6366430260047282.\n",
      "[I 2024-08-30 09:27:55,006] Trial 63 finished with value: 0.633304677985529 and parameters: {'C': 0.01496819904429364, 'tol': 3.950551774816852e-05}. Best is trial 31 with value: 0.6366430260047282.\n",
      "[I 2024-08-30 09:27:55,275] Trial 64 finished with value: 0.6366072068199728 and parameters: {'C': 0.010093638724720508, 'tol': 0.00024183455652913055}. Best is trial 31 with value: 0.6366430260047282.\n",
      "[I 2024-08-30 09:27:55,593] Trial 65 finished with value: 0.6310337416720395 and parameters: {'C': 0.017976424880355342, 'tol': 0.0002161205929529653}. Best is trial 31 with value: 0.6366430260047282.\n",
      "[I 2024-08-30 09:27:55,728] Trial 66 finished with value: 0.6296941041621893 and parameters: {'C': 0.021136967134459877, 'tol': 0.0002585841277239189}. Best is trial 31 with value: 0.6366430260047282.\n",
      "[I 2024-08-30 09:27:55,867] Trial 67 finished with value: 0.6340282255175873 and parameters: {'C': 0.01340196031090045, 'tol': 0.00030342165614630776}. Best is trial 31 with value: 0.6366430260047282.\n",
      "[I 2024-08-30 09:27:56,183] Trial 68 finished with value: 0.6287699691955011 and parameters: {'C': 0.02628134943185153, 'tol': 0.00018809005737275967}. Best is trial 31 with value: 0.6366430260047282.\n",
      "[I 2024-08-30 09:27:56,712] Trial 69 finished with value: 0.6350884733863458 and parameters: {'C': 0.011871365863133114, 'tol': 0.00013837816273919222}. Best is trial 31 with value: 0.6366430260047282.\n",
      "[I 2024-08-30 09:27:58,391] Trial 70 finished with value: 0.6319077297800701 and parameters: {'C': 0.016822848312175863, 'tol': 0.00022572775540299542}. Best is trial 31 with value: 0.6366430260047282.\n",
      "[I 2024-08-30 09:27:58,570] Trial 71 finished with value: 0.6364639300809514 and parameters: {'C': 0.010164852006073623, 'tol': 0.0005660520081530792}. Best is trial 31 with value: 0.6366430260047282.\n",
      "[I 2024-08-30 09:27:59,325] Trial 72 finished with value: 0.6352818969840247 and parameters: {'C': 0.01149760822340507, 'tol': 0.0005558157333919704}. Best is trial 31 with value: 0.6366430260047282.\n",
      "[I 2024-08-30 09:28:01,680] Trial 73 finished with value: 0.6366860090264346 and parameters: {'C': 0.010056476714501132, 'tol': 0.0006612554930971712}. Best is trial 73 with value: 0.6366860090264346.\n",
      "[I 2024-08-30 09:28:01,779] Trial 74 finished with value: 0.6338562934307616 and parameters: {'C': 0.013840192280605098, 'tol': 0.0006659636204175317}. Best is trial 73 with value: 0.6366860090264346.\n",
      "[I 2024-08-30 09:28:01,871] Trial 75 finished with value: 0.633498101583208 and parameters: {'C': 0.014388606720909835, 'tol': 0.0007334241076688196}. Best is trial 73 with value: 0.6366860090264346.\n",
      "[I 2024-08-30 09:28:02,109] Trial 76 finished with value: 0.6365355684504621 and parameters: {'C': 0.010062037465432187, 'tol': 0.0005710106124252913}. Best is trial 73 with value: 0.6366860090264346.\n",
      "[I 2024-08-30 09:28:02,233] Trial 77 finished with value: 0.635217422451465 and parameters: {'C': 0.011776520334678065, 'tol': 0.0005781210096475255}. Best is trial 73 with value: 0.6366860090264346.\n",
      "[I 2024-08-30 09:28:02,355] Trial 78 finished with value: 0.6332831864746757 and parameters: {'C': 0.01484323923940409, 'tol': 0.0004893603080797366}. Best is trial 73 with value: 0.6366860090264346.\n",
      "[I 2024-08-30 09:28:02,467] Trial 79 finished with value: 0.6365785514721685 and parameters: {'C': 0.01005741246620319, 'tol': 0.0007883250068738184}. Best is trial 73 with value: 0.6366860090264346.\n",
      "[I 2024-08-30 09:28:02,572] Trial 80 finished with value: 0.6192205745397235 and parameters: {'C': 0.05509521111389511, 'tol': 0.0007987292169453301}. Best is trial 73 with value: 0.6366860090264346.\n",
      "[I 2024-08-30 09:28:02,708] Trial 81 finished with value: 0.6368149580915539 and parameters: {'C': 0.010034124275389217, 'tol': 0.000625697938353329}. Best is trial 81 with value: 0.6368149580915539.\n",
      "[I 2024-08-30 09:28:02,787] Trial 82 finished with value: 0.6352818969840246 and parameters: {'C': 0.011657690273989612, 'tol': 0.0006283312178483688}. Best is trial 81 with value: 0.6368149580915539.\n",
      "[I 2024-08-30 09:28:02,963] Trial 83 finished with value: 0.6344508918977003 and parameters: {'C': 0.01270027270244374, 'tol': 0.0006889609615700478}. Best is trial 81 with value: 0.6368149580915539.\n",
      "[I 2024-08-30 09:28:03,072] Trial 84 finished with value: 0.635511139766459 and parameters: {'C': 0.011209058980572008, 'tol': 0.0005957764159350395}. Best is trial 81 with value: 0.6368149580915539.\n",
      "[I 2024-08-30 09:28:03,884] Trial 85 finished with value: 0.6338634572677125 and parameters: {'C': 0.013411078669075762, 'tol': 0.0005237887877696368}. Best is trial 81 with value: 0.6368149580915539.\n",
      "[I 2024-08-30 09:28:04,920] Trial 86 finished with value: 0.6311483630632567 and parameters: {'C': 0.01774820540410788, 'tol': 0.000810235840064563}. Best is trial 81 with value: 0.6368149580915539.\n",
      "[I 2024-08-30 09:28:04,999] Trial 87 finished with value: 0.6365498961243643 and parameters: {'C': 0.010074956663841098, 'tol': 0.0006900001581511001}. Best is trial 81 with value: 0.6368149580915539.\n",
      "[I 2024-08-30 09:28:05,429] Trial 88 finished with value: 0.6329536499749265 and parameters: {'C': 0.015655114526021693, 'tol': 0.0006915035533103017}. Best is trial 81 with value: 0.6368149580915539.\n",
      "[I 2024-08-30 09:28:05,527] Trial 89 finished with value: 0.6132029515008238 and parameters: {'C': 0.11623549617580875, 'tol': 0.0006099999076531388}. Best is trial 81 with value: 0.6368149580915539.\n",
      "[I 2024-08-30 09:28:05,743] Trial 90 finished with value: 0.6354824844186546 and parameters: {'C': 0.011129521228900426, 'tol': 0.000766952536775174}. Best is trial 81 with value: 0.6368149580915539.\n",
      "[I 2024-08-30 09:28:05,848] Trial 91 finished with value: 0.6344652195716025 and parameters: {'C': 0.012708590531129847, 'tol': 0.0006538297376101873}. Best is trial 81 with value: 0.6368149580915539.\n",
      "[I 2024-08-30 09:28:06,366] Trial 92 finished with value: 0.636528404613511 and parameters: {'C': 0.010008444400421555, 'tol': 0.0008657226346591984}. Best is trial 81 with value: 0.6368149580915539.\n",
      "[I 2024-08-30 09:28:06,520] Trial 93 finished with value: 0.6365140769396089 and parameters: {'C': 0.010126442922167037, 'tol': 0.0009095434187894882}. Best is trial 81 with value: 0.6368149580915539.\n",
      "[I 2024-08-30 09:28:06,661] Trial 94 finished with value: 0.6354824844186546 and parameters: {'C': 0.01136822453012378, 'tol': 0.0008697642364097001}. Best is trial 81 with value: 0.6368149580915539.\n",
      "[I 2024-08-30 09:28:07,932] Trial 95 finished with value: 0.6338204742460061 and parameters: {'C': 0.013740561618846592, 'tol': 0.0009406684103323609}. Best is trial 81 with value: 0.6368149580915539.\n",
      "[I 2024-08-30 09:28:08,860] Trial 96 finished with value: 0.6366788451894836 and parameters: {'C': 0.010070668045070206, 'tol': 0.0008872732015736605}. Best is trial 81 with value: 0.6368149580915539.\n",
      "[I 2024-08-30 09:28:09,071] Trial 97 finished with value: 0.6345082025933089 and parameters: {'C': 0.01255305653864242, 'tol': 0.0008472442970034176}. Best is trial 81 with value: 0.6368149580915539.\n",
      "[I 2024-08-30 09:28:09,158] Trial 98 finished with value: 0.6332115481051651 and parameters: {'C': 0.015136811913885731, 'tol': 0.0007762267962326834}. Best is trial 81 with value: 0.6368149580915539.\n",
      "[I 2024-08-30 09:28:09,241] Trial 99 finished with value: 0.6354251737230461 and parameters: {'C': 0.011493175364135681, 'tol': 0.000723230000706982}. Best is trial 81 with value: 0.6368149580915539.\n"
     ]
    }
   ],
   "source": [
    "x = X_train_rus\n",
    "y = y_train_rus.values.ravel()\n",
    "w = weights_rus\n",
    "\n",
    "def objective(trial):\n",
    "    params = {'penalty':'l2',\n",
    "             'C':trial.suggest_loguniform(\"C\", 1e-2, 1),\n",
    "             'tol':trial.suggest_uniform('tol' , 1e-6 , 1e-3)\n",
    "             }\n",
    "    model = LogisticRegression(**params)\n",
    "    model.fit(x.drop(columns=['MOM_RACE_White','ETHNIC_GROUP_Non-Hispanic','MARITAL_STATUS_Married']), y, sample_weight=w)\n",
    "    predictions = model.predict(X_val.drop(columns=['MOM_RACE_White','ETHNIC_GROUP_Non-Hispanic','MARITAL_STATUS_Married']))\n",
    "    predictions_prob = model.predict_proba(X_val.drop(columns=['MOM_RACE_White','ETHNIC_GROUP_Non-Hispanic','MARITAL_STATUS_Married']))[:,1]\n",
    "    BA = balanced_accuracy_score(y_val, predictions)\n",
    "    AUC = roc_auc_score(y_val, predictions_prob)\n",
    "    return AUC\n",
    "\n",
    "sampler = optuna.samplers.TPESampler(seed=0, consider_prior=True, prior_weight=0.5) \n",
    "study = optuna.create_study(direction='maximize',sampler=sampler)\n",
    "study.optimize(objective, n_trials=n_trials)"
   ]
  },
  {
   "cell_type": "code",
   "execution_count": 62,
   "id": "5dad889e-98e6-4ae5-94b0-716eb5ca09e0",
   "metadata": {
    "tags": []
   },
   "outputs": [
    {
     "name": "stdout",
     "output_type": "stream",
     "text": [
      "Test AUC: 0.637\n",
      "Test Balanced Accuracy: 0.616\n",
      "Test F1: 0.275\n",
      "Test Precision: 0.182\n",
      "Test Recall: 0.56\n"
     ]
    }
   ],
   "source": [
    "best_glm2 = LogisticRegression(penalty='l2',**study.best_params)\n",
    "\n",
    "# original evaluation \n",
    "i = -1 # (will output as 0 since iteration = i+1)\n",
    "orig_GLM2 = pd.DataFrame(model_eval(model=best_glm2, model_label='GLM', \n",
    "                                    X_train=x.drop(columns=['MOM_RACE_White','ETHNIC_GROUP_Non-Hispanic','MARITAL_STATUS_Married']), \n",
    "                                    Y_train=y, \n",
    "                                    X_test=X_test.drop(columns=['MOM_RACE_White','ETHNIC_GROUP_Non-Hispanic','MARITAL_STATUS_Married']), \n",
    "                                    Y_test=y_test, outcome_label=outcome, W=w, verbose=True))"
   ]
  },
  {
   "cell_type": "code",
   "execution_count": 63,
   "id": "16bb6171-479b-421a-81d0-9c22ccf90743",
   "metadata": {
    "tags": []
   },
   "outputs": [
    {
     "data": {
      "text/plain": [
       "['best_glm_epds_reweigh_val.pkl']"
      ]
     },
     "execution_count": 63,
     "metadata": {},
     "output_type": "execute_result"
    }
   ],
   "source": [
    "joblib.dump(best_glm2, 'best_glm_epds_reweigh_val.pkl')"
   ]
  },
  {
   "cell_type": "code",
   "execution_count": 64,
   "id": "47377845-eb27-4b41-ac17-4e58bab4d6d4",
   "metadata": {
    "tags": []
   },
   "outputs": [],
   "source": [
    "orig_results = pd.concat([orig_XGB,orig_XGB2,orig_RF,orig_RF2,orig_GLM,orig_GLM2],axis=0)\n",
    "orig_results.to_excel(\"EPDS_orig_results.xlsx\")"
   ]
  },
  {
   "cell_type": "markdown",
   "id": "2ca6bd11-fdf7-497c-997f-49ba753e9a65",
   "metadata": {},
   "source": [
    "# Boostrap Test Results"
   ]
  },
  {
   "cell_type": "code",
   "execution_count": 66,
   "id": "7c96197f-85f4-4624-9105-4aaed0dba4e1",
   "metadata": {
    "tags": []
   },
   "outputs": [],
   "source": [
    "best_glm = joblib.load('best_glm_phq9_no_reweigh_val.pkl')\n",
    "best_glm2 = joblib.load('best_glm_phq9_reweigh_val.pkl')\n",
    "\n",
    "best_rf = joblib.load('best_rf_phq9_no_reweigh_val.pkl')\n",
    "best_rf2 = joblib.load('best_rf_phq9_reweigh_val.pkl')\n",
    "\n",
    "best_xgb = joblib.load('best_xgb_phq9_no_reweigh_val.pkl')\n",
    "best_xgb2 = joblib.load('best_xgb_phq9_reweigh_val.pkl')"
   ]
  },
  {
   "cell_type": "code",
   "execution_count": 67,
   "id": "b9d3e564-3ab4-42c2-a938-7d1bda7cb2f0",
   "metadata": {
    "tags": []
   },
   "outputs": [
    {
     "name": "stdout",
     "output_type": "stream",
     "text": [
      "Iteration 0 complete\n",
      "Iteration 10 complete\n",
      "Iteration 20 complete\n",
      "Iteration 30 complete\n",
      "Iteration 40 complete\n",
      "Iteration 50 complete\n",
      "Iteration 60 complete\n",
      "Iteration 70 complete\n",
      "Iteration 80 complete\n",
      "Iteration 90 complete\n"
     ]
    }
   ],
   "source": [
    "boot_test_results = pd.DataFrame()\n",
    "outcome = 'EPDS_risk2'\n",
    "for i in range(100):\n",
    "    test_set_boot = pd.concat([y_test,X_test],axis=1).sample(n=len(X_test), replace=True, random_state=i, ignore_index=True)\n",
    "    x = pd.DataFrame(test_set_boot.drop([outcome], axis=1))\n",
    "    y = pd.DataFrame(test_set_boot[outcome])\n",
    "        \n",
    "    boot_test_results = pd.concat([boot_test_results,pd.DataFrame(model_eval(model=best_xgb, model_label='XGB', X_train = X_train_rus, Y_train = y_train_rus.values.ravel(), X_test = x, Y_test = y, outcome_label=outcome, verbose=False))],axis=0)\n",
    "    boot_test_results = pd.concat([boot_test_results,pd.DataFrame(model_eval(model=best_xgb2, model_label='XGB', X_train = X_train_rus, Y_train = y_train_rus.values.ravel(), X_test = x, Y_test = y, outcome_label=outcome, W=weights_rus, verbose=False))],axis=0)\n",
    "    boot_test_results = pd.concat([boot_test_results,pd.DataFrame(model_eval(model=best_rf, model_label='RF', X_train = X_train_rus, Y_train = y_train_rus.values.ravel(), X_test = x, Y_test = y, outcome_label=outcome, verbose=False))],axis=0)\n",
    "    boot_test_results = pd.concat([boot_test_results,pd.DataFrame(model_eval(model=best_rf2, model_label='RF', X_train = X_train_rus, Y_train = y_train_rus.values.ravel(), X_test = x, Y_test = y, outcome_label=outcome, W=weights_rus, verbose=False))],axis=0)\n",
    "    boot_test_results = pd.concat([boot_test_results,pd.DataFrame(model_eval(model=best_glm, model_label='LR', \n",
    "                                                                             X_train = X_train_rus.drop(columns=['MOM_RACE_White','ETHNIC_GROUP_Non-Hispanic','MARITAL_STATUS_Married']), \n",
    "                                                                             Y_train = y_train_rus.values.ravel(), \n",
    "                                                                             X_test = x.drop(columns=['MOM_RACE_White','ETHNIC_GROUP_Non-Hispanic','MARITAL_STATUS_Married']), \n",
    "                                                                             Y_test = y,outcome_label=outcome, verbose=False))],axis=0)\n",
    "    boot_test_results = pd.concat([boot_test_results,pd.DataFrame(model_eval(model=best_glm2, model_label='LR',\n",
    "                                                                             X_train = X_train_rus.drop(columns=['MOM_RACE_White','ETHNIC_GROUP_Non-Hispanic','MARITAL_STATUS_Married']), \n",
    "                                                                             Y_train = y_train_rus.values.ravel(), \n",
    "                                                                             X_test = x.drop(columns=['MOM_RACE_White','ETHNIC_GROUP_Non-Hispanic','MARITAL_STATUS_Married']), \n",
    "                                                                             Y_test = y, outcome_label=outcome, W=weights_rus, verbose=False))],axis=0)\n",
    "    if (i % 10==0):\n",
    "        print(\"Iteration\",i,\"complete\")"
   ]
  },
  {
   "cell_type": "code",
   "execution_count": 68,
   "id": "5f06c129-819f-4215-ad89-9f7e23884db7",
   "metadata": {
    "tags": []
   },
   "outputs": [],
   "source": [
    "boot_test_results.to_excel(\"EPDS_boot_test_results.xlsx\")"
   ]
  },
  {
   "cell_type": "markdown",
   "id": "ec40da63-9719-41e9-a194-bd6cbba79317",
   "metadata": {},
   "source": [
    "# Evaluate Models Over Many Splits"
   ]
  },
  {
   "cell_type": "code",
   "execution_count": 70,
   "id": "e847400e-0ab3-4db6-b5ff-3d482a9d0a8f",
   "metadata": {
    "tags": []
   },
   "outputs": [
    {
     "name": "stdout",
     "output_type": "stream",
     "text": [
      "Iteration 0 complete\n",
      "Iteration 1 complete\n",
      "Iteration 2 complete\n",
      "Iteration 3 complete\n",
      "Iteration 4 complete\n",
      "Iteration 5 complete\n",
      "Iteration 6 complete\n",
      "Iteration 7 complete\n",
      "Iteration 8 complete\n",
      "Iteration 9 complete\n"
     ]
    }
   ],
   "source": [
    "outcome = 'EPDS_risk2'\n",
    "\n",
    "# split into X and y\n",
    "X = data.drop([outcome], axis=1)\n",
    "Y = data[[outcome]]\n",
    "repeat_results = pd.DataFrame()\n",
    "\n",
    "n_repeat = 10\n",
    "k_fold = 10\n",
    "for i in range(n_repeat):\n",
    "    kf = KFold(n_splits=k_fold, random_state=i, shuffle=True)\n",
    "    for k, (train_index, test_index) in enumerate(kf.split(X)):\n",
    "        \n",
    "        x_train = X.iloc[train_index]\n",
    "        y_train = Y.iloc[train_index]\n",
    "        \n",
    "        x_test = X.iloc[test_index]\n",
    "        x_test = x_test.drop(['w'], axis=1)\n",
    "        y_test = Y.iloc[test_index]\n",
    "        \n",
    "        rus = RandomUnderSampler(sampling_strategy = \"auto\", random_state=0)\n",
    "        x_train_rus, y_train_rus = rus.fit_resample(x_train, y_train)\n",
    "        weights_rus = x_train_rus['w']\n",
    "        x_train_rus = x_train_rus.drop(['w'], axis=1)\n",
    "        y_train_rus.value_counts()\n",
    "        \n",
    "        repeat_results = pd.concat([repeat_results,pd.DataFrame(model_eval(model=best_xgb, model_label='XGB', X_train = x_train_rus, Y_train = y_train_rus, X_test = x_test, Y_test = y_test, outcome_label=outcome, verbose=False))],axis=0)\n",
    "        repeat_results = pd.concat([repeat_results,pd.DataFrame(model_eval(model=best_xgb2, model_label='XGB', X_train = x_train_rus, Y_train = y_train_rus, X_test = x_test, Y_test = y_test, outcome_label=outcome, W=weights_rus, verbose=False))],axis=0)\n",
    "        repeat_results = pd.concat([repeat_results,pd.DataFrame(model_eval(model=best_rf, model_label='RF', X_train = x_train_rus, Y_train = y_train_rus, X_test = x_test, Y_test = y_test, outcome_label=outcome, verbose=False))],axis=0)\n",
    "        repeat_results = pd.concat([repeat_results,pd.DataFrame(model_eval(model=best_rf2, model_label='RF', X_train = x_train_rus, Y_train = y_train_rus, X_test = x_test, Y_test = y_test, outcome_label=outcome, W=weights_rus, verbose=False))],axis=0)\n",
    "        repeat_results = pd.concat([repeat_results,pd.DataFrame(model_eval(model=best_glm, model_label='LR', \n",
    "                                                                           X_train = x_train_rus.drop(columns=['MOM_RACE_White','ETHNIC_GROUP_Non-Hispanic','MARITAL_STATUS_Married']), \n",
    "                                                                           Y_train = y_train_rus, \n",
    "                                                                           X_test = x_test.drop(columns=['MOM_RACE_White','ETHNIC_GROUP_Non-Hispanic','MARITAL_STATUS_Married']), \n",
    "                                                                           Y_test = y_test, outcome_label=outcome, verbose=False))],axis=0)\n",
    "        repeat_results = pd.concat([repeat_results,pd.DataFrame(model_eval(model=best_glm2, model_label='LR',\n",
    "                                                                           X_train = x_train_rus.drop(columns=['MOM_RACE_White','ETHNIC_GROUP_Non-Hispanic','MARITAL_STATUS_Married']), \n",
    "                                                                           Y_train = y_train_rus, \n",
    "                                                                           X_test = x_test.drop(columns=['MOM_RACE_White','ETHNIC_GROUP_Non-Hispanic','MARITAL_STATUS_Married']), \n",
    "                                                                           Y_test = y_test, outcome_label=outcome, W=weights_rus, verbose=False))],axis=0)\n",
    "    print(\"Iteration\",i,\"complete\")"
   ]
  },
  {
   "cell_type": "code",
   "execution_count": 71,
   "id": "2690fb2e-b794-490a-8516-e04b67d528f6",
   "metadata": {
    "tags": []
   },
   "outputs": [],
   "source": [
    "repeat_results.to_excel(\"EPDS_repeat_results.xlsx\")"
   ]
  },
  {
   "cell_type": "code",
   "execution_count": 117,
   "id": "b9f11594-5cca-4820-adf7-88f36b1ff098",
   "metadata": {
    "tags": []
   },
   "outputs": [
    {
     "name": "stderr",
     "output_type": "stream",
     "text": [
      "[NbConvertApp] Converting notebook model_finetune_EPDS_new.ipynb to html\n",
      "[NbConvertApp] Writing 1052987 bytes to model_finetune_EPDS_new.html\n"
     ]
    },
    {
     "data": {
      "text/plain": [
       "0"
      ]
     },
     "execution_count": 117,
     "metadata": {},
     "output_type": "execute_result"
    }
   ],
   "source": [
    "# save this file and output as html\n",
    "import os\n",
    "os.system('jupyter nbconvert --to html model_finetune_EPDS_new.ipynb')"
   ]
  },
  {
   "cell_type": "code",
   "execution_count": null,
   "id": "d7fb5297-6718-4b05-92c9-9b9bc2f1153f",
   "metadata": {},
   "outputs": [],
   "source": []
  }
 ],
 "metadata": {
  "kernelspec": {
   "display_name": "Python 3 (ipykernel)",
   "language": "python",
   "name": "python3"
  },
  "language_info": {
   "codemirror_mode": {
    "name": "ipython",
    "version": 3
   },
   "file_extension": ".py",
   "mimetype": "text/x-python",
   "name": "python",
   "nbconvert_exporter": "python",
   "pygments_lexer": "ipython3",
   "version": "3.11.9"
  }
 },
 "nbformat": 4,
 "nbformat_minor": 5
}
