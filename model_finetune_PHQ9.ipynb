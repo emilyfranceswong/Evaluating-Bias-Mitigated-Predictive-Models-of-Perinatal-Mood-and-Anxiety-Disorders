{
 "cells": [
  {
   "cell_type": "markdown",
   "id": "b2027b5e-e41c-478f-9f62-0401792651f6",
   "metadata": {},
   "source": [
    "Author: Emily Wong \\\n",
    "August 30, 2024"
   ]
  },
  {
   "cell_type": "markdown",
   "id": "c9c7e1be-5ddd-4911-9a86-03519a5e0df4",
   "metadata": {},
   "source": [
    "# 1. Import libraries, methods, and data"
   ]
  },
  {
   "cell_type": "markdown",
   "id": "e7c9eaeb-a2e6-47d0-a7c0-886d00fbe0c6",
   "metadata": {},
   "source": [
    "## 1.1. Libraries"
   ]
  },
  {
   "cell_type": "code",
   "execution_count": 1,
   "id": "d7304b8d-d3fb-4a48-b6fd-6e9b239a0e80",
   "metadata": {
    "tags": []
   },
   "outputs": [],
   "source": [
    "import warnings\n",
    "warnings.filterwarnings('ignore')\n",
    "\n",
    "# Data wrangling\n",
    "import pandas as pd\n",
    "import numpy as np\n",
    "from numpy.random import uniform, normal, seed\n",
    "\n",
    "# Machine learning\n",
    "import sklearn\n",
    "from sklearn.ensemble import RandomForestClassifier\n",
    "from sklearn.linear_model import LogisticRegression\n",
    "from sklearn.metrics import f1_score, precision_score, recall_score, roc_auc_score, balanced_accuracy_score, confusion_matrix, ConfusionMatrixDisplay\n",
    "from sklearn.model_selection import train_test_split, KFold, RepeatedKFold, cross_val_score\n",
    "from sklearn.model_selection import cross_val_score\n",
    "import scipy\n",
    "from scipy.stats import randint\n",
    "import xgboost as xgb\n",
    "from imblearn.under_sampling import RandomUnderSampler\n",
    "import optuna\n",
    "import joblib\n",
    "\n",
    "# Visualisation\n",
    "from sklearn.tree import export_graphviz\n",
    "from IPython.display import Image\n",
    "import graphviz\n",
    "import matplotlib.pyplot as plt\n",
    "import seaborn as sns # for kernel density plots\n",
    "\n",
    "# for nested dictionary (calc_weights method)\n",
    "import collections\n",
    "def makehash():\n",
    "    return collections.defaultdict(makehash)\n",
    "\n",
    "# Fairness\n",
    "import aif360\n",
    "import fairlearn\n",
    "from fairlearn.metrics import demographic_parity_difference, demographic_parity_ratio, equalized_odds_difference, equalized_odds_ratio, false_negative_rate"
   ]
  },
  {
   "cell_type": "markdown",
   "id": "282ff032-c721-4d7f-8987-17837b27eb67",
   "metadata": {},
   "source": [
    "## 1.2 Reweighing Method"
   ]
  },
  {
   "cell_type": "code",
   "execution_count": 3,
   "id": "af0268d1-547f-41cb-b0b6-5ee1b2ab1c95",
   "metadata": {
    "tags": []
   },
   "outputs": [],
   "source": [
    "def calc_weights(df, sens_features_name, outcome_name):\n",
    "    ''' Calculate sample weights according to calculationg given in \n",
    "           F. Kamiran and T. Calders,  \"Data Preprocessing Techniques for\n",
    "           Classification without Discrimination,\" Knowledge and Information\n",
    "           Systems, 2012.\n",
    "    ''' \n",
    "    \n",
    "    # combination of label and groups (outputs a table)\n",
    "    sens_features = df[sens_features_name]\n",
    "    outcome = df[outcome_name]\n",
    "    tab = pd.DataFrame(pd.crosstab(index=sens_features, columns=outcome))\n",
    "\n",
    "    # reweighing weights\n",
    "    w = makehash()\n",
    "    n = len(df)\n",
    "    for r in tab.index:\n",
    "        key1 = str(r)\n",
    "        row_sum = tab.loc[r].sum(axis=0)\n",
    "        for c in tab.columns:\n",
    "            key2 = str(c)\n",
    "            col_sum = tab[c].sum()\n",
    "            if tab.loc[r,c] == 0:\n",
    "                n_combo = 1\n",
    "            else:\n",
    "                n_combo = tab.loc[r,c]\n",
    "            val = (row_sum*col_sum)/(n*n_combo)\n",
    "            w[key1][key2] = val\n",
    "    \n",
    "    # Instance weights\n",
    "    instance_weights = []\n",
    "    for index, row in df.iterrows():\n",
    "        race = row[sens_features_name]\n",
    "        out = row[outcome_name]\n",
    "        instance_weights.append(w[race][str(out)])\n",
    "\n",
    "    return instance_weights"
   ]
  },
  {
   "cell_type": "code",
   "execution_count": 4,
   "id": "f6855166-414b-46c8-8dbf-9b8dc158e238",
   "metadata": {
    "tags": []
   },
   "outputs": [],
   "source": [
    "def model_eval(model, model_label, X_train, Y_train, X_test, Y_test, outcome_label, W=None, verbose=False):\n",
    "    results = []\n",
    "    o = outcome_label\n",
    "    \n",
    "    # Fit model\n",
    "    if W is None:\n",
    "        model.fit(X_train,Y_train)\n",
    "    else:\n",
    "        model.fit(X_train,Y_train, sample_weight=W)\n",
    "    \n",
    "    # Model predictions on test\n",
    "    y_pred = model.predict(X_test)\n",
    "    y_pred_prob = model.predict_proba(X_test)[:,1]\n",
    "    \n",
    "    # Test performance metrics\n",
    "    test_f1 = np.round(f1_score(Y_test,y_pred),3)\n",
    "    test_precision = np.round(precision_score(Y_test,y_pred),3)\n",
    "    test_recall = np.round(recall_score(Y_test,y_pred),3)\n",
    "    test_balanced_acc = np.round(balanced_accuracy_score(Y_test,y_pred),3)\n",
    "    test_auc = np.round(roc_auc_score(Y_test,y_pred_prob),3)\n",
    "    \n",
    "    # Print model performance\n",
    "    if verbose == True:\n",
    "        print('Test AUC:', test_auc)\n",
    "        print('Test Balanced Accuracy:', test_balanced_acc)\n",
    "        print('Test F1:', test_f1)\n",
    "        print('Test Precision:', test_precision)\n",
    "        print('Test Recall:', test_recall)\n",
    "        \n",
    "    # Prepare for fairness evaluation\n",
    "    y_pred = pd.DataFrame(y_pred,columns=['y_pred'])\n",
    "    y_pred_prob = pd.DataFrame(y_pred_prob,columns=['y_pred_prob'])\n",
    "    test_set = pd.concat([y_pred,y_pred_prob,Y_test.reset_index(drop=True),X_test.reset_index(drop=True)],axis=1)\n",
    "    \n",
    "    # for logistic regression\n",
    "    if 'MOM_RACE_White' in test_set.columns:\n",
    "        pass\n",
    "    else:\n",
    "        nw_races = ['MOM_RACE_Asian or Native Hawaiian or Other Pacific Islander',\n",
    "                    'MOM_RACE_Black or African American',\n",
    "                    'MOM_RACE_Hispanic White',\n",
    "                    'MOM_RACE_Multiracial',\n",
    "                    'MOM_RACE_Other',\n",
    "                    'MOM_RACE_Unknown']\n",
    "        test_set['MOM_RACE_White'] = test_set[nw_races].apply(lambda row: 1 if (row == 0).all() else 0, axis=1)\n",
    "    \n",
    "    if len(test_set[o][test_set['MOM_RACE_White']==1].unique()) < 2:\n",
    "        auc_white = None\n",
    "    else:\n",
    "        auc_white = np.round(roc_auc_score(test_set[o][test_set['MOM_RACE_White']==1],test_set['y_pred_prob'][test_set['MOM_RACE_White']==1]),3)\n",
    "    \n",
    "    # Demographic parity\n",
    "    p_white = np.mean(test_set['y_pred'][test_set['MOM_RACE_White']==1])\n",
    "    \n",
    "    # TP and FN\n",
    "    pos_lab_set_white = test_set[(test_set[o]==1) & (test_set['MOM_RACE_White']==1)]\n",
    "    pos_lab_set_white['fn'] = np.where(pos_lab_set_white['y_pred']==0,1,0)\n",
    "    fn_white = np.mean(pos_lab_set_white['fn'])\n",
    "    pos_lab_set_white['tp'] = np.where(pos_lab_set_white['y_pred']==1,1,0)\n",
    "    tp_white = np.mean(pos_lab_set_white['tp'])\n",
    "    \n",
    "    # FP, TN\n",
    "    neg_lab_set_white = test_set[(test_set[o]==0) & (test_set['MOM_RACE_White']==1)]\n",
    "    neg_lab_set_white['fp'] = np.where(neg_lab_set_white['y_pred']==1,1,0)\n",
    "    fp_white = np.mean(neg_lab_set_white['fp'])\n",
    "    neg_lab_set_white['tn'] = np.where(neg_lab_set_white['y_pred']==0,1,0)\n",
    "    tn_white = np.mean(neg_lab_set_white['tn'])\n",
    "        \n",
    "    if W is None:\n",
    "        reweigh_yn = 'No'\n",
    "    else:\n",
    "        reweigh_yn = 'Yes'\n",
    "    \n",
    "    races = ['MOM_RACE_Asian or Native Hawaiian or Other Pacific Islander',\n",
    "             'MOM_RACE_Black or African American',\n",
    "             'MOM_RACE_Hispanic White',\n",
    "             'MOM_RACE_Multiracial',\n",
    "             'MOM_RACE_Other',\n",
    "             'MOM_RACE_Unknown',\n",
    "             'MOM_RACE_White']\n",
    "    for r in races:\n",
    "        pos_lab = test_set[(test_set[o]==1) & (test_set[r]==1)]\n",
    "        pos_lab['fn'] = np.where(pos_lab['y_pred']==0,1,0)\n",
    "        pos_lab['tp'] = np.where(pos_lab['y_pred']==1,1,0)\n",
    "        \n",
    "        neg_lab = test_set[(test_set[o]==0) & (test_set[r]==1)]\n",
    "        neg_lab['fp'] = np.where(neg_lab['y_pred']==1,1,0)\n",
    "        neg_lab['tn'] = np.where(neg_lab['y_pred']==0,1,0)\n",
    "        \n",
    "        if len(test_set[o][test_set[r]==1].unique()) < 2:\n",
    "            auc = None\n",
    "        else:\n",
    "            auc = np.round(roc_auc_score(test_set[o][test_set[r]==1],test_set['y_pred_prob'][test_set[r]==1]),3)\n",
    "            \n",
    "        if auc_white == None or auc == None:\n",
    "            auc_diff = None\n",
    "        else:\n",
    "            auc_diff = auc - auc_white\n",
    "        \n",
    "        results.append({'Model': model_label,\n",
    "                        'Reweigh': reweigh_yn,\n",
    "                        'Iteration': i+1,\n",
    "                        'Overall Test BA': test_balanced_acc,\n",
    "                        'Overall Test AUC': test_auc,\n",
    "                        'Overall Test F1': test_f1,\n",
    "                        'Overall Test Precision': test_precision,\n",
    "                        'Overall Test Recall': test_recall,\n",
    "                        'Race': r,\n",
    "                        'DP': np.mean(test_set['y_pred'][test_set[r]==1])-p_white,\n",
    "                        'FN':np.mean(pos_lab['fn']),\n",
    "                        'FN diff':np.mean(pos_lab['fn'])-fn_white,\n",
    "                        'TP':np.mean(pos_lab['tp']),\n",
    "                        'TP diff':np.mean(pos_lab['tp'])-tp_white,\n",
    "                        'FP': np.mean(neg_lab['fp']),\n",
    "                        'FP diff': np.mean(neg_lab['fp'])-fp_white,\n",
    "                        'TN': np.mean(neg_lab['tn']),\n",
    "                        'TN diff': np.mean(neg_lab['tn'])-tn_white,\n",
    "                        'Test AUC':auc,\n",
    "                        'Test AUC diff':auc_diff})\n",
    "    return results"
   ]
  },
  {
   "cell_type": "markdown",
   "id": "7740d2e8-af9c-4f91-b08f-49e073dc00de",
   "metadata": {},
   "source": [
    "## 1.3. Data"
   ]
  },
  {
   "cell_type": "code",
   "execution_count": 6,
   "id": "e1d5158d-a1e7-44ee-bc96-83872a364881",
   "metadata": {
    "tags": []
   },
   "outputs": [],
   "source": [
    "all_data = pd.read_excel(\"De-identified PMAD data.xlsx\")"
   ]
  },
  {
   "cell_type": "code",
   "execution_count": 7,
   "id": "5c280642-2dc3-4604-8a08-5593f4ea733a",
   "metadata": {
    "tags": []
   },
   "outputs": [],
   "source": [
    "# Extract relevant variables for model fitting\n",
    "outcome = 'PHQ9_risk2'\n",
    "data = all_data[['MOM_AGE','MOM_RACE','ETHNIC_GROUP','MARITAL_STATUS','FINANCIAL_CLASS',\n",
    "                 'LBW','PTB',\n",
    "                 'DELIVERY_METHOD','NICU_ADMIT','MFCU_ADMIT',\n",
    "                 'PREE','GDM','GHTN',\n",
    "                 'MOM_BMI','MOM_LOS','CHILD_LOS',\n",
    "                 'HIST_ANXIETY','HIST_DEPRESS','HIST_BIPOLAR','HIST_PMAD','MENTAL_HEALTH_DX_CUTOFF',\n",
    "                 'MED_PSYCH','MED_CARDIO',\n",
    "                 outcome,'PHQ9_VALUE','PMAD_risk']]"
   ]
  },
  {
   "cell_type": "markdown",
   "id": "d5ddfc81-a213-4077-a476-a9133b941b89",
   "metadata": {},
   "source": [
    "## 1.3.3. Curate Data"
   ]
  },
  {
   "cell_type": "code",
   "execution_count": 9,
   "id": "ae0ebeae-ec23-4265-9059-2eee81e3a425",
   "metadata": {
    "tags": []
   },
   "outputs": [
    {
     "name": "stdout",
     "output_type": "stream",
     "text": [
      "N: (19430, 24)\n",
      "                                                        mean\n",
      "                                                   MED_PSYCH\n",
      "MOM_RACE                                                    \n",
      "Asian or Native Hawaiian or Other Pacific Islander  0.093631\n",
      "Black or African American                           0.109130\n",
      "Hispanic White                                      0.130836\n",
      "Multiracial                                         0.156766\n",
      "Other                                               0.111836\n",
      "Unknown                                             0.140496\n",
      "White                                               0.198044\n",
      "Asian or Native Hawaiian or Other Pacific Islander : Two sided z-test: z = 12.0118, p value = 0.0000\n",
      "Black or African American : Two sided z-test: z = 8.0234, p value = 0.0000\n",
      "Hispanic White : Two sided z-test: z = 6.8250, p value = 0.0000\n",
      "Multiracial : Two sided z-test: z = 2.4923, p value = 0.0127\n",
      "Other : Two sided z-test: z = 9.4255, p value = 0.0000\n",
      "Unknown : Two sided z-test: z = 1.5816, p value = 0.1137\n"
     ]
    }
   ],
   "source": [
    "from statsmodels.stats.proportion import proportions_ztest\n",
    "\n",
    "df = data.drop([outcome,'PHQ9_VALUE'], axis=1)\n",
    "df = df.dropna() # keep only complete data\n",
    "print(\"N:\",df.shape)\n",
    "print(pd.pivot_table(df, values='MED_PSYCH', index=['MOM_RACE'], aggfunc=['mean']))\n",
    "\n",
    "nw_races = ['Asian or Native Hawaiian or Other Pacific Islander',\n",
    "            'Black or African American',\n",
    "            'Hispanic White',\n",
    "            'Multiracial',\n",
    "            'Other',\n",
    "            'Unknown']\n",
    "\n",
    "x_white = np.sum(df['MED_PSYCH'][df['MOM_RACE']=='White'])\n",
    "n_white = len(df['MED_PSYCH'][df['MOM_RACE']=='White'])\n",
    "\n",
    "for r in nw_races:\n",
    "    x = np.sum(df['MED_PSYCH'][df['MOM_RACE']==r])\n",
    "    n = len(df['MED_PSYCH'][df['MOM_RACE']==r])\n",
    "    \n",
    "    X = np.array([x_white,x])\n",
    "    N = np.array([n_white,n])\n",
    "    \n",
    "    test_stat, pval = proportions_ztest(count=X, nobs=N, alternative='two-sided')\n",
    "    print(r,':','Two sided z-test: z = {:.4f}, p value = {:.4f}'.format(test_stat, pval))\n",
    "    "
   ]
  },
  {
   "cell_type": "code",
   "execution_count": 10,
   "id": "beb2829b-4b79-4540-9de3-963432722234",
   "metadata": {
    "tags": []
   },
   "outputs": [
    {
     "name": "stdout",
     "output_type": "stream",
     "text": [
      "N: (11377, 24)\n"
     ]
    }
   ],
   "source": [
    "data = data.dropna() # keep only complete data\n",
    "data = data.drop(['PHQ9_VALUE','PMAD_risk'], axis=1)\n",
    "print(\"N:\",data.shape)"
   ]
  },
  {
   "cell_type": "code",
   "execution_count": 11,
   "id": "ff0ed39c-8fcc-4e4a-9815-3fadb112d65b",
   "metadata": {
    "tags": []
   },
   "outputs": [
    {
     "name": "stdout",
     "output_type": "stream",
     "text": [
      "10877 500\n"
     ]
    },
    {
     "data": {
      "text/plain": [
       "<BarContainer object of 2 artists>"
      ]
     },
     "execution_count": 11,
     "metadata": {},
     "output_type": "execute_result"
    },
    {
     "data": {
      "image/png": "[encoded data removed]",
      "text/plain": [
       "<Figure size 640x480 with 1 Axes>"
      ]
     },
     "metadata": {},
     "output_type": "display_data"
    }
   ],
   "source": [
    "# binary-class\n",
    "count0, count1 = data[outcome].value_counts()\n",
    "print(count0, count1)\n",
    "\n",
    "x = ['0','1']\n",
    "y = [count0, count1]\n",
    "plt.bar(x, y)"
   ]
  },
  {
   "cell_type": "markdown",
   "id": "bb70876a-2439-4feb-9eb7-80b3b5c42705",
   "metadata": {},
   "source": [
    "## 1.3.4. Weight Data"
   ]
  },
  {
   "cell_type": "code",
   "execution_count": 13,
   "id": "6c9edb6a-ac6a-4fce-a630-3aa184c70f1e",
   "metadata": {
    "tags": []
   },
   "outputs": [],
   "source": [
    "data['w'] = calc_weights(df=data, sens_features_name=\"MOM_RACE\", outcome_name=outcome)"
   ]
  },
  {
   "cell_type": "code",
   "execution_count": 14,
   "id": "5fa1c247-a3ed-4aae-a605-1157ff4dccf7",
   "metadata": {
    "tags": []
   },
   "outputs": [],
   "source": [
    "#data[['w',outcome,'MOM_RACE']].drop_duplicates()"
   ]
  },
  {
   "cell_type": "markdown",
   "id": "3ef39be7-18ca-4472-8d60-94e27e1bf103",
   "metadata": {},
   "source": [
    "## 1.3.5. Get Dummies and Split"
   ]
  },
  {
   "cell_type": "code",
   "execution_count": 16,
   "id": "a59f1b66-2d4d-4946-beb2-84c5cf66cd51",
   "metadata": {
    "tags": []
   },
   "outputs": [],
   "source": [
    "# get dummy variables\n",
    "data = pd.get_dummies(data)"
   ]
  },
  {
   "cell_type": "code",
   "execution_count": 17,
   "id": "ac1776d1-d791-442e-8088-df078e882ced",
   "metadata": {
    "tags": []
   },
   "outputs": [],
   "source": [
    "# split into X and y\n",
    "X = data.drop([outcome], axis=1) \n",
    "Y = data[[outcome]]\n",
    "\n",
    "race = data[['MOM_RACE_Asian or Native Hawaiian or Other Pacific Islander',\n",
    "             'MOM_RACE_Black or African American',\n",
    "             'MOM_RACE_Multiracial',\n",
    "             'MOM_RACE_Other',\n",
    "             'MOM_RACE_Unknown',\n",
    "             'MOM_RACE_White',\n",
    "             'MOM_RACE_Hispanic White']]\n",
    "strat_df = pd.concat([Y,race],axis=1)\n",
    "\n",
    "# Split the data into training and test sets\n",
    "X_train, X_test, y_train, y_test = train_test_split(X, Y, train_size=0.90, test_size=0.10, shuffle=True, stratify=strat_df, random_state=2024)\n",
    "X_test = X_test.drop(['w'], axis=1)"
   ]
  },
  {
   "cell_type": "code",
   "execution_count": 18,
   "id": "3b7c5621-89dd-42d3-b397-3b42517d1014",
   "metadata": {},
   "outputs": [],
   "source": [
    "# Split the data into training and validation sets\n",
    "race = X_train[['MOM_RACE_Asian or Native Hawaiian or Other Pacific Islander',\n",
    "                'MOM_RACE_Black or African American',\n",
    "                'MOM_RACE_Multiracial',\n",
    "                'MOM_RACE_Other',\n",
    "                'MOM_RACE_Unknown',\n",
    "                'MOM_RACE_White',\n",
    "                'MOM_RACE_Hispanic White']]\n",
    "strat_df = pd.concat([y_train,race],axis=1)\n",
    "X_train, X_val, y_train, y_val = train_test_split(X_train, y_train, train_size=0.85, test_size=0.15, shuffle=True, stratify=strat_df, random_state=0)\n",
    "X_val = X_val.drop(['w'], axis=1)"
   ]
  },
  {
   "cell_type": "code",
   "execution_count": 19,
   "id": "74342e39-7fdf-40c0-b13e-47b4f54cc4bc",
   "metadata": {
    "tags": []
   },
   "outputs": [
    {
     "name": "stdout",
     "output_type": "stream",
     "text": [
      "8320 383\n",
      "1469 67\n",
      "1088 50\n"
     ]
    }
   ],
   "source": [
    "# binary-class\n",
    "count0_train, count1_train = y_train.value_counts()\n",
    "print(count0_train, count1_train)\n",
    "\n",
    "count0_val, count1_val = y_val.value_counts()\n",
    "print(count0_val, count1_val)\n",
    "\n",
    "count0_test, count1_test = y_test.value_counts()\n",
    "print(count0_test, count1_test)"
   ]
  },
  {
   "cell_type": "code",
   "execution_count": 20,
   "id": "95e29068-ca87-4ef8-9486-202923ea247c",
   "metadata": {
    "tags": []
   },
   "outputs": [
    {
     "name": "stdout",
     "output_type": "stream",
     "text": [
      "10877 500\n"
     ]
    }
   ],
   "source": [
    "count0, count1 = Y.value_counts()\n",
    "print(count0,count1)"
   ]
  },
  {
   "cell_type": "code",
   "execution_count": 21,
   "id": "7d1283cf-70d0-4d7a-99a8-3ce7062c2ee9",
   "metadata": {
    "tags": []
   },
   "outputs": [
    {
     "data": {
      "text/plain": [
       "0.10002636899006769"
      ]
     },
     "execution_count": 21,
     "metadata": {},
     "output_type": "execute_result"
    }
   ],
   "source": [
    "(1088+50)/len(data)"
   ]
  },
  {
   "cell_type": "markdown",
   "id": "5c8279fc-a583-4003-8370-3156c6b3e51b",
   "metadata": {},
   "source": [
    "# 2. Handle imbalanced data"
   ]
  },
  {
   "cell_type": "markdown",
   "id": "fdf9eeca-143a-43ef-8267-f856033ef710",
   "metadata": {},
   "source": [
    "## 2.2. Simple Under Sampling Majority (PMAD)"
   ]
  },
  {
   "cell_type": "code",
   "execution_count": 24,
   "id": "18ec6feb-0165-4b67-bc17-ce847624fc26",
   "metadata": {
    "tags": []
   },
   "outputs": [
    {
     "data": {
      "text/plain": [
       "PHQ9_risk2\n",
       "0.0           383\n",
       "1.0           383\n",
       "Name: count, dtype: int64"
      ]
     },
     "execution_count": 24,
     "metadata": {},
     "output_type": "execute_result"
    }
   ],
   "source": [
    "rus = RandomUnderSampler(sampling_strategy = \"auto\", random_state=0)\n",
    "X_train_rus, y_train_rus = rus.fit_resample(X_train, y_train)\n",
    "weights_rus = X_train_rus['w']\n",
    "X_train_rus = X_train_rus.drop(['w'], axis=1)\n",
    "y_train_rus.value_counts()"
   ]
  },
  {
   "cell_type": "markdown",
   "id": "8b7b0d9a-4526-450f-b818-801ee4c46dd3",
   "metadata": {},
   "source": [
    "# 3. Modeling"
   ]
  },
  {
   "cell_type": "code",
   "execution_count": 26,
   "id": "0436c426-f293-4bc8-9fae-889ec3613e65",
   "metadata": {
    "tags": []
   },
   "outputs": [],
   "source": [
    "# Extract weights and drop from training\n",
    "weights_train = X_train['w']\n",
    "X_train = X_train.drop(['w'], axis=1)"
   ]
  },
  {
   "cell_type": "code",
   "execution_count": 27,
   "id": "fac9c47f-2b83-48f2-ba50-df573f21a4fb",
   "metadata": {
    "tags": []
   },
   "outputs": [],
   "source": [
    "orig_results = []\n",
    "n_trials = 100 # for finetuning"
   ]
  },
  {
   "cell_type": "markdown",
   "id": "bd54706e-b6e2-4c46-adc5-84a94eb2a1a6",
   "metadata": {},
   "source": [
    "## XG Boost Classifier"
   ]
  },
  {
   "cell_type": "markdown",
   "id": "865b3363-29ce-458e-87f2-5fb17f99123b",
   "metadata": {},
   "source": [
    "### Finetune XG Boost Classifier without Reweighing"
   ]
  },
  {
   "cell_type": "code",
   "execution_count": 30,
   "id": "b308cbc3-7dce-4a92-a329-b9441edd64a2",
   "metadata": {
    "tags": []
   },
   "outputs": [
    {
     "name": "stderr",
     "output_type": "stream",
     "text": [
      "[I 2024-08-30 08:54:50,086] A new study created in memory with name: no-name-c9518a67-b4e1-45fb-8edc-1c257637a900\n",
      "[I 2024-08-30 08:54:51,597] Trial 0 finished with value: 0.5 and parameters: {'n_estimators': 549, 'learning_rate': 0.7257005721594281, 'max_depth': 7, 'subsample': 0.5453382998138999, 'lambda': 43, 'min_child_weight': 65}. Best is trial 0 with value: 0.5.\n",
      "[I 2024-08-30 08:54:52,053] Trial 1 finished with value: 0.5 and parameters: {'n_estimators': 438, 'learning_rate': 3.6905577292137615, 'max_depth': 10, 'subsample': 0.3840580773069519, 'lambda': 80, 'min_child_weight': 53}. Best is trial 0 with value: 0.5.\n",
      "[I 2024-08-30 08:54:52,589] Trial 2 finished with value: 0.5 and parameters: {'n_estimators': 569, 'learning_rate': 5.039489598671213, 'max_depth': 1, 'subsample': 0.08804217040183916, 'lambda': 3, 'min_child_weight': 84}. Best is trial 0 with value: 0.5.\n",
      "[I 2024-08-30 08:54:53,519] Trial 3 finished with value: 0.5 and parameters: {'n_estimators': 779, 'learning_rate': 3.020289640158666, 'max_depth': 10, 'subsample': 0.7993594056525068, 'lambda': 47, 'min_child_weight': 79}. Best is trial 0 with value: 0.5.\n",
      "[I 2024-08-30 08:54:53,732] Trial 4 finished with value: 0.5753533218861445 and parameters: {'n_estimators': 119, 'learning_rate': 0.3628140404024382, 'max_depth': 2, 'subsample': 0.9447242481325343, 'lambda': 53, 'min_child_weight': 42}. Best is trial 4 with value: 0.5753533218861445.\n",
      "[I 2024-08-30 08:54:54,030] Trial 5 finished with value: 0.5 and parameters: {'n_estimators': 265, 'learning_rate': 1.250071223083626, 'max_depth': 5, 'subsample': 0.5688655149197799, 'lambda': 2, 'min_child_weight': 62}. Best is trial 4 with value: 0.5753533218861445.\n",
      "[I 2024-08-30 08:54:55,233] Trial 6 finished with value: 0.5399144508905439 and parameters: {'n_estimators': 613, 'learning_rate': 0.293586436439536, 'max_depth': 10, 'subsample': 0.6821384788043799, 'lambda': 36, 'min_child_weight': 44}. Best is trial 4 with value: 0.5753533218861445.\n",
      "[I 2024-08-30 08:54:59,211] Trial 7 finished with value: 0.5781778649299453 and parameters: {'n_estimators': 698, 'learning_rate': 0.0017414134181586202, 'max_depth': 7, 'subsample': 0.6709672317485412, 'lambda': 22, 'min_child_weight': 13}. Best is trial 7 with value: 0.5781778649299453.\n",
      "[I 2024-08-30 08:55:00,327] Trial 8 finished with value: 0.5929711551161823 and parameters: {'n_estimators': 316, 'learning_rate': 0.028499883436971588, 'max_depth': 6, 'subsample': 0.43916291194885804, 'lambda': 99, 'min_child_weight': 11}. Best is trial 8 with value: 0.5929711551161823.\n",
      "[I 2024-08-30 08:55:00,751] Trial 9 finished with value: 0.5407120286924805 and parameters: {'n_estimators': 209, 'learning_rate': 0.004418125737902547, 'max_depth': 7, 'subsample': 0.25403831093724233, 'lambda': 47, 'min_child_weight': 25}. Best is trial 8 with value: 0.5929711551161823.\n",
      "[I 2024-08-30 08:55:00,885] Trial 10 finished with value: 0.591604604614775 and parameters: {'n_estimators': 21, 'learning_rate': 0.02504396811510057, 'max_depth': 4, 'subsample': 0.3191852813529866, 'lambda': 97, 'min_child_weight': 1}. Best is trial 8 with value: 0.5929711551161823.\n",
      "[I 2024-08-30 08:55:01,004] Trial 11 finished with value: 0.5809516068398646 and parameters: {'n_estimators': 23, 'learning_rate': 0.02502599615503601, 'max_depth': 4, 'subsample': 0.32812285469201047, 'lambda': 98, 'min_child_weight': 4}. Best is trial 8 with value: 0.5929711551161823.\n",
      "[I 2024-08-30 08:55:02,197] Trial 12 finished with value: 0.5 and parameters: {'n_estimators': 1000, 'learning_rate': 0.03085807755941169, 'max_depth': 3, 'subsample': 0.08762031247697866, 'lambda': 99, 'min_child_weight': 23}. Best is trial 8 with value: 0.5929711551161823.\n",
      "[I 2024-08-30 08:55:03,826] Trial 13 finished with value: 0.6080895725592596 and parameters: {'n_estimators': 357, 'learning_rate': 0.0389908327252139, 'max_depth': 5, 'subsample': 0.42392014436260034, 'lambda': 76, 'min_child_weight': 1}. Best is trial 13 with value: 0.6080895725592596.\n",
      "[I 2024-08-30 08:55:04,378] Trial 14 finished with value: 0.5613322089349034 and parameters: {'n_estimators': 375, 'learning_rate': 0.06910620324453425, 'max_depth': 6, 'subsample': 0.4642022095806975, 'lambda': 73, 'min_child_weight': 26}. Best is trial 13 with value: 0.6080895725592596.\n",
      "[I 2024-08-30 08:55:06,463] Trial 15 finished with value: 0.5581114170468284 and parameters: {'n_estimators': 328, 'learning_rate': 0.004501708788746189, 'max_depth': 8, 'subsample': 0.23753928839565214, 'lambda': 78, 'min_child_weight': 14}. Best is trial 13 with value: 0.6080895725592596.\n",
      "[I 2024-08-30 08:55:06,882] Trial 16 finished with value: 0.5569836318746634 and parameters: {'n_estimators': 181, 'learning_rate': 0.11087041222540253, 'max_depth': 5, 'subsample': 0.4420835667185338, 'lambda': 65, 'min_child_weight': 36}. Best is trial 13 with value: 0.6080895725592596.\n",
      "[I 2024-08-30 08:55:07,752] Trial 17 finished with value: 0.5589750363228108 and parameters: {'n_estimators': 440, 'learning_rate': 0.009139642695477792, 'max_depth': 6, 'subsample': 0.16867973546143455, 'lambda': 84, 'min_child_weight': 10}. Best is trial 13 with value: 0.6080895725592596.\n",
      "[I 2024-08-30 08:55:08,518] Trial 18 finished with value: 0.5682411631427613 and parameters: {'n_estimators': 338, 'learning_rate': 0.11594964309788239, 'max_depth': 8, 'subsample': 0.6295610529733264, 'lambda': 66, 'min_child_weight': 33}. Best is trial 13 with value: 0.6080895725592596.\n",
      "[I 2024-08-30 08:55:09,947] Trial 19 finished with value: 0.5844721254178393 and parameters: {'n_estimators': 457, 'learning_rate': 0.014032156560960529, 'max_depth': 4, 'subsample': 0.4720772644915796, 'lambda': 87, 'min_child_weight': 19}. Best is trial 13 with value: 0.6080895725592596.\n",
      "[I 2024-08-30 08:55:10,535] Trial 20 finished with value: 0.5874287514097314 and parameters: {'n_estimators': 124, 'learning_rate': 0.04687495073628281, 'max_depth': 5, 'subsample': 0.7763710089240079, 'lambda': 90, 'min_child_weight': 6}. Best is trial 13 with value: 0.6080895725592596.\n",
      "[I 2024-08-30 08:55:10,612] Trial 21 finished with value: 0.588500655334627 and parameters: {'n_estimators': 15, 'learning_rate': 0.015184353351945965, 'max_depth': 3, 'subsample': 0.33590657629485016, 'lambda': 100, 'min_child_weight': 1}. Best is trial 13 with value: 0.6080895725592596.\n",
      "[I 2024-08-30 08:55:11,306] Trial 22 finished with value: 0.5957855379332067 and parameters: {'n_estimators': 282, 'learning_rate': 0.18172327922034306, 'max_depth': 4, 'subsample': 0.2514064641084376, 'lambda': 91, 'min_child_weight': 1}. Best is trial 13 with value: 0.6080895725592596.\n",
      "[I 2024-08-30 08:55:12,124] Trial 23 finished with value: 0.5491602572569421 and parameters: {'n_estimators': 284, 'learning_rate': 0.2302053980852539, 'max_depth': 3, 'subsample': 0.19859446393304855, 'lambda': 67, 'min_child_weight': 16}. Best is trial 13 with value: 0.6080895725592596.\n",
      "[I 2024-08-30 08:55:12,651] Trial 24 finished with value: 0.5 and parameters: {'n_estimators': 382, 'learning_rate': 0.12882910577056625, 'max_depth': 6, 'subsample': 0.398787110941412, 'lambda': 90, 'min_child_weight': 97}. Best is trial 13 with value: 0.6080895725592596.\n",
      "[I 2024-08-30 08:55:12,998] Trial 25 finished with value: 0.5 and parameters: {'n_estimators': 248, 'learning_rate': 0.04578284597111805, 'max_depth': 4, 'subsample': 0.004414087851508763, 'lambda': 58, 'min_child_weight': 9}. Best is trial 13 with value: 0.6080895725592596.\n",
      "[I 2024-08-30 08:55:13,243] Trial 26 finished with value: 0.5387612651514382 and parameters: {'n_estimators': 130, 'learning_rate': 0.7905903912373793, 'max_depth': 5, 'subsample': 0.525687654125255, 'lambda': 76, 'min_child_weight': 32}. Best is trial 13 with value: 0.6080895725592596.\n",
      "[I 2024-08-30 08:55:14,156] Trial 27 finished with value: 0.5555459597858224 and parameters: {'n_estimators': 506, 'learning_rate': 0.006966725068191185, 'max_depth': 8, 'subsample': 0.29969148398790807, 'lambda': 88, 'min_child_weight': 18}. Best is trial 13 with value: 0.6080895725592596.\n",
      "[I 2024-08-30 08:55:14,740] Trial 28 finished with value: 0.5935198073621004 and parameters: {'n_estimators': 317, 'learning_rate': 0.19454089155955723, 'max_depth': 2, 'subsample': 0.40087491658520275, 'lambda': 91, 'min_child_weight': 8}. Best is trial 13 with value: 0.6080895725592596.\n",
      "[I 2024-08-30 08:55:15,029] Trial 29 finished with value: 0.588073925810024 and parameters: {'n_estimators': 195, 'learning_rate': 0.5448359660774951, 'max_depth': 1, 'subsample': 0.14592789829851627, 'lambda': 73, 'min_child_weight': 2}. Best is trial 13 with value: 0.6080895725592596.\n",
      "[I 2024-08-30 08:55:16,164] Trial 30 finished with value: 0.5774717291689951 and parameters: {'n_estimators': 524, 'learning_rate': 0.19458584030329423, 'max_depth': 2, 'subsample': 0.5669314890451759, 'lambda': 81, 'min_child_weight': 28}. Best is trial 13 with value: 0.6080895725592596.\n",
      "[I 2024-08-30 08:55:16,682] Trial 31 finished with value: 0.5976651798868151 and parameters: {'n_estimators': 389, 'learning_rate': 0.06501762235532818, 'max_depth': 2, 'subsample': 0.4056141207812207, 'lambda': 93, 'min_child_weight': 8}. Best is trial 13 with value: 0.6080895725592596.\n",
      "[I 2024-08-30 08:55:16,999] Trial 32 finished with value: 0.5962071873444215 and parameters: {'n_estimators': 400, 'learning_rate': 0.07051853047363149, 'max_depth': 2, 'subsample': 0.3838838680035348, 'lambda': 92, 'min_child_weight': 9}. Best is trial 13 with value: 0.6080895725592596.\n",
      "[I 2024-08-30 08:55:19,107] Trial 33 finished with value: 0.5451266472267662 and parameters: {'n_estimators': 404, 'learning_rate': 0.06786425845457175, 'max_depth': 1, 'subsample': 0.248097192637444, 'lambda': 93, 'min_child_weight': 20}. Best is trial 13 with value: 0.6080895725592596.\n",
      "[I 2024-08-30 08:55:20,329] Trial 34 finished with value: 0.5916503256352682 and parameters: {'n_estimators': 446, 'learning_rate': 0.06884398259370776, 'max_depth': 3, 'subsample': 0.3555822093284246, 'lambda': 83, 'min_child_weight': 7}. Best is trial 13 with value: 0.6080895725592596.\n",
      "[I 2024-08-30 08:55:21,534] Trial 35 finished with value: 0.5523607286914644 and parameters: {'n_estimators': 607, 'learning_rate': 1.8453438505718371, 'max_depth': 2, 'subsample': 0.5067937341805899, 'lambda': 83, 'min_child_weight': 13}. Best is trial 13 with value: 0.6080895725592596.\n",
      "[I 2024-08-30 08:55:21,991] Trial 36 finished with value: 0.5 and parameters: {'n_estimators': 397, 'learning_rate': 0.41920265737743134, 'max_depth': 1, 'subsample': 0.3928999901713442, 'lambda': 93, 'min_child_weight': 52}. Best is trial 13 with value: 0.6080895725592596.\n",
      "[I 2024-08-30 08:55:22,584] Trial 37 finished with value: 0.5 and parameters: {'n_estimators': 538, 'learning_rate': 0.043600146387602776, 'max_depth': 2, 'subsample': 0.1153188477110389, 'lambda': 58, 'min_child_weight': 74}. Best is trial 13 with value: 0.6080895725592596.\n",
      "[I 2024-08-30 08:55:23,192] Trial 38 finished with value: 0.5 and parameters: {'n_estimators': 478, 'learning_rate': 0.16709083645965714, 'max_depth': 3, 'subsample': 0.2837367137149482, 'lambda': 34, 'min_child_weight': 62}. Best is trial 13 with value: 0.6080895725592596.\n",
      "[I 2024-08-30 08:55:23,768] Trial 39 finished with value: 0.5783709092386942 and parameters: {'n_estimators': 259, 'learning_rate': 0.9249104595403427, 'max_depth': 4, 'subsample': 0.5811957837460195, 'lambda': 71, 'min_child_weight': 1}. Best is trial 13 with value: 0.6080895725592596.\n",
      "[I 2024-08-30 08:55:27,460] Trial 40 finished with value: 0.5 and parameters: {'n_estimators': 691, 'learning_rate': 0.3318113290981759, 'max_depth': 2, 'subsample': 0.3745909300552536, 'lambda': 77, 'min_child_weight': 44}. Best is trial 13 with value: 0.6080895725592596.\n",
      "[I 2024-08-30 08:55:28,382] Trial 41 finished with value: 0.6091868770510959 and parameters: {'n_estimators': 349, 'learning_rate': 0.0756826040893163, 'max_depth': 1, 'subsample': 0.42935819837201905, 'lambda': 92, 'min_child_weight': 7}. Best is trial 41 with value: 0.6091868770510959.\n",
      "[I 2024-08-30 08:55:28,922] Trial 42 finished with value: 0.6042490068378327 and parameters: {'n_estimators': 363, 'learning_rate': 0.0754426433805862, 'max_depth': 1, 'subsample': 0.43248913339723843, 'lambda': 86, 'min_child_weight': 6}. Best is trial 41 with value: 0.6091868770510959.\n",
      "[I 2024-08-30 08:55:29,406] Trial 43 finished with value: 0.5925952267254605 and parameters: {'n_estimators': 354, 'learning_rate': 0.017369941251066917, 'max_depth': 1, 'subsample': 0.4930023135082918, 'lambda': 95, 'min_child_weight': 14}. Best is trial 41 with value: 0.6091868770510959.\n",
      "[I 2024-08-30 08:55:30,325] Trial 44 finished with value: 0.6024201660181056 and parameters: {'n_estimators': 568, 'learning_rate': 0.08228188276404078, 'max_depth': 1, 'subsample': 0.4334646330243541, 'lambda': 86, 'min_child_weight': 7}. Best is trial 41 with value: 0.6091868770510959.\n",
      "[I 2024-08-30 08:55:31,003] Trial 45 finished with value: 0.6068449447791675 and parameters: {'n_estimators': 577, 'learning_rate': 0.034245426559889526, 'max_depth': 1, 'subsample': 0.6130491470410075, 'lambda': 85, 'min_child_weight': 21}. Best is trial 41 with value: 0.6091868770510959.\n",
      "[I 2024-08-30 08:55:31,592] Trial 46 finished with value: 0.5387815856049907 and parameters: {'n_estimators': 585, 'learning_rate': 7.926798116385194, 'max_depth': 1, 'subsample': 0.6185816284450939, 'lambda': 85, 'min_child_weight': 17}. Best is trial 41 with value: 0.6091868770510959.\n",
      "[I 2024-08-30 08:55:32,086] Trial 47 finished with value: 0.6070329089745283 and parameters: {'n_estimators': 574, 'learning_rate': 0.03337857611854674, 'max_depth': 1, 'subsample': 0.718107462134405, 'lambda': 79, 'min_child_weight': 6}. Best is trial 41 with value: 0.6091868770510959.\n",
      "[I 2024-08-30 08:55:32,438] Trial 48 finished with value: 0.6021814006888634 and parameters: {'n_estimators': 645, 'learning_rate': 0.029651027355733748, 'max_depth': 1, 'subsample': 0.8366125099657218, 'lambda': 61, 'min_child_weight': 22}. Best is trial 41 with value: 0.6091868770510959.\n",
      "[I 2024-08-30 08:55:34,804] Trial 49 finished with value: 0.5866108531542423 and parameters: {'n_estimators': 787, 'learning_rate': 0.008937048901382152, 'max_depth': 9, 'subsample': 0.7087864492493485, 'lambda': 70, 'min_child_weight': 28}. Best is trial 41 with value: 0.6091868770510959.\n",
      "[I 2024-08-30 08:55:35,779] Trial 50 finished with value: 0.6045131727340154 and parameters: {'n_estimators': 757, 'learning_rate': 0.023075675760491413, 'max_depth': 1, 'subsample': 0.743887366315979, 'lambda': 79, 'min_child_weight': 5}. Best is trial 41 with value: 0.6091868770510959.\n",
      "[I 2024-08-30 08:55:36,897] Trial 51 finished with value: 0.6041575647968463 and parameters: {'n_estimators': 797, 'learning_rate': 0.021377468652555992, 'max_depth': 1, 'subsample': 0.7671559671336765, 'lambda': 79, 'min_child_weight': 5}. Best is trial 41 with value: 0.6091868770510959.\n",
      "[I 2024-08-30 08:55:37,722] Trial 52 finished with value: 0.6017800717312011 and parameters: {'n_estimators': 871, 'learning_rate': 0.03723273806002103, 'max_depth': 1, 'subsample': 0.8688516792107805, 'lambda': 75, 'min_child_weight': 13}. Best is trial 41 with value: 0.6091868770510959.\n",
      "[I 2024-08-30 08:55:40,331] Trial 53 finished with value: 0.6022372819361328 and parameters: {'n_estimators': 662, 'learning_rate': 0.014290580141344048, 'max_depth': 2, 'subsample': 0.7383431912447967, 'lambda': 80, 'min_child_weight': 4}. Best is trial 41 with value: 0.6091868770510959.\n",
      "[I 2024-08-30 08:55:41,669] Trial 54 finished with value: 0.6049348221452303 and parameters: {'n_estimators': 965, 'learning_rate': 0.02114219355917415, 'max_depth': 1, 'subsample': 0.6702008167081986, 'lambda': 68, 'min_child_weight': 11}. Best is trial 41 with value: 0.6091868770510959.\n",
      "[I 2024-08-30 08:55:43,494] Trial 55 finished with value: 0.5937941334850594 and parameters: {'n_estimators': 888, 'learning_rate': 0.0013352859062591618, 'max_depth': 2, 'subsample': 0.6593499253524179, 'lambda': 50, 'min_child_weight': 12}. Best is trial 41 with value: 0.6091868770510959.\n",
      "[I 2024-08-30 08:55:44,321] Trial 56 finished with value: 0.5726608617904351 and parameters: {'n_estimators': 984, 'learning_rate': 0.004357484498049641, 'max_depth': 1, 'subsample': 0.9109964955338972, 'lambda': 68, 'min_child_weight': 39}. Best is trial 41 with value: 0.6091868770510959.\n",
      "[I 2024-08-30 08:55:47,603] Trial 57 finished with value: 0.5865346514534205 and parameters: {'n_estimators': 736, 'learning_rate': 0.02016333148473026, 'max_depth': 3, 'subsample': 0.7008345249316416, 'lambda': 41, 'min_child_weight': 23}. Best is trial 41 with value: 0.6091868770510959.\n",
      "[I 2024-08-30 08:55:49,209] Trial 58 finished with value: 0.6005913251983784 and parameters: {'n_estimators': 864, 'learning_rate': 0.009969613352195972, 'max_depth': 2, 'subsample': 0.6115419571074922, 'lambda': 65, 'min_child_weight': 15}. Best is trial 41 with value: 0.6091868770510959.\n",
      "[I 2024-08-30 08:55:50,498] Trial 59 finished with value: 0.605935604482692 and parameters: {'n_estimators': 830, 'learning_rate': 0.03355360004808606, 'max_depth': 1, 'subsample': 0.6673286089325727, 'lambda': 62, 'min_child_weight': 11}. Best is trial 41 with value: 0.6091868770510959.\n",
      "[I 2024-08-30 08:55:51,461] Trial 60 finished with value: 0.5889883462198876 and parameters: {'n_estimators': 904, 'learning_rate': 0.036892454484857555, 'max_depth': 2, 'subsample': 0.657771635533658, 'lambda': 62, 'min_child_weight': 20}. Best is trial 41 with value: 0.6091868770510959.\n",
      "[I 2024-08-30 08:55:54,518] Trial 61 finished with value: 0.6042896477449378 and parameters: {'n_estimators': 952, 'learning_rate': 0.05024431374635026, 'max_depth': 1, 'subsample': 0.8038773355878881, 'lambda': 73, 'min_child_weight': 11}. Best is trial 41 with value: 0.6091868770510959.\n",
      "[I 2024-08-30 08:55:55,499] Trial 62 finished with value: 0.5498003515438465 and parameters: {'n_estimators': 840, 'learning_rate': 0.026804017634154843, 'max_depth': 1, 'subsample': 0.7351856674092975, 'lambda': 54, 'min_child_weight': 48}. Best is trial 41 with value: 0.6091868770510959.\n",
      "[I 2024-08-30 08:55:56,392] Trial 63 finished with value: 0.6080184509718257 and parameters: {'n_estimators': 718, 'learning_rate': 0.013380795163723171, 'max_depth': 1, 'subsample': 0.5685459980619821, 'lambda': 8, 'min_child_weight': 4}. Best is trial 41 with value: 0.6091868770510959.\n",
      "[I 2024-08-30 08:55:57,467] Trial 64 finished with value: 0.6050516647531573 and parameters: {'n_estimators': 695, 'learning_rate': 0.010683543633685004, 'max_depth': 1, 'subsample': 0.5490229245121803, 'lambda': 12, 'min_child_weight': 3}. Best is trial 41 with value: 0.6091868770510959.\n",
      "[I 2024-08-30 08:55:58,214] Trial 65 finished with value: 0.5977566219278014 and parameters: {'n_estimators': 718, 'learning_rate': 0.005446015352000377, 'max_depth': 2, 'subsample': 0.5445030174236867, 'lambda': 8, 'min_child_weight': 4}. Best is trial 41 with value: 0.6091868770510959.\n",
      "[I 2024-08-30 08:56:03,561] Trial 66 finished with value: 0.6035276307367181 and parameters: {'n_estimators': 654, 'learning_rate': 0.012697640804853425, 'max_depth': 7, 'subsample': 0.5994058008309029, 'lambda': 9, 'min_child_weight': 1}. Best is trial 41 with value: 0.6091868770510959.\n",
      "[I 2024-08-30 08:56:04,506] Trial 67 finished with value: 0.591294717698099 and parameters: {'n_estimators': 691, 'learning_rate': 0.003317918090588533, 'max_depth': 1, 'subsample': 0.47094149351796766, 'lambda': 22, 'min_child_weight': 16}. Best is trial 41 with value: 0.6091868770510959.\n",
      "[I 2024-08-30 08:56:08,459] Trial 68 finished with value: 0.58558467024984 and parameters: {'n_estimators': 832, 'learning_rate': 0.010537742302734424, 'max_depth': 3, 'subsample': 0.5518372570332121, 'lambda': 18, 'min_child_weight': 10}. Best is trial 41 with value: 0.6091868770510959.\n",
      "[I 2024-08-30 08:56:11,246] Trial 69 finished with value: 0.5498308322241752 and parameters: {'n_estimators': 505, 'learning_rate': 0.11286759640501597, 'max_depth': 10, 'subsample': 0.5089722413077619, 'lambda': 1, 'min_child_weight': 5}. Best is trial 41 with value: 0.6091868770510959.\n",
      "[I 2024-08-30 08:56:12,335] Trial 70 finished with value: 0.5966288367556364 and parameters: {'n_estimators': 610, 'learning_rate': 0.007395833325697329, 'max_depth': 2, 'subsample': 0.6299674019698569, 'lambda': 7, 'min_child_weight': 9}. Best is trial 41 with value: 0.6091868770510959.\n",
      "[I 2024-08-30 08:56:15,862] Trial 71 finished with value: 0.6062708919663088 and parameters: {'n_estimators': 938, 'learning_rate': 0.054466145379591865, 'max_depth': 1, 'subsample': 0.6784272161851199, 'lambda': 16, 'min_child_weight': 11}. Best is trial 41 with value: 0.6091868770510959.\n",
      "[I 2024-08-30 08:56:16,992] Trial 72 finished with value: 0.5985999207502312 and parameters: {'n_estimators': 913, 'learning_rate': 0.050845041793177316, 'max_depth': 1, 'subsample': 0.5867789422593893, 'lambda': 16, 'min_child_weight': 3}. Best is trial 41 with value: 0.6091868770510959.\n",
      "[I 2024-08-30 08:56:18,118] Trial 73 finished with value: 0.6047824187435864 and parameters: {'n_estimators': 816, 'learning_rate': 0.031819521439825, 'max_depth': 1, 'subsample': 0.6447691179195042, 'lambda': 33, 'min_child_weight': 19}. Best is trial 41 with value: 0.6091868770510959.\n",
      "[I 2024-08-30 08:56:19,224] Trial 74 finished with value: 0.5959176208812981 and parameters: {'n_estimators': 559, 'learning_rate': 0.09249312174610722, 'max_depth': 2, 'subsample': 0.695245010306031, 'lambda': 14, 'min_child_weight': 7}. Best is trial 41 with value: 0.6091868770510959.\n",
      "[I 2024-08-30 08:56:20,015] Trial 75 finished with value: 0.6054377533706553 and parameters: {'n_estimators': 758, 'learning_rate': 0.01737105483376853, 'max_depth': 1, 'subsample': 0.5391555119631497, 'lambda': 25, 'min_child_weight': 1}. Best is trial 41 with value: 0.6091868770510959.\n",
      "[I 2024-08-30 08:56:22,514] Trial 76 finished with value: 0.5946475925342654 and parameters: {'n_estimators': 735, 'learning_rate': 0.05515419915412215, 'max_depth': 2, 'subsample': 0.4909220309607401, 'lambda': 28, 'min_child_weight': 15}. Best is trial 41 with value: 0.6091868770510959.\n",
      "[I 2024-08-30 08:56:23,136] Trial 77 finished with value: 0.6031567824593844 and parameters: {'n_estimators': 475, 'learning_rate': 0.03671473357540547, 'max_depth': 1, 'subsample': 0.5340834521944852, 'lambda': 28, 'min_child_weight': 11}. Best is trial 41 with value: 0.6091868770510959.\n",
      "[I 2024-08-30 08:56:23,662] Trial 78 finished with value: 0.6011856984647898 and parameters: {'n_estimators': 419, 'learning_rate': 0.01785240598255507, 'max_depth': 1, 'subsample': 0.45411770551591, 'lambda': 21, 'min_child_weight': 1}. Best is trial 41 with value: 0.6091868770510959.\n",
      "[I 2024-08-30 08:56:26,226] Trial 79 finished with value: 0.5744643020432216 and parameters: {'n_estimators': 946, 'learning_rate': 0.027372177110580737, 'max_depth': 3, 'subsample': 0.5784004331283067, 'lambda': 6, 'min_child_weight': 25}. Best is trial 41 with value: 0.6091868770510959.\n",
      "[I 2024-08-30 08:56:26,663] Trial 80 finished with value: 0.5902278938865915 and parameters: {'n_estimators': 226, 'learning_rate': 0.14022343252737454, 'max_depth': 2, 'subsample': 0.7162776948656377, 'lambda': 11, 'min_child_weight': 8}. Best is trial 41 with value: 0.6091868770510959.\n",
      "[I 2024-08-30 08:56:29,216] Trial 81 finished with value: 0.6065909391097609 and parameters: {'n_estimators': 636, 'learning_rate': 0.01357311997305209, 'max_depth': 1, 'subsample': 0.5470874441005227, 'lambda': 13, 'min_child_weight': 3}. Best is trial 41 with value: 0.6091868770510959.\n",
      "[I 2024-08-30 08:56:30,210] Trial 82 finished with value: 0.6042388466110563 and parameters: {'n_estimators': 633, 'learning_rate': 0.014849284513704944, 'max_depth': 1, 'subsample': 0.5109147390458075, 'lambda': 27, 'min_child_weight': 4}. Best is trial 41 with value: 0.6091868770510959.\n",
      "[I 2024-08-30 08:56:31,004] Trial 83 finished with value: 0.5996159434278574 and parameters: {'n_estimators': 594, 'learning_rate': 0.0405515673554129, 'max_depth': 1, 'subsample': 0.4226231873158997, 'lambda': 18, 'min_child_weight': 7}. Best is trial 41 with value: 0.6091868770510959.\n",
      "[I 2024-08-30 08:56:32,103] Trial 84 finished with value: 0.5979191855562216 and parameters: {'n_estimators': 766, 'learning_rate': 0.06041026820861796, 'max_depth': 1, 'subsample': 0.6057049724864059, 'lambda': 4, 'min_child_weight': 13}. Best is trial 41 with value: 0.6091868770510959.\n",
      "[I 2024-08-30 08:56:33,337] Trial 85 finished with value: 0.595765217479654 and parameters: {'n_estimators': 629, 'learning_rate': 0.09797038232649752, 'max_depth': 2, 'subsample': 0.6307290989210774, 'lambda': 82, 'min_child_weight': 1}. Best is trial 41 with value: 0.6091868770510959.\n",
      "[I 2024-08-30 08:56:33,682] Trial 86 finished with value: 0.609390081586621 and parameters: {'n_estimators': 550, 'learning_rate': 0.03059462665746286, 'max_depth': 1, 'subsample': 0.6739504537611171, 'lambda': 96, 'min_child_weight': 10}. Best is trial 86 with value: 0.609390081586621.\n",
      "[I 2024-08-30 08:56:37,766] Trial 87 finished with value: 0.589044227467157 and parameters: {'n_estimators': 547, 'learning_rate': 0.02695334760240856, 'max_depth': 5, 'subsample': 0.77145099985619, 'lambda': 97, 'min_child_weight': 17}. Best is trial 86 with value: 0.609390081586621.\n",
      "[I 2024-08-30 08:56:38,201] Trial 88 finished with value: 0.5413673633195493 and parameters: {'n_estimators': 287, 'learning_rate': 0.043074936301305024, 'max_depth': 1, 'subsample': 0.6834076196315331, 'lambda': 88, 'min_child_weight': 57}. Best is trial 86 with value: 0.609390081586621.\n",
      "[I 2024-08-30 08:56:40,488] Trial 89 finished with value: 0.5928390721680907 and parameters: {'n_estimators': 587, 'learning_rate': 0.012435109982957738, 'max_depth': 7, 'subsample': 0.5673174389023001, 'lambda': 96, 'min_child_weight': 9}. Best is trial 86 with value: 0.609390081586621.\n",
      "[I 2024-08-30 08:56:42,642] Trial 90 finished with value: 0.5661583166536277 and parameters: {'n_estimators': 673, 'learning_rate': 0.25148432145898314, 'max_depth': 6, 'subsample': 0.6442542806267942, 'lambda': 89, 'min_child_weight': 12}. Best is trial 86 with value: 0.609390081586621.\n",
      "[I 2024-08-30 08:56:43,620] Trial 91 finished with value: 0.6059051238023632 and parameters: {'n_estimators': 722, 'learning_rate': 0.03494153475791047, 'max_depth': 1, 'subsample': 0.6825549012785738, 'lambda': 94, 'min_child_weight': 6}. Best is trial 86 with value: 0.609390081586621.\n",
      "[I 2024-08-30 08:56:44,278] Trial 92 finished with value: 0.6062607317395324 and parameters: {'n_estimators': 525, 'learning_rate': 0.05942071728510603, 'max_depth': 1, 'subsample': 0.6734315573901924, 'lambda': 95, 'min_child_weight': 6}. Best is trial 86 with value: 0.609390081586621.\n",
      "[I 2024-08-30 08:56:45,005] Trial 93 finished with value: 0.6093545207929041 and parameters: {'n_estimators': 533, 'learning_rate': 0.07716332657926321, 'max_depth': 1, 'subsample': 0.727938913810808, 'lambda': 98, 'min_child_weight': 10}. Best is trial 86 with value: 0.609390081586621.\n",
      "[I 2024-08-30 08:56:46,219] Trial 94 finished with value: 0.597116527640897 and parameters: {'n_estimators': 520, 'learning_rate': 0.07512129350199954, 'max_depth': 2, 'subsample': 0.8022575368246112, 'lambda': 100, 'min_child_weight': 21}. Best is trial 86 with value: 0.609390081586621.\n",
      "[I 2024-08-30 08:56:49,218] Trial 95 finished with value: 0.5866921349684525 and parameters: {'n_estimators': 477, 'learning_rate': 0.14259761131596174, 'max_depth': 9, 'subsample': 0.7534734862531051, 'lambda': 99, 'min_child_weight': 4}. Best is trial 86 with value: 0.609390081586621.\n",
      "[I 2024-08-30 08:56:49,919] Trial 96 finished with value: 0.6011907785781778 and parameters: {'n_estimators': 522, 'learning_rate': 0.09311943008592748, 'max_depth': 1, 'subsample': 0.7155133603745021, 'lambda': 90, 'min_child_weight': 14}. Best is trial 86 with value: 0.609390081586621.\n",
      "[I 2024-08-30 08:56:50,739] Trial 97 finished with value: 0.6007132479196936 and parameters: {'n_estimators': 434, 'learning_rate': 0.06389564234260593, 'max_depth': 2, 'subsample': 0.7257367498364108, 'lambda': 96, 'min_child_weight': 7}. Best is trial 86 with value: 0.609390081586621.\n",
      "[I 2024-08-30 08:56:51,378] Trial 98 finished with value: 0.528352112819158 and parameters: {'n_estimators': 494, 'learning_rate': 0.05233618350862177, 'max_depth': 1, 'subsample': 0.7865637304469905, 'lambda': 84, 'min_child_weight': 71}. Best is trial 86 with value: 0.609390081586621.\n",
      "[I 2024-08-30 08:56:52,084] Trial 99 finished with value: 0.6048332198774677 and parameters: {'n_estimators': 544, 'learning_rate': 0.08239223718843074, 'max_depth': 1, 'subsample': 0.8380152668872081, 'lambda': 93, 'min_child_weight': 9}. Best is trial 86 with value: 0.609390081586621.\n"
     ]
    }
   ],
   "source": [
    "x = X_train_rus\n",
    "y = y_train_rus.values.ravel()\n",
    "\n",
    "def objective(trial):\n",
    "    params = {\n",
    "        \"seed\":0,\n",
    "        \"verbosity\": 0,\n",
    "        \"objective\": \"binary:logistic\",\n",
    "        \"n_estimators\": trial.suggest_int(\"n_estimators\", 1, 1000),\n",
    "        \"learning_rate\": trial.suggest_float(\"learning_rate\", 1e-3, 10, log=True),\n",
    "        \"max_depth\": trial.suggest_int(\"max_depth\", 1, 10),\n",
    "        \"subsample\": trial.suggest_float(\"subsample\", 1e-3, 1),\n",
    "        \"lambda\": trial.suggest_int(\"lambda\", 1, 100),\n",
    "        \"min_child_weight\": trial.suggest_int(\"min_child_weight\", 1, 100)\n",
    "    }\n",
    "\n",
    "    model = xgb.XGBClassifier(**params)\n",
    "    model.fit(x, y, verbose=False)\n",
    "    predictions = model.predict(X_val)\n",
    "    predictions_prob = model.predict_proba(X_val)[:,1]\n",
    "    BA = balanced_accuracy_score(y_val, predictions)\n",
    "    AUC = roc_auc_score(y_val, predictions_prob)\n",
    "    return AUC\n",
    "\n",
    "#optuna.logging.set_verbosity(optuna.logging.WARNING)\n",
    "sampler = optuna.samplers.TPESampler(seed=0, consider_prior=True, prior_weight=0.5) \n",
    "study = optuna.create_study(direction='maximize',sampler=sampler)\n",
    "study.optimize(objective, n_trials=n_trials)"
   ]
  },
  {
   "cell_type": "code",
   "execution_count": 31,
   "id": "93841b0e-59d7-4c82-b9b0-cb77043d1420",
   "metadata": {
    "tags": []
   },
   "outputs": [
    {
     "name": "stdout",
     "output_type": "stream",
     "text": [
      "Test AUC: 0.669\n",
      "Test Balanced Accuracy: 0.638\n",
      "Test F1: 0.136\n",
      "Test Precision: 0.077\n",
      "Test Recall: 0.62\n"
     ]
    }
   ],
   "source": [
    "best_xgb = xgb.XGBClassifier(objective='binary:logistic',verbosity=0, seed=0, **study.best_params)\n",
    "i = -1\n",
    "orig_XGB = pd.DataFrame(model_eval(model=best_xgb, model_label='XGB', X_train=x, Y_train=y, X_test=X_test, Y_test=y_test, outcome_label=outcome, verbose=True))"
   ]
  },
  {
   "cell_type": "code",
   "execution_count": 32,
   "id": "3235d0ce-54d1-4e1b-a9b4-2be58f88beaf",
   "metadata": {
    "tags": []
   },
   "outputs": [
    {
     "data": {
      "image/png": "[encoded data removed]",
      "text/plain": [
       "<Figure size 640x480 with 1 Axes>"
      ]
     },
     "metadata": {},
     "output_type": "display_data"
    }
   ],
   "source": [
    "gain = best_xgb.get_booster().get_score(importance_type='gain')\n",
    "gain_sorted = dict(sorted(gain.items(), key=lambda x: x[1], reverse=False))\n",
    "\n",
    "features = list(gain_sorted.keys())\n",
    "values = list(gain_sorted.values())\n",
    "\n",
    "fig, ax = plt.subplots()\n",
    "ax.barh(features,values)\n",
    "plt.yticks(fontsize=5.5)\n",
    "ax.set_xlabel(\"Gain\")\n",
    "plt.savefig('PHQ-9 XGB Feature Importance (val).png',dpi=600, bbox_inches='tight')"
   ]
  },
  {
   "cell_type": "code",
   "execution_count": 33,
   "id": "4763ce61-145b-4f10-bfee-bc795233e5e2",
   "metadata": {},
   "outputs": [
    {
     "data": {
      "text/plain": [
       "['best_xgb_phq9_no_reweigh_val.pkl']"
      ]
     },
     "execution_count": 33,
     "metadata": {},
     "output_type": "execute_result"
    }
   ],
   "source": [
    "joblib.dump(best_xgb, 'best_xgb_phq9_no_reweigh_val.pkl')"
   ]
  },
  {
   "cell_type": "markdown",
   "id": "456163af-7dcd-4173-94a4-09acea9f4b8d",
   "metadata": {},
   "source": [
    "### Finetune XG Boost Classifier with Reweighing"
   ]
  },
  {
   "cell_type": "code",
   "execution_count": 35,
   "id": "47e98efb",
   "metadata": {
    "tags": []
   },
   "outputs": [
    {
     "name": "stderr",
     "output_type": "stream",
     "text": [
      "[I 2024-08-30 08:56:53,428] A new study created in memory with name: no-name-26a4c1ca-adee-459e-8cb8-d9cc42433a4b\n",
      "[I 2024-08-30 08:56:57,269] Trial 0 finished with value: 0.5 and parameters: {'n_estimators': 549, 'learning_rate': 0.7257005721594281, 'max_depth': 7, 'subsample': 0.5453382998138999, 'lambda': 43, 'min_child_weight': 65}. Best is trial 0 with value: 0.5.\n",
      "[I 2024-08-30 08:56:57,888] Trial 1 finished with value: 0.5 and parameters: {'n_estimators': 438, 'learning_rate': 3.6905577292137615, 'max_depth': 10, 'subsample': 0.3840580773069519, 'lambda': 80, 'min_child_weight': 53}. Best is trial 0 with value: 0.5.\n",
      "[I 2024-08-30 08:56:59,417] Trial 2 finished with value: 0.5 and parameters: {'n_estimators': 569, 'learning_rate': 5.039489598671213, 'max_depth': 1, 'subsample': 0.08804217040183916, 'lambda': 3, 'min_child_weight': 84}. Best is trial 0 with value: 0.5.\n",
      "[I 2024-08-30 08:57:00,831] Trial 3 finished with value: 0.5 and parameters: {'n_estimators': 779, 'learning_rate': 3.020289640158666, 'max_depth': 10, 'subsample': 0.7993594056525068, 'lambda': 47, 'min_child_weight': 79}. Best is trial 0 with value: 0.5.\n",
      "[I 2024-08-30 08:57:01,239] Trial 4 finished with value: 0.568383406317629 and parameters: {'n_estimators': 119, 'learning_rate': 0.3628140404024382, 'max_depth': 2, 'subsample': 0.9447242481325343, 'lambda': 53, 'min_child_weight': 42}. Best is trial 4 with value: 0.568383406317629.\n",
      "[I 2024-08-30 08:57:01,574] Trial 5 finished with value: 0.5 and parameters: {'n_estimators': 265, 'learning_rate': 1.250071223083626, 'max_depth': 5, 'subsample': 0.5688655149197799, 'lambda': 2, 'min_child_weight': 62}. Best is trial 4 with value: 0.568383406317629.\n",
      "[I 2024-08-30 08:57:02,975] Trial 6 finished with value: 0.5179582008270425 and parameters: {'n_estimators': 613, 'learning_rate': 0.293586436439536, 'max_depth': 10, 'subsample': 0.6821384788043799, 'lambda': 36, 'min_child_weight': 44}. Best is trial 4 with value: 0.568383406317629.\n",
      "[I 2024-08-30 08:57:09,481] Trial 7 finished with value: 0.569704235798543 and parameters: {'n_estimators': 698, 'learning_rate': 0.0017414134181586202, 'max_depth': 7, 'subsample': 0.6709672317485412, 'lambda': 22, 'min_child_weight': 13}. Best is trial 7 with value: 0.569704235798543.\n",
      "[I 2024-08-30 08:57:10,833] Trial 8 finished with value: 0.579955904615791 and parameters: {'n_estimators': 316, 'learning_rate': 0.028499883436971588, 'max_depth': 6, 'subsample': 0.43916291194885804, 'lambda': 99, 'min_child_weight': 11}. Best is trial 8 with value: 0.579955904615791.\n",
      "[I 2024-08-30 08:57:11,218] Trial 9 finished with value: 0.5273106895745914 and parameters: {'n_estimators': 209, 'learning_rate': 0.004418125737902547, 'max_depth': 7, 'subsample': 0.25403831093724233, 'lambda': 47, 'min_child_weight': 25}. Best is trial 8 with value: 0.579955904615791.\n",
      "[I 2024-08-30 08:57:11,341] Trial 10 finished with value: 0.6004287615699582 and parameters: {'n_estimators': 21, 'learning_rate': 0.02504396811510057, 'max_depth': 4, 'subsample': 0.3191852813529866, 'lambda': 97, 'min_child_weight': 1}. Best is trial 10 with value: 0.6004287615699582.\n",
      "[I 2024-08-30 08:57:11,471] Trial 11 finished with value: 0.5809770074068054 and parameters: {'n_estimators': 23, 'learning_rate': 0.02502599615503601, 'max_depth': 4, 'subsample': 0.32812285469201047, 'lambda': 98, 'min_child_weight': 4}. Best is trial 10 with value: 0.6004287615699582.\n",
      "[I 2024-08-30 08:57:15,709] Trial 12 finished with value: 0.594210702782886 and parameters: {'n_estimators': 1000, 'learning_rate': 0.030840507125090875, 'max_depth': 4, 'subsample': 0.2223533560255987, 'lambda': 100, 'min_child_weight': 1}. Best is trial 10 with value: 0.6004287615699582.\n",
      "[I 2024-08-30 08:57:18,541] Trial 13 finished with value: 0.5 and parameters: {'n_estimators': 940, 'learning_rate': 0.03513149867194457, 'max_depth': 3, 'subsample': 0.1223550200621557, 'lambda': 76, 'min_child_weight': 28}. Best is trial 10 with value: 0.6004287615699582.\n",
      "[I 2024-08-30 08:57:19,790] Trial 14 finished with value: 0.5 and parameters: {'n_estimators': 947, 'learning_rate': 0.00684954334121597, 'max_depth': 4, 'subsample': 0.23026220242306883, 'lambda': 79, 'min_child_weight': 100}. Best is trial 10 with value: 0.6004287615699582.\n",
      "[I 2024-08-30 08:57:21,180] Trial 15 finished with value: 0.5838980726049805 and parameters: {'n_estimators': 404, 'learning_rate': 0.10285333900265704, 'max_depth': 3, 'subsample': 0.182902481484235, 'lambda': 66, 'min_child_weight': 1}. Best is trial 10 with value: 0.6004287615699582.\n",
      "[I 2024-08-30 08:57:22,216] Trial 16 finished with value: 0.5 and parameters: {'n_estimators': 854, 'learning_rate': 0.0994370645550662, 'max_depth': 5, 'subsample': 0.020154655030355406, 'lambda': 87, 'min_child_weight': 25}. Best is trial 10 with value: 0.6004287615699582.\n",
      "[I 2024-08-30 08:57:22,275] Trial 17 finished with value: 0.5147577293925201 and parameters: {'n_estimators': 1, 'learning_rate': 0.00897526810715259, 'max_depth': 1, 'subsample': 0.32700965562138873, 'lambda': 64, 'min_child_weight': 17}. Best is trial 10 with value: 0.6004287615699582.\n",
      "[I 2024-08-30 08:57:24,016] Trial 18 finished with value: 0.5169878991699095 and parameters: {'n_estimators': 693, 'learning_rate': 0.07305295568841111, 'max_depth': 3, 'subsample': 0.4625024584891979, 'lambda': 90, 'min_child_weight': 34}. Best is trial 10 with value: 0.6004287615699582.\n",
      "[I 2024-08-30 08:57:32,220] Trial 19 finished with value: 0.5944545482255164 and parameters: {'n_estimators': 998, 'learning_rate': 0.015195449047010944, 'max_depth': 6, 'subsample': 0.28681739046506444, 'lambda': 64, 'min_child_weight': 2}. Best is trial 10 with value: 0.6004287615699582.\n",
      "[I 2024-08-30 08:57:32,432] Trial 20 finished with value: 0.5613880901821728 and parameters: {'n_estimators': 124, 'learning_rate': 0.0013785691023489798, 'max_depth': 8, 'subsample': 0.35405843724890773, 'lambda': 63, 'min_child_weight': 17}. Best is trial 10 with value: 0.6004287615699582.\n",
      "[I 2024-08-30 08:57:40,127] Trial 21 finished with value: 0.6040051613952023 and parameters: {'n_estimators': 983, 'learning_rate': 0.018194091339754286, 'max_depth': 4, 'subsample': 0.2516196029620503, 'lambda': 90, 'min_child_weight': 1}. Best is trial 21 with value: 0.6040051613952023.\n",
      "[I 2024-08-30 08:57:42,837] Trial 22 finished with value: 0.5755565264216698 and parameters: {'n_estimators': 844, 'learning_rate': 0.011718863155193724, 'max_depth': 6, 'subsample': 0.2823941027520651, 'lambda': 90, 'min_child_weight': 10}. Best is trial 21 with value: 0.6040051613952023.\n",
      "[I 2024-08-30 08:57:44,951] Trial 23 finished with value: 0.5512329435192993 and parameters: {'n_estimators': 876, 'learning_rate': 0.003530166072061084, 'max_depth': 5, 'subsample': 0.15056680112091084, 'lambda': 71, 'min_child_weight': 9}. Best is trial 21 with value: 0.6040051613952023.\n",
      "[I 2024-08-30 08:57:46,778] Trial 24 finished with value: 0.5583044613555774 and parameters: {'n_estimators': 733, 'learning_rate': 0.012897883783306054, 'max_depth': 4, 'subsample': 0.4641609416043622, 'lambda': 86, 'min_child_weight': 20}. Best is trial 21 with value: 0.6040051613952023.\n",
      "[I 2024-08-30 08:57:47,789] Trial 25 finished with value: 0.5542149700781321 and parameters: {'n_estimators': 993, 'learning_rate': 0.0029242667595720125, 'max_depth': 8, 'subsample': 0.004419309681367917, 'lambda': 58, 'min_child_weight': 1}. Best is trial 21 with value: 0.6040051613952023.\n",
      "[I 2024-08-30 08:57:49,124] Trial 26 finished with value: 0.501239547666704 and parameters: {'n_estimators': 781, 'learning_rate': 0.06022071936544232, 'max_depth': 2, 'subsample': 0.41424171021160405, 'lambda': 74, 'min_child_weight': 33}. Best is trial 21 with value: 0.6040051613952023.\n",
      "[I 2024-08-30 08:57:52,689] Trial 27 finished with value: 0.574398260569176 and parameters: {'n_estimators': 446, 'learning_rate': 0.016829742208851535, 'max_depth': 6, 'subsample': 0.2946713891367402, 'lambda': 93, 'min_child_weight': 8}. Best is trial 21 with value: 0.6040051613952023.\n",
      "[I 2024-08-30 08:57:53,524] Trial 28 finished with value: 0.5 and parameters: {'n_estimators': 908, 'learning_rate': 0.14957470013931165, 'max_depth': 5, 'subsample': 0.08805331111023429, 'lambda': 84, 'min_child_weight': 19}. Best is trial 21 with value: 0.6040051613952023.\n",
      "[I 2024-08-30 08:57:54,659] Trial 29 finished with value: 0.5337522733507413 and parameters: {'n_estimators': 649, 'learning_rate': 0.005310778698000695, 'max_depth': 8, 'subsample': 0.5456584022673254, 'lambda': 36, 'min_child_weight': 35}. Best is trial 21 with value: 0.6040051613952023.\n",
      "[I 2024-08-30 08:57:55,588] Trial 30 finished with value: 0.5724678174816862 and parameters: {'n_estimators': 508, 'learning_rate': 0.019576120710071223, 'max_depth': 2, 'subsample': 0.19359779988069542, 'lambda': 70, 'min_child_weight': 7}. Best is trial 21 with value: 0.6040051613952023.\n",
      "[I 2024-08-30 08:57:59,773] Trial 31 finished with value: 0.5975737378458287 and parameters: {'n_estimators': 983, 'learning_rate': 0.040942696590546314, 'max_depth': 4, 'subsample': 0.22152890536583653, 'lambda': 100, 'min_child_weight': 1}. Best is trial 21 with value: 0.6040051613952023.\n",
      "[I 2024-08-30 08:58:01,691] Trial 32 finished with value: 0.5730926714284262 and parameters: {'n_estimators': 811, 'learning_rate': 0.04481163832682782, 'max_depth': 3, 'subsample': 0.3771912049543253, 'lambda': 93, 'min_child_weight': 14}. Best is trial 21 with value: 0.6040051613952023.\n",
      "[I 2024-08-30 08:58:06,405] Trial 33 finished with value: 0.5774564888288307 and parameters: {'n_estimators': 936, 'learning_rate': 0.1825614730529054, 'max_depth': 4, 'subsample': 0.2638137191331455, 'lambda': 82, 'min_child_weight': 7}. Best is trial 21 with value: 0.6040051613952023.\n",
      "[I 2024-08-30 08:58:09,794] Trial 34 finished with value: 0.600652286559036 and parameters: {'n_estimators': 877, 'learning_rate': 0.0502415058931841, 'max_depth': 5, 'subsample': 0.15205927142147124, 'lambda': 95, 'min_child_weight': 1}. Best is trial 21 with value: 0.6040051613952023.\n",
      "[I 2024-08-30 08:58:10,371] Trial 35 finished with value: 0.5 and parameters: {'n_estimators': 886, 'learning_rate': 0.05421115122617833, 'max_depth': 5, 'subsample': 0.08664108688364207, 'lambda': 95, 'min_child_weight': 22}. Best is trial 21 with value: 0.6040051613952023.\n",
      "[I 2024-08-30 08:58:11,486] Trial 36 finished with value: 0.5 and parameters: {'n_estimators': 754, 'learning_rate': 0.8233378540639402, 'max_depth': 3, 'subsample': 0.16880208785279344, 'lambda': 81, 'min_child_weight': 55}. Best is trial 21 with value: 0.6040051613952023.\n",
      "[I 2024-08-30 08:58:12,910] Trial 37 finished with value: 0.5 and parameters: {'n_estimators': 819, 'learning_rate': 0.31901575045143843, 'max_depth': 4, 'subsample': 0.08462359372313558, 'lambda': 93, 'min_child_weight': 74}. Best is trial 21 with value: 0.6040051613952023.\n",
      "[I 2024-08-30 08:58:14,039] Trial 38 finished with value: 0.5717058004734665 and parameters: {'n_estimators': 571, 'learning_rate': 0.15081439669399513, 'max_depth': 2, 'subsample': 0.3816897871918662, 'lambda': 100, 'min_child_weight': 13}. Best is trial 21 with value: 0.6040051613952023.\n",
      "[I 2024-08-30 08:58:14,736] Trial 39 finished with value: 0.5722392123792204 and parameters: {'n_estimators': 332, 'learning_rate': 0.0086919637846128, 'max_depth': 5, 'subsample': 0.13679637701599284, 'lambda': 88, 'min_child_weight': 6}. Best is trial 21 with value: 0.6040051613952023.\n",
      "[I 2024-08-30 08:58:16,355] Trial 40 finished with value: 0.5128831675522998 and parameters: {'n_estimators': 932, 'learning_rate': 0.06745027631405608, 'max_depth': 4, 'subsample': 0.5175880988969555, 'lambda': 94, 'min_child_weight': 46}. Best is trial 21 with value: 0.6040051613952023.\n",
      "[I 2024-08-30 08:58:22,600] Trial 41 finished with value: 0.5780051410747489 and parameters: {'n_estimators': 990, 'learning_rate': 0.016000460127960893, 'max_depth': 6, 'subsample': 0.2942491895022279, 'lambda': 10, 'min_child_weight': 1}. Best is trial 21 with value: 0.6040051613952023.\n",
      "[I 2024-08-30 08:58:23,974] Trial 42 finished with value: 0.5515428304359753 and parameters: {'n_estimators': 968, 'learning_rate': 0.024371831072544845, 'max_depth': 6, 'subsample': 0.23212573327198338, 'lambda': 39, 'min_child_weight': 14}. Best is trial 21 with value: 0.6040051613952023.\n",
      "[I 2024-08-30 08:58:27,797] Trial 43 finished with value: 0.579874622801581 and parameters: {'n_estimators': 894, 'learning_rate': 0.046016333042502904, 'max_depth': 7, 'subsample': 0.21274510835294558, 'lambda': 53, 'min_child_weight': 7}. Best is trial 21 with value: 0.6040051613952023.\n",
      "[I 2024-08-30 08:58:28,526] Trial 44 finished with value: 0.580616319356248 and parameters: {'n_estimators': 194, 'learning_rate': 0.03598926168316334, 'max_depth': 5, 'subsample': 0.3304537895186903, 'lambda': 97, 'min_child_weight': 5}. Best is trial 21 with value: 0.6040051613952023.\n",
      "[I 2024-08-30 08:58:29,487] Trial 45 finished with value: 0.5 and parameters: {'n_estimators': 913, 'learning_rate': 0.020980527612828183, 'max_depth': 6, 'subsample': 0.05100325681948628, 'lambda': 85, 'min_child_weight': 12}. Best is trial 21 with value: 0.6040051613952023.\n",
      "[I 2024-08-30 08:58:33,154] Trial 46 finished with value: 0.5053849201914187 and parameters: {'n_estimators': 1000, 'learning_rate': 7.926798116385194, 'max_depth': 4, 'subsample': 0.11883497344172603, 'lambda': 28, 'min_child_weight': 1}. Best is trial 21 with value: 0.6040051613952023.\n",
      "[I 2024-08-30 08:58:33,268] Trial 47 finished with value: 0.5384107373276572 and parameters: {'n_estimators': 61, 'learning_rate': 0.0966187734871162, 'max_depth': 5, 'subsample': 0.26718132899593783, 'lambda': 78, 'min_child_weight': 28}. Best is trial 21 with value: 0.6040051613952023.\n",
      "[I 2024-08-30 08:58:35,551] Trial 48 finished with value: 0.5942208630096624 and parameters: {'n_estimators': 846, 'learning_rate': 0.010353483651272394, 'max_depth': 3, 'subsample': 0.9051591554570313, 'lambda': 98, 'min_child_weight': 5}. Best is trial 21 with value: 0.6040051613952023.\n",
      "[I 2024-08-30 08:58:38,129] Trial 49 finished with value: 0.5790110035255988 and parameters: {'n_estimators': 939, 'learning_rate': 0.006048378453778007, 'max_depth': 4, 'subsample': 0.5844382701432322, 'lambda': 89, 'min_child_weight': 16}. Best is trial 21 with value: 0.6040051613952023.\n",
      "[I 2024-08-30 08:58:42,202] Trial 50 finished with value: 0.5766436706867296 and parameters: {'n_estimators': 787, 'learning_rate': 0.029625124792434065, 'max_depth': 5, 'subsample': 0.4175141349121464, 'lambda': 100, 'min_child_weight': 11}. Best is trial 21 with value: 0.6040051613952023.\n",
      "[I 2024-08-30 08:58:44,482] Trial 51 finished with value: 0.5921583369740813 and parameters: {'n_estimators': 861, 'learning_rate': 0.010645242969041787, 'max_depth': 3, 'subsample': 0.839555836789588, 'lambda': 96, 'min_child_weight': 4}. Best is trial 21 with value: 0.6040051613952023.\n",
      "[I 2024-08-30 08:58:48,346] Trial 52 finished with value: 0.5836237464820215 and parameters: {'n_estimators': 965, 'learning_rate': 0.01508742575295673, 'max_depth': 3, 'subsample': 0.9310107417870499, 'lambda': 90, 'min_child_weight': 4}. Best is trial 21 with value: 0.6040051613952023.\n",
      "[I 2024-08-30 08:58:52,051] Trial 53 finished with value: 0.589506517785477 and parameters: {'n_estimators': 834, 'learning_rate': 0.007553176503677447, 'max_depth': 7, 'subsample': 0.6387302182341552, 'lambda': 96, 'min_child_weight': 4}. Best is trial 21 with value: 0.6040051613952023.\n",
      "[I 2024-08-30 08:58:55,718] Trial 54 finished with value: 0.5837710697702773 and parameters: {'n_estimators': 728, 'learning_rate': 0.003158832518254579, 'max_depth': 3, 'subsample': 0.7059088182220827, 'lambda': 100, 'min_child_weight': 10}. Best is trial 21 with value: 0.6040051613952023.\n",
      "[I 2024-08-30 08:58:56,944] Trial 55 finished with value: 0.5 and parameters: {'n_estimators': 876, 'learning_rate': 0.03558486002869104, 'max_depth': 2, 'subsample': 0.19074433090439513, 'lambda': 83, 'min_child_weight': 23}. Best is trial 21 with value: 0.6040051613952023.\n",
      "[I 2024-08-30 08:58:59,513] Trial 56 finished with value: 0.5936518903101917 and parameters: {'n_estimators': 967, 'learning_rate': 0.0023802152868904343, 'max_depth': 4, 'subsample': 0.7497190188237247, 'lambda': 48, 'min_child_weight': 1}. Best is trial 21 with value: 0.6040051613952023.\n",
      "[I 2024-08-30 08:59:01,635] Trial 57 finished with value: 0.5 and parameters: {'n_estimators': 913, 'learning_rate': 0.011573885966274206, 'max_depth': 4, 'subsample': 0.31947246658399686, 'lambda': 60, 'min_child_weight': 91}. Best is trial 21 with value: 0.6040051613952023.\n",
      "[I 2024-08-30 08:59:03,134] Trial 58 finished with value: 0.5942005425561099 and parameters: {'n_estimators': 331, 'learning_rate': 0.08696100589974075, 'max_depth': 7, 'subsample': 0.971378859273271, 'lambda': 74, 'min_child_weight': 10}. Best is trial 21 with value: 0.6040051613952023.\n",
      "[I 2024-08-30 08:59:04,038] Trial 59 finished with value: 0.539335317964297 and parameters: {'n_estimators': 654, 'learning_rate': 0.004742679329199794, 'max_depth': 1, 'subsample': 0.24060248056101, 'lambda': 91, 'min_child_weight': 17}. Best is trial 21 with value: 0.6040051613952023.\n",
      "[I 2024-08-30 08:59:07,957] Trial 60 finished with value: 0.591254076790994 and parameters: {'n_estimators': 849, 'learning_rate': 0.02376187739820181, 'max_depth': 6, 'subsample': 0.35392239796902136, 'lambda': 86, 'min_child_weight': 4}. Best is trial 21 with value: 0.6040051613952023.\n",
      "[I 2024-08-30 08:59:11,767] Trial 61 finished with value: 0.5983967162147059 and parameters: {'n_estimators': 996, 'learning_rate': 0.040439695354849585, 'max_depth': 4, 'subsample': 0.20378256482274892, 'lambda': 97, 'min_child_weight': 2}. Best is trial 21 with value: 0.6040051613952023.\n",
      "[I 2024-08-30 08:59:15,159] Trial 62 finished with value: 0.5847921725612915 and parameters: {'n_estimators': 999, 'learning_rate': 0.045994709876066235, 'max_depth': 3, 'subsample': 0.137179633449041, 'lambda': 97, 'min_child_weight': 5}. Best is trial 21 with value: 0.6040051613952023.\n",
      "[I 2024-08-30 08:59:17,293] Trial 63 finished with value: 0.5763134633165011 and parameters: {'n_estimators': 957, 'learning_rate': 0.01898801880243458, 'max_depth': 5, 'subsample': 0.2085046272633172, 'lambda': 92, 'min_child_weight': 8}. Best is trial 21 with value: 0.6040051613952023.\n",
      "[I 2024-08-30 08:59:19,596] Trial 64 finished with value: 0.6018308728650823 and parameters: {'n_estimators': 914, 'learning_rate': 0.031738585090530715, 'max_depth': 4, 'subsample': 0.16444314050303016, 'lambda': 97, 'min_child_weight': 1}. Best is trial 21 with value: 0.6040051613952023.\n",
      "[I 2024-08-30 08:59:25,481] Trial 65 finished with value: 0.6016276683295572 and parameters: {'n_estimators': 920, 'learning_rate': 0.03355722302809937, 'max_depth': 4, 'subsample': 0.16217664953056155, 'lambda': 88, 'min_child_weight': 1}. Best is trial 21 with value: 0.6040051613952023.\n",
      "[I 2024-08-30 08:59:26,811] Trial 66 finished with value: 0.5128476067585828 and parameters: {'n_estimators': 909, 'learning_rate': 0.1228776007803955, 'max_depth': 4, 'subsample': 0.16747456939358504, 'lambda': 88, 'min_child_weight': 14}. Best is trial 21 with value: 0.6040051613952023.\n",
      "[I 2024-08-30 08:59:27,206] Trial 67 finished with value: 0.5 and parameters: {'n_estimators': 927, 'learning_rate': 0.2219755799487551, 'max_depth': 4, 'subsample': 0.03841196080982395, 'lambda': 79, 'min_child_weight': 9}. Best is trial 21 with value: 0.6040051613952023.\n",
      "[I 2024-08-30 08:59:29,907] Trial 68 finished with value: 0.6016581490098859 and parameters: {'n_estimators': 372, 'learning_rate': 0.06794829768267102, 'max_depth': 4, 'subsample': 0.10390412535617122, 'lambda': 94, 'min_child_weight': 1}. Best is trial 21 with value: 0.6040051613952023.\n",
      "[I 2024-08-30 08:59:30,281] Trial 69 finished with value: 0.5 and parameters: {'n_estimators': 410, 'learning_rate': 0.07387562944332632, 'max_depth': 5, 'subsample': 0.10950803551001834, 'lambda': 94, 'min_child_weight': 20}. Best is trial 21 with value: 0.6040051613952023.\n",
      "[I 2024-08-30 08:59:30,507] Trial 70 finished with value: 0.5 and parameters: {'n_estimators': 231, 'learning_rate': 0.06709945185078559, 'max_depth': 4, 'subsample': 0.0552649098061056, 'lambda': 84, 'min_child_weight': 58}. Best is trial 21 with value: 0.6040051613952023.\n",
      "[I 2024-08-30 08:59:30,830] Trial 71 finished with value: 0.5785436330938907 and parameters: {'n_estimators': 101, 'learning_rate': 0.03263407119752827, 'max_depth': 4, 'subsample': 0.16862453825619522, 'lambda': 96, 'min_child_weight': 1}. Best is trial 21 with value: 0.6040051613952023.\n",
      "[I 2024-08-30 08:59:32,515] Trial 72 finished with value: 0.5867327758755575 and parameters: {'n_estimators': 471, 'learning_rate': 0.027671853576117074, 'max_depth': 5, 'subsample': 0.2444816347107564, 'lambda': 92, 'min_child_weight': 3}. Best is trial 21 with value: 0.6040051613952023.\n",
      "[I 2024-08-30 08:59:32,764] Trial 73 finished with value: 0.5425662700791481 and parameters: {'n_estimators': 154, 'learning_rate': 0.05295380035566265, 'max_depth': 4, 'subsample': 0.08647836662292605, 'lambda': 100, 'min_child_weight': 8}. Best is trial 21 with value: 0.6040051613952023.\n",
      "[I 2024-08-30 08:59:33,230] Trial 74 finished with value: 0.5767147922741636 and parameters: {'n_estimators': 281, 'learning_rate': 0.038588857437561845, 'max_depth': 3, 'subsample': 0.14731083243257115, 'lambda': 87, 'min_child_weight': 6}. Best is trial 21 with value: 0.6040051613952023.\n",
      "[I 2024-08-30 08:59:36,285] Trial 75 finished with value: 0.5620688253761824 and parameters: {'n_estimators': 966, 'learning_rate': 0.12086592207152207, 'max_depth': 4, 'subsample': 0.20110228659450857, 'lambda': 90, 'min_child_weight': 12}. Best is trial 21 with value: 0.6040051613952023.\n",
      "[I 2024-08-30 08:59:39,219] Trial 76 finished with value: 0.594129420968676 and parameters: {'n_estimators': 803, 'learning_rate': 0.08301435985688042, 'max_depth': 5, 'subsample': 0.10302088758841255, 'lambda': 94, 'min_child_weight': 1}. Best is trial 21 with value: 0.6040051613952023.\n",
      "[I 2024-08-30 08:59:40,239] Trial 77 finished with value: 0.582516281763409 and parameters: {'n_estimators': 547, 'learning_rate': 0.05525960734729937, 'max_depth': 4, 'subsample': 0.26691066837374905, 'lambda': 97, 'min_child_weight': 7}. Best is trial 21 with value: 0.6040051613952023.\n",
      "[I 2024-08-30 08:59:43,518] Trial 78 finished with value: 0.5 and parameters: {'n_estimators': 885, 'learning_rate': 0.023720082242458102, 'max_depth': 3, 'subsample': 0.06523242689328461, 'lambda': 81, 'min_child_weight': 38}. Best is trial 21 with value: 0.6040051613952023.\n",
      "[I 2024-08-30 08:59:44,440] Trial 79 finished with value: 0.5 and parameters: {'n_estimators': 943, 'learning_rate': 0.0438093874260701, 'max_depth': 5, 'subsample': 0.016932534988961162, 'lambda': 92, 'min_child_weight': 15}. Best is trial 21 with value: 0.6040051613952023.\n",
      "[I 2024-08-30 08:59:47,314] Trial 80 finished with value: 0.5921989778811864 and parameters: {'n_estimators': 972, 'learning_rate': 0.017658486657372328, 'max_depth': 4, 'subsample': 0.16960480008119058, 'lambda': 98, 'min_child_weight': 3}. Best is trial 21 with value: 0.6040051613952023.\n",
      "[I 2024-08-30 08:59:51,410] Trial 81 finished with value: 0.5916604858620444 and parameters: {'n_estimators': 981, 'learning_rate': 0.02898161874070706, 'max_depth': 5, 'subsample': 0.31410357132865296, 'lambda': 95, 'min_child_weight': 3}. Best is trial 21 with value: 0.6040051613952023.\n",
      "[I 2024-08-30 08:59:53,537] Trial 82 finished with value: 0.5644412383284395 and parameters: {'n_estimators': 931, 'learning_rate': 0.020766672029637733, 'max_depth': 6, 'subsample': 0.21410843707581215, 'lambda': 88, 'min_child_weight': 10}. Best is trial 21 with value: 0.6040051613952023.\n",
      "[I 2024-08-30 08:59:56,077] Trial 83 finished with value: 0.5825670828972903 and parameters: {'n_estimators': 903, 'learning_rate': 0.013627703216612472, 'max_depth': 4, 'subsample': 0.28018188591300375, 'lambda': 70, 'min_child_weight': 7}. Best is trial 21 with value: 0.6040051613952023.\n",
      "[I 2024-08-30 08:59:56,780] Trial 84 finished with value: 0.5951911646667953 and parameters: {'n_estimators': 363, 'learning_rate': 0.03979778481177783, 'max_depth': 5, 'subsample': 0.35178171840952793, 'lambda': 77, 'min_child_weight': 1}. Best is trial 21 with value: 0.6040051613952023.\n",
      "[I 2024-08-30 08:59:57,139] Trial 85 finished with value: 0.5 and parameters: {'n_estimators': 391, 'learning_rate': 0.05850955609026526, 'max_depth': 5, 'subsample': 0.343544002750752, 'lambda': 77, 'min_child_weight': 72}. Best is trial 21 with value: 0.6040051613952023.\n",
      "[I 2024-08-30 08:59:57,660] Trial 86 finished with value: 0.5922192983347389 and parameters: {'n_estimators': 265, 'learning_rate': 0.040423449980845814, 'max_depth': 3, 'subsample': 0.13151928773083446, 'lambda': 84, 'min_child_weight': 3}. Best is trial 21 with value: 0.6040051613952023.\n",
      "[I 2024-08-30 08:59:58,126] Trial 87 finished with value: 0.6000833138595654 and parameters: {'n_estimators': 362, 'learning_rate': 0.03405072128116674, 'max_depth': 4, 'subsample': 0.2433660640171483, 'lambda': 90, 'min_child_weight': 1}. Best is trial 21 with value: 0.6040051613952023.\n",
      "[I 2024-08-30 08:59:58,578] Trial 88 finished with value: 0.5471282119016896 and parameters: {'n_estimators': 519, 'learning_rate': 0.11484464159656758, 'max_depth': 4, 'subsample': 0.2308529232191992, 'lambda': 90, 'min_child_weight': 12}. Best is trial 21 with value: 0.6040051613952023.\n",
      "[I 2024-08-30 08:59:59,221] Trial 89 finished with value: 0.5751399571238429 and parameters: {'n_estimators': 609, 'learning_rate': 0.031007733717942732, 'max_depth': 4, 'subsample': 0.18634403857117593, 'lambda': 98, 'min_child_weight': 6}. Best is trial 21 with value: 0.6040051613952023.\n",
      "[I 2024-08-30 08:59:59,600] Trial 90 finished with value: 0.5717464413805716 and parameters: {'n_estimators': 461, 'learning_rate': 0.052961621070830016, 'max_depth': 3, 'subsample': 0.3026541808228312, 'lambda': 86, 'min_child_weight': 9}. Best is trial 21 with value: 0.6040051613952023.\n",
      "[I 2024-08-30 09:00:00,147] Trial 91 finished with value: 0.596730439023399 and parameters: {'n_estimators': 370, 'learning_rate': 0.03721528441000981, 'max_depth': 4, 'subsample': 0.2521488572082569, 'lambda': 92, 'min_child_weight': 1}. Best is trial 21 with value: 0.6040051613952023.\n",
      "[I 2024-08-30 09:00:00,534] Trial 92 finished with value: 0.5852189020858946 and parameters: {'n_estimators': 376, 'learning_rate': 0.02541697213442378, 'max_depth': 4, 'subsample': 0.259387908222081, 'lambda': 94, 'min_child_weight': 5}. Best is trial 21 with value: 0.6040051613952023.\n",
      "[I 2024-08-30 09:00:00,943] Trial 93 finished with value: 0.5946882334413705 and parameters: {'n_estimators': 408, 'learning_rate': 0.07765480648393838, 'max_depth': 4, 'subsample': 0.22491449408333491, 'lambda': 95, 'min_child_weight': 1}. Best is trial 21 with value: 0.6040051613952023.\n",
      "[I 2024-08-30 09:00:01,277] Trial 94 finished with value: 0.5830039726486695 and parameters: {'n_estimators': 299, 'learning_rate': 0.033311314071882314, 'max_depth': 3, 'subsample': 0.15090012666684263, 'lambda': 91, 'min_child_weight': 3}. Best is trial 21 with value: 0.6040051613952023.\n",
      "[I 2024-08-30 09:00:01,546] Trial 95 finished with value: 0.5692673460471638 and parameters: {'n_estimators': 230, 'learning_rate': 0.01546329145863988, 'max_depth': 4, 'subsample': 0.18489476260102747, 'lambda': 100, 'min_child_weight': 6}. Best is trial 21 with value: 0.6040051613952023.\n",
      "[I 2024-08-30 09:00:01,642] Trial 96 finished with value: 0.591025471688528 and parameters: {'n_estimators': 52, 'learning_rate': 0.022387282236835355, 'max_depth': 4, 'subsample': 0.2539011254781288, 'lambda': 88, 'min_child_weight': 3}. Best is trial 21 with value: 0.6040051613952023.\n",
      "[I 2024-08-30 09:00:01,977] Trial 97 finished with value: 0.5429574388100342 and parameters: {'n_estimators': 440, 'learning_rate': 0.06600810770040295, 'max_depth': 3, 'subsample': 0.15477523427895867, 'lambda': 93, 'min_child_weight': 11}. Best is trial 21 with value: 0.6040051613952023.\n",
      "[I 2024-08-30 09:00:02,753] Trial 98 finished with value: 0.5716346788860327 and parameters: {'n_estimators': 868, 'learning_rate': 0.04542955923818272, 'max_depth': 4, 'subsample': 0.11096146243733085, 'lambda': 98, 'min_child_weight': 5}. Best is trial 21 with value: 0.6040051613952023.\n",
      "[I 2024-08-30 09:00:03,094] Trial 99 finished with value: 0.5393353179642969 and parameters: {'n_estimators': 337, 'learning_rate': 2.4352131065373657, 'max_depth': 5, 'subsample': 0.28725127285765206, 'lambda': 91, 'min_child_weight': 7}. Best is trial 21 with value: 0.6040051613952023.\n"
     ]
    }
   ],
   "source": [
    "x = X_train_rus\n",
    "y = y_train_rus.values.ravel()\n",
    "w = weights_rus\n",
    "\n",
    "def objective(trial):\n",
    "    params = {\n",
    "        \"seed\":0,\n",
    "        \"verbosity\": 0,\n",
    "        \"objective\": \"binary:logistic\",\n",
    "        \"n_estimators\": trial.suggest_int(\"n_estimators\", 1, 1000),\n",
    "        \"learning_rate\": trial.suggest_float(\"learning_rate\", 1e-3, 10, log=True),\n",
    "        \"max_depth\": trial.suggest_int(\"max_depth\", 1, 10),\n",
    "        \"subsample\": trial.suggest_float(\"subsample\", 1e-3, 1),\n",
    "        \"lambda\": trial.suggest_int(\"lambda\", 1, 100),\n",
    "        \"min_child_weight\": trial.suggest_int(\"min_child_weight\", 1, 100)\n",
    "    }\n",
    "\n",
    "    model = xgb.XGBClassifier(**params)\n",
    "    model.fit(x, y, sample_weight=w, verbose=False)\n",
    "    predictions = model.predict(X_val)\n",
    "    predictions_prob = model.predict_proba(X_val)[:,1]\n",
    "    BA = balanced_accuracy_score(y_val, predictions)\n",
    "    AUC = roc_auc_score(y_val, predictions_prob)\n",
    "    return AUC\n",
    "\n",
    "#optuna.logging.set_verbosity(optuna.logging.WARNING)\n",
    "sampler = optuna.samplers.TPESampler(seed=0, consider_prior=True, prior_weight=0.5) \n",
    "study = optuna.create_study(direction='maximize',sampler=sampler)\n",
    "study.optimize(objective, n_trials=n_trials)"
   ]
  },
  {
   "cell_type": "code",
   "execution_count": 36,
   "id": "865a31ce-6116-431f-89f6-b6de805cc5c8",
   "metadata": {
    "tags": []
   },
   "outputs": [
    {
     "name": "stdout",
     "output_type": "stream",
     "text": [
      "Test AUC: 0.653\n",
      "Test Balanced Accuracy: 0.642\n",
      "Test F1: 0.136\n",
      "Test Precision: 0.076\n",
      "Test Recall: 0.64\n"
     ]
    }
   ],
   "source": [
    "best_xgb2 = xgb.XGBClassifier(objective='binary:logistic',verbosity=0, seed=0, **study.best_params)\n",
    "\n",
    "# original evaluation \n",
    "i = -1 # (will output as 0 since iteration = i+1)\n",
    "orig_XGB2 = pd.DataFrame(model_eval(model=best_xgb2, model_label='XGB', X_train=x, Y_train=y, X_test=X_test, Y_test=y_test, outcome_label=outcome, W=w, verbose=True))"
   ]
  },
  {
   "cell_type": "code",
   "execution_count": 37,
   "id": "d3e1c1aa-2aa0-4034-83a5-edc7bc58ae26",
   "metadata": {
    "tags": []
   },
   "outputs": [
    {
     "data": {
      "image/png": "[encoded data removed]",
      "text/plain": [
       "<Figure size 640x480 with 1 Axes>"
      ]
     },
     "metadata": {},
     "output_type": "display_data"
    }
   ],
   "source": [
    "gain = best_xgb2.get_booster().get_score(importance_type='gain')\n",
    "gain_sorted = dict(sorted(gain.items(), key=lambda x: x[1], reverse=False))\n",
    "\n",
    "features = list(gain_sorted.keys())\n",
    "values = list(gain_sorted.values())\n",
    "\n",
    "fig, ax = plt.subplots()\n",
    "ax.barh(features,values)\n",
    "plt.yticks(fontsize=5.5)\n",
    "ax.set_xlabel(\"Gain\")\n",
    "plt.savefig('PHQ-9 XGB Feature Importance Reweigh.png',dpi=600, bbox_inches='tight')"
   ]
  },
  {
   "cell_type": "code",
   "execution_count": 38,
   "id": "a465a11c-6b1d-4793-b3c0-c93948c2c6e6",
   "metadata": {
    "tags": []
   },
   "outputs": [
    {
     "data": {
      "text/plain": [
       "['best_xgb_phq9_reweigh_val.pkl']"
      ]
     },
     "execution_count": 38,
     "metadata": {},
     "output_type": "execute_result"
    }
   ],
   "source": [
    "joblib.dump(best_xgb2, 'best_xgb_phq9_reweigh_val.pkl')"
   ]
  },
  {
   "cell_type": "markdown",
   "id": "05801c3f-dc88-4e80-b6c3-00dcce6cffa9",
   "metadata": {},
   "source": [
    "## Random Forest"
   ]
  },
  {
   "cell_type": "markdown",
   "id": "8ece2000-9b22-4aa5-be54-30f5146c7d94",
   "metadata": {},
   "source": [
    "### Finetune Random Forest without Reweighing"
   ]
  },
  {
   "cell_type": "code",
   "execution_count": 41,
   "id": "d0c1b873-e142-4eb2-b121-22b833fa4e01",
   "metadata": {
    "tags": []
   },
   "outputs": [
    {
     "name": "stderr",
     "output_type": "stream",
     "text": [
      "[I 2024-08-30 09:00:04,990] A new study created in memory with name: no-name-4057dbd7-95bc-497a-902d-6fe99dd53bf2\n",
      "[I 2024-08-30 09:00:05,384] Trial 0 finished with value: 0.5 and parameters: {'ccp_alpha': 0.5488135039273248, 'min_samples_leaf': 36, 'min_samples_split': 31, 'n_estimators': 545, 'max_depth': 5}. Best is trial 0 with value: 0.5.\n",
      "[I 2024-08-30 09:00:06,096] Trial 1 finished with value: 0.5 and parameters: {'ccp_alpha': 0.6458941130666561, 'min_samples_leaf': 22, 'min_samples_split': 45, 'n_estimators': 964, 'max_depth': 4}. Best is trial 0 with value: 0.5.\n",
      "[I 2024-08-30 09:00:06,642] Trial 2 finished with value: 0.5 and parameters: {'ccp_alpha': 0.7917250380826646, 'min_samples_leaf': 27, 'min_samples_split': 29, 'n_estimators': 926, 'max_depth': 1}. Best is trial 0 with value: 0.5.\n",
      "[I 2024-08-30 09:00:07,212] Trial 3 finished with value: 0.5 and parameters: {'ccp_alpha': 0.08712929970154071, 'min_samples_leaf': 2, 'min_samples_split': 42, 'n_estimators': 779, 'max_depth': 9}. Best is trial 0 with value: 0.5.\n",
      "[I 2024-08-30 09:00:07,674] Trial 4 finished with value: 0.5 and parameters: {'ccp_alpha': 0.978618342232764, 'min_samples_leaf': 40, 'min_samples_split': 24, 'n_estimators': 781, 'max_depth': 2}. Best is trial 0 with value: 0.5.\n",
      "[I 2024-08-30 09:00:08,035] Trial 5 finished with value: 0.5 and parameters: {'ccp_alpha': 0.6399210213275238, 'min_samples_leaf': 8, 'min_samples_split': 48, 'n_estimators': 522, 'max_depth': 5}. Best is trial 0 with value: 0.5.\n",
      "[I 2024-08-30 09:00:08,371] Trial 6 finished with value: 0.5 and parameters: {'ccp_alpha': 0.26455561210462697, 'min_samples_leaf': 39, 'min_samples_split': 24, 'n_estimators': 569, 'max_depth': 1}. Best is trial 0 with value: 0.5.\n",
      "[I 2024-08-30 09:00:08,986] Trial 7 finished with value: 0.5 and parameters: {'ccp_alpha': 0.6176354970758771, 'min_samples_leaf': 31, 'min_samples_split': 32, 'n_estimators': 944, 'max_depth': 7}. Best is trial 0 with value: 0.5.\n",
      "[I 2024-08-30 09:00:09,036] Trial 8 finished with value: 0.5 and parameters: {'ccp_alpha': 0.359507900573786, 'min_samples_leaf': 22, 'min_samples_split': 36, 'n_estimators': 61, 'max_depth': 7}. Best is trial 0 with value: 0.5.\n",
      "[I 2024-08-30 09:00:09,248] Trial 9 finished with value: 0.5 and parameters: {'ccp_alpha': 0.6706378696181594, 'min_samples_leaf': 11, 'min_samples_split': 8, 'n_estimators': 316, 'max_depth': 4}. Best is trial 0 with value: 0.5.\n",
      "[I 2024-08-30 09:00:09,438] Trial 10 finished with value: 0.5 and parameters: {'ccp_alpha': 0.4291608227672343, 'min_samples_leaf': 49, 'min_samples_split': 14, 'n_estimators': 301, 'max_depth': 10}. Best is trial 0 with value: 0.5.\n",
      "[I 2024-08-30 09:00:09,893] Trial 11 finished with value: 0.5 and parameters: {'ccp_alpha': 0.8416453774068516, 'min_samples_leaf': 21, 'min_samples_split': 50, 'n_estimators': 655, 'max_depth': 4}. Best is trial 0 with value: 0.5.\n",
      "[I 2024-08-30 09:00:10,140] Trial 12 finished with value: 0.5 and parameters: {'ccp_alpha': 0.5276765291655268, 'min_samples_leaf': 34, 'min_samples_split': 39, 'n_estimators': 350, 'max_depth': 3}. Best is trial 0 with value: 0.5.\n",
      "[I 2024-08-30 09:00:10,661] Trial 13 finished with value: 0.5 and parameters: {'ccp_alpha': 0.7875812601427774, 'min_samples_leaf': 16, 'min_samples_split': 43, 'n_estimators': 754, 'max_depth': 6}. Best is trial 0 with value: 0.5.\n",
      "[I 2024-08-30 09:00:10,688] Trial 14 finished with value: 0.5 and parameters: {'ccp_alpha': 0.5154079355108665, 'min_samples_leaf': 48, 'min_samples_split': 14, 'n_estimators': 16, 'max_depth': 5}. Best is trial 0 with value: 0.5.\n",
      "[I 2024-08-30 09:00:11,313] Trial 15 finished with value: 0.5 and parameters: {'ccp_alpha': 0.2620817996415774, 'min_samples_leaf': 39, 'min_samples_split': 33, 'n_estimators': 970, 'max_depth': 3}. Best is trial 0 with value: 0.5.\n",
      "[I 2024-08-30 09:00:11,610] Trial 16 finished with value: 0.5 and parameters: {'ccp_alpha': 0.7054858014180838, 'min_samples_leaf': 31, 'min_samples_split': 20, 'n_estimators': 436, 'max_depth': 7}. Best is trial 0 with value: 0.5.\n",
      "[I 2024-08-30 09:00:11,750] Trial 17 finished with value: 0.5 and parameters: {'ccp_alpha': 0.910169935390345, 'min_samples_leaf': 24, 'min_samples_split': 46, 'n_estimators': 190, 'max_depth': 6}. Best is trial 0 with value: 0.5.\n",
      "[I 2024-08-30 09:00:12,194] Trial 18 finished with value: 0.5 and parameters: {'ccp_alpha': 0.41185958852573107, 'min_samples_leaf': 16, 'min_samples_split': 38, 'n_estimators': 652, 'max_depth': 4}. Best is trial 0 with value: 0.5.\n",
      "[I 2024-08-30 09:00:12,738] Trial 19 finished with value: 0.5 and parameters: {'ccp_alpha': 0.5386174730739506, 'min_samples_leaf': 42, 'min_samples_split': 2, 'n_estimators': 854, 'max_depth': 8}. Best is trial 0 with value: 0.5.\n",
      "[I 2024-08-30 09:00:13,138] Trial 20 finished with value: 0.5 and parameters: {'ccp_alpha': 0.29665229945407523, 'min_samples_leaf': 34, 'min_samples_split': 29, 'n_estimators': 641, 'max_depth': 3}. Best is trial 0 with value: 0.5.\n",
      "[I 2024-08-30 09:00:13,658] Trial 21 finished with value: 0.5 and parameters: {'ccp_alpha': 0.7843093050079512, 'min_samples_leaf': 28, 'min_samples_split': 29, 'n_estimators': 881, 'max_depth': 1}. Best is trial 0 with value: 0.5.\n",
      "[I 2024-08-30 09:00:14,190] Trial 22 finished with value: 0.5 and parameters: {'ccp_alpha': 0.7225529383075341, 'min_samples_leaf': 27, 'min_samples_split': 19, 'n_estimators': 882, 'max_depth': 2}. Best is trial 0 with value: 0.5.\n",
      "[I 2024-08-30 09:00:14,782] Trial 23 finished with value: 0.5 and parameters: {'ccp_alpha': 0.5991208627147394, 'min_samples_leaf': 19, 'min_samples_split': 35, 'n_estimators': 958, 'max_depth': 2}. Best is trial 0 with value: 0.5.\n",
      "[I 2024-08-30 09:00:15,275] Trial 24 finished with value: 0.5 and parameters: {'ccp_alpha': 0.8596659898336007, 'min_samples_leaf': 34, 'min_samples_split': 28, 'n_estimators': 706, 'max_depth': 5}. Best is trial 0 with value: 0.5.\n",
      "[I 2024-08-30 09:00:15,902] Trial 25 finished with value: 0.5 and parameters: {'ccp_alpha': 0.7512393361217212, 'min_samples_leaf': 25, 'min_samples_split': 43, 'n_estimators': 988, 'max_depth': 4}. Best is trial 0 with value: 0.5.\n",
      "[I 2024-08-30 09:00:16,379] Trial 26 finished with value: 0.5 and parameters: {'ccp_alpha': 0.6006920121753654, 'min_samples_leaf': 44, 'min_samples_split': 22, 'n_estimators': 835, 'max_depth': 1}. Best is trial 0 with value: 0.5.\n",
      "[I 2024-08-30 09:00:16,505] Trial 27 finished with value: 0.5 and parameters: {'ccp_alpha': 0.9043180231323308, 'min_samples_leaf': 30, 'min_samples_split': 32, 'n_estimators': 170, 'max_depth': 6}. Best is trial 0 with value: 0.5.\n",
      "[I 2024-08-30 09:00:16,787] Trial 28 finished with value: 0.5 and parameters: {'ccp_alpha': 0.4158952804243602, 'min_samples_leaf': 36, 'min_samples_split': 40, 'n_estimators': 436, 'max_depth': 3}. Best is trial 0 with value: 0.5.\n",
      "[I 2024-08-30 09:00:17,271] Trial 29 finished with value: 0.5509078162624589 and parameters: {'ccp_alpha': 0.03317420278791372, 'min_samples_leaf': 1, 'min_samples_split': 45, 'n_estimators': 788, 'max_depth': 2}. Best is trial 29 with value: 0.5509078162624589.\n",
      "[I 2024-08-30 09:00:17,623] Trial 30 finished with value: 0.5829480914014 and parameters: {'ccp_alpha': 0.017808183837690752, 'min_samples_leaf': 4, 'min_samples_split': 45, 'n_estimators': 572, 'max_depth': 2}. Best is trial 30 with value: 0.5829480914014.\n",
      "[I 2024-08-30 09:00:17,968] Trial 31 finished with value: 0.5569988722148278 and parameters: {'ccp_alpha': 0.02738902332876991, 'min_samples_leaf': 2, 'min_samples_split': 47, 'n_estimators': 560, 'max_depth': 2}. Best is trial 30 with value: 0.5829480914014.\n",
      "[I 2024-08-30 09:00:18,297] Trial 32 finished with value: 0.5533208701218211 and parameters: {'ccp_alpha': 0.03357661259748358, 'min_samples_leaf': 2, 'min_samples_split': 46, 'n_estimators': 527, 'max_depth': 2}. Best is trial 30 with value: 0.5829480914014.\n",
      "[I 2024-08-30 09:00:18,583] Trial 33 finished with value: 0.5504099651504221 and parameters: {'ccp_alpha': 0.030805026426880322, 'min_samples_leaf': 1, 'min_samples_split': 50, 'n_estimators': 451, 'max_depth': 2}. Best is trial 30 with value: 0.5829480914014.\n",
      "[I 2024-08-30 09:00:18,935] Trial 34 finished with value: 0.5 and parameters: {'ccp_alpha': 0.14221745548957745, 'min_samples_leaf': 5, 'min_samples_split': 46, 'n_estimators': 576, 'max_depth': 2}. Best is trial 30 with value: 0.5829480914014.\n",
      "[I 2024-08-30 09:00:19,294] Trial 35 finished with value: 0.5 and parameters: {'ccp_alpha': 0.15386695207281245, 'min_samples_leaf': 5, 'min_samples_split': 45, 'n_estimators': 606, 'max_depth': 1}. Best is trial 30 with value: 0.5829480914014.\n",
      "[I 2024-08-30 09:00:19,631] Trial 36 finished with value: 0.5913404387185922 and parameters: {'ccp_alpha': 0.012084077147288862, 'min_samples_leaf': 10, 'min_samples_split': 41, 'n_estimators': 487, 'max_depth': 3}. Best is trial 36 with value: 0.5913404387185922.\n",
      "[I 2024-08-30 09:00:19,963] Trial 37 finished with value: 0.5 and parameters: {'ccp_alpha': 0.10574613313307898, 'min_samples_leaf': 10, 'min_samples_split': 41, 'n_estimators': 489, 'max_depth': 3}. Best is trial 36 with value: 0.5913404387185922.\n",
      "[I 2024-08-30 09:00:20,266] Trial 38 finished with value: 0.5 and parameters: {'ccp_alpha': 0.1904334129400655, 'min_samples_leaf': 5, 'min_samples_split': 48, 'n_estimators': 508, 'max_depth': 1}. Best is trial 36 with value: 0.5913404387185922.\n",
      "[I 2024-08-30 09:00:20,523] Trial 39 finished with value: 0.5921380165205288 and parameters: {'ccp_alpha': 0.00044567965515262924, 'min_samples_leaf': 8, 'min_samples_split': 37, 'n_estimators': 390, 'max_depth': 2}. Best is trial 39 with value: 0.5921380165205288.\n",
      "[I 2024-08-30 09:00:20,759] Trial 40 finished with value: 0.5 and parameters: {'ccp_alpha': 0.08381578699179966, 'min_samples_leaf': 13, 'min_samples_split': 37, 'n_estimators': 354, 'max_depth': 3}. Best is trial 39 with value: 0.5921380165205288.\n",
      "[I 2024-08-30 09:00:21,008] Trial 41 finished with value: 0.5409507940217225 and parameters: {'ccp_alpha': 0.025101596498530256, 'min_samples_leaf': 7, 'min_samples_split': 48, 'n_estimators': 388, 'max_depth': 2}. Best is trial 39 with value: 0.5921380165205288.\n",
      "[I 2024-08-30 09:00:21,367] Trial 42 finished with value: 0.5958058583867593 and parameters: {'ccp_alpha': 0.005775608089246431, 'min_samples_leaf': 3, 'min_samples_split': 42, 'n_estimators': 562, 'max_depth': 2}. Best is trial 42 with value: 0.5958058583867593.\n",
      "[I 2024-08-30 09:00:21,708] Trial 43 finished with value: 0.5 and parameters: {'ccp_alpha': 0.09124099322595464, 'min_samples_leaf': 9, 'min_samples_split': 42, 'n_estimators': 576, 'max_depth': 1}. Best is trial 42 with value: 0.5958058583867593.\n",
      "[I 2024-08-30 09:00:21,897] Trial 44 finished with value: 0.5995448218404235 and parameters: {'ccp_alpha': 0.003261995944418672, 'min_samples_leaf': 13, 'min_samples_split': 40, 'n_estimators': 253, 'max_depth': 4}. Best is trial 44 with value: 0.5995448218404235.\n",
      "[I 2024-08-30 09:00:22,056] Trial 45 finished with value: 0.5 and parameters: {'ccp_alpha': 0.21597250156453518, 'min_samples_leaf': 13, 'min_samples_split': 36, 'n_estimators': 223, 'max_depth': 4}. Best is trial 44 with value: 0.5995448218404235.\n",
      "[I 2024-08-30 09:00:22,227] Trial 46 finished with value: 0.5932759619194701 and parameters: {'ccp_alpha': 0.0018120916622967466, 'min_samples_leaf': 7, 'min_samples_split': 39, 'n_estimators': 231, 'max_depth': 3}. Best is trial 44 with value: 0.5995448218404235.\n",
      "[I 2024-08-30 09:00:22,403] Trial 47 finished with value: 0.5 and parameters: {'ccp_alpha': 0.07224192833644005, 'min_samples_leaf': 12, 'min_samples_split': 34, 'n_estimators': 255, 'max_depth': 3}. Best is trial 44 with value: 0.5995448218404235.\n",
      "[I 2024-08-30 09:00:22,605] Trial 48 finished with value: 0.5 and parameters: {'ccp_alpha': 0.13188367637611662, 'min_samples_leaf': 16, 'min_samples_split': 39, 'n_estimators': 279, 'max_depth': 4}. Best is trial 44 with value: 0.5995448218404235.\n",
      "[I 2024-08-30 09:00:22,718] Trial 49 finished with value: 0.5 and parameters: {'ccp_alpha': 0.18206556883622524, 'min_samples_leaf': 7, 'min_samples_split': 41, 'n_estimators': 141, 'max_depth': 3}. Best is trial 44 with value: 0.5995448218404235.\n",
      "[I 2024-08-30 09:00:22,809] Trial 50 finished with value: 0.5 and parameters: {'ccp_alpha': 0.06764271217185452, 'min_samples_leaf': 8, 'min_samples_split': 38, 'n_estimators': 111, 'max_depth': 4}. Best is trial 44 with value: 0.5995448218404235.\n",
      "[I 2024-08-30 09:00:23,089] Trial 51 finished with value: 0.5954299299960375 and parameters: {'ccp_alpha': 0.006042343637460736, 'min_samples_leaf': 4, 'min_samples_split': 43, 'n_estimators': 384, 'max_depth': 3}. Best is trial 44 with value: 0.5995448218404235.\n",
      "[I 2024-08-30 09:00:23,365] Trial 52 finished with value: 0.5954807311299188 and parameters: {'ccp_alpha': 0.008089194463970351, 'min_samples_leaf': 14, 'min_samples_split': 43, 'n_estimators': 386, 'max_depth': 3}. Best is trial 44 with value: 0.5995448218404235.\n",
      "[I 2024-08-30 09:00:23,599] Trial 53 finished with value: 0.5 and parameters: {'ccp_alpha': 0.11426359305781847, 'min_samples_leaf': 4, 'min_samples_split': 43, 'n_estimators': 342, 'max_depth': 3}. Best is trial 44 with value: 0.5995448218404235.\n",
      "[I 2024-08-30 09:00:23,882] Trial 54 finished with value: 0.5 and parameters: {'ccp_alpha': 0.061453173894130714, 'min_samples_leaf': 15, 'min_samples_split': 37, 'n_estimators': 397, 'max_depth': 4}. Best is trial 44 with value: 0.5995448218404235.\n",
      "[I 2024-08-30 09:00:24,074] Trial 55 finished with value: 0.5 and parameters: {'ccp_alpha': 0.24103323375956245, 'min_samples_leaf': 19, 'min_samples_split': 43, 'n_estimators': 262, 'max_depth': 5}. Best is trial 44 with value: 0.5995448218404235.\n",
      "[I 2024-08-30 09:00:24,287] Trial 56 finished with value: 0.5947644351421923 and parameters: {'ccp_alpha': 0.0057699508070727015, 'min_samples_leaf': 7, 'min_samples_split': 39, 'n_estimators': 308, 'max_depth': 3}. Best is trial 44 with value: 0.5995448218404235.\n",
      "[I 2024-08-30 09:00:24,499] Trial 57 finished with value: 0.5 and parameters: {'ccp_alpha': 0.06073483605740168, 'min_samples_leaf': 6, 'min_samples_split': 39, 'n_estimators': 310, 'max_depth': 4}. Best is trial 44 with value: 0.5995448218404235.\n",
      "[I 2024-08-30 09:00:24,652] Trial 58 finished with value: 0.5 and parameters: {'ccp_alpha': 0.15978774328140155, 'min_samples_leaf': 14, 'min_samples_split': 34, 'n_estimators': 210, 'max_depth': 5}. Best is trial 44 with value: 0.5995448218404235.\n",
      "[I 2024-08-30 09:00:24,709] Trial 59 finished with value: 0.5 and parameters: {'ccp_alpha': 0.3498387050333536, 'min_samples_leaf': 11, 'min_samples_split': 44, 'n_estimators': 66, 'max_depth': 3}. Best is trial 44 with value: 0.5995448218404235.\n",
      "[I 2024-08-30 09:00:24,903] Trial 60 finished with value: 0.5 and parameters: {'ccp_alpha': 0.11974184103764096, 'min_samples_leaf': 3, 'min_samples_split': 50, 'n_estimators': 244, 'max_depth': 4}. Best is trial 44 with value: 0.5995448218404235.\n",
      "[I 2024-08-30 09:00:25,173] Trial 61 finished with value: 0.5972435304756002 and parameters: {'ccp_alpha': 0.0076204233990734265, 'min_samples_leaf': 8, 'min_samples_split': 31, 'n_estimators': 390, 'max_depth': 3}. Best is trial 44 with value: 0.5995448218404235.\n",
      "[I 2024-08-30 09:00:25,424] Trial 62 finished with value: 0.6009774138158763 and parameters: {'ccp_alpha': 0.0010123896238417134, 'min_samples_leaf': 18, 'min_samples_split': 31, 'n_estimators': 371, 'max_depth': 3}. Best is trial 62 with value: 0.6009774138158763.\n",
      "[I 2024-08-30 09:00:25,644] Trial 63 finished with value: 0.5 and parameters: {'ccp_alpha': 0.06624836649108298, 'min_samples_leaf': 18, 'min_samples_split': 26, 'n_estimators': 346, 'max_depth': 3}. Best is trial 62 with value: 0.6009774138158763.\n",
      "[I 2024-08-30 09:00:25,924] Trial 64 finished with value: 0.5 and parameters: {'ccp_alpha': 0.051963360874044885, 'min_samples_leaf': 11, 'min_samples_split': 31, 'n_estimators': 411, 'max_depth': 4}. Best is trial 62 with value: 0.6009774138158763.\n",
      "[I 2024-08-30 09:00:26,219] Trial 65 finished with value: 0.5 and parameters: {'ccp_alpha': 0.1051612993254235, 'min_samples_leaf': 22, 'min_samples_split': 28, 'n_estimators': 460, 'max_depth': 3}. Best is trial 62 with value: 0.6009774138158763.\n",
      "[I 2024-08-30 09:00:26,449] Trial 66 finished with value: 0.601465104701137 and parameters: {'ccp_alpha': 0.0003287960868293884, 'min_samples_leaf': 18, 'min_samples_split': 31, 'n_estimators': 300, 'max_depth': 5}. Best is trial 66 with value: 0.601465104701137.\n",
      "[I 2024-08-30 09:00:26,708] Trial 67 finished with value: 0.5 and parameters: {'ccp_alpha': 0.05092237978859333, 'min_samples_leaf': 21, 'min_samples_split': 31, 'n_estimators': 361, 'max_depth': 6}. Best is trial 66 with value: 0.601465104701137.\n",
      "[I 2024-08-30 09:00:26,994] Trial 68 finished with value: 0.5 and parameters: {'ccp_alpha': 0.0922455125913036, 'min_samples_leaf': 17, 'min_samples_split': 26, 'n_estimators': 427, 'max_depth': 5}. Best is trial 66 with value: 0.601465104701137.\n",
      "[I 2024-08-30 09:00:27,185] Trial 69 finished with value: 0.5 and parameters: {'ccp_alpha': 0.17942339747534328, 'min_samples_leaf': 20, 'min_samples_split': 32, 'n_estimators': 275, 'max_depth': 5}. Best is trial 66 with value: 0.601465104701137.\n",
      "[I 2024-08-30 09:00:27,448] Trial 70 finished with value: 0.5 and parameters: {'ccp_alpha': 0.04146175083382487, 'min_samples_leaf': 14, 'min_samples_split': 25, 'n_estimators': 378, 'max_depth': 4}. Best is trial 66 with value: 0.601465104701137.\n",
      "[I 2024-08-30 09:00:27,666] Trial 71 finished with value: 0.5990469707283866 and parameters: {'ccp_alpha': 0.003109828644818886, 'min_samples_leaf': 24, 'min_samples_split': 30, 'n_estimators': 330, 'max_depth': 3}. Best is trial 66 with value: 0.601465104701137.\n",
      "[I 2024-08-30 09:00:27,871] Trial 72 finished with value: 0.5 and parameters: {'ccp_alpha': 0.47606556014981344, 'min_samples_leaf': 24, 'min_samples_split': 27, 'n_estimators': 319, 'max_depth': 3}. Best is trial 66 with value: 0.601465104701137.\n",
      "[I 2024-08-30 09:00:28,072] Trial 73 finished with value: 0.5 and parameters: {'ccp_alpha': 0.0421669958098834, 'min_samples_leaf': 17, 'min_samples_split': 30, 'n_estimators': 292, 'max_depth': 4}. Best is trial 66 with value: 0.601465104701137.\n",
      "[I 2024-08-30 09:00:28,362] Trial 74 finished with value: 0.5968320412911616 and parameters: {'ccp_alpha': 0.003984964137702158, 'min_samples_leaf': 23, 'min_samples_split': 22, 'n_estimators': 461, 'max_depth': 2}. Best is trial 66 with value: 0.601465104701137.\n",
      "[I 2024-08-30 09:00:28,666] Trial 75 finished with value: 0.5 and parameters: {'ccp_alpha': 0.09147458255219733, 'min_samples_leaf': 24, 'min_samples_split': 17, 'n_estimators': 481, 'max_depth': 2}. Best is trial 66 with value: 0.601465104701137.\n",
      "[I 2024-08-30 09:00:28,972] Trial 76 finished with value: 0.5 and parameters: {'ccp_alpha': 0.13606568380671716, 'min_samples_leaf': 20, 'min_samples_split': 22, 'n_estimators': 531, 'max_depth': 2}. Best is trial 66 with value: 0.601465104701137.\n",
      "[I 2024-08-30 09:00:29,236] Trial 77 finished with value: 0.5533208701218211 and parameters: {'ccp_alpha': 0.03431845273078664, 'min_samples_leaf': 27, 'min_samples_split': 24, 'n_estimators': 461, 'max_depth': 1}. Best is trial 66 with value: 0.601465104701137.\n",
      "[I 2024-08-30 09:00:29,511] Trial 78 finished with value: 0.5955010515834713 and parameters: {'ccp_alpha': 0.0017304955192270273, 'min_samples_leaf': 23, 'min_samples_split': 22, 'n_estimators': 422, 'max_depth': 2}. Best is trial 66 with value: 0.601465104701137.\n",
      "[I 2024-08-30 09:00:29,877] Trial 79 finished with value: 0.5 and parameters: {'ccp_alpha': 0.07901139027730979, 'min_samples_leaf': 29, 'min_samples_split': 18, 'n_estimators': 606, 'max_depth': 2}. Best is trial 66 with value: 0.601465104701137.\n",
      "[I 2024-08-30 09:00:30,015] Trial 80 finished with value: 0.5 and parameters: {'ccp_alpha': 0.04185764972454999, 'min_samples_leaf': 24, 'min_samples_split': 22, 'n_estimators': 197, 'max_depth': 2}. Best is trial 66 with value: 0.601465104701137.\n",
      "[I 2024-08-30 09:00:30,292] Trial 81 finished with value: 0.5950641618320921 and parameters: {'ccp_alpha': 0.00012870243440147818, 'min_samples_leaf': 26, 'min_samples_split': 16, 'n_estimators': 416, 'max_depth': 2}. Best is trial 66 with value: 0.601465104701137.\n",
      "[I 2024-08-30 09:00:30,506] Trial 82 finished with value: 0.5505420480985136 and parameters: {'ccp_alpha': 0.025462910047924857, 'min_samples_leaf': 21, 'min_samples_split': 20, 'n_estimators': 337, 'max_depth': 2}. Best is trial 66 with value: 0.601465104701137.\n",
      "[I 2024-08-30 09:00:30,763] Trial 83 finished with value: 0.5906139825040895 and parameters: {'ccp_alpha': 0.0021214912927234957, 'min_samples_leaf': 23, 'min_samples_split': 33, 'n_estimators': 443, 'max_depth': 1}. Best is trial 66 with value: 0.601465104701137.\n",
      "[I 2024-08-30 09:00:31,102] Trial 84 finished with value: 0.5 and parameters: {'ccp_alpha': 0.07557466735136133, 'min_samples_leaf': 19, 'min_samples_split': 23, 'n_estimators': 508, 'max_depth': 3}. Best is trial 66 with value: 0.601465104701137.\n",
      "[I 2024-08-30 09:00:31,335] Trial 85 finished with value: 0.5 and parameters: {'ccp_alpha': 0.10441973805989922, 'min_samples_leaf': 17, 'min_samples_split': 29, 'n_estimators': 367, 'max_depth': 2}. Best is trial 66 with value: 0.601465104701137.\n",
      "[I 2024-08-30 09:00:31,619] Trial 86 finished with value: 0.5428659967690478 and parameters: {'ccp_alpha': 0.029711577355788492, 'min_samples_leaf': 14, 'min_samples_split': 28, 'n_estimators': 403, 'max_depth': 6}. Best is trial 66 with value: 0.601465104701137.\n",
      "[I 2024-08-30 09:00:31,829] Trial 87 finished with value: 0.5 and parameters: {'ccp_alpha': 0.05260383074801531, 'min_samples_leaf': 22, 'min_samples_split': 35, 'n_estimators': 321, 'max_depth': 3}. Best is trial 66 with value: 0.601465104701137.\n",
      "[I 2024-08-30 09:00:32,186] Trial 88 finished with value: 0.5 and parameters: {'ccp_alpha': 0.15227553919344952, 'min_samples_leaf': 15, 'min_samples_split': 11, 'n_estimators': 479, 'max_depth': 10}. Best is trial 66 with value: 0.601465104701137.\n",
      "[I 2024-08-30 09:00:32,477] Trial 89 finished with value: 0.5792650091950052 and parameters: {'ccp_alpha': 0.025408293142994594, 'min_samples_leaf': 26, 'min_samples_split': 21, 'n_estimators': 435, 'max_depth': 5}. Best is trial 66 with value: 0.601465104701137.\n",
      "[I 2024-08-30 09:00:32,600] Trial 90 finished with value: 0.5 and parameters: {'ccp_alpha': 0.11388392640681189, 'min_samples_leaf': 12, 'min_samples_split': 25, 'n_estimators': 162, 'max_depth': 4}. Best is trial 66 with value: 0.601465104701137.\n",
      "[I 2024-08-30 09:00:32,861] Trial 91 finished with value: 0.5964154719933349 and parameters: {'ccp_alpha': 2.4853851854347072e-05, 'min_samples_leaf': 9, 'min_samples_split': 30, 'n_estimators': 381, 'max_depth': 3}. Best is trial 66 with value: 0.601465104701137.\n",
      "[I 2024-08-30 09:00:33,092] Trial 92 finished with value: 0.5975940582993813 and parameters: {'ccp_alpha': 0.00041236214708935664, 'min_samples_leaf': 9, 'min_samples_split': 32, 'n_estimators': 333, 'max_depth': 3}. Best is trial 66 with value: 0.601465104701137.\n",
      "[I 2024-08-30 09:00:33,287] Trial 93 finished with value: 0.5 and parameters: {'ccp_alpha': 0.06206976481080072, 'min_samples_leaf': 9, 'min_samples_split': 30, 'n_estimators': 288, 'max_depth': 3}. Best is trial 66 with value: 0.601465104701137.\n",
      "[I 2024-08-30 09:00:33,492] Trial 94 finished with value: 0.5611137640592138 and parameters: {'ccp_alpha': 0.021325337834362836, 'min_samples_leaf': 9, 'min_samples_split': 30, 'n_estimators': 325, 'max_depth': 2}. Best is trial 66 with value: 0.601465104701137.\n",
      "[I 2024-08-30 09:00:33,834] Trial 95 finished with value: 0.5 and parameters: {'ccp_alpha': 0.08835697518680946, 'min_samples_leaf': 10, 'min_samples_split': 33, 'n_estimators': 546, 'max_depth': 3}. Best is trial 66 with value: 0.601465104701137.\n",
      "[I 2024-08-30 09:00:34,126] Trial 96 finished with value: 0.6012822206191643 and parameters: {'ccp_alpha': 0.0008640559991870192, 'min_samples_leaf': 12, 'min_samples_split': 27, 'n_estimators': 363, 'max_depth': 9}. Best is trial 66 with value: 0.601465104701137.\n",
      "[I 2024-08-30 09:00:34,332] Trial 97 finished with value: 0.5 and parameters: {'ccp_alpha': 0.05076738651743845, 'min_samples_leaf': 12, 'min_samples_split': 32, 'n_estimators': 269, 'max_depth': 9}. Best is trial 66 with value: 0.601465104701137.\n",
      "[I 2024-08-30 09:00:34,603] Trial 98 finished with value: 0.5610629629253325 and parameters: {'ccp_alpha': 0.02178398404139624, 'min_samples_leaf': 6, 'min_samples_split': 27, 'n_estimators': 362, 'max_depth': 7}. Best is trial 66 with value: 0.601465104701137.\n",
      "[I 2024-08-30 09:00:34,786] Trial 99 finished with value: 0.5 and parameters: {'ccp_alpha': 0.07711335244299003, 'min_samples_leaf': 10, 'min_samples_split': 35, 'n_estimators': 241, 'max_depth': 8}. Best is trial 66 with value: 0.601465104701137.\n"
     ]
    }
   ],
   "source": [
    "x = X_train_rus\n",
    "y = y_train_rus.values.ravel()\n",
    "\n",
    "def objective(trial):\n",
    "    params = {'random_state':0,\n",
    "             'max_features':'sqrt',\n",
    "             'ccp_alpha': trial.suggest_float(\"ccp_alpha\", 0, 1),\n",
    "             'min_samples_leaf': trial.suggest_int('min_samples_leaf', 1, 50),\n",
    "             'min_samples_split': trial.suggest_int('min_samples_split', 2, 50),\n",
    "             'n_estimators': trial.suggest_int('n_estimators', 1, 1000),\n",
    "             'max_depth': trial.suggest_int('max_depth', 1, 10)\n",
    "             }\n",
    "    model = RandomForestClassifier(**params)\n",
    "    model.fit(x, y)\n",
    "    predictions = model.predict(X_val)\n",
    "    predictions_prob = model.predict_proba(X_val)[:,1]\n",
    "    BA = balanced_accuracy_score(y_val, predictions)\n",
    "    AUC = roc_auc_score(y_val, predictions_prob)\n",
    "    return AUC\n",
    "\n",
    "sampler = optuna.samplers.TPESampler(seed=0, consider_prior=True, prior_weight=0.5) \n",
    "study = optuna.create_study(direction='maximize',sampler=sampler)\n",
    "study.optimize(objective, n_trials=n_trials)"
   ]
  },
  {
   "cell_type": "code",
   "execution_count": 42,
   "id": "ce8bcbd9-7a7b-422b-91aa-1942f06f67cc",
   "metadata": {
    "tags": []
   },
   "outputs": [
    {
     "name": "stdout",
     "output_type": "stream",
     "text": [
      "Test AUC: 0.649\n",
      "Test Balanced Accuracy: 0.645\n",
      "Test F1: 0.139\n",
      "Test Precision: 0.078\n",
      "Test Recall: 0.64\n"
     ]
    }
   ],
   "source": [
    "best_rf = RandomForestClassifier(random_state=0,max_features='sqrt',**study.best_params)\n",
    "\n",
    "# original evaluation \n",
    "i = -1 # (will output as 0 since iteration = i+1)\n",
    "orig_RF = pd.DataFrame(model_eval(model=best_rf, model_label='RF', X_train=x, Y_train=y, X_test=X_test, Y_test=y_test, outcome_label=outcome, verbose=True))"
   ]
  },
  {
   "cell_type": "code",
   "execution_count": 43,
   "id": "5857b780-ebdf-405b-b6b0-193e6d60ee13",
   "metadata": {
    "tags": []
   },
   "outputs": [
    {
     "data": {
      "image/png": "[encoded data removed]",
      "text/plain": [
       "<Figure size 640x480 with 1 Axes>"
      ]
     },
     "metadata": {},
     "output_type": "display_data"
    }
   ],
   "source": [
    "from sklearn.inspection import permutation_importance\n",
    "imp_result = permutation_importance(\n",
    "    best_rf, X_test, y_test, n_repeats=10, random_state=2024, n_jobs=2\n",
    ")\n",
    "\n",
    "importance_mean = imp_result.importances_mean\n",
    "importance_sd = imp_result.importances_std\n",
    "\n",
    "ind = np.argpartition(importance_mean, -10)[-10:]\n",
    "top_feat = X_test.columns[ind]\n",
    "top_vals = importance_mean[ind]\n",
    "top_std = importance_sd[ind]\n",
    "\n",
    "fig, ax = plt.subplots()\n",
    "ax.barh(top_feat,top_vals,xerr=top_std)\n",
    "ax.set_xlabel(\"Mean accuracy decrease\")\n",
    "plt.savefig('PHQ-9 RF Feature Importance (val).png',dpi=600, bbox_inches='tight')"
   ]
  },
  {
   "cell_type": "code",
   "execution_count": 44,
   "id": "c1827b0c-58af-4582-8b92-112cf6b5151b",
   "metadata": {
    "tags": []
   },
   "outputs": [
    {
     "data": {
      "text/plain": [
       "['best_rf_phq9_no_reweigh_val.pkl']"
      ]
     },
     "execution_count": 44,
     "metadata": {},
     "output_type": "execute_result"
    }
   ],
   "source": [
    "joblib.dump(best_rf, 'best_rf_phq9_no_reweigh_val.pkl')"
   ]
  },
  {
   "cell_type": "markdown",
   "id": "632da262-e2de-44fa-8c05-9dd292f87f2f",
   "metadata": {},
   "source": [
    "### Finetune Random Forest with Reweighing"
   ]
  },
  {
   "cell_type": "code",
   "execution_count": 46,
   "id": "e9e54b26-8ee9-4208-bf7e-1c534619841e",
   "metadata": {
    "tags": []
   },
   "outputs": [
    {
     "name": "stderr",
     "output_type": "stream",
     "text": [
      "[I 2024-08-30 09:00:40,763] A new study created in memory with name: no-name-cc8bccf9-5f9d-4089-8911-ae24a4d88b2d\n",
      "[I 2024-08-30 09:00:41,119] Trial 0 finished with value: 0.5 and parameters: {'ccp_alpha': 0.5488135039273248, 'min_samples_leaf': 36, 'min_samples_split': 31, 'n_estimators': 545, 'max_depth': 5}. Best is trial 0 with value: 0.5.\n",
      "[I 2024-08-30 09:00:41,731] Trial 1 finished with value: 0.5 and parameters: {'ccp_alpha': 0.6458941130666561, 'min_samples_leaf': 22, 'min_samples_split': 45, 'n_estimators': 964, 'max_depth': 4}. Best is trial 0 with value: 0.5.\n",
      "[I 2024-08-30 09:00:42,235] Trial 2 finished with value: 0.5 and parameters: {'ccp_alpha': 0.7917250380826646, 'min_samples_leaf': 27, 'min_samples_split': 29, 'n_estimators': 926, 'max_depth': 1}. Best is trial 0 with value: 0.5.\n",
      "[I 2024-08-30 09:00:42,857] Trial 3 finished with value: 0.5 and parameters: {'ccp_alpha': 0.08712929970154071, 'min_samples_leaf': 2, 'min_samples_split': 42, 'n_estimators': 779, 'max_depth': 9}. Best is trial 0 with value: 0.5.\n",
      "[I 2024-08-30 09:00:43,329] Trial 4 finished with value: 0.5 and parameters: {'ccp_alpha': 0.978618342232764, 'min_samples_leaf': 40, 'min_samples_split': 24, 'n_estimators': 781, 'max_depth': 2}. Best is trial 0 with value: 0.5.\n",
      "[I 2024-08-30 09:00:43,673] Trial 5 finished with value: 0.5 and parameters: {'ccp_alpha': 0.6399210213275238, 'min_samples_leaf': 8, 'min_samples_split': 48, 'n_estimators': 522, 'max_depth': 5}. Best is trial 0 with value: 0.5.\n",
      "[I 2024-08-30 09:00:43,997] Trial 6 finished with value: 0.5 and parameters: {'ccp_alpha': 0.26455561210462697, 'min_samples_leaf': 39, 'min_samples_split': 24, 'n_estimators': 569, 'max_depth': 1}. Best is trial 0 with value: 0.5.\n",
      "[I 2024-08-30 09:00:44,621] Trial 7 finished with value: 0.5 and parameters: {'ccp_alpha': 0.6176354970758771, 'min_samples_leaf': 31, 'min_samples_split': 32, 'n_estimators': 944, 'max_depth': 7}. Best is trial 0 with value: 0.5.\n",
      "[I 2024-08-30 09:00:44,667] Trial 8 finished with value: 0.5 and parameters: {'ccp_alpha': 0.359507900573786, 'min_samples_leaf': 22, 'min_samples_split': 36, 'n_estimators': 61, 'max_depth': 7}. Best is trial 0 with value: 0.5.\n",
      "[I 2024-08-30 09:00:44,879] Trial 9 finished with value: 0.5 and parameters: {'ccp_alpha': 0.6706378696181594, 'min_samples_leaf': 11, 'min_samples_split': 8, 'n_estimators': 316, 'max_depth': 4}. Best is trial 0 with value: 0.5.\n",
      "[I 2024-08-30 09:00:45,071] Trial 10 finished with value: 0.5 and parameters: {'ccp_alpha': 0.4291608227672343, 'min_samples_leaf': 49, 'min_samples_split': 14, 'n_estimators': 301, 'max_depth': 10}. Best is trial 0 with value: 0.5.\n",
      "[I 2024-08-30 09:00:45,580] Trial 11 finished with value: 0.5 and parameters: {'ccp_alpha': 0.8416453774068516, 'min_samples_leaf': 21, 'min_samples_split': 50, 'n_estimators': 655, 'max_depth': 4}. Best is trial 0 with value: 0.5.\n",
      "[I 2024-08-30 09:00:45,809] Trial 12 finished with value: 0.5 and parameters: {'ccp_alpha': 0.5276765291655268, 'min_samples_leaf': 34, 'min_samples_split': 39, 'n_estimators': 350, 'max_depth': 3}. Best is trial 0 with value: 0.5.\n",
      "[I 2024-08-30 09:00:46,319] Trial 13 finished with value: 0.5 and parameters: {'ccp_alpha': 0.7875812601427774, 'min_samples_leaf': 16, 'min_samples_split': 43, 'n_estimators': 754, 'max_depth': 6}. Best is trial 0 with value: 0.5.\n",
      "[I 2024-08-30 09:00:46,346] Trial 14 finished with value: 0.5 and parameters: {'ccp_alpha': 0.5154079355108665, 'min_samples_leaf': 48, 'min_samples_split': 14, 'n_estimators': 16, 'max_depth': 5}. Best is trial 0 with value: 0.5.\n",
      "[I 2024-08-30 09:00:46,939] Trial 15 finished with value: 0.5 and parameters: {'ccp_alpha': 0.2620817996415774, 'min_samples_leaf': 39, 'min_samples_split': 33, 'n_estimators': 970, 'max_depth': 3}. Best is trial 0 with value: 0.5.\n",
      "[I 2024-08-30 09:00:47,238] Trial 16 finished with value: 0.5 and parameters: {'ccp_alpha': 0.7054858014180838, 'min_samples_leaf': 31, 'min_samples_split': 20, 'n_estimators': 436, 'max_depth': 7}. Best is trial 0 with value: 0.5.\n",
      "[I 2024-08-30 09:00:47,381] Trial 17 finished with value: 0.5 and parameters: {'ccp_alpha': 0.910169935390345, 'min_samples_leaf': 24, 'min_samples_split': 46, 'n_estimators': 190, 'max_depth': 6}. Best is trial 0 with value: 0.5.\n",
      "[I 2024-08-30 09:00:47,810] Trial 18 finished with value: 0.5 and parameters: {'ccp_alpha': 0.41185958852573107, 'min_samples_leaf': 16, 'min_samples_split': 38, 'n_estimators': 652, 'max_depth': 4}. Best is trial 0 with value: 0.5.\n",
      "[I 2024-08-30 09:00:48,352] Trial 19 finished with value: 0.5 and parameters: {'ccp_alpha': 0.5386174730739506, 'min_samples_leaf': 42, 'min_samples_split': 2, 'n_estimators': 854, 'max_depth': 8}. Best is trial 0 with value: 0.5.\n",
      "[I 2024-08-30 09:00:48,758] Trial 20 finished with value: 0.5 and parameters: {'ccp_alpha': 0.29665229945407523, 'min_samples_leaf': 34, 'min_samples_split': 29, 'n_estimators': 641, 'max_depth': 3}. Best is trial 0 with value: 0.5.\n",
      "[I 2024-08-30 09:00:49,263] Trial 21 finished with value: 0.5 and parameters: {'ccp_alpha': 0.7843093050079512, 'min_samples_leaf': 28, 'min_samples_split': 29, 'n_estimators': 881, 'max_depth': 1}. Best is trial 0 with value: 0.5.\n",
      "[I 2024-08-30 09:00:49,782] Trial 22 finished with value: 0.5 and parameters: {'ccp_alpha': 0.7225529383075341, 'min_samples_leaf': 27, 'min_samples_split': 19, 'n_estimators': 882, 'max_depth': 2}. Best is trial 0 with value: 0.5.\n",
      "[I 2024-08-30 09:00:50,326] Trial 23 finished with value: 0.5 and parameters: {'ccp_alpha': 0.5991208627147394, 'min_samples_leaf': 19, 'min_samples_split': 35, 'n_estimators': 958, 'max_depth': 2}. Best is trial 0 with value: 0.5.\n",
      "[I 2024-08-30 09:00:50,773] Trial 24 finished with value: 0.5 and parameters: {'ccp_alpha': 0.8596659898336007, 'min_samples_leaf': 34, 'min_samples_split': 28, 'n_estimators': 706, 'max_depth': 5}. Best is trial 0 with value: 0.5.\n",
      "[I 2024-08-30 09:00:51,376] Trial 25 finished with value: 0.5 and parameters: {'ccp_alpha': 0.7512393361217212, 'min_samples_leaf': 25, 'min_samples_split': 43, 'n_estimators': 988, 'max_depth': 4}. Best is trial 0 with value: 0.5.\n",
      "[I 2024-08-30 09:00:51,853] Trial 26 finished with value: 0.5 and parameters: {'ccp_alpha': 0.6006920121753654, 'min_samples_leaf': 44, 'min_samples_split': 22, 'n_estimators': 835, 'max_depth': 1}. Best is trial 0 with value: 0.5.\n",
      "[I 2024-08-30 09:00:52,028] Trial 27 finished with value: 0.5 and parameters: {'ccp_alpha': 0.9043180231323308, 'min_samples_leaf': 30, 'min_samples_split': 32, 'n_estimators': 170, 'max_depth': 6}. Best is trial 0 with value: 0.5.\n",
      "[I 2024-08-30 09:00:52,318] Trial 28 finished with value: 0.5 and parameters: {'ccp_alpha': 0.4158952804243602, 'min_samples_leaf': 36, 'min_samples_split': 40, 'n_estimators': 436, 'max_depth': 3}. Best is trial 0 with value: 0.5.\n",
      "[I 2024-08-30 09:00:52,786] Trial 29 finished with value: 0.5 and parameters: {'ccp_alpha': 0.03317420278791372, 'min_samples_leaf': 1, 'min_samples_split': 45, 'n_estimators': 788, 'max_depth': 2}. Best is trial 0 with value: 0.5.\n",
      "[I 2024-08-30 09:00:53,409] Trial 30 finished with value: 0.5 and parameters: {'ccp_alpha': 0.46479712259018935, 'min_samples_leaf': 10, 'min_samples_split': 17, 'n_estimators': 913, 'max_depth': 5}. Best is trial 0 with value: 0.5.\n",
      "[I 2024-08-30 09:00:54,005] Trial 31 finished with value: 0.5 and parameters: {'ccp_alpha': 0.9999646148011744, 'min_samples_leaf': 2, 'min_samples_split': 41, 'n_estimators': 810, 'max_depth': 10}. Best is trial 0 with value: 0.5.\n",
      "[I 2024-08-30 09:00:54,539] Trial 32 finished with value: 0.5 and parameters: {'ccp_alpha': 0.14205536164080199, 'min_samples_leaf': 15, 'min_samples_split': 26, 'n_estimators': 770, 'max_depth': 9}. Best is trial 0 with value: 0.5.\n",
      "[I 2024-08-30 09:00:54,941] Trial 33 finished with value: 0.5 and parameters: {'ccp_alpha': 0.03665147244315172, 'min_samples_leaf': 6, 'min_samples_split': 49, 'n_estimators': 575, 'max_depth': 8}. Best is trial 0 with value: 0.5.\n",
      "[I 2024-08-30 09:00:55,467] Trial 34 finished with value: 0.5 and parameters: {'ccp_alpha': 0.6627305858960094, 'min_samples_leaf': 5, 'min_samples_split': 46, 'n_estimators': 726, 'max_depth': 8}. Best is trial 0 with value: 0.5.\n",
      "[I 2024-08-30 09:00:56,033] Trial 35 finished with value: 0.5 and parameters: {'ccp_alpha': 0.5723955571207735, 'min_samples_leaf': 45, 'min_samples_split': 35, 'n_estimators': 918, 'max_depth': 9}. Best is trial 0 with value: 0.5.\n",
      "[I 2024-08-30 09:00:56,657] Trial 36 finished with value: 0.5 and parameters: {'ccp_alpha': 0.6587908487393596, 'min_samples_leaf': 38, 'min_samples_split': 26, 'n_estimators': 992, 'max_depth': 7}. Best is trial 0 with value: 0.5.\n",
      "[I 2024-08-30 09:00:57,059] Trial 37 finished with value: 0.5 and parameters: {'ccp_alpha': 0.16902661038500882, 'min_samples_leaf': 13, 'min_samples_split': 37, 'n_estimators': 582, 'max_depth': 5}. Best is trial 0 with value: 0.5.\n",
      "[I 2024-08-30 09:00:57,404] Trial 38 finished with value: 0.5 and parameters: {'ccp_alpha': 0.3705569257671363, 'min_samples_leaf': 22, 'min_samples_split': 42, 'n_estimators': 511, 'max_depth': 6}. Best is trial 0 with value: 0.5.\n",
      "[I 2024-08-30 09:00:57,944] Trial 39 finished with value: 0.5 and parameters: {'ccp_alpha': 0.4815580442082045, 'min_samples_leaf': 20, 'min_samples_split': 32, 'n_estimators': 826, 'max_depth': 4}. Best is trial 0 with value: 0.5.\n",
      "[I 2024-08-30 09:00:58,448] Trial 40 finished with value: 0.5 and parameters: {'ccp_alpha': 0.8183096617023885, 'min_samples_leaf': 31, 'min_samples_split': 47, 'n_estimators': 896, 'max_depth': 1}. Best is trial 0 with value: 0.5.\n",
      "[I 2024-08-30 09:00:58,869] Trial 41 finished with value: 0.5 and parameters: {'ccp_alpha': 0.936255590643251, 'min_samples_leaf': 40, 'min_samples_split': 22, 'n_estimators': 715, 'max_depth': 2}. Best is trial 0 with value: 0.5.\n",
      "[I 2024-08-30 09:00:59,222] Trial 42 finished with value: 0.5 and parameters: {'ccp_alpha': 0.7114546558528956, 'min_samples_leaf': 46, 'min_samples_split': 25, 'n_estimators': 614, 'max_depth': 1}. Best is trial 0 with value: 0.5.\n",
      "[I 2024-08-30 09:00:59,793] Trial 43 finished with value: 0.5 and parameters: {'ccp_alpha': 0.9974702161606811, 'min_samples_leaf': 42, 'min_samples_split': 29, 'n_estimators': 933, 'max_depth': 3}. Best is trial 0 with value: 0.5.\n",
      "[I 2024-08-30 09:01:00,200] Trial 44 finished with value: 0.5 and parameters: {'ccp_alpha': 0.8667717286203733, 'min_samples_leaf': 37, 'min_samples_split': 34, 'n_estimators': 697, 'max_depth': 2}. Best is trial 0 with value: 0.5.\n",
      "[I 2024-08-30 09:01:00,723] Trial 45 finished with value: 0.5 and parameters: {'ccp_alpha': 0.6350939052394718, 'min_samples_leaf': 28, 'min_samples_split': 22, 'n_estimators': 849, 'max_depth': 4}. Best is trial 0 with value: 0.5.\n",
      "[I 2024-08-30 09:01:01,206] Trial 46 finished with value: 0.5 and parameters: {'ccp_alpha': 0.5573973494819656, 'min_samples_leaf': 41, 'min_samples_split': 31, 'n_estimators': 775, 'max_depth': 3}. Best is trial 0 with value: 0.5.\n",
      "[I 2024-08-30 09:01:01,489] Trial 47 finished with value: 0.5 and parameters: {'ccp_alpha': 0.7689629529596158, 'min_samples_leaf': 18, 'min_samples_split': 50, 'n_estimators': 476, 'max_depth': 2}. Best is trial 0 with value: 0.5.\n",
      "[I 2024-08-30 09:01:01,738] Trial 48 finished with value: 0.5 and parameters: {'ccp_alpha': 0.957584596801221, 'min_samples_leaf': 35, 'min_samples_split': 14, 'n_estimators': 384, 'max_depth': 5}. Best is trial 0 with value: 0.5.\n",
      "[I 2024-08-30 09:01:02,254] Trial 49 finished with value: 0.5 and parameters: {'ccp_alpha': 0.8249328089388379, 'min_samples_leaf': 24, 'min_samples_split': 43, 'n_estimators': 936, 'max_depth': 1}. Best is trial 0 with value: 0.5.\n",
      "[I 2024-08-30 09:01:02,885] Trial 50 finished with value: 0.5 and parameters: {'ccp_alpha': 0.7009375680763825, 'min_samples_leaf': 32, 'min_samples_split': 39, 'n_estimators': 999, 'max_depth': 6}. Best is trial 0 with value: 0.5.\n",
      "[I 2024-08-30 09:01:03,262] Trial 51 finished with value: 0.5 and parameters: {'ccp_alpha': 0.5119489520691227, 'min_samples_leaf': 8, 'min_samples_split': 48, 'n_estimators': 513, 'max_depth': 5}. Best is trial 0 with value: 0.5.\n",
      "[I 2024-08-30 09:01:03,457] Trial 52 finished with value: 0.5 and parameters: {'ccp_alpha': 0.6056181812911974, 'min_samples_leaf': 4, 'min_samples_split': 45, 'n_estimators': 270, 'max_depth': 7}. Best is trial 0 with value: 0.5.\n",
      "[I 2024-08-30 09:01:03,837] Trial 53 finished with value: 0.5 and parameters: {'ccp_alpha': 0.45340361189582606, 'min_samples_leaf': 50, 'min_samples_split': 44, 'n_estimators': 615, 'max_depth': 4}. Best is trial 0 with value: 0.5.\n",
      "[I 2024-08-30 09:01:04,304] Trial 54 finished with value: 0.5 and parameters: {'ccp_alpha': 0.7520014805052321, 'min_samples_leaf': 11, 'min_samples_split': 28, 'n_estimators': 685, 'max_depth': 6}. Best is trial 0 with value: 0.5.\n",
      "[I 2024-08-30 09:01:04,659] Trial 55 finished with value: 0.5 and parameters: {'ccp_alpha': 0.31297824058977647, 'min_samples_leaf': 8, 'min_samples_split': 37, 'n_estimators': 531, 'max_depth': 5}. Best is trial 0 with value: 0.5.\n",
      "[I 2024-08-30 09:01:04,936] Trial 56 finished with value: 0.5 and parameters: {'ccp_alpha': 0.6313493678944605, 'min_samples_leaf': 3, 'min_samples_split': 18, 'n_estimators': 440, 'max_depth': 3}. Best is trial 0 with value: 0.5.\n",
      "[I 2024-08-30 09:01:05,490] Trial 57 finished with value: 0.5 and parameters: {'ccp_alpha': 0.568859118713139, 'min_samples_leaf': 22, 'min_samples_split': 24, 'n_estimators': 864, 'max_depth': 4}. Best is trial 0 with value: 0.5.\n",
      "[I 2024-08-30 09:01:05,905] Trial 58 finished with value: 0.5 and parameters: {'ccp_alpha': 0.6811025469913257, 'min_samples_leaf': 47, 'min_samples_split': 47, 'n_estimators': 741, 'max_depth': 1}. Best is trial 0 with value: 0.5.\n",
      "[I 2024-08-30 09:01:06,515] Trial 59 finished with value: 0.5 and parameters: {'ccp_alpha': 0.87843723129706, 'min_samples_leaf': 43, 'min_samples_split': 41, 'n_estimators': 960, 'max_depth': 6}. Best is trial 0 with value: 0.5.\n",
      "[I 2024-08-30 09:01:06,937] Trial 60 finished with value: 0.5 and parameters: {'ccp_alpha': 0.8145729492997401, 'min_samples_leaf': 33, 'min_samples_split': 31, 'n_estimators': 660, 'max_depth': 4}. Best is trial 0 with value: 0.5.\n",
      "[I 2024-08-30 09:01:07,262] Trial 61 finished with value: 0.5 and parameters: {'ccp_alpha': 0.1944826570087842, 'min_samples_leaf': 38, 'min_samples_split': 10, 'n_estimators': 547, 'max_depth': 2}. Best is trial 0 with value: 0.5.\n",
      "[I 2024-08-30 09:01:07,521] Trial 62 finished with value: 0.5 and parameters: {'ccp_alpha': 0.07499855862503607, 'min_samples_leaf': 29, 'min_samples_split': 24, 'n_estimators': 464, 'max_depth': 1}. Best is trial 0 with value: 0.5.\n",
      "[I 2024-08-30 09:01:07,836] Trial 63 finished with value: 0.5 and parameters: {'ccp_alpha': 0.23045426827400364, 'min_samples_leaf': 26, 'min_samples_split': 20, 'n_estimators': 558, 'max_depth': 1}. Best is trial 0 with value: 0.5.\n",
      "[I 2024-08-30 09:01:08,371] Trial 64 finished with value: 0.5 and parameters: {'ccp_alpha': 0.11109446862383279, 'min_samples_leaf': 35, 'min_samples_split': 16, 'n_estimators': 806, 'max_depth': 2}. Best is trial 0 with value: 0.5.\n",
      "[I 2024-08-30 09:01:08,605] Trial 65 finished with value: 0.5 and parameters: {'ccp_alpha': 0.5125016607678057, 'min_samples_leaf': 40, 'min_samples_split': 28, 'n_estimators': 386, 'max_depth': 2}. Best is trial 0 with value: 0.5.\n",
      "[I 2024-08-30 09:01:09,071] Trial 66 finished with value: 0.5 and parameters: {'ccp_alpha': 0.7363061717396604, 'min_samples_leaf': 7, 'min_samples_split': 21, 'n_estimators': 616, 'max_depth': 10}. Best is trial 0 with value: 0.5.\n",
      "[I 2024-08-30 09:01:09,660] Trial 67 finished with value: 0.5 and parameters: {'ccp_alpha': 0.3301491286052561, 'min_samples_leaf': 10, 'min_samples_split': 49, 'n_estimators': 885, 'max_depth': 5}. Best is trial 0 with value: 0.5.\n",
      "[I 2024-08-30 09:01:09,998] Trial 68 finished with value: 0.5 and parameters: {'ccp_alpha': 0.27671119462733196, 'min_samples_leaf': 14, 'min_samples_split': 26, 'n_estimators': 593, 'max_depth': 1}. Best is trial 0 with value: 0.5.\n",
      "[I 2024-08-30 09:01:10,308] Trial 69 finished with value: 0.5 and parameters: {'ccp_alpha': 0.3873475775572396, 'min_samples_leaf': 1, 'min_samples_split': 30, 'n_estimators': 486, 'max_depth': 3}. Best is trial 0 with value: 0.5.\n",
      "[I 2024-08-30 09:01:10,748] Trial 70 finished with value: 0.5 and parameters: {'ccp_alpha': 0.2365592250187795, 'min_samples_leaf': 17, 'min_samples_split': 33, 'n_estimators': 653, 'max_depth': 7}. Best is trial 0 with value: 0.5.\n",
      "[I 2024-08-30 09:01:11,367] Trial 71 finished with value: 0.5 and parameters: {'ccp_alpha': 0.5408395134735134, 'min_samples_leaf': 31, 'min_samples_split': 24, 'n_estimators': 966, 'max_depth': 9}. Best is trial 0 with value: 0.5.\n",
      "[I 2024-08-30 09:01:11,967] Trial 72 finished with value: 0.5 and parameters: {'ccp_alpha': 0.6237909649656345, 'min_samples_leaf': 36, 'min_samples_split': 27, 'n_estimators': 928, 'max_depth': 8}. Best is trial 0 with value: 0.5.\n",
      "[I 2024-08-30 09:01:12,586] Trial 73 finished with value: 0.6008148501874562 and parameters: {'ccp_alpha': 0.012589408778341471, 'min_samples_leaf': 25, 'min_samples_split': 38, 'n_estimators': 904, 'max_depth': 5}. Best is trial 73 with value: 0.6008148501874562.\n",
      "[I 2024-08-30 09:01:13,161] Trial 74 finished with value: 0.5 and parameters: {'ccp_alpha': 0.06317005620309166, 'min_samples_leaf': 24, 'min_samples_split': 40, 'n_estimators': 904, 'max_depth': 5}. Best is trial 73 with value: 0.6008148501874562.\n",
      "[I 2024-08-30 09:01:13,730] Trial 75 finished with value: 0.5 and parameters: {'ccp_alpha': 0.10567022698617834, 'min_samples_leaf': 26, 'min_samples_split': 36, 'n_estimators': 863, 'max_depth': 5}. Best is trial 73 with value: 0.6008148501874562.\n",
      "[I 2024-08-30 09:01:14,253] Trial 76 finished with value: 0.5495361856476636 and parameters: {'ccp_alpha': 0.02945665383548171, 'min_samples_leaf': 29, 'min_samples_split': 44, 'n_estimators': 832, 'max_depth': 6}. Best is trial 73 with value: 0.6008148501874562.\n",
      "[I 2024-08-30 09:01:14,777] Trial 77 finished with value: 0.5495361856476636 and parameters: {'ccp_alpha': 0.03001127593871063, 'min_samples_leaf': 29, 'min_samples_split': 46, 'n_estimators': 822, 'max_depth': 6}. Best is trial 73 with value: 0.6008148501874562.\n",
      "[I 2024-08-30 09:01:15,347] Trial 78 finished with value: 0.6003068388486431 and parameters: {'ccp_alpha': 0.001911752929589677, 'min_samples_leaf': 29, 'min_samples_split': 44, 'n_estimators': 826, 'max_depth': 6}. Best is trial 73 with value: 0.6008148501874562.\n",
      "[I 2024-08-30 09:01:15,870] Trial 79 finished with value: 0.5997480263759487 and parameters: {'ccp_alpha': 0.007712825246330393, 'min_samples_leaf': 29, 'min_samples_split': 44, 'n_estimators': 791, 'max_depth': 6}. Best is trial 73 with value: 0.6008148501874562.\n",
      "[I 2024-08-30 09:01:16,419] Trial 80 finished with value: 0.5994533797994371 and parameters: {'ccp_alpha': 0.006274708088563008, 'min_samples_leaf': 29, 'min_samples_split': 44, 'n_estimators': 821, 'max_depth': 6}. Best is trial 73 with value: 0.6008148501874562.\n",
      "[I 2024-08-30 09:01:17,054] Trial 81 finished with value: 0.5995346616136472 and parameters: {'ccp_alpha': 0.00013404298302022947, 'min_samples_leaf': 29, 'min_samples_split': 45, 'n_estimators': 828, 'max_depth': 6}. Best is trial 73 with value: 0.6008148501874562.\n",
      "[I 2024-08-30 09:01:17,636] Trial 82 finished with value: 0.5995854627475286 and parameters: {'ccp_alpha': 0.00038407281691293926, 'min_samples_leaf': 29, 'min_samples_split': 45, 'n_estimators': 804, 'max_depth': 6}. Best is trial 73 with value: 0.6008148501874562.\n",
      "[I 2024-08-30 09:01:18,201] Trial 83 finished with value: 0.5996667445617386 and parameters: {'ccp_alpha': 0.00230713869085457, 'min_samples_leaf': 29, 'min_samples_split': 45, 'n_estimators': 797, 'max_depth': 6}. Best is trial 73 with value: 0.6008148501874562.\n",
      "[I 2024-08-30 09:01:18,761] Trial 84 finished with value: 0.5995854627475286 and parameters: {'ccp_alpha': 0.0037888143691091527, 'min_samples_leaf': 29, 'min_samples_split': 44, 'n_estimators': 804, 'max_depth': 6}. Best is trial 73 with value: 0.6008148501874562.\n",
      "[I 2024-08-30 09:01:19,288] Trial 85 finished with value: 0.59971754569562 and parameters: {'ccp_alpha': 0.0026767860080793245, 'min_samples_leaf': 27, 'min_samples_split': 44, 'n_estimators': 756, 'max_depth': 6}. Best is trial 73 with value: 0.6008148501874562.\n",
      "[I 2024-08-30 09:01:19,829] Trial 86 finished with value: 0.598010627597208 and parameters: {'ccp_alpha': 0.0015011142132407328, 'min_samples_leaf': 28, 'min_samples_split': 42, 'n_estimators': 794, 'max_depth': 7}. Best is trial 73 with value: 0.6008148501874562.\n",
      "[I 2024-08-30 09:01:20,350] Trial 87 finished with value: 0.6029637381506356 and parameters: {'ccp_alpha': 0.009890478035305648, 'min_samples_leaf': 27, 'min_samples_split': 47, 'n_estimators': 756, 'max_depth': 6}. Best is trial 87 with value: 0.6029637381506356.\n",
      "[I 2024-08-30 09:01:20,867] Trial 88 finished with value: 0.5 and parameters: {'ccp_alpha': 0.05268911635155197, 'min_samples_leaf': 27, 'min_samples_split': 47, 'n_estimators': 764, 'max_depth': 7}. Best is trial 87 with value: 0.6029637381506356.\n",
      "[I 2024-08-30 09:01:21,387] Trial 89 finished with value: 0.5 and parameters: {'ccp_alpha': 0.10457428987966118, 'min_samples_leaf': 25, 'min_samples_split': 48, 'n_estimators': 739, 'max_depth': 6}. Best is trial 87 with value: 0.6029637381506356.\n",
      "[I 2024-08-30 09:01:21,901] Trial 90 finished with value: 0.5 and parameters: {'ccp_alpha': 0.1453146990346836, 'min_samples_leaf': 32, 'min_samples_split': 42, 'n_estimators': 784, 'max_depth': 6}. Best is trial 87 with value: 0.6029637381506356.\n",
      "[I 2024-08-30 09:01:22,439] Trial 91 finished with value: 0.5993416173048982 and parameters: {'ccp_alpha': 2.453014146670948e-05, 'min_samples_leaf': 30, 'min_samples_split': 44, 'n_estimators': 753, 'max_depth': 6}. Best is trial 87 with value: 0.6029637381506356.\n",
      "[I 2024-08-30 09:01:23,000] Trial 92 finished with value: 0.6029637381506355 and parameters: {'ccp_alpha': 0.008173218209147919, 'min_samples_leaf': 23, 'min_samples_split': 45, 'n_estimators': 847, 'max_depth': 6}. Best is trial 87 with value: 0.6029637381506356.\n",
      "[I 2024-08-30 09:01:23,544] Trial 93 finished with value: 0.5 and parameters: {'ccp_alpha': 0.048074181528135515, 'min_samples_leaf': 23, 'min_samples_split': 46, 'n_estimators': 850, 'max_depth': 6}. Best is trial 87 with value: 0.6029637381506356.\n",
      "[I 2024-08-30 09:01:24,076] Trial 94 finished with value: 0.5 and parameters: {'ccp_alpha': 0.08819504762981287, 'min_samples_leaf': 27, 'min_samples_split': 50, 'n_estimators': 806, 'max_depth': 7}. Best is trial 87 with value: 0.6029637381506356.\n",
      "[I 2024-08-30 09:01:24,528] Trial 95 finished with value: 0.5673369029596741 and parameters: {'ccp_alpha': 0.020246179848213017, 'min_samples_leaf': 24, 'min_samples_split': 45, 'n_estimators': 684, 'max_depth': 6}. Best is trial 87 with value: 0.6029637381506356.\n",
      "[I 2024-08-30 09:01:25,172] Trial 96 finished with value: 0.5 and parameters: {'ccp_alpha': 0.06723492335889714, 'min_samples_leaf': 21, 'min_samples_split': 41, 'n_estimators': 875, 'max_depth': 7}. Best is trial 87 with value: 0.6029637381506356.\n",
      "[I 2024-08-30 09:01:25,726] Trial 97 finished with value: 0.5 and parameters: {'ccp_alpha': 0.13099496553768225, 'min_samples_leaf': 27, 'min_samples_split': 43, 'n_estimators': 723, 'max_depth': 6}. Best is trial 87 with value: 0.6029637381506356.\n",
      "[I 2024-08-30 09:01:26,393] Trial 98 finished with value: 0.5 and parameters: {'ccp_alpha': 0.08090926144359634, 'min_samples_leaf': 33, 'min_samples_split': 39, 'n_estimators': 848, 'max_depth': 5}. Best is trial 87 with value: 0.6029637381506356.\n",
      "[I 2024-08-30 09:01:26,980] Trial 99 finished with value: 0.5 and parameters: {'ccp_alpha': 0.045433546605221774, 'min_samples_leaf': 30, 'min_samples_split': 49, 'n_estimators': 762, 'max_depth': 6}. Best is trial 87 with value: 0.6029637381506356.\n"
     ]
    }
   ],
   "source": [
    "x = X_train_rus\n",
    "y = y_train_rus.values.ravel()\n",
    "w = weights_rus\n",
    "\n",
    "def objective(trial):\n",
    "    params = {'random_state':0,\n",
    "             'max_features':'sqrt',\n",
    "             'ccp_alpha': trial.suggest_float(\"ccp_alpha\", 0, 1),\n",
    "             'min_samples_leaf': trial.suggest_int('min_samples_leaf', 1, 50),\n",
    "             'min_samples_split': trial.suggest_int('min_samples_split', 2, 50),\n",
    "             'n_estimators': trial.suggest_int('n_estimators', 1, 1000),\n",
    "             'max_depth': trial.suggest_int('max_depth', 1, 10)\n",
    "             }\n",
    "    model = RandomForestClassifier(**params)\n",
    "    model.fit(x, y, sample_weight=w)\n",
    "    predictions = model.predict(X_val)\n",
    "    predictions_prob = model.predict_proba(X_val)[:,1]\n",
    "    BA = balanced_accuracy_score(y_val, predictions)\n",
    "    AUC = roc_auc_score(y_val, predictions_prob)\n",
    "    return AUC\n",
    "\n",
    "sampler = optuna.samplers.TPESampler(seed=0, consider_prior=True, prior_weight=0.5) \n",
    "study = optuna.create_study(direction='maximize',sampler=sampler)\n",
    "study.optimize(objective, n_trials=n_trials)"
   ]
  },
  {
   "cell_type": "code",
   "execution_count": 47,
   "id": "1104c3f5-41ed-45ce-a26c-7e98036870b8",
   "metadata": {
    "tags": []
   },
   "outputs": [
    {
     "name": "stdout",
     "output_type": "stream",
     "text": [
      "Test AUC: 0.657\n",
      "Test Balanced Accuracy: 0.629\n",
      "Test F1: 0.129\n",
      "Test Precision: 0.072\n",
      "Test Recall: 0.64\n"
     ]
    }
   ],
   "source": [
    "best_rf2 = RandomForestClassifier(random_state=0,max_features='sqrt',**study.best_params)\n",
    "\n",
    "# original evaluation \n",
    "i = -1 # (will output as 0 since iteration = i+1)\n",
    "orig_RF2 = pd.DataFrame(model_eval(model=best_rf2, model_label='RF', X_train=x, Y_train=y, X_test=X_test, Y_test=y_test, outcome_label=outcome, W=w, verbose=True))"
   ]
  },
  {
   "cell_type": "code",
   "execution_count": 48,
   "id": "8897fc69-4fd0-4998-87d9-56d561559f1a",
   "metadata": {
    "tags": []
   },
   "outputs": [
    {
     "data": {
      "image/png": "[encoded data removed]",
      "text/plain": [
       "<Figure size 640x480 with 1 Axes>"
      ]
     },
     "metadata": {},
     "output_type": "display_data"
    }
   ],
   "source": [
    "from sklearn.inspection import permutation_importance\n",
    "imp_result = permutation_importance(\n",
    "    best_rf2, X_test, y_test, n_repeats=10, random_state=2024, n_jobs=2\n",
    ")\n",
    "\n",
    "importance_mean = imp_result.importances_mean\n",
    "importance_sd = imp_result.importances_std\n",
    "\n",
    "ind = np.argpartition(importance_mean, -10)[-10:]\n",
    "top_feat = X_test.columns[ind]\n",
    "top_vals = importance_mean[ind]\n",
    "top_std = importance_sd[ind]\n",
    "\n",
    "fig, ax = plt.subplots()\n",
    "ax.barh(top_feat,top_vals,xerr=top_std)\n",
    "ax.set_xlabel(\"Mean accuracy decrease\")\n",
    "plt.savefig('PHQ-9 RF Feature Importance Reweigh (val).png',dpi=600, bbox_inches='tight')"
   ]
  },
  {
   "cell_type": "code",
   "execution_count": 49,
   "id": "2a3b2450-2715-4713-81cf-d3ddf5b030e9",
   "metadata": {
    "tags": []
   },
   "outputs": [
    {
     "data": {
      "text/plain": [
       "['best_rf_phq9_reweigh_val.pkl']"
      ]
     },
     "execution_count": 49,
     "metadata": {},
     "output_type": "execute_result"
    }
   ],
   "source": [
    "joblib.dump(best_rf2, 'best_rf_phq9_reweigh_val.pkl') "
   ]
  },
  {
   "cell_type": "markdown",
   "id": "260997ed-80f7-43a6-bdb1-47f7fd488d41",
   "metadata": {},
   "source": [
    "## Logistic Regression"
   ]
  },
  {
   "cell_type": "markdown",
   "id": "e2efa24d-dd83-42b5-ab94-e404867038d2",
   "metadata": {},
   "source": [
    "### Finetune Logistic Regression without Reweighing"
   ]
  },
  {
   "cell_type": "code",
   "execution_count": 52,
   "id": "1e985914-ec69-47f9-ab18-4ac90c27f433",
   "metadata": {
    "tags": []
   },
   "outputs": [
    {
     "name": "stderr",
     "output_type": "stream",
     "text": [
      "[I 2024-08-30 09:01:35,000] A new study created in memory with name: no-name-a41970f1-c589-4358-a338-f9b48aaf2a8a\n",
      "[I 2024-08-30 09:01:35,260] Trial 0 finished with value: 0.5894861973319245 and parameters: {'C': 0.12520653814999466, 'tol': 0.0007154741770060471}. Best is trial 0 with value: 0.5894861973319245.\n",
      "[I 2024-08-30 09:01:35,347] Trial 1 finished with value: 0.589973888217185 and parameters: {'C': 0.16051911333587626, 'tol': 0.0005453382998139}. Best is trial 1 with value: 0.589973888217185.\n",
      "[I 2024-08-30 09:01:35,828] Trial 2 finished with value: 0.587484632657001 and parameters: {'C': 0.07035737028722149, 'tol': 0.0006462482189535895}. Best is trial 1 with value: 0.589973888217185.\n",
      "[I 2024-08-30 09:01:37,257] Trial 3 finished with value: 0.5892931530231754 and parameters: {'C': 0.07501954443620121, 'tol': 0.0008918812277812978}. Best is trial 1 with value: 0.589973888217185.\n",
      "[I 2024-08-30 09:01:37,428] Trial 4 finished with value: 0.5937636528047305 and parameters: {'C': 0.845912652804937, 'tol': 0.00038405807730695197}. Best is trial 4 with value: 0.5937636528047305.\n",
      "[I 2024-08-30 09:01:37,492] Trial 5 finished with value: 0.5906038222773133 and parameters: {'C': 0.3832216850492786, 'tol': 0.0005293660248331517}. Best is trial 4 with value: 0.5937636528047305.\n",
      "[I 2024-08-30 09:01:37,638] Trial 6 finished with value: 0.5911219938429025 and parameters: {'C': 0.1368009527972692, 'tol': 0.0009256710416543685}. Best is trial 4 with value: 0.5937636528047305.\n",
      "[I 2024-08-30 09:01:37,722] Trial 7 finished with value: 0.5833900612661674 and parameters: {'C': 0.013869861245357327, 'tol': 8.804217040183917e-05}. Best is trial 4 with value: 0.5937636528047305.\n",
      "[I 2024-08-30 09:01:37,905] Trial 8 finished with value: 0.5816425022606504 and parameters: {'C': 0.01097581541938016, 'tol': 0.0008327872257023901}. Best is trial 4 with value: 0.5937636528047305.\n",
      "[I 2024-08-30 09:01:37,979] Trial 9 finished with value: 0.590593662050537 and parameters: {'C': 0.3600091192911608, 'tol': 0.0008701421360985725}. Best is trial 4 with value: 0.5937636528047305.\n",
      "[I 2024-08-30 09:01:38,067] Trial 10 finished with value: 0.5920770551598712 and parameters: {'C': 0.859061065812434, 'tol': 0.0002545581749203978}. Best is trial 4 with value: 0.5937636528047305.\n",
      "[I 2024-08-30 09:01:38,155] Trial 11 finished with value: 0.5919754528921085 and parameters: {'C': 0.8413547770112638, 'tol': 0.00024140205174908632}. Best is trial 4 with value: 0.5937636528047305.\n",
      "[I 2024-08-30 09:01:38,243] Trial 12 finished with value: 0.5921176960669762 and parameters: {'C': 0.9271445691377638, 'tol': 0.00031148768678589117}. Best is trial 4 with value: 0.5937636528047305.\n",
      "[I 2024-08-30 09:01:38,365] Trial 13 finished with value: 0.5909086290806012 and parameters: {'C': 0.4112084971291704, 'tol': 0.00034247883791573507}. Best is trial 4 with value: 0.5937636528047305.\n",
      "[I 2024-08-30 09:01:38,442] Trial 14 finished with value: 0.5875354337908822 and parameters: {'C': 0.9738014910204278, 'tol': 0.00037342618306977424}. Best is trial 4 with value: 0.5937636528047305.\n",
      "[I 2024-08-30 09:01:38,562] Trial 15 finished with value: 0.5914166404194141 and parameters: {'C': 0.48388123115762155, 'tol': 3.9784106447029045e-05}. Best is trial 4 with value: 0.5937636528047305.\n",
      "[I 2024-08-30 09:01:38,745] Trial 16 finished with value: 0.5907562256789571 and parameters: {'C': 0.20411465508022197, 'tol': 0.00040811625798502026}. Best is trial 4 with value: 0.5937636528047305.\n",
      "[I 2024-08-30 09:01:38,809] Trial 17 finished with value: 0.5866819747416763 and parameters: {'C': 0.03625513099529499, 'tol': 0.00019981190109609134}. Best is trial 4 with value: 0.5937636528047305.\n",
      "[I 2024-08-30 09:01:38,876] Trial 18 finished with value: 0.59093910976093 and parameters: {'C': 0.591765992807745, 'tol': 0.00014844943710982039}. Best is trial 4 with value: 0.5937636528047305.\n",
      "[I 2024-08-30 09:01:38,931] Trial 19 finished with value: 0.5903599768346829 and parameters: {'C': 0.23469902526134676, 'tol': 0.00047728469693928484}. Best is trial 4 with value: 0.5937636528047305.\n",
      "[I 2024-08-30 09:01:39,525] Trial 20 finished with value: 0.5885819371488371 and parameters: {'C': 0.6384678834402429, 'tol': 0.00030508913234334275}. Best is trial 4 with value: 0.5937636528047305.\n",
      "[I 2024-08-30 09:01:40,614] Trial 21 finished with value: 0.589699562094226 and parameters: {'C': 0.9578384908994787, 'tol': 0.00025508835508842545}. Best is trial 4 with value: 0.5937636528047305.\n",
      "[I 2024-08-30 09:01:40,782] Trial 22 finished with value: 0.5906444631844182 and parameters: {'C': 0.29371914452794656, 'tol': 0.00046041937901781295}. Best is trial 4 with value: 0.5937636528047305.\n",
      "[I 2024-08-30 09:01:40,865] Trial 23 finished with value: 0.5907562256789571 and parameters: {'C': 0.628435915120785, 'tol': 0.00031239252779349845}. Best is trial 4 with value: 0.5937636528047305.\n",
      "[I 2024-08-30 09:01:40,981] Trial 24 finished with value: 0.5917417676762545 and parameters: {'C': 0.7262973763792926, 'tol': 0.00014434224176766253}. Best is trial 4 with value: 0.5937636528047305.\n",
      "[I 2024-08-30 09:01:41,170] Trial 25 finished with value: 0.5903599768346829 and parameters: {'C': 0.48602846547536255, 'tol': 0.0006027008688614617}. Best is trial 4 with value: 0.5937636528047305.\n",
      "[I 2024-08-30 09:01:41,416] Trial 26 finished with value: 0.5902482143401441 and parameters: {'C': 0.26677789745604347, 'tol': 0.0004181428037436537}. Best is trial 4 with value: 0.5937636528047305.\n",
      "[I 2024-08-30 09:01:41,681] Trial 27 finished with value: 0.5905733415969844 and parameters: {'C': 0.6693468627754796, 'tol': 6.711514474609735e-06}. Best is trial 4 with value: 0.5937636528047305.\n",
      "[I 2024-08-30 09:01:41,944] Trial 28 finished with value: 0.5922396187882913 and parameters: {'C': 0.9683346351564217, 'tol': 0.0002012081765059254}. Best is trial 4 with value: 0.5937636528047305.\n",
      "[I 2024-08-30 09:01:42,042] Trial 29 finished with value: 0.5894150757444905 and parameters: {'C': 0.09183899815092306, 'tol': 0.00016245596957919554}. Best is trial 4 with value: 0.5937636528047305.\n",
      "[I 2024-08-30 09:01:42,169] Trial 30 finished with value: 0.5883685723865356 and parameters: {'C': 0.04391753863212436, 'tol': 9.204214522834291e-05}. Best is trial 4 with value: 0.5937636528047305.\n",
      "[I 2024-08-30 09:01:42,246] Trial 31 finished with value: 0.5866819747416763 and parameters: {'C': 0.9718733013707728, 'tol': 0.00026298178248896443}. Best is trial 4 with value: 0.5937636528047305.\n",
      "[I 2024-08-30 09:01:42,340] Trial 32 finished with value: 0.5920262540259899 and parameters: {'C': 0.5270614499846926, 'tol': 0.0003461307422470603}. Best is trial 4 with value: 0.5937636528047305.\n",
      "[I 2024-08-30 09:01:44,174] Trial 33 finished with value: 0.5911016733893502 and parameters: {'C': 0.7665015299749185, 'tol': 0.0002065618032433534}. Best is trial 4 with value: 0.5937636528047305.\n",
      "[I 2024-08-30 09:01:44,461] Trial 34 finished with value: 0.5890289871269926 and parameters: {'C': 0.3301105600936119, 'tol': 0.0002783577391049155}. Best is trial 4 with value: 0.5937636528047305.\n",
      "[I 2024-08-30 09:01:44,613] Trial 35 finished with value: 0.5899129268565274 and parameters: {'C': 0.18838151696531474, 'tol': 0.00040062580076705113}. Best is trial 4 with value: 0.5937636528047305.\n",
      "[I 2024-08-30 09:01:44,713] Trial 36 finished with value: 0.5907054245450758 and parameters: {'C': 0.4492049790456599, 'tol': 0.0006437026785436571}. Best is trial 4 with value: 0.5937636528047305.\n",
      "[I 2024-08-30 09:01:45,145] Trial 37 finished with value: 0.5899535677636325 and parameters: {'C': 0.7626679939440926, 'tol': 0.0005460368833116519}. Best is trial 4 with value: 0.5937636528047305.\n",
      "[I 2024-08-30 09:01:45,279] Trial 38 finished with value: 0.5900754904849477 and parameters: {'C': 0.553431072000938, 'tol': 0.0002047380560707291}. Best is trial 4 with value: 0.5937636528047305.\n",
      "[I 2024-08-30 09:01:45,333] Trial 39 finished with value: 0.5901872529794865 and parameters: {'C': 0.9871448788698923, 'tol': 0.0001073136622626837}. Best is trial 4 with value: 0.5937636528047305.\n",
      "[I 2024-08-30 09:01:45,574] Trial 40 finished with value: 0.5913556790587566 and parameters: {'C': 0.3857634687839847, 'tol': 0.0005293560661772156}. Best is trial 4 with value: 0.5937636528047305.\n",
      "[I 2024-08-30 09:01:45,764] Trial 41 finished with value: 0.5873931906160146 and parameters: {'C': 0.5285369023225557, 'tol': 0.0003458245039196638}. Best is trial 4 with value: 0.5937636528047305.\n",
      "[I 2024-08-30 09:01:45,827] Trial 42 finished with value: 0.5917417676762545 and parameters: {'C': 0.7765643003163151, 'tol': 0.0003410725079016906}. Best is trial 4 with value: 0.5937636528047305.\n",
      "[I 2024-08-30 09:01:46,088] Trial 43 finished with value: 0.589587799599687 and parameters: {'C': 0.7958382510752235, 'tol': 0.00023265504914045496}. Best is trial 4 with value: 0.5937636528047305.\n",
      "[I 2024-08-30 09:01:47,323] Trial 44 finished with value: 0.5905631813702081 and parameters: {'C': 0.5771615267228969, 'tol': 0.00045054471092989806}. Best is trial 4 with value: 0.5937636528047305.\n",
      "[I 2024-08-30 09:01:47,677] Trial 45 finished with value: 0.5907155847718522 and parameters: {'C': 0.43274913022271344, 'tol': 0.00030445882185078005}. Best is trial 4 with value: 0.5937636528047305.\n",
      "[I 2024-08-30 09:01:47,765] Trial 46 finished with value: 0.5915487233675055 and parameters: {'C': 0.9756008333139249, 'tol': 0.00037000544843185954}. Best is trial 4 with value: 0.5937636528047305.\n",
      "[I 2024-08-30 09:01:47,840] Trial 47 finished with value: 0.589740203001331 and parameters: {'C': 0.14976711052875566, 'tol': 0.00017239579878060407}. Best is trial 4 with value: 0.5937636528047305.\n",
      "[I 2024-08-30 09:01:48,034] Trial 48 finished with value: 0.5907155847718522 and parameters: {'C': 0.3386833670737379, 'tol': 0.00042974747002275603}. Best is trial 4 with value: 0.5937636528047305.\n",
      "[I 2024-08-30 09:01:48,137] Trial 49 finished with value: 0.5888156223646912 and parameters: {'C': 0.11732849223727666, 'tol': 0.0003769339360707982}. Best is trial 4 with value: 0.5937636528047305.\n",
      "[I 2024-08-30 09:01:48,199] Trial 50 finished with value: 0.5915080824604004 and parameters: {'C': 0.6526017228097174, 'tol': 0.0002748308989258296}. Best is trial 4 with value: 0.5937636528047305.\n",
      "[I 2024-08-30 09:01:48,375] Trial 51 finished with value: 0.5922700994686201 and parameters: {'C': 0.8695549671237128, 'tol': 0.00022964203690409573}. Best is trial 4 with value: 0.5937636528047305.\n",
      "[I 2024-08-30 09:01:48,439] Trial 52 finished with value: 0.5913455188319803 and parameters: {'C': 0.8345618203402225, 'tol': 0.00022148591178067478}. Best is trial 4 with value: 0.5937636528047305.\n",
      "[I 2024-08-30 09:01:48,510] Trial 53 finished with value: 0.591914491531451 and parameters: {'C': 0.5272911651581805, 'tol': 0.0003257097320435367}. Best is trial 4 with value: 0.5937636528047305.\n",
      "[I 2024-08-30 09:01:48,578] Trial 54 finished with value: 0.5908375074931673 and parameters: {'C': 0.849148095226648, 'tol': 0.00012510983222865723}. Best is trial 4 with value: 0.5937636528047305.\n",
      "[I 2024-08-30 09:01:48,735] Trial 55 finished with value: 0.5881348871706816 and parameters: {'C': 0.6900999986148775, 'tol': 6.692553925580588e-05}. Best is trial 4 with value: 0.5937636528047305.\n",
      "[I 2024-08-30 09:01:50,557] Trial 56 finished with value: 0.5902177336598152 and parameters: {'C': 0.8399208602476845, 'tol': 0.00029241800654514693}. Best is trial 4 with value: 0.5937636528047305.\n",
      "[I 2024-08-30 09:01:51,102] Trial 57 finished with value: 0.5914268006461905 and parameters: {'C': 0.5931043336699361, 'tol': 0.00017443964409308434}. Best is trial 4 with value: 0.5937636528047305.\n",
      "[I 2024-08-30 09:01:51,268] Trial 58 finished with value: 0.590400617741788 and parameters: {'C': 0.43526978739551164, 'tol': 0.00024592926612255957}. Best is trial 4 with value: 0.5937636528047305.\n",
      "[I 2024-08-30 09:01:51,348] Trial 59 finished with value: 0.5877284780996311 and parameters: {'C': 0.6816556877018821, 'tol': 0.00047927318742473443}. Best is trial 4 with value: 0.5937636528047305.\n",
      "[I 2024-08-30 09:01:51,506] Trial 60 finished with value: 0.5842435203153734 and parameters: {'C': 0.021813883931180257, 'tol': 0.00037247549197545364}. Best is trial 4 with value: 0.5937636528047305.\n",
      "[I 2024-08-30 09:01:51,583] Trial 61 finished with value: 0.5917011267691495 and parameters: {'C': 0.8614915864971311, 'tol': 0.00023977221825091104}. Best is trial 4 with value: 0.5937636528047305.\n",
      "[I 2024-08-30 09:01:51,756] Trial 62 finished with value: 0.5922497790150676 and parameters: {'C': 0.913361231216009, 'tol': 0.00019480180172109444}. Best is trial 4 with value: 0.5937636528047305.\n",
      "[I 2024-08-30 09:01:51,832] Trial 63 finished with value: 0.589547158692582 and parameters: {'C': 0.9427125211346995, 'tol': 0.00014048868379848856}. Best is trial 4 with value: 0.5937636528047305.\n",
      "[I 2024-08-30 09:01:52,012] Trial 64 finished with value: 0.591294717698099 and parameters: {'C': 0.6820677369601846, 'tol': 0.0007438402225594046}. Best is trial 4 with value: 0.5937636528047305.\n",
      "[I 2024-08-30 09:01:52,053] Trial 65 finished with value: 0.5896995620942259 and parameters: {'C': 0.5065601149513977, 'tol': 0.0001886744786703914}. Best is trial 4 with value: 0.5937636528047305.\n",
      "[I 2024-08-30 09:01:52,154] Trial 66 finished with value: 0.5911219938429025 and parameters: {'C': 0.737120924548843, 'tol': 5.732184592467269e-05}. Best is trial 4 with value: 0.5937636528047305.\n",
      "[I 2024-08-30 09:01:52,192] Trial 67 finished with value: 0.5924428233238166 and parameters: {'C': 0.895010669732509, 'tol': 0.0002810077442623821}. Best is trial 4 with value: 0.5937636528047305.\n",
      "[I 2024-08-30 09:01:52,408] Trial 68 finished with value: 0.5877792792335125 and parameters: {'C': 0.05621234279819999, 'tol': 0.0002713515975053038}. Best is trial 4 with value: 0.5937636528047305.\n",
      "[I 2024-08-30 09:01:52,486] Trial 69 finished with value: 0.5917722483565834 and parameters: {'C': 0.8682440511609737, 'tol': 0.00020694684541092758}. Best is trial 4 with value: 0.5937636528047305.\n",
      "[I 2024-08-30 09:01:52,678] Trial 70 finished with value: 0.5897300427745548 and parameters: {'C': 0.593568032808976, 'tol': 0.000325583227521913}. Best is trial 4 with value: 0.5937636528047305.\n",
      "[I 2024-08-30 09:01:52,757] Trial 71 finished with value: 0.5914268006461905 and parameters: {'C': 0.9005165243648162, 'tol': 0.000293186472019633}. Best is trial 4 with value: 0.5937636528047305.\n",
      "[I 2024-08-30 09:01:53,298] Trial 72 finished with value: 0.591447121099743 and parameters: {'C': 0.7410556577625268, 'tol': 0.0002527644151071116}. Best is trial 4 with value: 0.5937636528047305.\n",
      "[I 2024-08-30 09:01:54,563] Trial 73 finished with value: 0.5915080824604005 and parameters: {'C': 0.617329418216672, 'tol': 0.00039119901159497656}. Best is trial 4 with value: 0.5937636528047305.\n",
      "[I 2024-08-30 09:01:54,670] Trial 74 finished with value: 0.5913556790587565 and parameters: {'C': 0.48435399049948563, 'tol': 0.00043394172905222487}. Best is trial 4 with value: 0.5937636528047305.\n",
      "[I 2024-08-30 09:01:54,778] Trial 75 finished with value: 0.5878097599138412 and parameters: {'C': 0.9880051462105943, 'tol': 0.0003519044886450685}. Best is trial 4 with value: 0.5937636528047305.\n",
      "[I 2024-08-30 09:01:54,856] Trial 76 finished with value: 0.5926968289932231 and parameters: {'C': 0.7813624024217236, 'tol': 0.00021908014190085808}. Best is trial 4 with value: 0.5937636528047305.\n",
      "[I 2024-08-30 09:01:55,032] Trial 77 finished with value: 0.5917417676762545 and parameters: {'C': 0.7644627800032092, 'tol': 0.00012326369880483843}. Best is trial 4 with value: 0.5937636528047305.\n",
      "[I 2024-08-30 09:01:55,276] Trial 78 finished with value: 0.590400617741788 and parameters: {'C': 0.873427059842784, 'tol': 0.00022085266248841675}. Best is trial 4 with value: 0.5937636528047305.\n",
      "[I 2024-08-30 09:01:55,324] Trial 79 finished with value: 0.5916706460888208 and parameters: {'C': 0.9979707380438425, 'tol': 0.00016071612974877933}. Best is trial 4 with value: 0.5937636528047305.\n",
      "[I 2024-08-30 09:01:55,527] Trial 80 finished with value: 0.5896792416406734 and parameters: {'C': 0.6660465594543196, 'tol': 0.0001848833991602152}. Best is trial 4 with value: 0.5937636528047305.\n",
      "[I 2024-08-30 09:01:55,599] Trial 81 finished with value: 0.5920262540259897 and parameters: {'C': 0.7716181256437834, 'tol': 0.00031494617198440174}. Best is trial 4 with value: 0.5937636528047305.\n",
      "[I 2024-08-30 09:01:55,707] Trial 82 finished with value: 0.5926866687664469 and parameters: {'C': 0.5615428296280581, 'tol': 0.0002666973120595904}. Best is trial 4 with value: 0.5937636528047305.\n",
      "[I 2024-08-30 09:01:55,908] Trial 83 finished with value: 0.5916909665423732 and parameters: {'C': 0.6133996319451717, 'tol': 0.00026429296707142756}. Best is trial 4 with value: 0.5937636528047305.\n",
      "[I 2024-08-30 09:01:55,981] Trial 84 finished with value: 0.5910203915751401 and parameters: {'C': 0.871988396052934, 'tol': 0.0009901801860192712}. Best is trial 4 with value: 0.5937636528047305.\n",
      "[I 2024-08-30 09:01:56,158] Trial 85 finished with value: 0.591721447222702 and parameters: {'C': 0.7193301344784233, 'tol': 0.00022433368009232703}. Best is trial 4 with value: 0.5937636528047305.\n",
      "[I 2024-08-30 09:01:56,236] Trial 86 finished with value: 0.5902990154740253 and parameters: {'C': 0.8106127583819894, 'tol': 0.0002904872979512454}. Best is trial 4 with value: 0.5937636528047305.\n",
      "[I 2024-08-30 09:01:57,611] Trial 87 finished with value: 0.5899637279904087 and parameters: {'C': 0.39458306822715145, 'tol': 0.00019923247433549892}. Best is trial 4 with value: 0.5937636528047305.\n",
      "[I 2024-08-30 09:01:58,087] Trial 88 finished with value: 0.591802729036912 and parameters: {'C': 0.9993313687646438, 'tol': 9.712959508555174e-05}. Best is trial 4 with value: 0.5937636528047305.\n",
      "[I 2024-08-30 09:01:58,264] Trial 89 finished with value: 0.5914268006461905 and parameters: {'C': 0.6428876694786625, 'tol': 0.00024697933239337827}. Best is trial 4 with value: 0.5937636528047305.\n",
      "[I 2024-08-30 09:01:58,354] Trial 90 finished with value: 0.59110167338935 and parameters: {'C': 0.4758551117008984, 'tol': 0.0001348627954489546}. Best is trial 4 with value: 0.5937636528047305.\n",
      "[I 2024-08-30 09:01:58,521] Trial 91 finished with value: 0.5881653678510105 and parameters: {'C': 0.5632183670198929, 'tol': 0.000339993248434154}. Best is trial 4 with value: 0.5937636528047305.\n",
      "[I 2024-08-30 09:01:58,570] Trial 92 finished with value: 0.5934080448675615 and parameters: {'C': 0.7827861739578944, 'tol': 0.00028830951072540917}. Best is trial 4 with value: 0.5937636528047305.\n",
      "[I 2024-08-30 09:01:58,807] Trial 93 finished with value: 0.5914776017800718 and parameters: {'C': 0.899280705641613, 'tol': 0.0002737758900237572}. Best is trial 4 with value: 0.5937636528047305.\n",
      "[I 2024-08-30 09:01:58,875] Trial 94 finished with value: 0.5898418052690936 and parameters: {'C': 0.7793799963082101, 'tol': 0.00030163727787313693}. Best is trial 4 with value: 0.5937636528047305.\n",
      "[I 2024-08-30 09:01:58,942] Trial 95 finished with value: 0.5927069892199994 and parameters: {'C': 0.7069904647084145, 'tol': 0.0002252069579141541}. Best is trial 4 with value: 0.5937636528047305.\n",
      "[I 2024-08-30 09:01:59,139] Trial 96 finished with value: 0.5908070268128385 and parameters: {'C': 0.7001482731740657, 'tol': 0.00022129325054662632}. Best is trial 4 with value: 0.5937636528047305.\n",
      "[I 2024-08-30 09:01:59,241] Trial 97 finished with value: 0.5918941710778984 and parameters: {'C': 0.9092918017922114, 'tol': 0.00017599430884339973}. Best is trial 4 with value: 0.5937636528047305.\n",
      "[I 2024-08-30 09:01:59,351] Trial 98 finished with value: 0.5924428233238166 and parameters: {'C': 0.5570096696047716, 'tol': 0.00023337171409222956}. Best is trial 4 with value: 0.5937636528047305.\n",
      "[I 2024-08-30 09:01:59,518] Trial 99 finished with value: 0.5904615791024456 and parameters: {'C': 0.30316965728691797, 'tol': 0.00020058614877484113}. Best is trial 4 with value: 0.5937636528047305.\n"
     ]
    }
   ],
   "source": [
    "x = X_train_rus\n",
    "y = y_train_rus.values.ravel()\n",
    "\n",
    "def objective(trial):\n",
    "    params = {'penalty':'l2',\n",
    "             'C':trial.suggest_loguniform(\"C\", 1e-2, 1),\n",
    "             'tol':trial.suggest_uniform('tol' , 1e-6 , 1e-3)\n",
    "             }\n",
    "    model = LogisticRegression(**params)\n",
    "    model.fit(x.drop(columns=['MOM_RACE_White','ETHNIC_GROUP_Non-Hispanic','MARITAL_STATUS_Married']),y)\n",
    "    predictions = model.predict(X_val.drop(columns=['MOM_RACE_White','ETHNIC_GROUP_Non-Hispanic','MARITAL_STATUS_Married']))\n",
    "    predictions_prob = model.predict_proba(X_val.drop(columns=['MOM_RACE_White','ETHNIC_GROUP_Non-Hispanic','MARITAL_STATUS_Married']))[:,1]\n",
    "    BA = balanced_accuracy_score(y_val, predictions)\n",
    "    AUC = roc_auc_score(y_val, predictions_prob)\n",
    "    return AUC\n",
    "\n",
    "sampler = optuna.samplers.TPESampler(seed=0, consider_prior=True, prior_weight=0.5) \n",
    "study = optuna.create_study(direction='maximize',sampler=sampler)\n",
    "study.optimize(objective, n_trials=n_trials)"
   ]
  },
  {
   "cell_type": "code",
   "execution_count": 53,
   "id": "7fa1259f-74bd-488a-a6aa-354d3bace4c9",
   "metadata": {
    "tags": []
   },
   "outputs": [
    {
     "name": "stdout",
     "output_type": "stream",
     "text": [
      "Test AUC: 0.669\n",
      "Test Balanced Accuracy: 0.622\n",
      "Test F1: 0.127\n",
      "Test Precision: 0.071\n",
      "Test Recall: 0.62\n"
     ]
    }
   ],
   "source": [
    "best_glm = LogisticRegression(penalty='l2',**study.best_params)\n",
    "\n",
    "# original evaluation \n",
    "i = -1 # (will output as 0 since iteration = i+1)\n",
    "orig_GLM = pd.DataFrame(model_eval(model=best_glm, model_label='GLM', \n",
    "                                   X_train=x.drop(columns=['MOM_RACE_White','ETHNIC_GROUP_Non-Hispanic','MARITAL_STATUS_Married']), \n",
    "                                   Y_train=y, \n",
    "                                   X_test=X_test.drop(columns=['MOM_RACE_White','ETHNIC_GROUP_Non-Hispanic','MARITAL_STATUS_Married']), \n",
    "                                   Y_test=y_test, outcome_label=outcome, verbose=True))"
   ]
  },
  {
   "cell_type": "code",
   "execution_count": 54,
   "id": "6a462b57-ac32-48af-8262-b03869d4584d",
   "metadata": {
    "tags": []
   },
   "outputs": [],
   "source": [
    "best_glm = LogisticRegression(penalty='l2',**study.best_params)"
   ]
  },
  {
   "cell_type": "code",
   "execution_count": 55,
   "id": "7f621369-70ef-4996-b7ff-e11d26eb8b7a",
   "metadata": {
    "tags": []
   },
   "outputs": [
    {
     "data": {
      "text/plain": [
       "['best_glm_phq9_no_reweigh_val.pkl']"
      ]
     },
     "execution_count": 55,
     "metadata": {},
     "output_type": "execute_result"
    }
   ],
   "source": [
    "joblib.dump(best_glm, 'best_glm_phq9_no_reweigh_val.pkl') "
   ]
  },
  {
   "cell_type": "markdown",
   "id": "d5ba107a-0f54-4d86-a80a-1a3c1f6ec58e",
   "metadata": {},
   "source": [
    "### Finetune Logistic Regression with Reweighing"
   ]
  },
  {
   "cell_type": "code",
   "execution_count": 57,
   "id": "c084011d-209a-40e9-af4a-33d797274f28",
   "metadata": {
    "tags": []
   },
   "outputs": [
    {
     "name": "stderr",
     "output_type": "stream",
     "text": [
      "[I 2024-08-30 09:01:59,821] A new study created in memory with name: no-name-eefc04c9-1318-48d9-93b5-106f0ae723c5\n",
      "[I 2024-08-30 09:02:01,018] Trial 0 finished with value: 0.5776901740446847 and parameters: {'C': 0.12520653814999466, 'tol': 0.0007154741770060471}. Best is trial 0 with value: 0.5776901740446847.\n",
      "[I 2024-08-30 09:02:01,518] Trial 1 finished with value: 0.5779645001676438 and parameters: {'C': 0.16051911333587626, 'tol': 0.0005453382998139}. Best is trial 1 with value: 0.5779645001676438.\n",
      "[I 2024-08-30 09:02:01,594] Trial 2 finished with value: 0.5814088170447964 and parameters: {'C': 0.07035737028722149, 'tol': 0.0006462482189535895}. Best is trial 2 with value: 0.5814088170447964.\n",
      "[I 2024-08-30 09:02:01,761] Trial 3 finished with value: 0.5773447263342918 and parameters: {'C': 0.07501954443620121, 'tol': 0.0008918812277812978}. Best is trial 2 with value: 0.5814088170447964.\n",
      "[I 2024-08-30 09:02:01,826] Trial 4 finished with value: 0.5763591843369944 and parameters: {'C': 0.845912652804937, 'tol': 0.00038405807730695197}. Best is trial 2 with value: 0.5814088170447964.\n",
      "[I 2024-08-30 09:02:01,902] Trial 5 finished with value: 0.5810125682005223 and parameters: {'C': 0.3832216850492786, 'tol': 0.0005293660248331517}. Best is trial 2 with value: 0.5814088170447964.\n",
      "[I 2024-08-30 09:02:01,971] Trial 6 finished with value: 0.576653830913506 and parameters: {'C': 0.1368009527972692, 'tol': 0.0009256710416543685}. Best is trial 2 with value: 0.5814088170447964.\n",
      "[I 2024-08-30 09:02:02,140] Trial 7 finished with value: 0.5808601647988783 and parameters: {'C': 0.013869861245357327, 'tol': 8.804217040183917e-05}. Best is trial 2 with value: 0.5814088170447964.\n",
      "[I 2024-08-30 09:02:02,234] Trial 8 finished with value: 0.580850004572102 and parameters: {'C': 0.01097581541938016, 'tol': 0.0008327872257023901}. Best is trial 2 with value: 0.5814088170447964.\n",
      "[I 2024-08-30 09:02:02,389] Trial 9 finished with value: 0.5787569978561922 and parameters: {'C': 0.3600091192911608, 'tol': 0.0008701421360985725}. Best is trial 2 with value: 0.5814088170447964.\n",
      "[I 2024-08-30 09:02:02,485] Trial 10 finished with value: 0.5820285908781484 and parameters: {'C': 0.035568742541635834, 'tol': 0.00029070369342661947}. Best is trial 10 with value: 0.5820285908781484.\n",
      "[I 2024-08-30 09:02:02,665] Trial 11 finished with value: 0.5824756408563039 and parameters: {'C': 0.0361059507995592, 'tol': 0.00023259726028489604}. Best is trial 11 with value: 0.5824756408563039.\n",
      "[I 2024-08-30 09:02:02,729] Trial 12 finished with value: 0.5803724739136177 and parameters: {'C': 0.031819161480837514, 'tol': 0.0002445925221127463}. Best is trial 11 with value: 0.5824756408563039.\n",
      "[I 2024-08-30 09:02:02,920] Trial 13 finished with value: 0.5803623136868417 and parameters: {'C': 0.03196607607346946, 'tol': 0.00026618958659883803}. Best is trial 11 with value: 0.5824756408563039.\n",
      "[I 2024-08-30 09:02:03,002] Trial 14 finished with value: 0.5798543023480284 and parameters: {'C': 0.03437596402053482, 'tol': 4.38103142610272e-05}. Best is trial 11 with value: 0.5824756408563039.\n",
      "[I 2024-08-30 09:02:03,101] Trial 15 finished with value: 0.5815205795393353 and parameters: {'C': 0.023115150178248948, 'tol': 0.00021798965163228852}. Best is trial 11 with value: 0.5824756408563039.\n",
      "[I 2024-08-30 09:02:03,810] Trial 16 finished with value: 0.5782185058370503 and parameters: {'C': 0.05523107525660661, 'tol': 0.0004042822518082491}. Best is trial 11 with value: 0.5824756408563039.\n",
      "[I 2024-08-30 09:02:04,180] Trial 17 finished with value: 0.5804131148207228 and parameters: {'C': 0.018000792498781518, 'tol': 0.00015662650760449125}. Best is trial 11 with value: 0.5824756408563039.\n",
      "[I 2024-08-30 09:02:05,655] Trial 18 finished with value: 0.577080560438109 and parameters: {'C': 0.051855904678675985, 'tol': 0.0004251889902538167}. Best is trial 11 with value: 0.5824756408563039.\n",
      "[I 2024-08-30 09:02:05,749] Trial 19 finished with value: 0.5811040102415086 and parameters: {'C': 0.04170016614693752, 'tol': 0.00031764132336764583}. Best is trial 11 with value: 0.5824756408563039.\n",
      "[I 2024-08-30 09:02:05,822] Trial 20 finished with value: 0.5802505511923025 and parameters: {'C': 0.020741160430424913, 'tol': 0.00016607055727673484}. Best is trial 11 with value: 0.5824756408563039.\n",
      "[I 2024-08-30 09:02:06,031] Trial 21 finished with value: 0.5813884965912439 and parameters: {'C': 0.025263393001389387, 'tol': 0.00018786233934652122}. Best is trial 11 with value: 0.5824756408563039.\n",
      "[I 2024-08-30 09:02:06,104] Trial 22 finished with value: 0.5802403909655264 and parameters: {'C': 0.015982779181583764, 'tol': 6.709655144222543e-06}. Best is trial 11 with value: 0.5824756408563039.\n",
      "[I 2024-08-30 09:02:06,277] Trial 23 finished with value: 0.5811548113753899 and parameters: {'C': 0.02504806785225287, 'tol': 0.00032612339498478755}. Best is trial 11 with value: 0.5824756408563039.\n",
      "[I 2024-08-30 09:02:06,353] Trial 24 finished with value: 0.578401389919023 and parameters: {'C': 0.08442744405510764, 'tol': 0.00010892202206605516}. Best is trial 11 with value: 0.5824756408563039.\n",
      "[I 2024-08-30 09:02:06,428] Trial 25 finished with value: 0.580728081850787 and parameters: {'C': 0.010844293740159572, 'tol': 0.00022161355221751112}. Best is trial 11 with value: 0.5824756408563039.\n",
      "[I 2024-08-30 09:02:06,535] Trial 26 finished with value: 0.5793259705556628 and parameters: {'C': 0.04603397414756951, 'tol': 0.00046453494024275205}. Best is trial 11 with value: 0.5824756408563039.\n",
      "[I 2024-08-30 09:02:06,628] Trial 27 finished with value: 0.5788382796704022 and parameters: {'C': 0.022311079429872503, 'tol': 0.00026362442328509855}. Best is trial 11 with value: 0.5824756408563039.\n",
      "[I 2024-08-30 09:02:07,570] Trial 28 finished with value: 0.5794986944108592 and parameters: {'C': 0.06180739366434969, 'tol': 0.00036179470405585656}. Best is trial 11 with value: 0.5824756408563039.\n",
      "[I 2024-08-30 09:02:08,422] Trial 29 finished with value: 0.5790618046594801 and parameters: {'C': 0.11151367817842497, 'tol': 0.0005988110883632218}. Best is trial 11 with value: 0.5824756408563039.\n",
      "[I 2024-08-30 09:02:08,500] Trial 30 finished with value: 0.5774869695091595 and parameters: {'C': 0.18952028904715457, 'tol': 0.00010441206443987088}. Best is trial 11 with value: 0.5824756408563039.\n",
      "[I 2024-08-30 09:02:08,584] Trial 31 finished with value: 0.5786553955884296 and parameters: {'C': 0.07754775605212233, 'tol': 0.0007190118970022214}. Best is trial 11 with value: 0.5824756408563039.\n",
      "[I 2024-08-30 09:02:08,770] Trial 32 finished with value: 0.5817542647551893 and parameters: {'C': 0.037659138487063745, 'tol': 0.0006561915676661363}. Best is trial 11 with value: 0.5824756408563039.\n",
      "[I 2024-08-30 09:02:08,803] Trial 33 finished with value: 0.5817949056622944 and parameters: {'C': 0.034852622709525514, 'tol': 0.0007312737930613985}. Best is trial 11 with value: 0.5824756408563039.\n",
      "[I 2024-08-30 09:02:09,056] Trial 34 finished with value: 0.5803013523261839 and parameters: {'C': 0.035618811748920204, 'tol': 0.0007267726989641758}. Best is trial 11 with value: 0.5824756408563039.\n",
      "[I 2024-08-30 09:02:09,162] Trial 35 finished with value: 0.5803521534600653 and parameters: {'C': 0.03854181615051969, 'tol': 0.000793023427913193}. Best is trial 11 with value: 0.5824756408563039.\n",
      "[I 2024-08-30 09:02:09,238] Trial 36 finished with value: 0.5791126057933613 and parameters: {'C': 0.09803425566318745, 'tol': 0.000632935069465083}. Best is trial 11 with value: 0.5824756408563039.\n",
      "[I 2024-08-30 09:02:09,407] Trial 37 finished with value: 0.5776901740446847 and parameters: {'C': 0.06253088028083711, 'tol': 0.0005773639821921841}. Best is trial 11 with value: 0.5824756408563039.\n",
      "[I 2024-08-30 09:02:09,513] Trial 38 finished with value: 0.5786655558152058 and parameters: {'C': 0.18900758993605613, 'tol': 0.0005128102606903234}. Best is trial 11 with value: 0.5824756408563039.\n",
      "[I 2024-08-30 09:02:09,617] Trial 39 finished with value: 0.5810227284272985 and parameters: {'C': 0.028948157620366014, 'tol': 0.0007620688015766164}. Best is trial 11 with value: 0.5824756408563039.\n",
      "[I 2024-08-30 09:02:09,773] Trial 40 finished with value: 0.5806772807169056 and parameters: {'C': 0.045626179677017036, 'tol': 0.0006588997277838108}. Best is trial 11 with value: 0.5824756408563039.\n",
      "[I 2024-08-30 09:02:09,828] Trial 41 finished with value: 0.5812564136431525 and parameters: {'C': 0.013426229023099761, 'tol': 0.00033227746342198586}. Best is trial 11 with value: 0.5824756408563039.\n",
      "[I 2024-08-30 09:02:10,019] Trial 42 finished with value: 0.5798339818944758 and parameters: {'C': 0.019685940962933135, 'tol': 0.0009485789864703436}. Best is trial 11 with value: 0.5824756408563039.\n",
      "[I 2024-08-30 09:02:10,093] Trial 43 finished with value: 0.5813072147770338 and parameters: {'C': 0.02630533957528063, 'tol': 0.00045517597336749874}. Best is trial 11 with value: 0.5824756408563039.\n",
      "[I 2024-08-30 09:02:10,961] Trial 44 finished with value: 0.5811751318289424 and parameters: {'C': 0.015209468983101737, 'tol': 0.000991701635260921}. Best is trial 11 with value: 0.5824756408563039.\n",
      "[I 2024-08-30 09:02:11,377] Trial 45 finished with value: 0.5798238216676996 and parameters: {'C': 0.03818240583750265, 'tol': 0.0006624484071872606}. Best is trial 11 with value: 0.5824756408563039.\n",
      "[I 2024-08-30 09:02:12,014] Trial 46 finished with value: 0.5801997500584213 and parameters: {'C': 0.029746914771792577, 'tol': 0.0002808422000075178}. Best is trial 11 with value: 0.5824756408563039.\n",
      "[I 2024-08-30 09:02:12,079] Trial 47 finished with value: 0.5773752070146205 and parameters: {'C': 0.05710386134945058, 'tol': 0.00020880503832371432}. Best is trial 11 with value: 0.5824756408563039.\n",
      "[I 2024-08-30 09:02:12,162] Trial 48 finished with value: 0.5786452353616532 and parameters: {'C': 0.04633423393909772, 'tol': 0.00014221297002854578}. Best is trial 11 with value: 0.5824756408563039.\n",
      "[I 2024-08-30 09:02:12,217] Trial 49 finished with value: 0.5802911920994077 and parameters: {'C': 0.01809324175410584, 'tol': 0.0007994373315064024}. Best is trial 11 with value: 0.5824756408563039.\n",
      "[I 2024-08-30 09:02:12,403] Trial 50 finished with value: 0.5804435955010516 and parameters: {'C': 0.02236075284809504, 'tol': 0.00037473810994995604}. Best is trial 11 with value: 0.5824756408563039.\n",
      "[I 2024-08-30 09:02:12,466] Trial 51 finished with value: 0.57696879794357 and parameters: {'C': 0.0706090280362543, 'tol': 0.0006843372059633268}. Best is trial 11 with value: 0.5824756408563039.\n",
      "[I 2024-08-30 09:02:12,526] Trial 52 finished with value: 0.5816933033945317 and parameters: {'C': 0.03230127090263543, 'tol': 0.0008686671851327266}. Best is trial 11 with value: 0.5824756408563039.\n",
      "[I 2024-08-30 09:02:12,575] Trial 53 finished with value: 0.5801794296048688 and parameters: {'C': 0.03277289689342075, 'tol': 0.0008775228900162954}. Best is trial 11 with value: 0.5824756408563039.\n",
      "[I 2024-08-30 09:02:12,827] Trial 54 finished with value: 0.5811040102415086 and parameters: {'C': 0.012944002572608264, 'tol': 0.0008420729040439559}. Best is trial 11 with value: 0.5824756408563039.\n",
      "[I 2024-08-30 09:02:12,871] Trial 55 finished with value: 0.5806264795830243 and parameters: {'C': 0.026329009909948273, 'tol': 0.0005530814112827829}. Best is trial 11 with value: 0.5824756408563039.\n",
      "[I 2024-08-30 09:02:13,029] Trial 56 finished with value: 0.580301352326184 and parameters: {'C': 0.03902452691739261, 'tol': 0.0009238815052703623}. Best is trial 11 with value: 0.5824756408563039.\n",
      "[I 2024-08-30 09:02:13,284] Trial 57 finished with value: 0.5782388262906029 and parameters: {'C': 0.04859359974323173, 'tol': 0.0007629779203278778}. Best is trial 11 with value: 0.5824756408563039.\n",
      "[I 2024-08-30 09:02:13,348] Trial 58 finished with value: 0.5811040102415086 and parameters: {'C': 0.022560207728563028, 'tol': 6.892352199024517e-05}. Best is trial 11 with value: 0.5824756408563039.\n",
      "[I 2024-08-30 09:02:13,538] Trial 59 finished with value: 0.5796917387196082 and parameters: {'C': 0.03124168368896234, 'tol': 0.0006126255075224487}. Best is trial 11 with value: 0.5824756408563039.\n",
      "[I 2024-08-30 09:02:14,609] Trial 60 finished with value: 0.5796510978125031 and parameters: {'C': 0.018976853974034435, 'tol': 0.00028687551266919797}. Best is trial 11 with value: 0.5824756408563039.\n",
      "[I 2024-08-30 09:02:15,589] Trial 61 finished with value: 0.5768163945419262 and parameters: {'C': 0.07120115985162218, 'tol': 0.00023143973585066697}. Best is trial 11 with value: 0.5824756408563039.\n",
      "[I 2024-08-30 09:02:15,782] Trial 62 finished with value: 0.5780356217550775 and parameters: {'C': 0.05412535658168701, 'tol': 0.0006991887983038538}. Best is trial 11 with value: 0.5824756408563039.\n",
      "[I 2024-08-30 09:02:15,924] Trial 63 finished with value: 0.5797628603070419 and parameters: {'C': 0.043046043136013824, 'tol': 0.0004803954489277331}. Best is trial 11 with value: 0.5824756408563039.\n",
      "[I 2024-08-30 09:02:15,972] Trial 64 finished with value: 0.5802505511923026 and parameters: {'C': 0.03492032585114145, 'tol': 0.0007438402225594046}. Best is trial 11 with value: 0.5824756408563039.\n",
      "[I 2024-08-30 09:02:16,263] Trial 65 finished with value: 0.5811954522824949 and parameters: {'C': 0.02796902387133346, 'tol': 0.0008262212289131491}. Best is trial 11 with value: 0.5824756408563039.\n",
      "[I 2024-08-30 09:02:16,361] Trial 66 finished with value: 0.5779035388069862 and parameters: {'C': 0.08621078576263526, 'tol': 0.00019053861237558288}. Best is trial 11 with value: 0.5824756408563039.\n",
      "[I 2024-08-30 09:02:16,534] Trial 67 finished with value: 0.5805655182223667 and parameters: {'C': 0.06387112905504301, 'tol': 0.0005310561210456199}. Best is trial 11 with value: 0.5824756408563039.\n",
      "[I 2024-08-30 09:02:16,629] Trial 68 finished with value: 0.5768976763561362 and parameters: {'C': 0.1530755693991194, 'tol': 0.00015093510583515416}. Best is trial 11 with value: 0.5824756408563039.\n",
      "[I 2024-08-30 09:02:16,710] Trial 69 finished with value: 0.5783404285583654 and parameters: {'C': 0.2971188361879301, 'tol': 0.0006349337541776286}. Best is trial 11 with value: 0.5824756408563039.\n",
      "[I 2024-08-30 09:02:16,936] Trial 70 finished with value: 0.5807788829846683 and parameters: {'C': 0.015847790687917543, 'tol': 0.0002454252677146405}. Best is trial 11 with value: 0.5824756408563039.\n",
      "[I 2024-08-30 09:02:17,011] Trial 71 finished with value: 0.5809719272934172 and parameters: {'C': 0.025082410380708173, 'tol': 0.00019280235341269034}. Best is trial 11 with value: 0.5824756408563039.\n",
      "[I 2024-08-30 09:02:18,259] Trial 72 finished with value: 0.5799762250693435 and parameters: {'C': 0.03501811466240998, 'tol': 0.0003142157623096002}. Best is trial 11 with value: 0.5824756408563039.\n",
      "[I 2024-08-30 09:02:18,815] Trial 73 finished with value: 0.5812462534163763 and parameters: {'C': 0.02377672556543531, 'tol': 0.00012317729169306164}. Best is trial 11 with value: 0.5824756408563039.\n",
      "[I 2024-08-30 09:02:18,914] Trial 74 finished with value: 0.5800168659764485 and parameters: {'C': 0.04045190621528739, 'tol': 0.0005675537519995082}. Best is trial 11 with value: 0.5824756408563039.\n",
      "[I 2024-08-30 09:02:19,001] Trial 75 finished with value: 0.5789703626184937 and parameters: {'C': 0.030723232052258895, 'tol': 0.00041210105822630605}. Best is trial 11 with value: 0.5824756408563039.\n",
      "[I 2024-08-30 09:02:19,169] Trial 76 finished with value: 0.5802403909655264 and parameters: {'C': 0.020500058339335485, 'tol': 0.00018291983090638257}. Best is trial 11 with value: 0.5824756408563039.\n",
      "[I 2024-08-30 09:02:19,249] Trial 77 finished with value: 0.5807179216240107 and parameters: {'C': 0.05138009554730075, 'tol': 6.833655647047273e-05}. Best is trial 11 with value: 0.5824756408563039.\n",
      "[I 2024-08-30 09:02:19,401] Trial 78 finished with value: 0.5811243306950611 and parameters: {'C': 0.02758845387000663, 'tol': 1.6817073138718035e-05}. Best is trial 11 with value: 0.5824756408563039.\n",
      "[I 2024-08-30 09:02:19,463] Trial 79 finished with value: 0.5777714558588948 and parameters: {'C': 0.042311105826724045, 'tol': 0.0002967292792317094}. Best is trial 11 with value: 0.5824756408563039.\n",
      "[I 2024-08-30 09:02:19,663] Trial 80 finished with value: 0.5807788829846683 and parameters: {'C': 0.01772731425239375, 'tol': 0.0002640407004830425}. Best is trial 11 with value: 0.5824756408563039.\n",
      "[I 2024-08-30 09:02:19,745] Trial 81 finished with value: 0.5812157727360474 and parameters: {'C': 0.027049763221094866, 'tol': 0.000337440308900898}. Best is trial 11 with value: 0.5824756408563039.\n",
      "[I 2024-08-30 09:02:19,924] Trial 82 finished with value: 0.5820285908781484 and parameters: {'C': 0.024358372618814045, 'tol': 0.00045144074881386573}. Best is trial 11 with value: 0.5824756408563039.\n",
      "[I 2024-08-30 09:02:20,010] Trial 83 finished with value: 0.5816831431677554 and parameters: {'C': 0.036349988952181174, 'tol': 0.00035673141733231963}. Best is trial 11 with value: 0.5824756408563039.\n",
      "[I 2024-08-30 09:02:20,094] Trial 84 finished with value: 0.5755768468752223 and parameters: {'C': 0.7703048186628032, 'tol': 0.0004408127773809239}. Best is trial 11 with value: 0.5824756408563039.\n",
      "[I 2024-08-30 09:02:20,290] Trial 85 finished with value: 0.5804334352742753 and parameters: {'C': 0.035479871253292335, 'tol': 0.00048811069331399447}. Best is trial 11 with value: 0.5824756408563039.\n",
      "[I 2024-08-30 09:02:20,368] Trial 86 finished with value: 0.5805655182223668 and parameters: {'C': 0.031113844507990398, 'tol': 0.000370343525476226}. Best is trial 11 with value: 0.5824756408563039.\n",
      "[I 2024-08-30 09:02:22,066] Trial 87 finished with value: 0.5788992410310598 and parameters: {'C': 0.04808648603441798, 'tol': 0.0005924413721289327}. Best is trial 11 with value: 0.5824756408563039.\n",
      "[I 2024-08-30 09:02:22,300] Trial 88 finished with value: 0.5794377330502016 and parameters: {'C': 0.05956675075824739, 'tol': 0.00034792932786536536}. Best is trial 11 with value: 0.5824756408563039.\n",
      "[I 2024-08-30 09:02:22,393] Trial 89 finished with value: 0.580535037542038 and parameters: {'C': 0.03838509612018751, 'tol': 0.0006857920557381301}. Best is trial 11 with value: 0.5824756408563039.\n",
      "[I 2024-08-30 09:02:22,470] Trial 90 finished with value: 0.5793056501021103 and parameters: {'C': 0.022440322908077896, 'tol': 0.0003978888141254563}. Best is trial 11 with value: 0.5824756408563039.\n",
      "[I 2024-08-30 09:02:22,561] Trial 91 finished with value: 0.5800879875638825 and parameters: {'C': 0.032814794116163434, 'tol': 0.00022089712488523026}. Best is trial 11 with value: 0.5824756408563039.\n",
      "[I 2024-08-30 09:02:22,668] Trial 92 finished with value: 0.5816018613535454 and parameters: {'C': 0.02338747103172601, 'tol': 0.00025738508405346623}. Best is trial 11 with value: 0.5824756408563039.\n",
      "[I 2024-08-30 09:02:22,776] Trial 93 finished with value: 0.5804943966349329 and parameters: {'C': 0.02076134873705589, 'tol': 0.0003059757778872702}. Best is trial 11 with value: 0.5824756408563039.\n",
      "[I 2024-08-30 09:02:22,855] Trial 94 finished with value: 0.5808703250256546 and parameters: {'C': 0.017540528388503656, 'tol': 0.00024896182428339216}. Best is trial 11 with value: 0.5824756408563039.\n",
      "[I 2024-08-30 09:02:22,950] Trial 95 finished with value: 0.5805858386759193 and parameters: {'C': 0.012003477860735771, 'tol': 0.0006416782926696192}. Best is trial 11 with value: 0.5824756408563039.\n",
      "[I 2024-08-30 09:02:23,156] Trial 96 finished with value: 0.5809312863863121 and parameters: {'C': 0.024570220082305753, 'tol': 0.0004319020485873815}. Best is trial 11 with value: 0.5824756408563039.\n",
      "[I 2024-08-30 09:02:23,228] Trial 97 finished with value: 0.5765217479654146 and parameters: {'C': 0.1198015322195941, 'tol': 0.0009089320891501985}. Best is trial 11 with value: 0.5824756408563039.\n",
      "[I 2024-08-30 09:02:23,404] Trial 98 finished with value: 0.5815713806732166 and parameters: {'C': 0.02933957596410432, 'tol': 0.0007341356029845509}. Best is trial 11 with value: 0.5824756408563039.\n",
      "[I 2024-08-30 09:02:23,481] Trial 99 finished with value: 0.5815917011267692 and parameters: {'C': 0.029064507732951276, 'tol': 0.0007907195000387151}. Best is trial 11 with value: 0.5824756408563039.\n"
     ]
    }
   ],
   "source": [
    "x = X_train_rus\n",
    "y = y_train_rus.values.ravel()\n",
    "w = weights_rus\n",
    "\n",
    "def objective(trial):\n",
    "    params = {'penalty':'l2',\n",
    "             'C':trial.suggest_loguniform(\"C\", 1e-2, 1),\n",
    "             'tol':trial.suggest_uniform('tol' , 1e-6 , 1e-3)\n",
    "             }\n",
    "    model = LogisticRegression(**params)\n",
    "    model.fit(x.drop(columns=['MOM_RACE_White','ETHNIC_GROUP_Non-Hispanic','MARITAL_STATUS_Married']), y, sample_weight=w)\n",
    "    predictions = model.predict(X_val.drop(columns=['MOM_RACE_White','ETHNIC_GROUP_Non-Hispanic','MARITAL_STATUS_Married']))\n",
    "    predictions_prob = model.predict_proba(X_val.drop(columns=['MOM_RACE_White','ETHNIC_GROUP_Non-Hispanic','MARITAL_STATUS_Married']))[:,1]\n",
    "    BA = balanced_accuracy_score(y_val, predictions)\n",
    "    AUC = roc_auc_score(y_val, predictions_prob)\n",
    "    return AUC\n",
    "\n",
    "sampler = optuna.samplers.TPESampler(seed=0, consider_prior=True, prior_weight=0.5) \n",
    "study = optuna.create_study(direction='maximize',sampler=sampler)\n",
    "study.optimize(objective, n_trials=n_trials)"
   ]
  },
  {
   "cell_type": "code",
   "execution_count": 58,
   "id": "5dad889e-98e6-4ae5-94b0-716eb5ca09e0",
   "metadata": {
    "tags": []
   },
   "outputs": [
    {
     "name": "stdout",
     "output_type": "stream",
     "text": [
      "Test AUC: 0.672\n",
      "Test Balanced Accuracy: 0.661\n",
      "Test F1: 0.15\n",
      "Test Precision: 0.085\n",
      "Test Recall: 0.64\n"
     ]
    }
   ],
   "source": [
    "best_glm2 = LogisticRegression(penalty='l2',**study.best_params)\n",
    "\n",
    "# original evaluation \n",
    "i = -1 # (will output as 0 since iteration = i+1)\n",
    "orig_GLM2 = pd.DataFrame(model_eval(model=best_glm2, model_label='GLM', \n",
    "                                    X_train=x.drop(columns=['MOM_RACE_White','ETHNIC_GROUP_Non-Hispanic','MARITAL_STATUS_Married']), \n",
    "                                    Y_train=y, \n",
    "                                    X_test=X_test.drop(columns=['MOM_RACE_White','ETHNIC_GROUP_Non-Hispanic','MARITAL_STATUS_Married']), \n",
    "                                    Y_test=y_test, outcome_label=outcome, W=w, verbose=True))"
   ]
  },
  {
   "cell_type": "code",
   "execution_count": 59,
   "id": "16bb6171-479b-421a-81d0-9c22ccf90743",
   "metadata": {
    "tags": []
   },
   "outputs": [
    {
     "data": {
      "text/plain": [
       "['best_glm_phq9_reweigh_val.pkl']"
      ]
     },
     "execution_count": 59,
     "metadata": {},
     "output_type": "execute_result"
    }
   ],
   "source": [
    "joblib.dump(best_glm2, 'best_glm_phq9_reweigh_val.pkl')"
   ]
  },
  {
   "cell_type": "code",
   "execution_count": 60,
   "id": "47377845-eb27-4b41-ac17-4e58bab4d6d4",
   "metadata": {
    "tags": []
   },
   "outputs": [],
   "source": [
    "orig_results = pd.concat([orig_XGB,orig_XGB2,orig_RF,orig_RF2,orig_GLM,orig_GLM2],axis=0)\n",
    "orig_results.to_excel(\"PHQ9_orig_results.xlsx\")"
   ]
  },
  {
   "cell_type": "markdown",
   "id": "ffdde09a-ca28-498d-82ca-d217864fae93",
   "metadata": {},
   "source": [
    "# Bootstrap Test Set"
   ]
  },
  {
   "cell_type": "code",
   "execution_count": 62,
   "id": "f390886d-a4b1-45d2-8958-c8e7d9cd7d4f",
   "metadata": {
    "tags": []
   },
   "outputs": [],
   "source": [
    "best_glm = joblib.load('best_glm_phq9_no_reweigh_val.pkl')\n",
    "best_glm2 = joblib.load('best_glm_phq9_reweigh_val.pkl')\n",
    "\n",
    "best_rf = joblib.load('best_rf_phq9_no_reweigh_val.pkl')\n",
    "best_rf2 = joblib.load('best_rf_phq9_reweigh_val.pkl')\n",
    "\n",
    "best_xgb = joblib.load('best_xgb_phq9_no_reweigh_val.pkl')\n",
    "best_xgb2 = joblib.load('best_xgb_phq9_reweigh_val.pkl')"
   ]
  },
  {
   "cell_type": "code",
   "execution_count": 64,
   "id": "e22b0385-ee9d-454d-b6de-e77e7ce9e1b4",
   "metadata": {
    "tags": []
   },
   "outputs": [
    {
     "name": "stdout",
     "output_type": "stream",
     "text": [
      "Iteration 0 complete\n",
      "Iteration 10 complete\n",
      "Iteration 20 complete\n",
      "Iteration 30 complete\n",
      "Iteration 40 complete\n",
      "Iteration 50 complete\n",
      "Iteration 60 complete\n",
      "Iteration 70 complete\n",
      "Iteration 80 complete\n",
      "Iteration 90 complete\n"
     ]
    }
   ],
   "source": [
    "boot_test_results = pd.DataFrame()\n",
    "outcome = 'PHQ9_risk2'\n",
    "for i in range(100):\n",
    "    test_set_boot = pd.concat([y_test,X_test],axis=1).sample(n=len(X_test), replace=True, random_state=i, ignore_index=True)\n",
    "    x = pd.DataFrame(test_set_boot.drop([outcome], axis=1))\n",
    "    y = pd.DataFrame(test_set_boot[outcome])\n",
    "        \n",
    "    boot_test_results = pd.concat([boot_test_results,pd.DataFrame(model_eval(model=best_xgb, model_label='XGB', X_train = X_train_rus, Y_train = y_train_rus.values.ravel(), X_test = x, Y_test = y, outcome_label=outcome, verbose=False))],axis=0)\n",
    "    boot_test_results = pd.concat([boot_test_results,pd.DataFrame(model_eval(model=best_xgb2, model_label='XGB', X_train = X_train_rus, Y_train = y_train_rus.values.ravel(), X_test = x, Y_test = y, outcome_label=outcome, W=weights_rus, verbose=False))],axis=0)\n",
    "    boot_test_results = pd.concat([boot_test_results,pd.DataFrame(model_eval(model=best_rf, model_label='RF', X_train = X_train_rus, Y_train = y_train_rus.values.ravel(), X_test = x, Y_test = y, outcome_label=outcome, verbose=False))],axis=0)\n",
    "    boot_test_results = pd.concat([boot_test_results,pd.DataFrame(model_eval(model=best_rf2, model_label='RF', X_train = X_train_rus, Y_train = y_train_rus.values.ravel(), X_test = x, Y_test = y, outcome_label=outcome, W=weights_rus, verbose=False))],axis=0)\n",
    "    boot_test_results = pd.concat([boot_test_results,pd.DataFrame(model_eval(model=best_glm, model_label='LR', \n",
    "                                                                             X_train = X_train_rus.drop(columns=['MOM_RACE_White','ETHNIC_GROUP_Non-Hispanic','MARITAL_STATUS_Married']), \n",
    "                                                                             Y_train = y_train_rus.values.ravel(), \n",
    "                                                                             X_test = x.drop(columns=['MOM_RACE_White','ETHNIC_GROUP_Non-Hispanic','MARITAL_STATUS_Married']), \n",
    "                                                                             Y_test = y,outcome_label=outcome, verbose=False))],axis=0)\n",
    "    boot_test_results = pd.concat([boot_test_results,pd.DataFrame(model_eval(model=best_glm2, model_label='LR',\n",
    "                                                                             X_train = X_train_rus.drop(columns=['MOM_RACE_White','ETHNIC_GROUP_Non-Hispanic','MARITAL_STATUS_Married']), \n",
    "                                                                             Y_train = y_train_rus.values.ravel(), \n",
    "                                                                             X_test = x.drop(columns=['MOM_RACE_White','ETHNIC_GROUP_Non-Hispanic','MARITAL_STATUS_Married']), \n",
    "                                                                             Y_test = y, outcome_label=outcome, W=weights_rus, verbose=False))],axis=0)\n",
    "    if (i % 10==0):\n",
    "        print(\"Iteration\",i,\"complete\")"
   ]
  },
  {
   "cell_type": "code",
   "execution_count": 66,
   "id": "74f55f14-6a2f-441a-a25e-c59306bd8ba3",
   "metadata": {
    "tags": []
   },
   "outputs": [],
   "source": [
    "boot_test_results.to_excel(\"PHQ9_boot_test_results.xlsx\")"
   ]
  },
  {
   "cell_type": "markdown",
   "id": "ec40da63-9719-41e9-a194-bd6cbba79317",
   "metadata": {},
   "source": [
    "# Evaluate Models Over Many Splits"
   ]
  },
  {
   "cell_type": "code",
   "execution_count": 68,
   "id": "e847400e-0ab3-4db6-b5ff-3d482a9d0a8f",
   "metadata": {
    "tags": []
   },
   "outputs": [
    {
     "name": "stdout",
     "output_type": "stream",
     "text": [
      "Iteration 0 complete\n",
      "Iteration 1 complete\n",
      "Iteration 2 complete\n",
      "Iteration 3 complete\n",
      "Iteration 4 complete\n",
      "Iteration 5 complete\n",
      "Iteration 6 complete\n",
      "Iteration 7 complete\n",
      "Iteration 8 complete\n",
      "Iteration 9 complete\n"
     ]
    }
   ],
   "source": [
    "outcome = 'PHQ9_risk2'\n",
    "\n",
    "# split into X and y\n",
    "X = data.drop([outcome], axis=1)\n",
    "Y = data[[outcome]]\n",
    "repeat_results = pd.DataFrame()\n",
    "\n",
    "n_repeat = 10\n",
    "k_fold = 10\n",
    "for i in range(n_repeat):\n",
    "    kf = KFold(n_splits=k_fold, random_state=i, shuffle=True)\n",
    "    for k, (train_index, test_index) in enumerate(kf.split(X)):\n",
    "        \n",
    "        x_train = X.iloc[train_index]\n",
    "        y_train = Y.iloc[train_index]\n",
    "        \n",
    "        x_test = X.iloc[test_index]\n",
    "        x_test = x_test.drop(['w'], axis=1)\n",
    "        y_test = Y.iloc[test_index]\n",
    "        \n",
    "        rus = RandomUnderSampler(sampling_strategy = \"auto\", random_state=0)\n",
    "        x_train_rus, y_train_rus = rus.fit_resample(x_train, y_train)\n",
    "        weights_rus = x_train_rus['w']\n",
    "        x_train_rus = x_train_rus.drop(['w'], axis=1)\n",
    "        y_train_rus.value_counts()\n",
    "        \n",
    "        repeat_results = pd.concat([repeat_results,pd.DataFrame(model_eval(model=best_xgb, model_label='XGB', X_train = x_train_rus, Y_train = y_train_rus, X_test = x_test, Y_test = y_test, outcome_label=outcome, verbose=False))],axis=0)\n",
    "        repeat_results = pd.concat([repeat_results,pd.DataFrame(model_eval(model=best_xgb2, model_label='XGB', X_train = x_train_rus, Y_train = y_train_rus, X_test = x_test, Y_test = y_test, outcome_label=outcome, W=weights_rus, verbose=False))],axis=0)\n",
    "        repeat_results = pd.concat([repeat_results,pd.DataFrame(model_eval(model=best_rf, model_label='RF', X_train = x_train_rus, Y_train = y_train_rus, X_test = x_test, Y_test = y_test, outcome_label=outcome, verbose=False))],axis=0)\n",
    "        repeat_results = pd.concat([repeat_results,pd.DataFrame(model_eval(model=best_rf2, model_label='RF', X_train = x_train_rus, Y_train = y_train_rus, X_test = x_test, Y_test = y_test, outcome_label=outcome, W=weights_rus, verbose=False))],axis=0)\n",
    "        repeat_results = pd.concat([repeat_results,pd.DataFrame(model_eval(model=best_glm, model_label='LR', \n",
    "                                                                           X_train = x_train_rus.drop(columns=['MOM_RACE_White','ETHNIC_GROUP_Non-Hispanic','MARITAL_STATUS_Married']), \n",
    "                                                                           Y_train = y_train_rus, \n",
    "                                                                           X_test = x_test.drop(columns=['MOM_RACE_White','ETHNIC_GROUP_Non-Hispanic','MARITAL_STATUS_Married']), \n",
    "                                                                           Y_test = y_test, outcome_label=outcome, verbose=False))],axis=0)\n",
    "        repeat_results = pd.concat([repeat_results,pd.DataFrame(model_eval(model=best_glm2, model_label='LR',\n",
    "                                                                           X_train = x_train_rus.drop(columns=['MOM_RACE_White','ETHNIC_GROUP_Non-Hispanic','MARITAL_STATUS_Married']), \n",
    "                                                                           Y_train = y_train_rus, \n",
    "                                                                           X_test = x_test.drop(columns=['MOM_RACE_White','ETHNIC_GROUP_Non-Hispanic','MARITAL_STATUS_Married']), \n",
    "                                                                           Y_test = y_test, outcome_label=outcome, W=weights_rus, verbose=False))],axis=0)\n",
    "    print(\"Iteration\",i,\"complete\")"
   ]
  },
  {
   "cell_type": "code",
   "execution_count": 71,
   "id": "2690fb2e-b794-490a-8516-e04b67d528f6",
   "metadata": {
    "tags": []
   },
   "outputs": [],
   "source": [
    "repeat_results.to_excel(\"PHQ9_repeat_results.xlsx\")"
   ]
  },
  {
   "cell_type": "code",
   "execution_count": 81,
   "id": "b9f11594-5cca-4820-adf7-88f36b1ff098",
   "metadata": {
    "tags": []
   },
   "outputs": [
    {
     "name": "stderr",
     "output_type": "stream",
     "text": [
      "[NbConvertApp] Converting notebook model_finetune_PHQ9_new.ipynb to html\n",
      "[NbConvertApp] Writing 1102727 bytes to model_finetune_PHQ9_new.html\n"
     ]
    },
    {
     "data": {
      "text/plain": [
       "0"
      ]
     },
     "execution_count": 81,
     "metadata": {},
     "output_type": "execute_result"
    }
   ],
   "source": [
    "# save this file and output as html\n",
    "import os\n",
    "os.system('jupyter nbconvert --to html model_finetune_PHQ9_new.ipynb')"
   ]
  },
  {
   "cell_type": "code",
   "execution_count": null,
   "id": "23a86fbe-1287-4e78-a3b5-402bbce46829",
   "metadata": {},
   "outputs": [],
   "source": []
  }
 ],
 "metadata": {
  "kernelspec": {
   "display_name": "Python 3 (ipykernel)",
   "language": "python",
   "name": "python3"
  },
  "language_info": {
   "codemirror_mode": {
    "name": "ipython",
    "version": 3
   },
   "file_extension": ".py",
   "mimetype": "text/x-python",
   "name": "python",
   "nbconvert_exporter": "python",
   "pygments_lexer": "ipython3",
   "version": "3.11.9"
  }
 },
 "nbformat": 4,
 "nbformat_minor": 5
}
